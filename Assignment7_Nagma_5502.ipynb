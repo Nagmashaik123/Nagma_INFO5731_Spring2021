{
  "nbformat": 4,
  "nbformat_minor": 0,
  "metadata": {
    "colab": {
      "name": "Untitled62.ipynb",
      "provenance": [],
      "authorship_tag": "ABX9TyPxIC+RrDqNCrVDe/Oj/nyF",
      "include_colab_link": true
    },
    "kernelspec": {
      "name": "python3",
      "display_name": "Python 3"
    },
    "language_info": {
      "name": "python"
    }
  },
  "cells": [
    {
      "cell_type": "markdown",
      "metadata": {
        "id": "view-in-github",
        "colab_type": "text"
      },
      "source": [
        "<a href=\"https://colab.research.google.com/github/Nagmashaik123/Nagma_INFO5731_Spring2021/blob/main/Assignment7_Nagma_5502.ipynb\" target=\"_parent\"><img src=\"https://colab.research.google.com/assets/colab-badge.svg\" alt=\"Open In Colab\"/></a>"
      ]
    },
    {
      "cell_type": "code",
      "metadata": {
        "id": "CDCe8WcNl6Ur"
      },
      "source": [
        "import matplotlib.pyplot as plt\n",
        "import matplotlib.image as mpimg\n",
        "import numpy as np\n",
        "from PIL import Image"
      ],
      "execution_count": 48,
      "outputs": []
    },
    {
      "cell_type": "code",
      "metadata": {
        "id": "-AuoTiqemSFS"
      },
      "source": [
        "#Q1 \n",
        "images=['farm1.jpg', 'farm2.jpg', 'farm3.jpg', 'farm4.jpg',\n",
        " 'farm5.jpg', 'farm6.jpg', 'farm7.jpg', 'farm8.jpg',\n",
        " 'city1.jpg', 'city2.jpg', 'city3.jpg', 'city4.jpg',\n",
        " 'city5.jpg', 'city6.jpg', 'city7.jpg', 'city8.jpg',\n",
        " 'desert1.jpg', 'desert2.jpg', 'desert3.jpg', 'desert4.jpg',\n",
        " 'desert5.jpg', 'desert6.jpg', 'desert7.jpg', 'desert8.jpg']"
      ],
      "execution_count": 49,
      "outputs": []
    },
    {
      "cell_type": "code",
      "metadata": {
        "id": "0oL9bkz6mbPT"
      },
      "source": [
        "#Q2\n",
        "\n",
        "#to create scatter plot with percentage green and percentage blue as axis \n",
        "# first creating empty lists of farm, city, desert for green and blue respectively\n",
        "farm_green =[]\n",
        "city_green = []\n",
        "desert_green =[] \n",
        "\n",
        "farm_blue =[]\n",
        "city_blue = []\n",
        "desert_blue =[]"
      ],
      "execution_count": 50,
      "outputs": []
    },
    {
      "cell_type": "code",
      "metadata": {
        "id": "WH7gnm5fmc32"
      },
      "source": [
        "for image in images[:8]:\n",
        "    img= mpimg.imread(image)\n",
        "    RGBtuple = np.array(img).mean(axis=(0,1))\n",
        "    avg_Red = RGBtuple[0]\n",
        "    avg_Green = RGBtuple[1]\n",
        "    avg_Blue = RGBtuple[2]\n",
        "    percentage_green=avg_Green/(avg_Green+avg_Blue+avg_Red)\n",
        "    percentage_blue=avg_Blue/(avg_Green+avg_Blue+avg_Red)\n",
        "    farm_green.append(percentage_green)\n",
        "    farm_blue.append(percentage_blue)\n",
        "\n",
        "#for city images\n",
        "for image in images[8:16]:\n",
        "    img = mpimg.imread(image)\n",
        "    RGBtuple = np.array(img).mean(axis=(0,1))\n",
        "    avg_Red = RGBtuple[0]\n",
        "    avg_Green = RGBtuple[1]\n",
        "    avg_Blue = RGBtuple[2]\n",
        "    percentage_green=avg_Green/(avg_Green+avg_Blue+avg_Red)\n",
        "    percentage_blue=avg_Blue/(avg_Green+avg_Blue+avg_Red)\n",
        "    city_green.append(percentage_green)\n",
        "    city_blue.append(percentage_blue)\n",
        "\n",
        "\n",
        "#for dessert images\n",
        "for image in images[16:]:\n",
        "    img = mpimg.imread(image)\n",
        "    RGBtuple = np.array(img).mean(axis=(0,1))\n",
        "    avg_Red = RGBtuple[0]\n",
        "    avg_Green = RGBtuple[1]\n",
        "    avg_Blue = RGBtuple[2]\n",
        "    percentage_green=avg_Green/(avg_Green+avg_Blue+avg_Red)\n",
        "    percentage_blue=avg_Blue/(avg_Green+avg_Blue+avg_Red)\n",
        "    desert_green.append(percentage_green)\n",
        "    desert_blue.append(percentage_blue)"
      ],
      "execution_count": 54,
      "outputs": []
    },
    {
      "cell_type": "code",
      "metadata": {
        "colab": {
          "base_uri": "https://localhost:8080/",
          "height": 409
        },
        "id": "1_-kj5yzm6LS",
        "outputId": "dba4be7a-a837-470b-b348-6dfdc2a69f0f"
      },
      "source": [
        "plt.figure(figsize=(8,6))\n",
        "plt.scatter(farm_green, farm_blue, s=100, marker='s', c='green')\n",
        "plt.scatter(city_green, city_blue, s=100, marker='x', c='blue')\n",
        "plt.scatter(desert_green, desert_blue, s=100, marker='o', c='brown')\n",
        "# Show the boundary between the regions:\n",
        "plt.title('Farm, city, and desert training images', fontsize=15,fontweight='bold', color='#4112BD')\n",
        "plt.xlabel('Percentage green',fontsize=12,fontweight='bold', color='#4112BD')\n",
        "plt.ylabel('Percentage blue',fontsize=12,fontweight='bold', color='#4112BD')\n",
        "plt.legend(['farm','city','desert'])\n",
        "plt.show()"
      ],
      "execution_count": 55,
      "outputs": [
        {
          "output_type": "display_data",
          "data": {
            "image/png": "[encoded data removed]",
            "text/plain": [
              "<Figure size 576x432 with 1 Axes>"
            ]
          },
          "metadata": {
            "needs_background": "light"
          }
        }
      ]
    },
    {
      "cell_type": "code",
      "metadata": {
        "colab": {
          "base_uri": "https://localhost:8080/"
        },
        "id": "03iWznBFm8zT",
        "outputId": "574d5627-4363-4f5a-9a96-a3d57dbc1587"
      },
      "source": [
        "#Q3\n",
        "['farm', 'farm', 'farm', 'farm',\n",
        " 'farm', 'farm', 'farm', 'farm',\n",
        " 'city', 'city', 'city', 'city',\n",
        " 'city', 'city', 'city', 'city',\n",
        " 'desert', 'desert', 'desert', 'desert',\n",
        " 'desert', 'desert', 'desert', 'desert']"
      ],
      "execution_count": 56,
      "outputs": [
        {
          "output_type": "execute_result",
          "data": {
            "text/plain": [
              "['farm',\n",
              " 'farm',\n",
              " 'farm',\n",
              " 'farm',\n",
              " 'farm',\n",
              " 'farm',\n",
              " 'farm',\n",
              " 'farm',\n",
              " 'city',\n",
              " 'city',\n",
              " 'city',\n",
              " 'city',\n",
              " 'city',\n",
              " 'city',\n",
              " 'city',\n",
              " 'city',\n",
              " 'desert',\n",
              " 'desert',\n",
              " 'desert',\n",
              " 'desert',\n",
              " 'desert',\n",
              " 'desert',\n",
              " 'desert',\n",
              " 'desert']"
            ]
          },
          "metadata": {},
          "execution_count": 56
        }
      ]
    },
    {
      "cell_type": "code",
      "metadata": {
        "id": "CEUpxzilm_Wu"
      },
      "source": [
        "#Q4\n",
        "#creating an empty array of zeros with 24 rows and 2columns\n",
        "training_data = np.zeros((24,2))\n",
        "#print(training_data)"
      ],
      "execution_count": 57,
      "outputs": []
    },
    {
      "cell_type": "code",
      "metadata": {
        "colab": {
          "base_uri": "https://localhost:8080/"
        },
        "id": "fmd0DuDHnB51",
        "outputId": "ae3b1ff4-bf31-4699-d13a-83989ccb1b7d"
      },
      "source": [
        "#Q5 \n",
        "# replacing the array of zeros with the values obtained in the Q2\n",
        "for i in range(8):\n",
        "    training_data[i,0] = farm_green[i]\n",
        "    training_data[8+i,0]= city_green[i]\n",
        "    training_data[16+i,0]=desert_green[i]\n",
        "    training_data[i,1] = farm_blue[i]\n",
        "    training_data[8+i,1]= city_blue[i]\n",
        "    training_data[16+i,1]=desert_blue[i]  \n",
        "print(training_data)"
      ],
      "execution_count": 58,
      "outputs": [
        {
          "output_type": "stream",
          "name": "stdout",
          "text": [
            "[[0.38537916 0.27250258]\n",
            " [0.38947877 0.2416675 ]\n",
            " [0.37176749 0.2923693 ]\n",
            " [0.38534941 0.25567274]\n",
            " [0.38368854 0.26974449]\n",
            " [0.37822351 0.34243724]\n",
            " [0.35577841 0.26138973]\n",
            " [0.36318264 0.32079251]\n",
            " [0.33384679 0.33987008]\n",
            " [0.31457989 0.31740955]\n",
            " [0.32982159 0.30761097]\n",
            " [0.33021422 0.40329483]\n",
            " [0.31267745 0.37068047]\n",
            " [0.3620055  0.35922372]\n",
            " [0.33263931 0.28122414]\n",
            " [0.33155648 0.31387494]\n",
            " [0.28899154 0.26478622]\n",
            " [0.32887465 0.29461288]\n",
            " [0.32171351 0.24749944]\n",
            " [0.35209261 0.23171261]\n",
            " [0.32718513 0.21564911]\n",
            " [0.33655681 0.2638719 ]\n",
            " [0.34419192 0.13749538]\n",
            " [0.32732039 0.26438328]]\n"
          ]
        }
      ]
    },
    {
      "cell_type": "code",
      "metadata": {
        "id": "uKIEOcSCnEji"
      },
      "source": [
        "#Q6  \n",
        "#creating a classifier and applying it to the test data for predicting\n",
        "from sklearn import neighbors\n",
        "k1 = neighbors.KNeighborsClassifier(n_neighbors=1,weights='distance')"
      ],
      "execution_count": 44,
      "outputs": []
    },
    {
      "cell_type": "code",
      "metadata": {
        "colab": {
          "base_uri": "https://localhost:8080/",
          "height": 198
        },
        "id": "E_Iy8wz6nHW9",
        "outputId": "735301a4-914a-4752-cca8-e8c3185375a4"
      },
      "source": [
        "#Q7\n",
        "#trainig the classifier\n",
        "k1.fit(training_data,training_target)"
      ],
      "execution_count": 47,
      "outputs": [
        {
          "output_type": "error",
          "ename": "NameError",
          "evalue": "ignored",
          "traceback": [
            "\u001b[0;31m---------------------------------------------------------------------------\u001b[0m",
            "\u001b[0;31mNameError\u001b[0m                                 Traceback (most recent call last)",
            "\u001b[0;32m<ipython-input-47-9856488f553f>\u001b[0m in \u001b[0;36m<module>\u001b[0;34m()\u001b[0m\n\u001b[1;32m      1\u001b[0m \u001b[0;31m#Q7\u001b[0m\u001b[0;34m\u001b[0m\u001b[0;34m\u001b[0m\u001b[0;34m\u001b[0m\u001b[0m\n\u001b[1;32m      2\u001b[0m \u001b[0;31m#trainig the classifier\u001b[0m\u001b[0;34m\u001b[0m\u001b[0;34m\u001b[0m\u001b[0;34m\u001b[0m\u001b[0m\n\u001b[0;32m----> 3\u001b[0;31m \u001b[0mk1\u001b[0m\u001b[0;34m.\u001b[0m\u001b[0mfit\u001b[0m\u001b[0;34m(\u001b[0m\u001b[0mtraining_data\u001b[0m\u001b[0;34m,\u001b[0m\u001b[0mtraining_target\u001b[0m\u001b[0;34m)\u001b[0m\u001b[0;34m\u001b[0m\u001b[0;34m\u001b[0m\u001b[0m\n\u001b[0m",
            "\u001b[0;31mNameError\u001b[0m: name 'training_target' is not defined"
          ]
        }
      ]
    },
    {
      "cell_type": "code",
      "metadata": {
        "id": "Dxu4LMAtnH3u"
      },
      "source": [
        "#Q8\n",
        "#test data\n",
        "test=['test1.jpg','test2.jpg','test3.jpg']\n",
        "#creating empty lists for test green and test blue\n",
        "test_green=[]\n",
        "test_blue=[]"
      ],
      "execution_count": 32,
      "outputs": []
    },
    {
      "cell_type": "code",
      "metadata": {
        "id": "cZJEffKjnJzB"
      },
      "source": [
        "#for loop to find the test blue and test green values \n",
        "for image in test:\n",
        "    img = mpimg.imread(image)\n",
        "    RGBtuple = np.array(img).mean(axis=(0,1))\n",
        "    avg_Red = RGBtuple[0]\n",
        "    avg_Green = RGBtuple[1]\n",
        "    avg_Blue = RGBtuple[2]\n",
        "    percentage_green=avg_Green/(avg_Green+avg_Blue+avg_Red)\n",
        "    percentage_blue=avg_Blue/(avg_Green+avg_Blue+avg_Red)\n",
        "    test_green.append(percentage_green)\n",
        "    test_blue.append(percentage_blue)"
      ],
      "execution_count": 33,
      "outputs": []
    },
    {
      "cell_type": "code",
      "metadata": {
        "colab": {
          "base_uri": "https://localhost:8080/"
        },
        "id": "HIMuxjNvnLqO",
        "outputId": "b90bd882-6ef1-445c-c57e-43169b01474d"
      },
      "source": [
        "test_data = np.zeros((3,2)) # creating a matrix with zeros of 3 rows and 2 colums\n",
        "for i in range(3):  # replacing the matrix with test green and test blue values \n",
        "    test_data[i,0]=test_green[i]\n",
        "    test_data[i,1]=test_blue[i]\n",
        "print(test_data)"
      ],
      "execution_count": 34,
      "outputs": [
        {
          "output_type": "stream",
          "name": "stdout",
          "text": [
            "[[0.3269592  0.32688513]\n",
            " [0.33429384 0.17936789]\n",
            " [0.35004008 0.24578861]]\n"
          ]
        }
      ]
    },
    {
      "cell_type": "code",
      "metadata": {
        "colab": {
          "base_uri": "https://localhost:8080/",
          "height": 358
        },
        "id": "mRm9pTHFnNls",
        "outputId": "188f88f1-7dc3-487e-859e-de0efd1f8165"
      },
      "source": [
        "#Q9 \n",
        "k1_pred = k1.predict(test_data)"
      ],
      "execution_count": 35,
      "outputs": [
        {
          "output_type": "error",
          "ename": "NotFittedError",
          "evalue": "ignored",
          "traceback": [
            "\u001b[0;31m---------------------------------------------------------------------------\u001b[0m",
            "\u001b[0;31mNotFittedError\u001b[0m                            Traceback (most recent call last)",
            "\u001b[0;32m<ipython-input-35-6856a67cf1b3>\u001b[0m in \u001b[0;36m<module>\u001b[0;34m()\u001b[0m\n\u001b[1;32m      1\u001b[0m \u001b[0;31m#Q9\u001b[0m\u001b[0;34m\u001b[0m\u001b[0;34m\u001b[0m\u001b[0;34m\u001b[0m\u001b[0m\n\u001b[0;32m----> 2\u001b[0;31m \u001b[0mk1_pred\u001b[0m \u001b[0;34m=\u001b[0m \u001b[0mk1\u001b[0m\u001b[0;34m.\u001b[0m\u001b[0mpredict\u001b[0m\u001b[0;34m(\u001b[0m\u001b[0mtest_data\u001b[0m\u001b[0;34m)\u001b[0m\u001b[0;34m\u001b[0m\u001b[0;34m\u001b[0m\u001b[0m\n\u001b[0m",
            "\u001b[0;32m/usr/local/lib/python3.7/dist-packages/sklearn/neighbors/_classification.py\u001b[0m in \u001b[0;36mpredict\u001b[0;34m(self, X)\u001b[0m\n\u001b[1;32m    171\u001b[0m         \u001b[0mX\u001b[0m \u001b[0;34m=\u001b[0m \u001b[0mcheck_array\u001b[0m\u001b[0;34m(\u001b[0m\u001b[0mX\u001b[0m\u001b[0;34m,\u001b[0m \u001b[0maccept_sparse\u001b[0m\u001b[0;34m=\u001b[0m\u001b[0;34m'csr'\u001b[0m\u001b[0;34m)\u001b[0m\u001b[0;34m\u001b[0m\u001b[0;34m\u001b[0m\u001b[0m\n\u001b[1;32m    172\u001b[0m \u001b[0;34m\u001b[0m\u001b[0m\n\u001b[0;32m--> 173\u001b[0;31m         \u001b[0mneigh_dist\u001b[0m\u001b[0;34m,\u001b[0m \u001b[0mneigh_ind\u001b[0m \u001b[0;34m=\u001b[0m \u001b[0mself\u001b[0m\u001b[0;34m.\u001b[0m\u001b[0mkneighbors\u001b[0m\u001b[0;34m(\u001b[0m\u001b[0mX\u001b[0m\u001b[0;34m)\u001b[0m\u001b[0;34m\u001b[0m\u001b[0;34m\u001b[0m\u001b[0m\n\u001b[0m\u001b[1;32m    174\u001b[0m         \u001b[0mclasses_\u001b[0m \u001b[0;34m=\u001b[0m \u001b[0mself\u001b[0m\u001b[0;34m.\u001b[0m\u001b[0mclasses_\u001b[0m\u001b[0;34m\u001b[0m\u001b[0;34m\u001b[0m\u001b[0m\n\u001b[1;32m    175\u001b[0m         \u001b[0m_y\u001b[0m \u001b[0;34m=\u001b[0m \u001b[0mself\u001b[0m\u001b[0;34m.\u001b[0m\u001b[0m_y\u001b[0m\u001b[0;34m\u001b[0m\u001b[0;34m\u001b[0m\u001b[0m\n",
            "\u001b[0;32m/usr/local/lib/python3.7/dist-packages/sklearn/neighbors/_base.py\u001b[0m in \u001b[0;36mkneighbors\u001b[0;34m(self, X, n_neighbors, return_distance)\u001b[0m\n\u001b[1;32m    582\u001b[0m \u001b[0;34m\u001b[0m\u001b[0m\n\u001b[1;32m    583\u001b[0m         \"\"\"\n\u001b[0;32m--> 584\u001b[0;31m         \u001b[0mcheck_is_fitted\u001b[0m\u001b[0;34m(\u001b[0m\u001b[0mself\u001b[0m\u001b[0;34m)\u001b[0m\u001b[0;34m\u001b[0m\u001b[0;34m\u001b[0m\u001b[0m\n\u001b[0m\u001b[1;32m    585\u001b[0m \u001b[0;34m\u001b[0m\u001b[0m\n\u001b[1;32m    586\u001b[0m         \u001b[0;32mif\u001b[0m \u001b[0mn_neighbors\u001b[0m \u001b[0;32mis\u001b[0m \u001b[0;32mNone\u001b[0m\u001b[0;34m:\u001b[0m\u001b[0;34m\u001b[0m\u001b[0;34m\u001b[0m\u001b[0m\n",
            "\u001b[0;32m/usr/local/lib/python3.7/dist-packages/sklearn/utils/validation.py\u001b[0m in \u001b[0;36mcheck_is_fitted\u001b[0;34m(estimator, attributes, msg, all_or_any)\u001b[0m\n\u001b[1;32m    965\u001b[0m \u001b[0;34m\u001b[0m\u001b[0m\n\u001b[1;32m    966\u001b[0m     \u001b[0;32mif\u001b[0m \u001b[0;32mnot\u001b[0m \u001b[0mattrs\u001b[0m\u001b[0;34m:\u001b[0m\u001b[0;34m\u001b[0m\u001b[0;34m\u001b[0m\u001b[0m\n\u001b[0;32m--> 967\u001b[0;31m         \u001b[0;32mraise\u001b[0m \u001b[0mNotFittedError\u001b[0m\u001b[0;34m(\u001b[0m\u001b[0mmsg\u001b[0m \u001b[0;34m%\u001b[0m \u001b[0;34m{\u001b[0m\u001b[0;34m'name'\u001b[0m\u001b[0;34m:\u001b[0m \u001b[0mtype\u001b[0m\u001b[0;34m(\u001b[0m\u001b[0mestimator\u001b[0m\u001b[0;34m)\u001b[0m\u001b[0;34m.\u001b[0m\u001b[0m__name__\u001b[0m\u001b[0;34m}\u001b[0m\u001b[0;34m)\u001b[0m\u001b[0;34m\u001b[0m\u001b[0;34m\u001b[0m\u001b[0m\n\u001b[0m\u001b[1;32m    968\u001b[0m \u001b[0;34m\u001b[0m\u001b[0m\n\u001b[1;32m    969\u001b[0m \u001b[0;34m\u001b[0m\u001b[0m\n",
            "\u001b[0;31mNotFittedError\u001b[0m: This KNeighborsClassifier instance is not fitted yet. Call 'fit' with appropriate arguments before using this estimator."
          ]
        }
      ]
    },
    {
      "cell_type": "code",
      "metadata": {
        "colab": {
          "base_uri": "https://localhost:8080/",
          "height": 198
        },
        "id": "--HnyxxCnVBO",
        "outputId": "86f1f0eb-2f7b-419d-cc29-c8db4c711dc0"
      },
      "source": [
        "#Q10\n",
        "print('predicted images are:',k1_pred)\n",
        "print('actual images are:',['city','desert','farm'])"
      ],
      "execution_count": 18,
      "outputs": [
        {
          "output_type": "error",
          "ename": "NameError",
          "evalue": "ignored",
          "traceback": [
            "\u001b[0;31m---------------------------------------------------------------------------\u001b[0m",
            "\u001b[0;31mNameError\u001b[0m                                 Traceback (most recent call last)",
            "\u001b[0;32m<ipython-input-18-89ab6a04dbf7>\u001b[0m in \u001b[0;36m<module>\u001b[0;34m()\u001b[0m\n\u001b[1;32m      1\u001b[0m \u001b[0;31m#Q10\u001b[0m\u001b[0;34m\u001b[0m\u001b[0;34m\u001b[0m\u001b[0;34m\u001b[0m\u001b[0m\n\u001b[0;32m----> 2\u001b[0;31m \u001b[0mprint\u001b[0m\u001b[0;34m(\u001b[0m\u001b[0;34m'predicted images are:'\u001b[0m\u001b[0;34m,\u001b[0m\u001b[0mk1_pred\u001b[0m\u001b[0;34m)\u001b[0m\u001b[0;34m\u001b[0m\u001b[0;34m\u001b[0m\u001b[0m\n\u001b[0m\u001b[1;32m      3\u001b[0m \u001b[0mprint\u001b[0m\u001b[0;34m(\u001b[0m\u001b[0;34m'actual images are:'\u001b[0m\u001b[0;34m,\u001b[0m\u001b[0;34m[\u001b[0m\u001b[0;34m'city'\u001b[0m\u001b[0;34m,\u001b[0m\u001b[0;34m'desert'\u001b[0m\u001b[0;34m,\u001b[0m\u001b[0;34m'farm'\u001b[0m\u001b[0;34m]\u001b[0m\u001b[0;34m)\u001b[0m\u001b[0;34m\u001b[0m\u001b[0;34m\u001b[0m\u001b[0m\n",
            "\u001b[0;31mNameError\u001b[0m: name 'k1_pred' is not defined"
          ]
        }
      ]
    },
    {
      "cell_type": "code",
      "metadata": {
        "id": "3WRxAdqTnXO4"
      },
      "source": [
        "#of the three images predicted, the last image is actually farm, \n",
        "#whereas it has been predicted as a desert \n",
        "#because, the image contains less greenary"
      ],
      "execution_count": null,
      "outputs": []
    }
  ]
}