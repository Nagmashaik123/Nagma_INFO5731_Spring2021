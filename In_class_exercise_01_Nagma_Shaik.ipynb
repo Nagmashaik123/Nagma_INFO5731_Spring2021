{
  "nbformat": 4,
  "nbformat_minor": 0,
  "metadata": {
    "colab": {
      "name": "In_class_exercise_01.ipynb",
      "provenance": [],
      "collapsed_sections": [],
      "include_colab_link": true
    },
    "kernelspec": {
      "display_name": "Python 3",
      "language": "python",
      "name": "python3"
    },
    "language_info": {
      "codemirror_mode": {
        "name": "ipython",
        "version": 3
      },
      "file_extension": ".py",
      "mimetype": "text/x-python",
      "name": "python",
      "nbconvert_exporter": "python",
      "pygments_lexer": "ipython3",
      "version": "3.7.4"
    }
  },
  "cells": [
    {
      "cell_type": "markdown",
      "metadata": {
        "id": "view-in-github",
        "colab_type": "text"
      },
      "source": [
        "<a href=\"https://colab.research.google.com/github/Nagmashaik123/Nagma_INFO5731_Spring2021/blob/main/In_class_exercise_01_Nagma_Shaik.ipynb\" target=\"_parent\"><img src=\"https://colab.research.google.com/assets/colab-badge.svg\" alt=\"Open In Colab\"/></a>"
      ]
    },
    {
      "cell_type": "markdown",
      "metadata": {
        "id": "DymRJbxDBCnf"
      },
      "source": [
        "# **The first In-class-exercise (9/2/2020, 20 points in total)**"
      ]
    },
    {
      "cell_type": "markdown",
      "metadata": {
        "id": "03jb4GZsBkBS"
      },
      "source": [
        "(1) Write a Python program to calculate the length of a string. (2 points)"
      ]
    },
    {
      "cell_type": "code",
      "metadata": {
        "colab": {
          "base_uri": "https://localhost:8080/"
        },
        "id": "YaGLbSHHB8Ej",
        "outputId": "311f445c-ab28-4326-b474-8b005d8878fb"
      },
      "source": [
        "# Program to calculate length of string\n",
        "def length_Calculation(val):\n",
        "# using built-in function  \n",
        "  return len(val)\n",
        "\n",
        "# printing length of string\n",
        "print(length_Calculation(\"Nagma\"))\n"
      ],
      "execution_count": 110,
      "outputs": [
        {
          "output_type": "stream",
          "text": [
            "5\n"
          ],
          "name": "stdout"
        }
      ]
    },
    {
      "cell_type": "markdown",
      "metadata": {
        "id": "jJDe71iLB616"
      },
      "source": [
        "(2) Write a Python program to count the number of characters in a string. (2 points)\n",
        "\n",
        "Sample String : 'google.com‘, \n",
        "\n",
        "Expected Result : {'o': 3, 'g': 2, '.': 1, 'e': 1, 'l': 1, 'm': 1, 'c': 1}"
      ]
    },
    {
      "cell_type": "code",
      "metadata": {
        "colab": {
          "base_uri": "https://localhost:8080/"
        },
        "id": "MtKskTzbCLaU",
        "outputId": "6b047b6f-e14f-4dd2-a9e4-5bcaf4536e05"
      },
      "source": [
        "# Program to count the number of characters in a string\n",
        "def character_count(stringSample):\n",
        "    dictionaryTab = {}\n",
        "\n",
        " # iterating through each char of sample string   \n",
        "    for item in stringSample:\n",
        " # Reading through the keys     \n",
        "        dictionaryKeys = dictionaryTab.keys()\n",
        " # for first time  each charater considered as key will not be present hence else will be executed  \n",
        " # from next time if is executed and value will get incremented       \n",
        "        if item in dictionaryKeys:\n",
        "            dictionaryTab[item] = dictionaryTab[item]+  1\n",
        "        else:\n",
        "            dictionaryTab[item] = 1\n",
        "    return dictionaryTab\n",
        "print(character_count('google.com'))\n",
        "\n"
      ],
      "execution_count": 111,
      "outputs": [
        {
          "output_type": "stream",
          "text": [
            "{'g': 2, 'o': 3, 'l': 1, 'e': 1, '.': 1, 'c': 1, 'm': 1}\n"
          ],
          "name": "stdout"
        }
      ]
    },
    {
      "cell_type": "markdown",
      "metadata": {
        "id": "55W9AMdXCSpV"
      },
      "source": [
        "(3) Write a Python program to sum all the items in a list. (2 points)"
      ]
    },
    {
      "cell_type": "code",
      "metadata": {
        "colab": {
          "base_uri": "https://localhost:8080/"
        },
        "id": "I57NXsauCec2",
        "outputId": "baa0f60f-4612-4c9b-a773-e41047099b37"
      },
      "source": [
        "# Program to sum of all the items in a list\n",
        "# function to accept the list for summing the elements\n",
        "def sumOfList(listTab):\n",
        "  sum = 0\n",
        "\n",
        "# iterating for each item in list\n",
        "  for item in listTab:\n",
        "    sum = sum + item\n",
        "  return sum\n",
        "\n",
        "#printing final summ of elements\n",
        "print(sumOfList([5,10,15,20,25]))\n",
        "\n"
      ],
      "execution_count": 120,
      "outputs": [
        {
          "output_type": "stream",
          "text": [
            "75\n"
          ],
          "name": "stdout"
        }
      ]
    },
    {
      "cell_type": "markdown",
      "metadata": {
        "id": "4ulBZ6yhCi9F"
      },
      "source": [
        "(4) Write a Python program to get a string from a given string where all occurrences of its first char have been changed to '\\$', except the first char itself. (2 points)\n",
        "\n",
        "Sample String : 'restart‘, \n",
        "\n",
        "Expected Result : 'resta\\$t'"
      ]
    },
    {
      "cell_type": "code",
      "metadata": {
        "colab": {
          "base_uri": "https://localhost:8080/"
        },
        "id": "Fj0XhwbBCw2o",
        "outputId": "b12804ec-3378-4012-fa91-778b1d01b4d3"
      },
      "source": [
        "# Program to change all the occurance of its first character except the first char\n",
        "def changedString(sampleString):\n",
        "\n",
        "  #Char in first position\n",
        "  beforeString = sampleString[0] \n",
        "  # second part of string\n",
        "  afterString  = sampleString[1:]\n",
        "\n",
        "  if beforeString in afterString:\n",
        "  #replace only second part and append  \n",
        "    afterString=afterString.replace(\"r\",\"$\")\n",
        "    modifiedString = beforeString +afterString \n",
        "    return modifiedString\n",
        "\n",
        "print(changedString(\"restart\")) "
      ],
      "execution_count": 121,
      "outputs": [
        {
          "output_type": "stream",
          "text": [
            "resta$t\n"
          ],
          "name": "stdout"
        }
      ]
    },
    {
      "cell_type": "markdown",
      "metadata": {
        "id": "_bIP7s1MCzue"
      },
      "source": [
        "(5) Write a program with python which could accept two parameter a and b to calculate and output the result of S, where \n",
        "\n",
        "$\\ S=3.14*(1+a/b)^3$ (3 points)\n",
        "\n"
      ]
    },
    {
      "cell_type": "code",
      "metadata": {
        "colab": {
          "base_uri": "https://localhost:8080/"
        },
        "id": "w79QilHXD3Mg",
        "outputId": "acf4fea1-955c-45b7-8628-7898647dbe8b"
      },
      "source": [
        "# Program for mathematical calculation\n",
        "def calculate_formula(a,b):\n",
        "    s= 3.14*(1+a/b)**3\n",
        "    return s\n",
        "    \n",
        "# printing result after mathematical calculation\n",
        "print(calculate_formula(8,4))  \n"
      ],
      "execution_count": 3,
      "outputs": [
        {
          "output_type": "stream",
          "text": [
            "84.78\n"
          ],
          "name": "stdout"
        }
      ]
    },
    {
      "cell_type": "markdown",
      "metadata": {
        "id": "xCa2bK9aD4Q3"
      },
      "source": [
        "(6) Write a Python program to concatenate following dictionaries to create a new one. (3 points)\n",
        "\n",
        "Sample Dictionary : dic1={1:10, 2:20}, dic2={3:30, 4:40}, dic3={5:50,6:60}, \n",
        "\n",
        "Expected Result : {1: 10, 2: 20, 3: 30, 4: 40, 5: 50, 6: 60}\n"
      ]
    },
    {
      "cell_type": "code",
      "metadata": {
        "colab": {
          "base_uri": "https://localhost:8080/"
        },
        "id": "_z4aLqAbEET1",
        "outputId": "cae288cc-803d-4c51-b648-89ef67725b68"
      },
      "source": [
        "# write your answer here\n",
        "#Program to merge multiple dictionaries\n",
        "def merged_dictionary(dic1 , dic2 ,dic3):\n",
        "\n",
        " #merging multiple dictionaries \n",
        "  dic4 = {**dic1 , **dic2 , **dic3}\n",
        "  return dic4\n",
        "\n",
        "dic1={1:10, 2:20}\n",
        "dic2={3:30, 4:40}\n",
        "dic3={5:50, 6:60}\n",
        "print(merged_dictionary(dic1 , dic2 ,dic3))"
      ],
      "execution_count": 122,
      "outputs": [
        {
          "output_type": "stream",
          "text": [
            "{1: 10, 2: 20, 3: 30, 4: 40, 5: 50, 6: 60}\n"
          ],
          "name": "stdout"
        }
      ]
    },
    {
      "cell_type": "markdown",
      "metadata": {
        "id": "0v48Vqa7FrQh"
      },
      "source": [
        "(7) Write a Python program to check whether an element exists within a tuple. (3 points)"
      ]
    },
    {
      "cell_type": "code",
      "metadata": {
        "colab": {
          "base_uri": "https://localhost:8080/"
        },
        "id": "7WEmgq-DF2P1",
        "outputId": "91f35499-9be9-4cb0-f094-70cec0283adf"
      },
      "source": [
        "# program to check whether element exist in a tuple\n",
        "def elementCheck(item, tupleTab): \n",
        " for val in tupleTab:\n",
        "  if item in tupleTab:\n",
        "   return True\n",
        "  else: \n",
        "   return False\n",
        "\n",
        "# returns true if item exist else return false\n",
        "\n",
        "tupleTab = (\"N\" ,\"A\" ,\"G\" , 1 ,2)\n",
        "\n",
        "print(elementCheck(\"N\" , tupleTab ))\n"
      ],
      "execution_count": 4,
      "outputs": [
        {
          "output_type": "stream",
          "text": [
            "True\n"
          ],
          "name": "stdout"
        }
      ]
    },
    {
      "cell_type": "markdown",
      "metadata": {
        "id": "vD5PYLMuGga_"
      },
      "source": [
        "(8) Write a Python program to find maximum and the minimum value in a set. (3 points)"
      ]
    },
    {
      "cell_type": "code",
      "metadata": {
        "colab": {
          "base_uri": "https://localhost:8080/"
        },
        "id": "t0D5kdJUGjjw",
        "outputId": "99c3d185-a078-41e6-8afd-25ee9589a8de"
      },
      "source": [
        "# Program to find the maximum and the minimum value in a set\n",
        "\n",
        "def min_max_check(setTab):\n",
        "  currList = list(setTab)\n",
        "  sortedlist = []\n",
        "\n",
        "# As long as the elements in the list it iterates\n",
        "  while currList:\n",
        "    minimum = currList[0]  # arbitrary number in list \n",
        "    for x in currList: \n",
        "# checking for min value by comparing with each element and replace  the list if it is minimum then previous value\n",
        "        if x < minimum:\n",
        "            minimum = x\n",
        "    sortedlist.append(minimum)\n",
        "    currList.remove(minimum)    \n",
        "  return sortedlist\n",
        "\n",
        "print(\"Sorted list : \",min_max_check({-15, -3, 5, 0, 43, -6}))\n",
        "print(\"Minimum value : \",sortedlist[0])\n",
        "print(\"Maximum value : \", sortedlist[len(sortedlist)-1])\n",
        "\n",
        "\n",
        "\n"
      ],
      "execution_count": 81,
      "outputs": [
        {
          "output_type": "stream",
          "text": [
            "Sorted list :  [-15, -6, -3, 0, 5, 43]\n",
            "Minimum value :  -15\n",
            "Maximum value :  43\n"
          ],
          "name": "stdout"
        }
      ]
    },
    {
      "cell_type": "markdown",
      "metadata": {
        "id": "uHkd-y5VhVWC"
      },
      "source": [
        "(9) Write a Python program to randomly divide the students in this class into five groups for term projects, each group should have at least 3 students but no more than 5 students (including 5). Here is the students list: (3 points for extra)\n",
        "\n",
        "studnet_list = ['vmb0067','pc0353','snd0097','yye0005','sg0940','bk0301','rak0120','rrk0058','spk0057','vl0135','nm0547','pn0159',\n",
        "                'msp0174','dd0420','ds0761','rs0850','ss1995','at0739','at0768','mv0299','tv0119','dy0091']"
      ]
    },
    {
      "cell_type": "code",
      "metadata": {
        "colab": {
          "base_uri": "https://localhost:8080/"
        },
        "id": "3iGbmcOBhTwy",
        "outputId": "7df9e84e-da74-4331-99aa-10ae5dfdeff0"
      },
      "source": [
        "# Program to divide in to 5 student groups\n",
        "\n",
        "student_list = ['vmb0067','pc0353','snd0097','yye0005','sg0940','bk0301','rak0120','rrk0058','spk0057','vl0135','nm0547','pn0159',\n",
        "                'msp0174','dd0420','ds0761','rs0850','ss1995','at0739','at0768','mv0299','tv0119','dy0091']\n",
        "\n",
        "minNoOfStudents,maxNoOfStudents, noOfGroups = (3,5, 5) \n",
        "\n",
        "if len(student_list) > noOfGroups*minNoOfStudents and len(student_list) < noOfGroups*maxNoOfStudents:\n",
        "# Declaring matrix with size 5 by 5 for each group can have max if 5 students and 5 such groups need to be formed.   \n",
        "    groups = [['' for m in range(noOfGroups)] for n in range(maxNoOfStudents)]\n",
        "    j=0\n",
        "    i=0\n",
        "    for a in student_list:\n",
        "        groups[i][j]=a\n",
        "        i=i+1\n",
        "        if i == 5:\n",
        "            j=j+1\n",
        "            i=0\n",
        "    print(groups)\n",
        "\n"
      ],
      "execution_count": 109,
      "outputs": [
        {
          "output_type": "stream",
          "text": [
            "[['vmb0067', 'bk0301', 'nm0547', 'rs0850', 'tv0119'], ['pc0353', 'rak0120', 'pn0159', 'ss1995', 'dy0091'], ['snd0097', 'rrk0058', 'msp0174', 'at0739', ''], ['yye0005', 'spk0057', 'dd0420', 'at0768', ''], ['sg0940', 'vl0135', 'ds0761', 'mv0299', '']]\n"
          ],
          "name": "stdout"
        }
      ]
    }
  ]
}