{
  "nbformat": 4,
  "nbformat_minor": 0,
  "metadata": {
    "kernelspec": {
      "display_name": "Python 3",
      "language": "python",
      "name": "python3"
    },
    "language_info": {
      "codemirror_mode": {
        "name": "ipython",
        "version": 3
      },
      "file_extension": ".py",
      "mimetype": "text/x-python",
      "name": "python",
      "nbconvert_exporter": "python",
      "pygments_lexer": "ipython3",
      "version": "3.8.5"
    },
    "colab": {
      "name": "In_Class_exercises-10.ipynb",
      "provenance": [],
      "include_colab_link": true
    }
  },
  "cells": [
    {
      "cell_type": "markdown",
      "metadata": {
        "id": "view-in-github",
        "colab_type": "text"
      },
      "source": [
        "<a href=\"https://colab.research.google.com/github/Nagmashaik123/Nagma_INFO5731_Spring2021/blob/main/In_Class_exercises_10.ipynb\" target=\"_parent\"><img src=\"https://colab.research.google.com/assets/colab-badge.svg\" alt=\"Open In Colab\"/></a>"
      ]
    },
    {
      "cell_type": "markdown",
      "metadata": {
        "id": "FfDt7GhUZ5lb"
      },
      "source": [
        "# In class exercise 10 (20 points in total, 4/16/2021)"
      ]
    },
    {
      "cell_type": "markdown",
      "metadata": {
        "id": "pZ2jgzE-Z5lj"
      },
      "source": [
        "The purpose of the exercise is to practice different machine learning algorithms for text clustering\n",
        "Please downlad the dataset by using the following link.  https://www.kaggle.com/PromptCloudHQ/amazon-reviews-unlocked-mobile-phones\n",
        "(You can also use different text data which you want)\n",
        "\n",
        "Apply the listed clustering methods to the dataset:\n",
        "\n",
        "K means, \n",
        "DBSCAN,\n",
        "Hierarchical clustering. \n",
        "\n",
        "You can refer to of the codes from  the follwing link below. \n",
        "https://www.kaggle.com/karthik3890/text-clustering \n",
        "    "
      ]
    },
    {
      "cell_type": "code",
      "metadata": {
        "id": "ew2JSbeDZ5lk"
      },
      "source": [
        "#importing required libraries\n",
        "import pandas as pd\n",
        "from nltk.corpus import stopwords\n",
        "import nltk\n",
        "from textblob import Word\n",
        "from sklearn.feature_extraction.text import TfidfVectorizer\n",
        "import nltk\n"
      ],
      "execution_count": 1,
      "outputs": []
    },
    {
      "cell_type": "code",
      "metadata": {
        "id": "m8XEqtVWbGO3"
      },
      "source": [
        "from sklearn import metrics\n",
        "import gensim\n",
        "import scipy\n",
        "from scipy.cluster import hierarchy\n",
        "from sklearn.cluster import AgglomerativeClustering"
      ],
      "execution_count": 2,
      "outputs": []
    },
    {
      "cell_type": "code",
      "metadata": {
        "colab": {
          "base_uri": "https://localhost:8080/"
        },
        "id": "DoZIBn9PbEy-",
        "outputId": "7b8c2d3b-d125-4755-f360-a75aad05706a"
      },
      "source": [
        "nltk.download('wordnet')\n",
        "from sklearn.cluster import KMeans\n",
        "import numpy as np \n",
        "import matplotlib.pyplot as plt"
      ],
      "execution_count": 3,
      "outputs": [
        {
          "output_type": "stream",
          "text": [
            "[nltk_data] Downloading package wordnet to /root/nltk_data...\n",
            "[nltk_data]   Unzipping corpora/wordnet.zip.\n"
          ],
          "name": "stdout"
        }
      ]
    },
    {
      "cell_type": "code",
      "metadata": {
        "id": "mSpB2JbFbLAE"
      },
      "source": [
        "#load the data\n",
        "data=pd.read_csv(\"Amazon_Unlocked_Mobile.csv\")"
      ],
      "execution_count": 5,
      "outputs": []
    },
    {
      "cell_type": "code",
      "metadata": {
        "colab": {
          "base_uri": "https://localhost:8080/",
          "height": 572
        },
        "id": "nrURwMrEbvvb",
        "outputId": "184c71ac-6494-4a19-80b4-458618fedccb"
      },
      "source": [
        "data[:400]"
      ],
      "execution_count": 6,
      "outputs": [
        {
          "output_type": "execute_result",
          "data": {
            "text/html": [
              "<div>\n",
              "<style scoped>\n",
              "    .dataframe tbody tr th:only-of-type {\n",
              "        vertical-align: middle;\n",
              "    }\n",
              "\n",
              "    .dataframe tbody tr th {\n",
              "        vertical-align: top;\n",
              "    }\n",
              "\n",
              "    .dataframe thead th {\n",
              "        text-align: right;\n",
              "    }\n",
              "</style>\n",
              "<table border=\"1\" class=\"dataframe\">\n",
              "  <thead>\n",
              "    <tr style=\"text-align: right;\">\n",
              "      <th></th>\n",
              "      <th>Product Name</th>\n",
              "      <th>Brand Name</th>\n",
              "      <th>Price</th>\n",
              "      <th>Rating</th>\n",
              "      <th>Reviews</th>\n",
              "      <th>Review Votes</th>\n",
              "    </tr>\n",
              "  </thead>\n",
              "  <tbody>\n",
              "    <tr>\n",
              "      <th>0</th>\n",
              "      <td>\"CLEAR CLEAN ESN\" Sprint EPIC 4G Galaxy SPH-D7...</td>\n",
              "      <td>Samsung</td>\n",
              "      <td>199.99</td>\n",
              "      <td>5</td>\n",
              "      <td>I feel so LUCKY to have found this used (phone...</td>\n",
              "      <td>1.0</td>\n",
              "    </tr>\n",
              "    <tr>\n",
              "      <th>1</th>\n",
              "      <td>\"CLEAR CLEAN ESN\" Sprint EPIC 4G Galaxy SPH-D7...</td>\n",
              "      <td>Samsung</td>\n",
              "      <td>199.99</td>\n",
              "      <td>4</td>\n",
              "      <td>nice phone, nice up grade from my pantach revu...</td>\n",
              "      <td>0.0</td>\n",
              "    </tr>\n",
              "    <tr>\n",
              "      <th>2</th>\n",
              "      <td>\"CLEAR CLEAN ESN\" Sprint EPIC 4G Galaxy SPH-D7...</td>\n",
              "      <td>Samsung</td>\n",
              "      <td>199.99</td>\n",
              "      <td>5</td>\n",
              "      <td>Very pleased</td>\n",
              "      <td>0.0</td>\n",
              "    </tr>\n",
              "    <tr>\n",
              "      <th>3</th>\n",
              "      <td>\"CLEAR CLEAN ESN\" Sprint EPIC 4G Galaxy SPH-D7...</td>\n",
              "      <td>Samsung</td>\n",
              "      <td>199.99</td>\n",
              "      <td>4</td>\n",
              "      <td>It works good but it goes slow sometimes but i...</td>\n",
              "      <td>0.0</td>\n",
              "    </tr>\n",
              "    <tr>\n",
              "      <th>4</th>\n",
              "      <td>\"CLEAR CLEAN ESN\" Sprint EPIC 4G Galaxy SPH-D7...</td>\n",
              "      <td>Samsung</td>\n",
              "      <td>199.99</td>\n",
              "      <td>4</td>\n",
              "      <td>Great phone to replace my lost phone. The only...</td>\n",
              "      <td>0.0</td>\n",
              "    </tr>\n",
              "    <tr>\n",
              "      <th>...</th>\n",
              "      <td>...</td>\n",
              "      <td>...</td>\n",
              "      <td>...</td>\n",
              "      <td>...</td>\n",
              "      <td>...</td>\n",
              "      <td>...</td>\n",
              "    </tr>\n",
              "    <tr>\n",
              "      <th>395</th>\n",
              "      <td>4 Inch Touch Screen Cell Phone Unlocked, Andro...</td>\n",
              "      <td>NaN</td>\n",
              "      <td>23.90</td>\n",
              "      <td>4</td>\n",
              "      <td>excelent thank u</td>\n",
              "      <td>1.0</td>\n",
              "    </tr>\n",
              "    <tr>\n",
              "      <th>396</th>\n",
              "      <td>4 Inch Touch Screen Cell Phone Unlocked, Andro...</td>\n",
              "      <td>NaN</td>\n",
              "      <td>23.90</td>\n",
              "      <td>5</td>\n",
              "      <td>Great phone and easy to use. The price is real...</td>\n",
              "      <td>1.0</td>\n",
              "    </tr>\n",
              "    <tr>\n",
              "      <th>397</th>\n",
              "      <td>4 Inch Touch Screen Cell Phone Unlocked, Andro...</td>\n",
              "      <td>NaN</td>\n",
              "      <td>23.90</td>\n",
              "      <td>3</td>\n",
              "      <td>The package arrived on time and in good condit...</td>\n",
              "      <td>0.0</td>\n",
              "    </tr>\n",
              "    <tr>\n",
              "      <th>398</th>\n",
              "      <td>4 Inch Touch Screen Cell Phone Unlocked, Andro...</td>\n",
              "      <td>NaN</td>\n",
              "      <td>23.90</td>\n",
              "      <td>3</td>\n",
              "      <td>Screen quality is good. Overall, the phone is ...</td>\n",
              "      <td>2.0</td>\n",
              "    </tr>\n",
              "    <tr>\n",
              "      <th>399</th>\n",
              "      <td>4 Inch Touch Screen Cell Phone Unlocked, Andro...</td>\n",
              "      <td>NaN</td>\n",
              "      <td>23.90</td>\n",
              "      <td>2</td>\n",
              "      <td>Phone did not come with a sim card and did not...</td>\n",
              "      <td>0.0</td>\n",
              "    </tr>\n",
              "  </tbody>\n",
              "</table>\n",
              "<p>400 rows × 6 columns</p>\n",
              "</div>"
            ],
            "text/plain": [
              "                                          Product Name  ... Review Votes\n",
              "0    \"CLEAR CLEAN ESN\" Sprint EPIC 4G Galaxy SPH-D7...  ...          1.0\n",
              "1    \"CLEAR CLEAN ESN\" Sprint EPIC 4G Galaxy SPH-D7...  ...          0.0\n",
              "2    \"CLEAR CLEAN ESN\" Sprint EPIC 4G Galaxy SPH-D7...  ...          0.0\n",
              "3    \"CLEAR CLEAN ESN\" Sprint EPIC 4G Galaxy SPH-D7...  ...          0.0\n",
              "4    \"CLEAR CLEAN ESN\" Sprint EPIC 4G Galaxy SPH-D7...  ...          0.0\n",
              "..                                                 ...  ...          ...\n",
              "395  4 Inch Touch Screen Cell Phone Unlocked, Andro...  ...          1.0\n",
              "396  4 Inch Touch Screen Cell Phone Unlocked, Andro...  ...          1.0\n",
              "397  4 Inch Touch Screen Cell Phone Unlocked, Andro...  ...          0.0\n",
              "398  4 Inch Touch Screen Cell Phone Unlocked, Andro...  ...          2.0\n",
              "399  4 Inch Touch Screen Cell Phone Unlocked, Andro...  ...          0.0\n",
              "\n",
              "[400 rows x 6 columns]"
            ]
          },
          "metadata": {
            "tags": []
          },
          "execution_count": 6
        }
      ]
    },
    {
      "cell_type": "code",
      "metadata": {
        "colab": {
          "base_uri": "https://localhost:8080/"
        },
        "id": "Cxw49u5lcA7F",
        "outputId": "f82b2310-c368-4722-df78-339973ae3784"
      },
      "source": [
        "data.shape"
      ],
      "execution_count": 7,
      "outputs": [
        {
          "output_type": "execute_result",
          "data": {
            "text/plain": [
              "(413840, 6)"
            ]
          },
          "metadata": {
            "tags": []
          },
          "execution_count": 7
        }
      ]
    },
    {
      "cell_type": "code",
      "metadata": {
        "id": "8tvnrf6dcEys"
      },
      "source": [
        "data_null_values_removal = data.dropna()"
      ],
      "execution_count": 8,
      "outputs": []
    },
    {
      "cell_type": "code",
      "metadata": {
        "colab": {
          "base_uri": "https://localhost:8080/"
        },
        "id": "6dRSeiIocGaX",
        "outputId": "abc2c20f-462b-47c2-ad43-22a0e81a597d"
      },
      "source": [
        "data_null_values_removal.shape"
      ],
      "execution_count": 9,
      "outputs": [
        {
          "output_type": "execute_result",
          "data": {
            "text/plain": [
              "(334335, 6)"
            ]
          },
          "metadata": {
            "tags": []
          },
          "execution_count": 9
        }
      ]
    },
    {
      "cell_type": "code",
      "metadata": {
        "colab": {
          "base_uri": "https://localhost:8080/",
          "height": 350
        },
        "id": "YDh7hksrcJAw",
        "outputId": "3c8edbb2-cd75-41b0-d3b9-9b800a083c37"
      },
      "source": [
        "# Visualizing data\n",
        "import seaborn as sns\n",
        "sns.countplot(data_null_values_removal.Rating)"
      ],
      "execution_count": 10,
      "outputs": [
        {
          "output_type": "stream",
          "text": [
            "/usr/local/lib/python3.7/dist-packages/seaborn/_decorators.py:43: FutureWarning: Pass the following variable as a keyword arg: x. From version 0.12, the only valid positional argument will be `data`, and passing other arguments without an explicit keyword will result in an error or misinterpretation.\n",
            "  FutureWarning\n"
          ],
          "name": "stderr"
        },
        {
          "output_type": "execute_result",
          "data": {
            "text/plain": [
              "<matplotlib.axes._subplots.AxesSubplot at 0x7f39b9667190>"
            ]
          },
          "metadata": {
            "tags": []
          },
          "execution_count": 10
        },
        {
          "output_type": "display_data",
          "data": {
            "image/png": "[encoded data removed]",
            "text/plain": [
              "<Figure size 432x288 with 1 Axes>"
            ]
          },
          "metadata": {
            "tags": [],
            "needs_background": "light"
          }
        }
      ]
    },
    {
      "cell_type": "code",
      "metadata": {
        "colab": {
          "base_uri": "https://localhost:8080/"
        },
        "id": "hjdqDvqrcbg9",
        "outputId": "5a9c192f-172f-4e2e-9596-87082749962a"
      },
      "source": [
        "def data_review(rating):\n",
        "    if rating < 3:\n",
        "        return 'negative'\n",
        "    return 'positive'\n",
        "\n",
        "rating_classification = data_null_values_removal['Rating'].map(data_review) \n",
        "data_null_values_removal['Rating'] = rating_classification"
      ],
      "execution_count": 11,
      "outputs": [
        {
          "output_type": "stream",
          "text": [
            "/usr/local/lib/python3.7/dist-packages/ipykernel_launcher.py:7: SettingWithCopyWarning: \n",
            "A value is trying to be set on a copy of a slice from a DataFrame.\n",
            "Try using .loc[row_indexer,col_indexer] = value instead\n",
            "\n",
            "See the caveats in the documentation: https://pandas.pydata.org/pandas-docs/stable/user_guide/indexing.html#returning-a-view-versus-a-copy\n",
            "  import sys\n"
          ],
          "name": "stderr"
        }
      ]
    },
    {
      "cell_type": "code",
      "metadata": {
        "colab": {
          "base_uri": "https://localhost:8080/"
        },
        "id": "sucvuN__cqL_",
        "outputId": "fa80cd85-c118-4d93-b19f-9dc09afe4db6"
      },
      "source": [
        "data_null_values_removal['Rating'].value_counts()"
      ],
      "execution_count": 12,
      "outputs": [
        {
          "output_type": "execute_result",
          "data": {
            "text/plain": [
              "positive    256732\n",
              "negative     77603\n",
              "Name: Rating, dtype: int64"
            ]
          },
          "metadata": {
            "tags": []
          },
          "execution_count": 12
        }
      ]
    },
    {
      "cell_type": "code",
      "metadata": {
        "colab": {
          "base_uri": "https://localhost:8080/",
          "height": 350
        },
        "id": "SgYshVK8ct9C",
        "outputId": "2f6893f5-a6fe-4846-ce2b-d08078a4336a"
      },
      "source": [
        "# Rating visualization\n",
        "import seaborn as sns\n",
        "sns.countplot(data_null_values_removal.Rating)"
      ],
      "execution_count": 13,
      "outputs": [
        {
          "output_type": "stream",
          "text": [
            "/usr/local/lib/python3.7/dist-packages/seaborn/_decorators.py:43: FutureWarning: Pass the following variable as a keyword arg: x. From version 0.12, the only valid positional argument will be `data`, and passing other arguments without an explicit keyword will result in an error or misinterpretation.\n",
            "  FutureWarning\n"
          ],
          "name": "stderr"
        },
        {
          "output_type": "execute_result",
          "data": {
            "text/plain": [
              "<matplotlib.axes._subplots.AxesSubplot at 0x7f39b9542a50>"
            ]
          },
          "metadata": {
            "tags": []
          },
          "execution_count": 13
        },
        {
          "output_type": "display_data",
          "data": {
            "image/png": "[encoded data removed]",
            "text/plain": [
              "<Figure size 432x288 with 1 Axes>"
            ]
          },
          "metadata": {
            "tags": [],
            "needs_background": "light"
          }
        }
      ]
    },
    {
      "cell_type": "code",
      "metadata": {
        "colab": {
          "base_uri": "https://localhost:8080/"
        },
        "id": "TfWRd6HGc5pV",
        "outputId": "6ecd10df-7ab2-4ab9-f357-2edab0afed35"
      },
      "source": [
        " import re\n",
        "i=0;\n",
        "for sent in data_null_values_removal['Reviews'].values:\n",
        "    if (len(re.findall('<.*?>', sent))):\n",
        "        print(i)\n",
        "        print(sent)\n",
        "        break;\n",
        "    i += 1;"
      ],
      "execution_count": 14,
      "outputs": [
        {
          "output_type": "stream",
          "text": [
            "3205\n",
            "Unless you know how to jail break this phone... what's the point? Most apps don't support this old phone. <(it's not really old, they just want you to spend money on the newer version. wtf? but whatever)>\n"
          ],
          "name": "stdout"
        }
      ]
    },
    {
      "cell_type": "code",
      "metadata": {
        "id": "j0bAkYPZdbCH"
      },
      "source": [
        "def cleanhtml(sentence):\n",
        "    cleanr = re.compile('<.*?>')\n",
        "    cleantext = re.sub(cleanr, ' ', sentence)\n",
        "    return cleantext"
      ],
      "execution_count": 15,
      "outputs": []
    },
    {
      "cell_type": "code",
      "metadata": {
        "colab": {
          "base_uri": "https://localhost:8080/"
        },
        "id": "RwhrLMfQdeKk",
        "outputId": "cff30608-9a1a-4031-edc8-70e8d1ca4f9c"
      },
      "source": [
        "# Cleaning text data\n",
        "import re\n",
        "data_null_values_removal['Cleaned Text'] = data_null_values_removal['Reviews'].apply(lambda x: \" \".join(x.lower() for x in x.split()))\n",
        "data_null_values_removal['Cleaned Text'] = data_null_values_removal['Cleaned Text'].apply(lambda x: cleanhtml(x))\n",
        "data_null_values_removal['Cleaned Text'] = data_null_values_removal['Cleaned Text'].apply(lambda x: ''.join(re.sub(r\"[^a-zA-Z0-9]+\", ' ', charctr) for charctr in x ))"
      ],
      "execution_count": 16,
      "outputs": [
        {
          "output_type": "stream",
          "text": [
            "/usr/local/lib/python3.7/dist-packages/ipykernel_launcher.py:3: SettingWithCopyWarning: \n",
            "A value is trying to be set on a copy of a slice from a DataFrame.\n",
            "Try using .loc[row_indexer,col_indexer] = value instead\n",
            "\n",
            "See the caveats in the documentation: https://pandas.pydata.org/pandas-docs/stable/user_guide/indexing.html#returning-a-view-versus-a-copy\n",
            "  This is separate from the ipykernel package so we can avoid doing imports until\n",
            "/usr/local/lib/python3.7/dist-packages/ipykernel_launcher.py:4: SettingWithCopyWarning: \n",
            "A value is trying to be set on a copy of a slice from a DataFrame.\n",
            "Try using .loc[row_indexer,col_indexer] = value instead\n",
            "\n",
            "See the caveats in the documentation: https://pandas.pydata.org/pandas-docs/stable/user_guide/indexing.html#returning-a-view-versus-a-copy\n",
            "  after removing the cwd from sys.path.\n",
            "/usr/local/lib/python3.7/dist-packages/ipykernel_launcher.py:5: SettingWithCopyWarning: \n",
            "A value is trying to be set on a copy of a slice from a DataFrame.\n",
            "Try using .loc[row_indexer,col_indexer] = value instead\n",
            "\n",
            "See the caveats in the documentation: https://pandas.pydata.org/pandas-docs/stable/user_guide/indexing.html#returning-a-view-versus-a-copy\n",
            "  \"\"\"\n"
          ],
          "name": "stderr"
        }
      ]
    },
    {
      "cell_type": "code",
      "metadata": {
        "colab": {
          "base_uri": "https://localhost:8080/"
        },
        "id": "LYABLJCodlN-",
        "outputId": "a9ce13fb-56ea-4e7d-df28-db0c4cf88d54"
      },
      "source": [
        "# Bag of words\n",
        "import nltk\n",
        "nltk.download('stopwords')\n",
        "from nltk.corpus import stopwords\n",
        "stop = stopwords.words('english')\n",
        "data_null_values_removal['Cleaned Text'] = data_null_values_removal['Cleaned Text'].apply(lambda item: \" \".join(item for item in item.split() if item not in stop))"
      ],
      "execution_count": 17,
      "outputs": [
        {
          "output_type": "stream",
          "text": [
            "[nltk_data] Downloading package stopwords to /root/nltk_data...\n",
            "[nltk_data]   Unzipping corpora/stopwords.zip.\n"
          ],
          "name": "stdout"
        },
        {
          "output_type": "stream",
          "text": [
            "/usr/local/lib/python3.7/dist-packages/ipykernel_launcher.py:6: SettingWithCopyWarning: \n",
            "A value is trying to be set on a copy of a slice from a DataFrame.\n",
            "Try using .loc[row_indexer,col_indexer] = value instead\n",
            "\n",
            "See the caveats in the documentation: https://pandas.pydata.org/pandas-docs/stable/user_guide/indexing.html#returning-a-view-versus-a-copy\n",
            "  \n"
          ],
          "name": "stderr"
        }
      ]
    },
    {
      "cell_type": "code",
      "metadata": {
        "id": "3w6JYzdTdm8l"
      },
      "source": [
        "from sklearn.feature_extraction.text import CountVectorizer\n",
        "count_vect = CountVectorizer()\n",
        "bow = count_vect.fit_transform(data_null_values_removal['Cleaned Text'].values)"
      ],
      "execution_count": 18,
      "outputs": []
    },
    {
      "cell_type": "code",
      "metadata": {
        "id": "ZvQD8-L-d80x"
      },
      "source": [
        "column_names = count_vect.get_feature_names()"
      ],
      "execution_count": 19,
      "outputs": []
    },
    {
      "cell_type": "code",
      "metadata": {
        "id": "yy0XeR2Zd--6",
        "outputId": "d7f00df4-e95d-432d-f9b5-bb2aaa37d6cf",
        "colab": {
          "base_uri": "https://localhost:8080/"
        }
      },
      "source": [
        "from sklearn.cluster import KMeans\n",
        "model = KMeans(n_clusters = 10, init='k-means++', n_jobs = -1, random_state=99)\n",
        "model.fit(bow)"
      ],
      "execution_count": 20,
      "outputs": [
        {
          "output_type": "execute_result",
          "data": {
            "text/plain": [
              "KMeans(algorithm='auto', copy_x=True, init='k-means++', max_iter=300,\n",
              "       n_clusters=10, n_init=10, n_jobs=-1, precompute_distances='auto',\n",
              "       random_state=99, tol=0.0001, verbose=0)"
            ]
          },
          "metadata": {
            "tags": []
          },
          "execution_count": 20
        }
      ]
    },
    {
      "cell_type": "code",
      "metadata": {
        "id": "4pV4If7AeBQx",
        "outputId": "b0aa11cf-871c-42b4-858a-7093fd0a21b2",
        "colab": {
          "base_uri": "https://localhost:8080/"
        }
      },
      "source": [
        "labels = model.labels_\n",
        "cluster_center = model.cluster_centers_\n",
        "cluster_center"
      ],
      "execution_count": 21,
      "outputs": [
        {
          "output_type": "execute_result",
          "data": {
            "text/plain": [
              "array([[8.18773016e-03, 8.03102719e-04, 1.37115098e-04, ...,\n",
              "        0.00000000e+00, 0.00000000e+00, 0.00000000e+00],\n",
              "       [1.04087870e-03, 8.47226845e-05, 3.63097219e-05, ...,\n",
              "        0.00000000e+00, 1.21032406e-05, 0.00000000e+00],\n",
              "       [0.00000000e+00, 1.00000000e+00, 0.00000000e+00, ...,\n",
              "        0.00000000e+00, 0.00000000e+00, 0.00000000e+00],\n",
              "       ...,\n",
              "       [1.11486486e-01, 1.04729730e-01, 0.00000000e+00, ...,\n",
              "        0.00000000e+00, 0.00000000e+00, 0.00000000e+00],\n",
              "       [3.29385844e-03, 1.87276232e-04, 1.10162490e-05, ...,\n",
              "        0.00000000e+00, 0.00000000e+00, 0.00000000e+00],\n",
              "       [1.69687621e-02, 4.82067104e-03, 0.00000000e+00, ...,\n",
              "        1.92826841e-04, 0.00000000e+00, 1.92826841e-04]])"
            ]
          },
          "metadata": {
            "tags": []
          },
          "execution_count": 21
        }
      ]
    },
    {
      "cell_type": "code",
      "metadata": {
        "id": "RwSD-B3peGBb",
        "outputId": "7ac4d232-cb22-4de8-dcce-02438ed15099",
        "colab": {
          "base_uri": "https://localhost:8080/"
        }
      },
      "source": [
        "from sklearn import metrics\n",
        "silhouette_score = metrics.silhouette_score(bow, labels, metric='euclidean')\n",
        "silhouette_score"
      ],
      "execution_count": 22,
      "outputs": [
        {
          "output_type": "execute_result",
          "data": {
            "text/plain": [
              "0.0280529660600268"
            ]
          },
          "metadata": {
            "tags": []
          },
          "execution_count": 22
        }
      ]
    },
    {
      "cell_type": "code",
      "metadata": {
        "id": "5tM94BNjeQBL",
        "outputId": "2d03450e-6c2e-45e3-bf28-b596622d4ddd",
        "colab": {
          "base_uri": "https://localhost:8080/"
        }
      },
      "source": [
        "df = data_null_values_removal\n",
        "df['Bow Clus Label'] = model.labels_\n",
        "df.groupby(['Bow Clus Label'])['Reviews'].count()"
      ],
      "execution_count": 24,
      "outputs": [
        {
          "output_type": "stream",
          "text": [
            "/usr/local/lib/python3.7/dist-packages/ipykernel_launcher.py:2: SettingWithCopyWarning: \n",
            "A value is trying to be set on a copy of a slice from a DataFrame.\n",
            "Try using .loc[row_indexer,col_indexer] = value instead\n",
            "\n",
            "See the caveats in the documentation: https://pandas.pydata.org/pandas-docs/stable/user_guide/indexing.html#returning-a-view-versus-a-copy\n",
            "  \n"
          ],
          "name": "stderr"
        },
        {
          "output_type": "execute_result",
          "data": {
            "text/plain": [
              "Bow Clus Label\n",
              "0     51052\n",
              "1    165245\n",
              "2        28\n",
              "3        56\n",
              "4      4939\n",
              "5     15217\n",
              "6      1541\n",
              "7       296\n",
              "8     90775\n",
              "9      5186\n",
              "Name: Reviews, dtype: int64"
            ]
          },
          "metadata": {
            "tags": []
          },
          "execution_count": 24
        }
      ]
    },
    {
      "cell_type": "code",
      "metadata": {
        "id": "5aVzEwvdeS3G",
        "outputId": "0e782233-49cc-4d1c-ac71-5a4c6d14bee7",
        "colab": {
          "base_uri": "https://localhost:8080/"
        }
      },
      "source": [
        "print(\"Top terms per cluster:\")\n",
        "order_centroids = model.cluster_centers_.argsort()[:, ::-1]\n",
        "terms = count_vect.get_feature_names()\n",
        "for i in range(10):\n",
        "    print(\"Cluster %d:\" % i, end='')\n",
        "    for ind in order_centroids[i, :10]:\n",
        "        print(' %s' % terms[ind], end='')\n",
        "        print()"
      ],
      "execution_count": 25,
      "outputs": [
        {
          "output_type": "stream",
          "text": [
            "Top terms per cluster:\n",
            "Cluster 0: phone\n",
            " great\n",
            " good\n",
            " one\n",
            " screen\n",
            " like\n",
            " use\n",
            " battery\n",
            " would\n",
            " new\n",
            "Cluster 1: good\n",
            " great\n",
            " product\n",
            " works\n",
            " excellent\n",
            " love\n",
            " one\n",
            " like\n",
            " work\n",
            " new\n",
            "Cluster 2: apple\n",
            " iphone\n",
            " android\n",
            " samsung\n",
            " even\n",
            " know\n",
            " phones\n",
            " also\n",
            " year\n",
            " one\n",
            "Cluster 3: phone\n",
            " screen\n",
            " battery\n",
            " use\n",
            " one\n",
            " also\n",
            " apps\n",
            " camera\n",
            " android\n",
            " like\n",
            "Cluster 4: phone\n",
            " one\n",
            " use\n",
            " like\n",
            " would\n",
            " battery\n",
            " screen\n",
            " get\n",
            " great\n",
            " good\n",
            "Cluster 5: phone\n",
            " great\n",
            " one\n",
            " would\n",
            " use\n",
            " good\n",
            " get\n",
            " like\n",
            " new\n",
            " screen\n",
            "Cluster 6: phone\n",
            " screen\n",
            " one\n",
            " like\n",
            " use\n",
            " get\n",
            " battery\n",
            " good\n",
            " camera\n",
            " would\n",
            "Cluster 7: phone\n",
            " screen\n",
            " battery\n",
            " one\n",
            " like\n",
            " use\n",
            " get\n",
            " good\n",
            " camera\n",
            " would\n",
            "Cluster 8: phone\n",
            " great\n",
            " good\n",
            " love\n",
            " works\n",
            " one\n",
            " like\n",
            " price\n",
            " battery\n",
            " use\n",
            "Cluster 9: phone\n",
            " screen\n",
            " battery\n",
            " like\n",
            " good\n",
            " use\n",
            " one\n",
            " camera\n",
            " great\n",
            " get\n"
          ],
          "name": "stdout"
        }
      ]
    },
    {
      "cell_type": "code",
      "metadata": {
        "id": "pzCOpEfFeW1r",
        "outputId": "885ca7ee-7acf-437d-a9b2-97c1b4d4db15",
        "colab": {
          "base_uri": "https://localhost:8080/",
          "height": 295
        }
      },
      "source": [
        "import matplotlib.pyplot as plt\n",
        "plt.bar([x for x in range(10)], df.groupby(['Bow Clus Label'])['Reviews'].count(), alpha = 0.4)\n",
        "plt.title('Cluster points')\n",
        "plt.xlabel(\"Cluster number\")\n",
        "plt.ylabel(\"No of points\")\n",
        "plt.show()"
      ],
      "execution_count": 26,
      "outputs": [
        {
          "output_type": "display_data",
          "data": {
            "image/png": "[encoded data removed]",
            "text/plain": [
              "<Figure size 432x288 with 1 Axes>"
            ]
          },
          "metadata": {
            "tags": [],
            "needs_background": "light"
          }
        }
      ]
    },
    {
      "cell_type": "code",
      "metadata": {
        "id": "eQXgwd_Kecy2"
      },
      "source": [
        ""
      ],
      "execution_count": null,
      "outputs": []
    },
    {
      "cell_type": "code",
      "metadata": {
        "id": "YKjec9wYZ5ll"
      },
      "source": [
        "#K Means using Average of Words to Vector analysis\n",
        "list_of_sentences = []\n",
        "for sentence in data_null_values_removal['Cleaned Text'].values:\n",
        "    list_of_sentences.append(sentence.split())"
      ],
      "execution_count": 27,
      "outputs": []
    },
    {
      "cell_type": "code",
      "metadata": {
        "id": "au0ex3rPetmb"
      },
      "source": [
        "import gensim\n",
        "w2v_model=gensim.models.Word2Vec(list_of_sentences,size=100, workers=4)"
      ],
      "execution_count": 28,
      "outputs": []
    },
    {
      "cell_type": "code",
      "metadata": {
        "id": "aY8OAywMevju",
        "outputId": "f808f328-2302-4c77-d06f-c65dc8ee7d15",
        "colab": {
          "base_uri": "https://localhost:8080/"
        }
      },
      "source": [
        "import numpy as np\n",
        "sent_vectors = []\n",
        "for sent in list_of_sentences:\n",
        "  sent_vec = np.zeros(100)\n",
        "  cnt_words = 0\n",
        "  for word in sent:\n",
        "    try:\n",
        "      vec = w2v_model.wv[word]\n",
        "      sent_vec += vec\n",
        "      cnt_words += 1\n",
        "    except:\n",
        "      pass\n",
        "  sent_vec /= cnt_words\n",
        "  sent_vectors.append(sent_vec)\n",
        "sent_vectors = np.array(sent_vectors)\n",
        "sent_vectors = np.nan_to_num(sent_vectors)\n",
        "sent_vectors.shape"
      ],
      "execution_count": 29,
      "outputs": [
        {
          "output_type": "stream",
          "text": [
            "/usr/local/lib/python3.7/dist-packages/ipykernel_launcher.py:13: RuntimeWarning: invalid value encountered in true_divide\n",
            "  del sys.path[0]\n"
          ],
          "name": "stderr"
        },
        {
          "output_type": "execute_result",
          "data": {
            "text/plain": [
              "(334335, 100)"
            ]
          },
          "metadata": {
            "tags": []
          },
          "execution_count": 29
        }
      ]
    },
    {
      "cell_type": "code",
      "metadata": {
        "id": "b_oRxq6Oexet",
        "outputId": "da3d4c06-feef-47c1-a54d-a4ff32b5a0cf",
        "colab": {
          "base_uri": "https://localhost:8080/"
        }
      },
      "source": [
        "num_clus = [x for x in range(3,11)]\n",
        "num_clus"
      ],
      "execution_count": 30,
      "outputs": [
        {
          "output_type": "execute_result",
          "data": {
            "text/plain": [
              "[3, 4, 5, 6, 7, 8, 9, 10]"
            ]
          },
          "metadata": {
            "tags": []
          },
          "execution_count": 30
        }
      ]
    },
    {
      "cell_type": "code",
      "metadata": {
        "id": "qz-zmMWsezxn",
        "outputId": "5312fdd6-fc94-4050-f4ef-95dd6fd0c3b8",
        "colab": {
          "base_uri": "https://localhost:8080/",
          "height": 295
        }
      },
      "source": [
        "squared_errors = []\n",
        "for cluster in num_clus:\n",
        "    kmeans = KMeans(n_clusters = cluster).fit(sent_vectors)\n",
        "    squared_errors.append(kmeans.inertia_)\n",
        "    \n",
        "optimal_clusters = np.argmin(squared_errors) + 2 \n",
        "plt.plot(num_clus, squared_errors)\n",
        "plt.title(\"Elbow Curve to find the no. of clusters.\")\n",
        "plt.xlabel(\"Number of clusters.\")\n",
        "plt.ylabel(\"Squared Loss.\")\n",
        "xy = (optimal_clusters, min(squared_errors))\n",
        "plt.annotate('(%s, %s)' % xy, xy = xy, textcoords='data')\n",
        "plt.show()"
      ],
      "execution_count": 31,
      "outputs": [
        {
          "output_type": "display_data",
          "data": {
            "image/png": "[encoded data removed]",
            "text/plain": [
              "<Figure size 432x288 with 1 Axes>"
            ]
          },
          "metadata": {
            "tags": [],
            "needs_background": "light"
          }
        }
      ]
    },
    {
      "cell_type": "code",
      "metadata": {
        "id": "mRcy6PO3e2z0",
        "outputId": "4707964a-f24a-4b07-b2f4-ed32bbf7c45c",
        "colab": {
          "base_uri": "https://localhost:8080/"
        }
      },
      "source": [
        "print (\"No of clusters - \", optimal_clusters)\n",
        "print (\"The loss for cluster - \", min(squared_errors))"
      ],
      "execution_count": 32,
      "outputs": [
        {
          "output_type": "stream",
          "text": [
            "No of clusters -  9\n",
            "The loss for cluster -  8971561.559091372\n"
          ],
          "name": "stdout"
        }
      ]
    },
    {
      "cell_type": "code",
      "metadata": {
        "id": "3NebrJjQe-EC",
        "outputId": "55a4c9a4-a88a-460d-97e4-b8f0edf754ce",
        "colab": {
          "base_uri": "https://localhost:8080/"
        }
      },
      "source": [
        "from sklearn.cluster import KMeans\n",
        "model2 = KMeans(n_clusters = optimal_clusters)\n",
        "model2.fit(sent_vectors)"
      ],
      "execution_count": 33,
      "outputs": [
        {
          "output_type": "execute_result",
          "data": {
            "text/plain": [
              "KMeans(algorithm='auto', copy_x=True, init='k-means++', max_iter=300,\n",
              "       n_clusters=9, n_init=10, n_jobs=None, precompute_distances='auto',\n",
              "       random_state=None, tol=0.0001, verbose=0)"
            ]
          },
          "metadata": {
            "tags": []
          },
          "execution_count": 33
        }
      ]
    },
    {
      "cell_type": "code",
      "metadata": {
        "id": "2Hn45GCcei3k",
        "outputId": "237f3042-eda8-4351-d2c0-4cef8486e9f2",
        "colab": {
          "base_uri": "https://localhost:8080/"
        }
      },
      "source": [
        "word_cluster_pred = model2.predict(sent_vectors)\n",
        "word_cluster_pred_2 = model2.labels_\n",
        "word_cluster_center = model2.cluster_centers_\n",
        "word_cluster_center[1:2]"
      ],
      "execution_count": 37,
      "outputs": [
        {
          "output_type": "execute_result",
          "data": {
            "text/plain": [
              "array([[ 0.85893661,  0.355461  ,  0.01400724, -0.77995989, -0.19155864,\n",
              "        -0.07265087,  0.49973779, -0.08909562,  0.27221016, -0.50433453,\n",
              "        -0.77205636,  0.70550894,  0.12442629,  0.21126912, -0.48382295,\n",
              "         0.16467263,  0.15767272, -0.11489592,  0.4572102 ,  0.71742782,\n",
              "         0.59087668,  0.00228857, -0.53073982, -0.10005174, -0.20869837,\n",
              "        -0.28159815, -0.31660162, -0.97823355, -0.31323871, -0.26537749,\n",
              "        -0.41226422, -0.48378085, -0.05675679, -0.33523884, -0.51136225,\n",
              "         0.06601957,  0.04525035, -0.10997423, -0.32480677, -0.28221188,\n",
              "         0.56034094, -1.08047552, -0.04851482, -0.06194771,  0.39193514,\n",
              "         0.2941731 ,  0.01155021, -0.38040595,  0.86403983,  0.28510036,\n",
              "         0.41123051, -0.62496621,  0.04242611, -1.02831483, -0.76425703,\n",
              "        -0.43536434, -0.06232545, -0.38397399,  0.4647564 , -0.20884139,\n",
              "         0.06934759,  0.2247161 , -0.0818526 ,  0.48650511, -0.41940678,\n",
              "        -0.13912325,  0.25267548, -0.57208112, -0.29369323,  0.02879253,\n",
              "         0.33969034,  0.45263394,  0.05452043, -0.3490887 , -0.12686335,\n",
              "         0.1282283 ,  0.48156337,  0.34307108,  0.05979973, -0.28428905,\n",
              "        -0.53827513, -0.25501714,  0.10232819, -0.23964651,  0.17399112,\n",
              "         0.05244543,  0.31892956, -0.47537492, -0.54964647,  0.00410261,\n",
              "         0.16955937, -0.45602612, -0.6190732 ,  0.9976005 , -0.19596984,\n",
              "         0.29322259, -0.10696845,  0.35933438,  0.24076165,  0.13811233]])"
            ]
          },
          "metadata": {
            "tags": []
          },
          "execution_count": 37
        }
      ]
    },
    {
      "cell_type": "code",
      "metadata": {
        "id": "M-GrtUjMfBYN"
      },
      "source": [
        "for i in range(4):\n",
        "    print(\"A review of assigned to cluster \", i)\n",
        "    print(\"-\" * 70)\n",
        "    print(df.iloc[df.groupby(['AVG-W2V Clus Label']).groups[i][0]]['Reviews'])\n",
        "    print('\\n')\n",
        "    print(df.iloc[df.groupby(['AVG-W2V Clus Label']).groups[i][1]]['Reviews'])\n",
        "    print('\\n')\n",
        "    print(\"_\" * 70)"
      ],
      "execution_count": null,
      "outputs": []
    },
    {
      "cell_type": "code",
      "metadata": {
        "id": "RJiNSYNSfEGc",
        "outputId": "83f26e9d-15c7-41d6-e57d-d118e19d18ef",
        "colab": {
          "base_uri": "https://localhost:8080/",
          "height": 130
        }
      },
      "source": [
        "# DB SCAN clustering\n",
        "\n",
        "rom sklearn.cluster import DBSCAN\n",
        "minPts = 2 * 100\n",
        "def Checkbound(nums, target):\n",
        "    l, r = 0, len(nums) - 1\n",
        "    while l <= r:\n",
        "        mid = int(l + (r - l) / 2)\n",
        "        if nums[mid] >= target:\n",
        "            r = mid - 1\n",
        "        else:\n",
        "            l = mid + 1\n",
        "    return l\n",
        "\n",
        "def computeVals(x, data):\n",
        "    dists = []\n",
        "    for val in data:\n",
        "        dist = np.sum((x - val) **2 )\n",
        "        if(len(dists) == 200 and dists[199] > dist):\n",
        "            l = int(Checkbound(dists, dist))\n",
        "            if l < 200 and l >= 0 and dists[l] > dist:\n",
        "                dists[l] = dist\n",
        "        else:\n",
        "            dists.append(dist)\n",
        "            dists.sort()\n",
        "    \n",
        "    return dists[199]"
      ],
      "execution_count": 38,
      "outputs": [
        {
          "output_type": "error",
          "ename": "SyntaxError",
          "evalue": "ignored",
          "traceback": [
            "\u001b[0;36m  File \u001b[0;32m\"<ipython-input-38-79115c409831>\"\u001b[0;36m, line \u001b[0;32m3\u001b[0m\n\u001b[0;31m    rom sklearn.cluster import DBSCAN\u001b[0m\n\u001b[0m              ^\u001b[0m\n\u001b[0;31mSyntaxError\u001b[0m\u001b[0;31m:\u001b[0m invalid syntax\n"
          ]
        }
      ]
    },
    {
      "cell_type": "code",
      "metadata": {
        "id": "hsXvSNj3fL0a"
      },
      "source": [
        "twohundrethneigh = []\n",
        "for val in sent_vectors[:1500]:\n",
        "    twohundrethneigh.append( computeVals(val, sent_vectors[:1500]) )\n",
        "twohundrethneigh.sort()"
      ],
      "execution_count": null,
      "outputs": []
    },
    {
      "cell_type": "code",
      "metadata": {
        "id": "3j8bbFj4fgRm"
      },
      "source": [
        "plt.figure(figsize=(14,4))\n",
        "plt.title(\"Elbow Method -> EPS hyperparameter\")\n",
        "plt.plot([x for x in range(len(twohundrethneigh))], twohundrethneigh)\n",
        "plt.xlabel(\"No of points\")\n",
        "plt.ylabel(\"Distance of 200th closest Neighbour\")\n",
        "plt.show()"
      ],
      "execution_count": null,
      "outputs": []
    },
    {
      "cell_type": "code",
      "metadata": {
        "id": "RHMnXBrkftWi"
      },
      "source": [
        "model = DBSCAN(eps = 5, min_samples = minPts, n_jobs=-1)\n",
        "model.fit(sent_vectors)"
      ],
      "execution_count": null,
      "outputs": []
    },
    {
      "cell_type": "code",
      "metadata": {
        "id": "k-Fwdb9DfxbY"
      },
      "source": [
        "dbscandf = df\n",
        "dbscandf['AVG-W2V Clus Label'] = model.labels_\n",
        "dbscandf.groupby(['AVG-W2V Clus Label'])['Product Name', 'Brand Name', 'Reviews'].count()"
      ],
      "execution_count": null,
      "outputs": []
    },
    {
      "cell_type": "code",
      "metadata": {
        "id": "ZjytNZ2ffiw4"
      },
      "source": [
        "import scipy\n",
        "from scipy.cluster import hierarchy\n",
        "dendro=hierarchy.dendrogram(hierarchy.linkage(sent_vectors, method='ward'))\n",
        "plt.axhline(y=35)"
      ],
      "execution_count": null,
      "outputs": []
    },
    {
      "cell_type": "code",
      "metadata": {
        "id": "-NSILRJwf1m6"
      },
      "source": [
        "from sklearn.cluster import AgglomerativeClustering\n",
        "\n",
        "cluster = AgglomerativeClustering(n_clusters=5, affinity='euclidean', linkage='ward')\n",
        "Agg=cluster.fit_predict(sent_vectors)"
      ],
      "execution_count": null,
      "outputs": []
    },
    {
      "cell_type": "code",
      "metadata": {
        "id": "czcY_EFVf4EK"
      },
      "source": [
        "hcdf = dbscandf\n",
        "hcdf['AVG-W2V Clus Label'] = cluster.labels_\n",
        "hcdf.groupby(['AVG-W2V Clus Label'])['Reviews'].count()"
      ],
      "execution_count": null,
      "outputs": []
    },
    {
      "cell_type": "code",
      "metadata": {
        "id": "MHHGt60Bf7yS"
      },
      "source": [
        "for i in range(5):\n",
        "    print(\"2 reviews of assigned to cluster \", i)\n",
        "    print(\"-\" * 70)\n",
        "    print(aggdfa.iloc[aggdfa.groupby(['AVG-W2V Clus Label']).groups[i][0]]['Reviews'])\n",
        "    print('\\n')\n",
        "    print(aggdfa.iloc[aggdfa.groupby(['AVG-W2V Clus Label']).groups[i][1]]['Reviews'])\n",
        "    print('\\n')\n",
        "    print(\"_\" * 70)"
      ],
      "execution_count": null,
      "outputs": []
    }
  ]
}