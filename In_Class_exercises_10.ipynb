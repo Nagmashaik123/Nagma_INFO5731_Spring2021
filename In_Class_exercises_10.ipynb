{
  "nbformat": 4,
  "nbformat_minor": 0,
  "metadata": {
    "kernelspec": {
      "display_name": "Python 3",
      "language": "python",
      "name": "python3"
    },
    "language_info": {
      "codemirror_mode": {
        "name": "ipython",
        "version": 3
      },
      "file_extension": ".py",
      "mimetype": "text/x-python",
      "name": "python",
      "nbconvert_exporter": "python",
      "pygments_lexer": "ipython3",
      "version": "3.8.5"
    },
    "colab": {
      "name": "In_Class_exercises-10.ipynb",
      "provenance": [],
      "toc_visible": true,
      "include_colab_link": true
    }
  },
  "cells": [
    {
      "cell_type": "markdown",
      "metadata": {
        "id": "view-in-github",
        "colab_type": "text"
      },
      "source": [
        "<a href=\"https://colab.research.google.com/github/Nagmashaik123/Nagma_INFO5731_Spring2021/blob/main/In_Class_exercises_10.ipynb\" target=\"_parent\"><img src=\"https://colab.research.google.com/assets/colab-badge.svg\" alt=\"Open In Colab\"/></a>"
      ]
    },
    {
      "cell_type": "markdown",
      "metadata": {
        "id": "FfDt7GhUZ5lb"
      },
      "source": [
        "# In class exercise 10 (20 points in total, 4/16/2021)"
      ]
    },
    {
      "cell_type": "markdown",
      "metadata": {
        "id": "pZ2jgzE-Z5lj"
      },
      "source": [
        "The purpose of the exercise is to practice different machine learning algorithms for text clustering\n",
        "Please downlad the dataset by using the following link.  https://www.kaggle.com/PromptCloudHQ/amazon-reviews-unlocked-mobile-phones\n",
        "(You can also use different text data which you want)\n",
        "\n",
        "Apply the listed clustering methods to the dataset:\n",
        "\n",
        "K means, \n",
        "DBSCAN,\n",
        "Hierarchical clustering. \n",
        "\n",
        "You can refer to of the codes from  the follwing link below. \n",
        "https://www.kaggle.com/karthik3890/text-clustering \n",
        "    "
      ]
    },
    {
      "cell_type": "code",
      "metadata": {
        "id": "ew2JSbeDZ5lk"
      },
      "source": [
        "#importing required libraries\n",
        "import pandas as pd\n",
        "from nltk.corpus import stopwords\n",
        "import nltk\n",
        "from textblob import Word\n",
        "from sklearn.feature_extraction.text import TfidfVectorizer\n",
        "import nltk\n"
      ],
      "execution_count": null,
      "outputs": []
    },
    {
      "cell_type": "code",
      "metadata": {
        "id": "m8XEqtVWbGO3"
      },
      "source": [
        "from sklearn import metrics\n",
        "import gensim\n",
        "import scipy\n",
        "from scipy.cluster import hierarchy\n",
        "from sklearn.cluster import AgglomerativeClustering"
      ],
      "execution_count": null,
      "outputs": []
    },
    {
      "cell_type": "code",
      "metadata": {
        "colab": {
          "base_uri": "https://localhost:8080/"
        },
        "id": "DoZIBn9PbEy-",
        "outputId": "7fc3419e-095d-4c33-f4aa-9b5ee4130b5f"
      },
      "source": [
        "nltk.download('wordnet')\n",
        "from sklearn.cluster import KMeans\n",
        "import numpy as np \n",
        "import matplotlib.pyplot as plt"
      ],
      "execution_count": null,
      "outputs": [
        {
          "output_type": "stream",
          "text": [
            "[nltk_data] Downloading package wordnet to /root/nltk_data...\n",
            "[nltk_data]   Unzipping corpora/wordnet.zip.\n"
          ],
          "name": "stdout"
        }
      ]
    },
    {
      "cell_type": "code",
      "metadata": {
        "id": "mSpB2JbFbLAE"
      },
      "source": [
        "#load the data\n",
        "data=pd.read_csv(\"Amazon_Unlocked_Mobile.csv\")"
      ],
      "execution_count": null,
      "outputs": []
    },
    {
      "cell_type": "code",
      "metadata": {
        "colab": {
          "base_uri": "https://localhost:8080/",
          "height": 606
        },
        "id": "nrURwMrEbvvb",
        "outputId": "25920f80-f3fb-4e74-adae-e1927e0c26f3"
      },
      "source": [
        "data[:4000]"
      ],
      "execution_count": null,
      "outputs": [
        {
          "output_type": "execute_result",
          "data": {
            "text/html": [
              "<div>\n",
              "<style scoped>\n",
              "    .dataframe tbody tr th:only-of-type {\n",
              "        vertical-align: middle;\n",
              "    }\n",
              "\n",
              "    .dataframe tbody tr th {\n",
              "        vertical-align: top;\n",
              "    }\n",
              "\n",
              "    .dataframe thead th {\n",
              "        text-align: right;\n",
              "    }\n",
              "</style>\n",
              "<table border=\"1\" class=\"dataframe\">\n",
              "  <thead>\n",
              "    <tr style=\"text-align: right;\">\n",
              "      <th></th>\n",
              "      <th>Product Name</th>\n",
              "      <th>Brand Name</th>\n",
              "      <th>Price</th>\n",
              "      <th>Rating</th>\n",
              "      <th>Reviews</th>\n",
              "      <th>Review Votes</th>\n",
              "    </tr>\n",
              "  </thead>\n",
              "  <tbody>\n",
              "    <tr>\n",
              "      <th>0</th>\n",
              "      <td>\"CLEAR CLEAN ESN\" Sprint EPIC 4G Galaxy SPH-D7...</td>\n",
              "      <td>Samsung</td>\n",
              "      <td>199.99</td>\n",
              "      <td>5</td>\n",
              "      <td>I feel so LUCKY to have found this used (phone...</td>\n",
              "      <td>1.0</td>\n",
              "    </tr>\n",
              "    <tr>\n",
              "      <th>1</th>\n",
              "      <td>\"CLEAR CLEAN ESN\" Sprint EPIC 4G Galaxy SPH-D7...</td>\n",
              "      <td>Samsung</td>\n",
              "      <td>199.99</td>\n",
              "      <td>4</td>\n",
              "      <td>nice phone, nice up grade from my pantach revu...</td>\n",
              "      <td>0.0</td>\n",
              "    </tr>\n",
              "    <tr>\n",
              "      <th>2</th>\n",
              "      <td>\"CLEAR CLEAN ESN\" Sprint EPIC 4G Galaxy SPH-D7...</td>\n",
              "      <td>Samsung</td>\n",
              "      <td>199.99</td>\n",
              "      <td>5</td>\n",
              "      <td>Very pleased</td>\n",
              "      <td>0.0</td>\n",
              "    </tr>\n",
              "    <tr>\n",
              "      <th>3</th>\n",
              "      <td>\"CLEAR CLEAN ESN\" Sprint EPIC 4G Galaxy SPH-D7...</td>\n",
              "      <td>Samsung</td>\n",
              "      <td>199.99</td>\n",
              "      <td>4</td>\n",
              "      <td>It works good but it goes slow sometimes but i...</td>\n",
              "      <td>0.0</td>\n",
              "    </tr>\n",
              "    <tr>\n",
              "      <th>4</th>\n",
              "      <td>\"CLEAR CLEAN ESN\" Sprint EPIC 4G Galaxy SPH-D7...</td>\n",
              "      <td>Samsung</td>\n",
              "      <td>199.99</td>\n",
              "      <td>4</td>\n",
              "      <td>Great phone to replace my lost phone. The only...</td>\n",
              "      <td>0.0</td>\n",
              "    </tr>\n",
              "    <tr>\n",
              "      <th>...</th>\n",
              "      <td>...</td>\n",
              "      <td>...</td>\n",
              "      <td>...</td>\n",
              "      <td>...</td>\n",
              "      <td>...</td>\n",
              "      <td>...</td>\n",
              "    </tr>\n",
              "    <tr>\n",
              "      <th>3995</th>\n",
              "      <td>Apple A1533 Unlocked iPhone 5S Smart Phone, 16...</td>\n",
              "      <td>Apple</td>\n",
              "      <td>115.00</td>\n",
              "      <td>5</td>\n",
              "      <td>Perfect.</td>\n",
              "      <td>0.0</td>\n",
              "    </tr>\n",
              "    <tr>\n",
              "      <th>3996</th>\n",
              "      <td>Apple A1533 Unlocked iPhone 5S Smart Phone, 16...</td>\n",
              "      <td>Apple</td>\n",
              "      <td>115.00</td>\n",
              "      <td>3</td>\n",
              "      <td>It does not connect to network and internet we...</td>\n",
              "      <td>0.0</td>\n",
              "    </tr>\n",
              "    <tr>\n",
              "      <th>3997</th>\n",
              "      <td>Apple A1533 Unlocked iPhone 5S Smart Phone, 16...</td>\n",
              "      <td>Apple</td>\n",
              "      <td>115.00</td>\n",
              "      <td>5</td>\n",
              "      <td>Good</td>\n",
              "      <td>0.0</td>\n",
              "    </tr>\n",
              "    <tr>\n",
              "      <th>3998</th>\n",
              "      <td>Apple A1533 Unlocked iPhone 5S Smart Phone, 16...</td>\n",
              "      <td>Apple</td>\n",
              "      <td>115.00</td>\n",
              "      <td>4</td>\n",
              "      <td>Phone is in good working condition</td>\n",
              "      <td>0.0</td>\n",
              "    </tr>\n",
              "    <tr>\n",
              "      <th>3999</th>\n",
              "      <td>Apple A1533 Unlocked iPhone 5S Smart Phone, 16...</td>\n",
              "      <td>Apple</td>\n",
              "      <td>115.00</td>\n",
              "      <td>5</td>\n",
              "      <td>Item as described, was easy to transfer data f...</td>\n",
              "      <td>1.0</td>\n",
              "    </tr>\n",
              "  </tbody>\n",
              "</table>\n",
              "<p>4000 rows × 6 columns</p>\n",
              "</div>"
            ],
            "text/plain": [
              "                                           Product Name  ... Review Votes\n",
              "0     \"CLEAR CLEAN ESN\" Sprint EPIC 4G Galaxy SPH-D7...  ...          1.0\n",
              "1     \"CLEAR CLEAN ESN\" Sprint EPIC 4G Galaxy SPH-D7...  ...          0.0\n",
              "2     \"CLEAR CLEAN ESN\" Sprint EPIC 4G Galaxy SPH-D7...  ...          0.0\n",
              "3     \"CLEAR CLEAN ESN\" Sprint EPIC 4G Galaxy SPH-D7...  ...          0.0\n",
              "4     \"CLEAR CLEAN ESN\" Sprint EPIC 4G Galaxy SPH-D7...  ...          0.0\n",
              "...                                                 ...  ...          ...\n",
              "3995  Apple A1533 Unlocked iPhone 5S Smart Phone, 16...  ...          0.0\n",
              "3996  Apple A1533 Unlocked iPhone 5S Smart Phone, 16...  ...          0.0\n",
              "3997  Apple A1533 Unlocked iPhone 5S Smart Phone, 16...  ...          0.0\n",
              "3998  Apple A1533 Unlocked iPhone 5S Smart Phone, 16...  ...          0.0\n",
              "3999  Apple A1533 Unlocked iPhone 5S Smart Phone, 16...  ...          1.0\n",
              "\n",
              "[4000 rows x 6 columns]"
            ]
          },
          "metadata": {
            "tags": []
          },
          "execution_count": 6
        }
      ]
    },
    {
      "cell_type": "code",
      "metadata": {
        "id": "_N0q85fKxoUP",
        "colab": {
          "base_uri": "https://localhost:8080/"
        },
        "outputId": "c9a1bed5-af1d-4afd-8d0e-e3e5b18201cb"
      },
      "source": [
        "data.shape"
      ],
      "execution_count": null,
      "outputs": [
        {
          "output_type": "execute_result",
          "data": {
            "text/plain": [
              "(118012, 6)"
            ]
          },
          "metadata": {
            "tags": []
          },
          "execution_count": 10
        }
      ]
    },
    {
      "cell_type": "code",
      "metadata": {
        "id": "8tvnrf6dcEys",
        "colab": {
          "base_uri": "https://localhost:8080/"
        },
        "outputId": "2f0a843a-d98f-4a1e-ddb7-1f052ee73753"
      },
      "source": [
        "\n",
        "data_after_removing_null_values = data.dropna()\n",
        "data_after_removing_null_values.shape"
      ],
      "execution_count": null,
      "outputs": [
        {
          "output_type": "execute_result",
          "data": {
            "text/plain": [
              "(93532, 6)"
            ]
          },
          "metadata": {
            "tags": []
          },
          "execution_count": 11
        }
      ]
    },
    {
      "cell_type": "code",
      "metadata": {
        "colab": {
          "base_uri": "https://localhost:8080/",
          "height": 350
        },
        "id": "YDh7hksrcJAw",
        "outputId": "fcdb13a4-ccdf-4da7-e0e6-08623aadc0e8"
      },
      "source": [
        "# Visualising data\n",
        "import seaborn as sns\n",
        "sns.countplot(data_after_removing_null_values.Rating)"
      ],
      "execution_count": null,
      "outputs": [
        {
          "output_type": "stream",
          "text": [
            "/usr/local/lib/python3.7/dist-packages/seaborn/_decorators.py:43: FutureWarning: Pass the following variable as a keyword arg: x. From version 0.12, the only valid positional argument will be `data`, and passing other arguments without an explicit keyword will result in an error or misinterpretation.\n",
            "  FutureWarning\n"
          ],
          "name": "stderr"
        },
        {
          "output_type": "execute_result",
          "data": {
            "text/plain": [
              "<matplotlib.axes._subplots.AxesSubplot at 0x7f9370631650>"
            ]
          },
          "metadata": {
            "tags": []
          },
          "execution_count": 12
        },
        {
          "output_type": "display_data",
          "data": {
            "image/png": "[encoded data removed]",
            "text/plain": [
              "<Figure size 432x288 with 1 Axes>"
            ]
          },
          "metadata": {
            "tags": [],
            "needs_background": "light"
          }
        }
      ]
    },
    {
      "cell_type": "code",
      "metadata": {
        "colab": {
          "base_uri": "https://localhost:8080/"
        },
        "id": "hjdqDvqrcbg9",
        "outputId": "dd8429bb-67eb-450b-863c-754cea5a12cd"
      },
      "source": [
        "def review_classification(rating):\n",
        "    if rating < 3:\n",
        "        return 'negative'\n",
        "    return 'positive'\n",
        "\n",
        "rating_classification = data_after_removing_null_values['Rating'].map(review_classification) \n",
        "data_after_removing_null_values['Rating'] = rating_classification"
      ],
      "execution_count": null,
      "outputs": [
        {
          "output_type": "stream",
          "text": [
            "/usr/local/lib/python3.7/dist-packages/ipykernel_launcher.py:7: SettingWithCopyWarning: \n",
            "A value is trying to be set on a copy of a slice from a DataFrame.\n",
            "Try using .loc[row_indexer,col_indexer] = value instead\n",
            "\n",
            "See the caveats in the documentation: https://pandas.pydata.org/pandas-docs/stable/user_guide/indexing.html#returning-a-view-versus-a-copy\n",
            "  import sys\n"
          ],
          "name": "stderr"
        }
      ]
    },
    {
      "cell_type": "code",
      "metadata": {
        "colab": {
          "base_uri": "https://localhost:8080/"
        },
        "id": "sucvuN__cqL_",
        "outputId": "4658508f-3c5d-40c1-fe26-e8128f2139f6"
      },
      "source": [
        "data_after_removing_null_values['Rating'].value_counts()"
      ],
      "execution_count": null,
      "outputs": [
        {
          "output_type": "execute_result",
          "data": {
            "text/plain": [
              "positive    71436\n",
              "negative    22096\n",
              "Name: Rating, dtype: int64"
            ]
          },
          "metadata": {
            "tags": []
          },
          "execution_count": 14
        }
      ]
    },
    {
      "cell_type": "code",
      "metadata": {
        "id": "AmGROuNox6it",
        "colab": {
          "base_uri": "https://localhost:8080/",
          "height": 350
        },
        "outputId": "b5651f93-1f38-4d2e-8435-c5aaf7bbcdeb"
      },
      "source": [
        "import seaborn as sns\n",
        "sns.countplot(data_after_removing_null_values.Rating)"
      ],
      "execution_count": null,
      "outputs": [
        {
          "output_type": "stream",
          "text": [
            "/usr/local/lib/python3.7/dist-packages/seaborn/_decorators.py:43: FutureWarning: Pass the following variable as a keyword arg: x. From version 0.12, the only valid positional argument will be `data`, and passing other arguments without an explicit keyword will result in an error or misinterpretation.\n",
            "  FutureWarning\n"
          ],
          "name": "stderr"
        },
        {
          "output_type": "execute_result",
          "data": {
            "text/plain": [
              "<matplotlib.axes._subplots.AxesSubplot at 0x7f93700ac7d0>"
            ]
          },
          "metadata": {
            "tags": []
          },
          "execution_count": 15
        },
        {
          "output_type": "display_data",
          "data": {
            "image/png": "[encoded data removed]",
            "text/plain": [
              "<Figure size 432x288 with 1 Axes>"
            ]
          },
          "metadata": {
            "tags": [],
            "needs_background": "light"
          }
        }
      ]
    },
    {
      "cell_type": "code",
      "metadata": {
        "colab": {
          "base_uri": "https://localhost:8080/"
        },
        "id": "TfWRd6HGc5pV",
        "outputId": "2c60c4f0-0424-4f69-9cea-f80d460498ff"
      },
      "source": [
        "import re\n",
        "i=0;\n",
        "for sent in data_after_removing_null_values['Reviews'].values:\n",
        "    if (len(re.findall('<.*?>', sent))):\n",
        "        print(i)\n",
        "        print(sent)\n",
        "        break;\n",
        "    i += 1;"
      ],
      "execution_count": null,
      "outputs": [
        {
          "output_type": "stream",
          "text": [
            "3205\n",
            "Unless you know how to jail break this phone... what's the point? Most apps don't support this old phone. <(it's not really old, they just want you to spend money on the newer version. wtf? but whatever)>\n"
          ],
          "name": "stdout"
        }
      ]
    },
    {
      "cell_type": "code",
      "metadata": {
        "id": "j0bAkYPZdbCH"
      },
      "source": [
        "def cleanhtml(sentence):\n",
        "    cleanr = re.compile('<.*?>')\n",
        "    cleantext = re.sub(cleanr, ' ', sentence)\n",
        "    return cleantext"
      ],
      "execution_count": null,
      "outputs": []
    },
    {
      "cell_type": "code",
      "metadata": {
        "id": "bS48uSmCyTD9",
        "colab": {
          "base_uri": "https://localhost:8080/"
        },
        "outputId": "cc59b3bd-1a84-49b9-b9fd-e7b79705e37e"
      },
      "source": [
        "# Cleaning text data\n",
        "import re\n",
        "data_after_removing_null_values['Cleaned Text'] = data_after_removing_null_values['Reviews'].apply(lambda x: \" \".join(x.lower() for x in x.split()))\n",
        "data_after_removing_null_values['Cleaned Text'] = data_after_removing_null_values['Cleaned Text'].apply(lambda x: cleanhtml(x))\n",
        "data_after_removing_null_values['Cleaned Text'] = data_after_removing_null_values['Cleaned Text'].apply(lambda x: ''.join(re.sub(r\"[^a-zA-Z0-9]+\", ' ', charctr) for charctr in x ))"
      ],
      "execution_count": null,
      "outputs": [
        {
          "output_type": "stream",
          "text": [
            "/usr/local/lib/python3.7/dist-packages/ipykernel_launcher.py:3: SettingWithCopyWarning: \n",
            "A value is trying to be set on a copy of a slice from a DataFrame.\n",
            "Try using .loc[row_indexer,col_indexer] = value instead\n",
            "\n",
            "See the caveats in the documentation: https://pandas.pydata.org/pandas-docs/stable/user_guide/indexing.html#returning-a-view-versus-a-copy\n",
            "  This is separate from the ipykernel package so we can avoid doing imports until\n",
            "/usr/local/lib/python3.7/dist-packages/ipykernel_launcher.py:4: SettingWithCopyWarning: \n",
            "A value is trying to be set on a copy of a slice from a DataFrame.\n",
            "Try using .loc[row_indexer,col_indexer] = value instead\n",
            "\n",
            "See the caveats in the documentation: https://pandas.pydata.org/pandas-docs/stable/user_guide/indexing.html#returning-a-view-versus-a-copy\n",
            "  after removing the cwd from sys.path.\n",
            "/usr/local/lib/python3.7/dist-packages/ipykernel_launcher.py:5: SettingWithCopyWarning: \n",
            "A value is trying to be set on a copy of a slice from a DataFrame.\n",
            "Try using .loc[row_indexer,col_indexer] = value instead\n",
            "\n",
            "See the caveats in the documentation: https://pandas.pydata.org/pandas-docs/stable/user_guide/indexing.html#returning-a-view-versus-a-copy\n",
            "  \"\"\"\n"
          ],
          "name": "stderr"
        }
      ]
    },
    {
      "cell_type": "code",
      "metadata": {
        "colab": {
          "base_uri": "https://localhost:8080/"
        },
        "id": "LYABLJCodlN-",
        "outputId": "a9ce13fb-56ea-4e7d-df28-db0c4cf88d54"
      },
      "source": [
        "# Bag of words\n",
        "import nltk\n",
        "nltk.download('stopwords')\n",
        "from nltk.corpus import stopwords\n",
        "stop = stopwords.words('english')\n",
        "data_null_values_removal['Cleaned Text'] = data_null_values_removal['Cleaned Text'].apply(lambda item: \" \".join(item for item in item.split() if item not in stop))"
      ],
      "execution_count": null,
      "outputs": [
        {
          "output_type": "stream",
          "text": [
            "[nltk_data] Downloading package stopwords to /root/nltk_data...\n",
            "[nltk_data]   Unzipping corpora/stopwords.zip.\n"
          ],
          "name": "stdout"
        },
        {
          "output_type": "stream",
          "text": [
            "/usr/local/lib/python3.7/dist-packages/ipykernel_launcher.py:6: SettingWithCopyWarning: \n",
            "A value is trying to be set on a copy of a slice from a DataFrame.\n",
            "Try using .loc[row_indexer,col_indexer] = value instead\n",
            "\n",
            "See the caveats in the documentation: https://pandas.pydata.org/pandas-docs/stable/user_guide/indexing.html#returning-a-view-versus-a-copy\n",
            "  \n"
          ],
          "name": "stderr"
        }
      ]
    },
    {
      "cell_type": "code",
      "metadata": {
        "id": "3w6JYzdTdm8l",
        "colab": {
          "base_uri": "https://localhost:8080/"
        },
        "outputId": "607dea02-b9f6-496e-c654-a3bd4e7a491f"
      },
      "source": [
        "import nltk\n",
        "nltk.download('stopwords')\n",
        "from nltk.corpus import stopwords\n",
        "stop = stopwords.words('english')\n",
        "data_after_removing_null_values['Cleaned Text'] = data_after_removing_null_values['Cleaned Text'].apply(lambda x: \" \".join(x for x in x.split() if x not in stop))"
      ],
      "execution_count": null,
      "outputs": [
        {
          "output_type": "stream",
          "text": [
            "[nltk_data] Downloading package stopwords to /root/nltk_data...\n",
            "[nltk_data]   Unzipping corpora/stopwords.zip.\n"
          ],
          "name": "stdout"
        },
        {
          "output_type": "stream",
          "text": [
            "/usr/local/lib/python3.7/dist-packages/ipykernel_launcher.py:5: SettingWithCopyWarning: \n",
            "A value is trying to be set on a copy of a slice from a DataFrame.\n",
            "Try using .loc[row_indexer,col_indexer] = value instead\n",
            "\n",
            "See the caveats in the documentation: https://pandas.pydata.org/pandas-docs/stable/user_guide/indexing.html#returning-a-view-versus-a-copy\n",
            "  \"\"\"\n"
          ],
          "name": "stderr"
        }
      ]
    },
    {
      "cell_type": "code",
      "metadata": {
        "id": "JKYVncDMyjGV"
      },
      "source": [
        "# Bag of words - K Means\n",
        "from sklearn.feature_extraction.text import CountVectorizer\n",
        "count_vect = CountVectorizer()\n",
        "bow = count_vect.fit_transform(data_after_removing_null_values['Cleaned Text'].values)"
      ],
      "execution_count": null,
      "outputs": []
    },
    {
      "cell_type": "code",
      "metadata": {
        "id": "ZvQD8-L-d80x"
      },
      "source": [
        "column_names = count_vect.get_feature_names()"
      ],
      "execution_count": null,
      "outputs": []
    },
    {
      "cell_type": "code",
      "metadata": {
        "id": "yy0XeR2Zd--6"
      },
      "source": [
        "from sklearn.cluster import KMeans\n",
        "model = KMeans(n_clusters = 10, init='k-means++', n_jobs = -1, random_state=99)\n",
        "model.fit(bow)"
      ],
      "execution_count": null,
      "outputs": []
    },
    {
      "cell_type": "code",
      "metadata": {
        "id": "4pV4If7AeBQx",
        "colab": {
          "base_uri": "https://localhost:8080/"
        },
        "outputId": "27a5c590-1581-495d-b15e-dbc6e3b390e8"
      },
      "source": [
        "labels = model.labels_\n",
        "cluster_center = model.cluster_centers_\n",
        "cluster_center"
      ],
      "execution_count": null,
      "outputs": [
        {
          "output_type": "execute_result",
          "data": {
            "text/plain": [
              "array([[8.18773016e-03, 8.03102719e-04, 1.37115098e-04, ...,\n",
              "        0.00000000e+00, 0.00000000e+00, 0.00000000e+00],\n",
              "       [1.04087870e-03, 8.47226845e-05, 3.63097219e-05, ...,\n",
              "        0.00000000e+00, 1.21032406e-05, 0.00000000e+00],\n",
              "       [0.00000000e+00, 1.00000000e+00, 0.00000000e+00, ...,\n",
              "        0.00000000e+00, 0.00000000e+00, 0.00000000e+00],\n",
              "       ...,\n",
              "       [1.11486486e-01, 1.04729730e-01, 0.00000000e+00, ...,\n",
              "        0.00000000e+00, 0.00000000e+00, 0.00000000e+00],\n",
              "       [3.29385844e-03, 1.87276232e-04, 1.10162490e-05, ...,\n",
              "        0.00000000e+00, 0.00000000e+00, 0.00000000e+00],\n",
              "       [1.69687621e-02, 4.82067104e-03, 0.00000000e+00, ...,\n",
              "        1.92826841e-04, 0.00000000e+00, 1.92826841e-04]])"
            ]
          },
          "metadata": {
            "tags": []
          },
          "execution_count": 23
        }
      ]
    },
    {
      "cell_type": "code",
      "metadata": {
        "id": "RwSD-B3peGBb",
        "colab": {
          "base_uri": "https://localhost:8080/"
        },
        "outputId": "5defc167-f979-4666-83f1-1adff3e9955a"
      },
      "source": [
        "from sklearn import metrics\n",
        "silhouette_score = metrics.silhouette_score(bow, labels, metric='euclidean')\n",
        "silhouette_score"
      ],
      "execution_count": null,
      "outputs": [
        {
          "output_type": "execute_result",
          "data": {
            "text/plain": [
              "0.0280529660600268"
            ]
          },
          "metadata": {
            "tags": []
          },
          "execution_count": 24
        }
      ]
    },
    {
      "cell_type": "code",
      "metadata": {
        "id": "5tM94BNjeQBL",
        "colab": {
          "base_uri": "https://localhost:8080/"
        },
        "outputId": "6e3c3814-1248-4f3a-e39d-d941cf0cfb30"
      },
      "source": [
        "df = data_after_removing_null_values\n",
        "df['Bow Clus Label'] = model.labels_\n",
        "df.groupby(['Bow Clus Label'])['Reviews'].count()"
      ],
      "execution_count": null,
      "outputs": [
        {
          "output_type": "stream",
          "text": [
            "/usr/local/lib/python3.7/dist-packages/ipykernel_launcher.py:2: SettingWithCopyWarning: \n",
            "A value is trying to be set on a copy of a slice from a DataFrame.\n",
            "Try using .loc[row_indexer,col_indexer] = value instead\n",
            "\n",
            "See the caveats in the documentation: https://pandas.pydata.org/pandas-docs/stable/user_guide/indexing.html#returning-a-view-versus-a-copy\n",
            "  \n"
          ],
          "name": "stderr"
        },
        {
          "output_type": "execute_result",
          "data": {
            "text/plain": [
              "Bow Clus Label\n",
              "0     51052\n",
              "1    165245\n",
              "2        28\n",
              "3        56\n",
              "4      4939\n",
              "5     15217\n",
              "6      1541\n",
              "7       296\n",
              "8     90775\n",
              "9      5186\n",
              "Name: Reviews, dtype: int64"
            ]
          },
          "metadata": {
            "tags": []
          },
          "execution_count": 25
        }
      ]
    },
    {
      "cell_type": "code",
      "metadata": {
        "id": "5aVzEwvdeS3G",
        "colab": {
          "base_uri": "https://localhost:8080/"
        },
        "outputId": "f0b10c01-11cb-4ceb-b47d-d5b725d3f7de"
      },
      "source": [
        "print(\"Top terms per cluster:\")\n",
        "order_centroids = model.cluster_centers_.argsort()[:, ::-1]\n",
        "terms = count_vect.get_feature_names()\n",
        "for i in range(10):\n",
        "    print(\"Cluster %d:\" % i, end='')\n",
        "    for ind in order_centroids[i, :10]:\n",
        "        print(' %s' % terms[ind], end='')\n",
        "        print()"
      ],
      "execution_count": null,
      "outputs": [
        {
          "output_type": "stream",
          "text": [
            "Top terms per cluster:\n",
            "Cluster 0: phone\n",
            " great\n",
            " good\n",
            " one\n",
            " screen\n",
            " like\n",
            " use\n",
            " battery\n",
            " would\n",
            " new\n",
            "Cluster 1: good\n",
            " great\n",
            " product\n",
            " works\n",
            " excellent\n",
            " love\n",
            " one\n",
            " like\n",
            " work\n",
            " new\n",
            "Cluster 2: apple\n",
            " iphone\n",
            " android\n",
            " samsung\n",
            " even\n",
            " know\n",
            " phones\n",
            " also\n",
            " year\n",
            " one\n",
            "Cluster 3: phone\n",
            " screen\n",
            " battery\n",
            " use\n",
            " one\n",
            " also\n",
            " apps\n",
            " camera\n",
            " android\n",
            " like\n",
            "Cluster 4: phone\n",
            " one\n",
            " use\n",
            " like\n",
            " would\n",
            " battery\n",
            " screen\n",
            " get\n",
            " great\n",
            " good\n",
            "Cluster 5: phone\n",
            " great\n",
            " one\n",
            " would\n",
            " use\n",
            " good\n",
            " get\n",
            " like\n",
            " new\n",
            " screen\n",
            "Cluster 6: phone\n",
            " screen\n",
            " one\n",
            " like\n",
            " use\n",
            " get\n",
            " battery\n",
            " good\n",
            " camera\n",
            " would\n",
            "Cluster 7: phone\n",
            " screen\n",
            " battery\n",
            " one\n",
            " like\n",
            " use\n",
            " get\n",
            " good\n",
            " camera\n",
            " would\n",
            "Cluster 8: phone\n",
            " great\n",
            " good\n",
            " love\n",
            " works\n",
            " one\n",
            " like\n",
            " price\n",
            " battery\n",
            " use\n",
            "Cluster 9: phone\n",
            " screen\n",
            " battery\n",
            " like\n",
            " good\n",
            " use\n",
            " one\n",
            " camera\n",
            " great\n",
            " get\n"
          ],
          "name": "stdout"
        }
      ]
    },
    {
      "cell_type": "code",
      "metadata": {
        "id": "pzCOpEfFeW1r",
        "colab": {
          "base_uri": "https://localhost:8080/",
          "height": 295
        },
        "outputId": "ae995328-16a7-49c2-b57d-4ef06be10a75"
      },
      "source": [
        "import matplotlib.pyplot as plt\n",
        "plt.bar([x for x in range(10)], df.groupby(['Bow Clus Label'])['Reviews'].count(), alpha = 0.4)\n",
        "plt.title('KMeans cluster points')\n",
        "plt.xlabel(\"Cluster number\")\n",
        "plt.ylabel(\"Number of points\")\n",
        "plt.show()"
      ],
      "execution_count": null,
      "outputs": [
        {
          "output_type": "display_data",
          "data": {
            "image/png": "[encoded data removed]",
            "text/plain": [
              "<Figure size 432x288 with 1 Axes>"
            ]
          },
          "metadata": {
            "tags": [],
            "needs_background": "light"
          }
        }
      ]
    },
    {
      "cell_type": "code",
      "metadata": {
        "id": "YKjec9wYZ5ll"
      },
      "source": [
        "#K Means using Average of Words to Vector analysis\n",
        "list_of_sentences = []\n",
        "for sentence in data_after_removing_null_values['Cleaned Text'].values:\n",
        "    list_of_sentences.append(sentence.split())"
      ],
      "execution_count": null,
      "outputs": []
    },
    {
      "cell_type": "code",
      "metadata": {
        "id": "au0ex3rPetmb"
      },
      "source": [
        "import gensim\n",
        "w2v_model=gensim.models.Word2Vec(list_of_sentences,size=100, workers=4)"
      ],
      "execution_count": null,
      "outputs": []
    },
    {
      "cell_type": "code",
      "metadata": {
        "id": "aY8OAywMevju",
        "colab": {
          "base_uri": "https://localhost:8080/"
        },
        "outputId": "6a71026e-d7e1-4266-b232-45bcab2a5c8c"
      },
      "source": [
        "import numpy as np\n",
        "sent_vectors = []\n",
        "for sent in list_of_sentences:\n",
        "  sent_vec = np.zeros(100)\n",
        "  cnt_words = 0\n",
        "  for word in sent:\n",
        "    try:\n",
        "      vec = w2v_model.wv[word]\n",
        "      sent_vec += vec\n",
        "      cnt_words += 1\n",
        "    except:\n",
        "      pass\n",
        "  sent_vec /= cnt_words\n",
        "  sent_vectors.append(sent_vec)\n",
        "sent_vectors = np.array(sent_vectors)\n",
        "sent_vectors = np.nan_to_num(sent_vectors)\n",
        "sent_vectors.shape"
      ],
      "execution_count": null,
      "outputs": [
        {
          "output_type": "stream",
          "text": [
            "/usr/local/lib/python3.7/dist-packages/ipykernel_launcher.py:13: RuntimeWarning: invalid value encountered in true_divide\n",
            "  del sys.path[0]\n"
          ],
          "name": "stderr"
        },
        {
          "output_type": "execute_result",
          "data": {
            "text/plain": [
              "(334335, 100)"
            ]
          },
          "metadata": {
            "tags": []
          },
          "execution_count": 30
        }
      ]
    },
    {
      "cell_type": "code",
      "metadata": {
        "id": "b_oRxq6Oexet",
        "colab": {
          "base_uri": "https://localhost:8080/"
        },
        "outputId": "29fc419f-290e-4995-8518-48ef9fbadd1e"
      },
      "source": [
        "num_clus = [x for x in range(3,11)]\n",
        "num_clus"
      ],
      "execution_count": null,
      "outputs": [
        {
          "output_type": "execute_result",
          "data": {
            "text/plain": [
              "[3, 4, 5, 6, 7, 8, 9, 10]"
            ]
          },
          "metadata": {
            "tags": []
          },
          "execution_count": 31
        }
      ]
    },
    {
      "cell_type": "code",
      "metadata": {
        "id": "qz-zmMWsezxn",
        "colab": {
          "base_uri": "https://localhost:8080/",
          "height": 295
        },
        "outputId": "a5fc3158-eb41-4094-949f-4bb06721674b"
      },
      "source": [
        "squared_errors = []\n",
        "for cluster in num_clus:\n",
        "    kmeans = KMeans(n_clusters = cluster).fit(sent_vectors)\n",
        "    squared_errors.append(kmeans.inertia_)\n",
        "    \n",
        "optimal_clusters = np.argmin(squared_errors) + 2 \n",
        "plt.plot(num_clus, squared_errors)\n",
        "plt.title(\"Elbow Curve to find the no. of clusters.\")\n",
        "plt.xlabel(\"Number of clusters.\")\n",
        "plt.ylabel(\"Squared Loss.\")\n",
        "xy = (optimal_clusters, min(squared_errors))\n",
        "plt.annotate('(%s, %s)' % xy, xy = xy, textcoords='data')\n",
        "plt.show()"
      ],
      "execution_count": null,
      "outputs": [
        {
          "output_type": "display_data",
          "data": {
            "image/png": "[encoded data removed]",
            "text/plain": [
              "<Figure size 432x288 with 1 Axes>"
            ]
          },
          "metadata": {
            "tags": [],
            "needs_background": "light"
          }
        }
      ]
    },
    {
      "cell_type": "code",
      "metadata": {
        "id": "mRcy6PO3e2z0",
        "colab": {
          "base_uri": "https://localhost:8080/"
        },
        "outputId": "3ae4a47d-4cbb-475d-dbce-32c696dce40d"
      },
      "source": [
        "\n",
        "print (\"No of clusters - \", optimal_clusters)\n",
        "print (\"The loss for cluster - \", min(squared_errors))"
      ],
      "execution_count": null,
      "outputs": [
        {
          "output_type": "stream",
          "text": [
            "No of clusters -  9\n",
            "The loss for cluster -  8929332.402752552\n"
          ],
          "name": "stdout"
        }
      ]
    },
    {
      "cell_type": "code",
      "metadata": {
        "id": "3NebrJjQe-EC",
        "colab": {
          "base_uri": "https://localhost:8080/"
        },
        "outputId": "ceed68e7-1ea3-4bad-b912-c2761ddcc00b"
      },
      "source": [
        "from sklearn.cluster import KMeans\n",
        "model2 = KMeans(n_clusters = optimal_clusters)\n",
        "model2.fit(sent_vectors)"
      ],
      "execution_count": null,
      "outputs": [
        {
          "output_type": "execute_result",
          "data": {
            "text/plain": [
              "KMeans(algorithm='auto', copy_x=True, init='k-means++', max_iter=300,\n",
              "       n_clusters=9, n_init=10, n_jobs=None, precompute_distances='auto',\n",
              "       random_state=None, tol=0.0001, verbose=0)"
            ]
          },
          "metadata": {
            "tags": []
          },
          "execution_count": 34
        }
      ]
    },
    {
      "cell_type": "code",
      "metadata": {
        "id": "2Hn45GCcei3k",
        "colab": {
          "base_uri": "https://localhost:8080/"
        },
        "outputId": "11ab70f8-e589-4c1c-a341-3a046a7ef2ed"
      },
      "source": [
        "word_cluster_pred = model2.predict(sent_vectors)\n",
        "word_cluster_pred_2 = model2.labels_\n",
        "word_cluster_center = model2.cluster_centers_\n",
        "word_cluster_center[1:2]"
      ],
      "execution_count": null,
      "outputs": [
        {
          "output_type": "execute_result",
          "data": {
            "text/plain": [
              "array([[-0.16820925, -0.90793449, -0.61149361, -0.18464765, -0.39984576,\n",
              "         0.29462532, -0.17866402,  0.07001735, -0.42818375, -0.16052607,\n",
              "         0.42476592,  0.34521397, -0.18419926,  0.00128981, -0.14183734,\n",
              "         0.16307869, -0.11800796, -0.6156297 ,  0.22191285, -0.16367937,\n",
              "         0.09679506, -0.14036884, -0.06967093, -0.49853858, -0.63063842,\n",
              "         0.48035292, -0.15917177,  0.18760166,  0.36616448,  0.14260393,\n",
              "         0.267505  ,  0.18769864, -0.01679681, -0.08330452,  0.02600972,\n",
              "         0.42983827,  0.08900368, -0.30960198,  0.37152327, -0.0128089 ,\n",
              "         0.00643326,  0.35437856,  0.58245666, -0.47621274,  0.25428874,\n",
              "         0.20299991, -0.01900208, -0.00468615, -0.12466702,  0.57819047,\n",
              "         0.17607329, -0.44797177, -0.07348776, -0.75070319, -0.40476478,\n",
              "         0.280265  ,  0.10601838, -0.23030104, -0.59940186, -0.15909017,\n",
              "         0.2321809 , -0.29418347, -0.36982741,  0.00304478, -0.00511044,\n",
              "         0.10455966, -0.65743893, -0.32272695,  0.12661197,  0.13704879,\n",
              "         0.38650586,  0.42318892, -0.84315186,  0.20402829, -0.41408265,\n",
              "         0.26399186, -0.33102965,  0.14883865, -0.43465305, -0.27138137,\n",
              "         0.34599322,  0.05516746, -0.18615666, -0.34147076, -0.04449651,\n",
              "         0.12617681, -0.00383173,  0.23002965, -0.63345413, -0.13483637,\n",
              "        -0.18019002, -0.09719538,  0.37950103,  0.35604539, -0.0884101 ,\n",
              "        -0.11622066,  0.1489248 ,  0.29766126,  0.27917266,  0.37161061]])"
            ]
          },
          "metadata": {
            "tags": []
          },
          "execution_count": 35
        }
      ]
    },
    {
      "cell_type": "code",
      "metadata": {
        "id": "M-GrtUjMfBYN"
      },
      "source": [
        "for i in range(4):\n",
        "    print(\"A review of assigned to cluster \", i)\n",
        "    print(\"-\" * 70)\n",
        "    print(df.iloc[df.groupby(['AVG-W2V Clus Label']).groups[i][0]]['Reviews'])\n",
        "    print('\\n')\n",
        "    print(df.iloc[df.groupby(['AVG-W2V Clus Label']).groups[i][1]]['Reviews'])\n",
        "    print('\\n')\n",
        "    print(\"_\" * 70)"
      ],
      "execution_count": null,
      "outputs": []
    },
    {
      "cell_type": "code",
      "metadata": {
        "id": "RJiNSYNSfEGc"
      },
      "source": [
        "# DB SCAN clustering\n",
        "from sklearn.cluster import DBSCAN\n",
        "minPts = 2 * 100\n",
        "def lower_bound(nums, target):\n",
        "    l, r = 0, len(nums) - 1\n",
        "    while l <= r:\n",
        "        mid = int(l + (r - l) / 2)\n",
        "        if nums[mid] >= target:\n",
        "            r = mid - 1\n",
        "        else:\n",
        "            l = mid + 1\n",
        "    return l\n",
        "\n",
        "def compute200thnearestneighbour(x, data):\n",
        "    dists = []\n",
        "    for val in data:\n",
        "        dist = np.sum((x - val) **2 )\n",
        "        if(len(dists) == 200 and dists[199] > dist):\n",
        "            l = int(lower_bound(dists, dist))\n",
        "            if l < 200 and l >= 0 and dists[l] > dist:\n",
        "                dists[l] = dist\n",
        "        else:\n",
        "            dists.append(dist)\n",
        "            dists.sort()\n",
        "    \n",
        "    return dists[199]"
      ],
      "execution_count": null,
      "outputs": []
    },
    {
      "cell_type": "code",
      "metadata": {
        "id": "hsXvSNj3fL0a"
      },
      "source": [
        "twohundrethneigh = []\n",
        "for val in sent_vectors[:1500]:\n",
        "    twohundrethneigh.append( compute200thnearestneighbour(val, sent_vectors[:1500]) )\n",
        "twohundrethneigh.sort()"
      ],
      "execution_count": null,
      "outputs": []
    },
    {
      "cell_type": "code",
      "metadata": {
        "id": "3j8bbFj4fgRm",
        "colab": {
          "base_uri": "https://localhost:8080/",
          "height": 315
        },
        "outputId": "461f1904-c873-442b-9f0d-8735f89bdaa6"
      },
      "source": [
        "plt.figure(figsize=(14,4))\n",
        "plt.title(\"Elbow Method for Finding the right Eps hyperparameter\")\n",
        "plt.plot([x for x in range(len(twohundrethneigh))], twohundrethneigh)\n",
        "plt.xlabel(\"Number of points\")\n",
        "plt.ylabel(\"Distance of 200th Nearest Neighbour\")\n",
        "plt.show()"
      ],
      "execution_count": null,
      "outputs": [
        {
          "output_type": "display_data",
          "data": {
            "image/png": "[encoded data removed]",
            "text/plain": [
              "<Figure size 1008x288 with 1 Axes>"
            ]
          },
          "metadata": {
            "tags": [],
            "needs_background": "light"
          }
        }
      ]
    },
    {
      "cell_type": "code",
      "metadata": {
        "id": "RHMnXBrkftWi"
      },
      "source": [
        "model = DBSCAN(eps = 5, min_samples = minPts, n_jobs=-1)\n",
        "model.fit(sent_vectors)"
      ],
      "execution_count": null,
      "outputs": []
    },
    {
      "cell_type": "markdown",
      "metadata": {
        "id": "gTBdFT_RP79O"
      },
      "source": [
        "DBSCAN(algorithm='auto', eps=5, leaf_size=30, metric='euclidean',\n",
        "       metric_params=None, min_samples=200, n_jobs=-1, p=None)"
      ]
    },
    {
      "cell_type": "code",
      "metadata": {
        "id": "k-Fwdb9DfxbY"
      },
      "source": [
        "dbscandf = df\n",
        "dbscandf['AVG-W2V Clus Label'] = model.labels_\n",
        "dbscandf.groupby(['AVG-W2V Clus Label'])['Product Name', 'Brand Name', 'Reviews'].count()"
      ],
      "execution_count": null,
      "outputs": []
    },
    {
      "cell_type": "code",
      "metadata": {
        "id": "ZjytNZ2ffiw4"
      },
      "source": [
        "import scipy\n",
        "from scipy.cluster import hierarchy\n",
        "dendro=hierarchy.dendrogram(hierarchy.linkage(sent_vectors, method='ward'))\n",
        "plt.axhline(y=35)"
      ],
      "execution_count": null,
      "outputs": []
    },
    {
      "cell_type": "markdown",
      "metadata": {
        "id": "v_xL5aLjQJHW"
      },
      "source": [
        "![image.png](data:image/png;base64,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)"
      ]
    },
    {
      "cell_type": "code",
      "metadata": {
        "id": "-NSILRJwf1m6"
      },
      "source": [
        "from sklearn.cluster import AgglomerativeClustering\n",
        "\n",
        "cluster = AgglomerativeClustering(n_clusters=5, affinity='euclidean', linkage='ward')\n",
        "Agg=cluster.fit_predict(sent_vectors)"
      ],
      "execution_count": null,
      "outputs": []
    },
    {
      "cell_type": "code",
      "metadata": {
        "id": "czcY_EFVf4EK"
      },
      "source": [
        "hcdf = dbscandf\n",
        "hcdf['AVG-W2V Clus Label'] = cluster.labels_"
      ],
      "execution_count": null,
      "outputs": []
    },
    {
      "cell_type": "code",
      "metadata": {
        "id": "Dc0RlAu00MDW"
      },
      "source": [
        "hcdf.groupby(['AVG-W2V Clus Label'])['Reviews'].count()"
      ],
      "execution_count": null,
      "outputs": []
    },
    {
      "cell_type": "code",
      "metadata": {
        "id": "MHHGt60Bf7yS"
      },
      "source": [
        "for i in range(5):\n",
        "    print(\"2 reviews of assigned to cluster \", i)\n",
        "    print(\"-\" * 70)\n",
        "    print(aggdfa.iloc[aggdfa.groupby(['AVG-W2V Clus Label']).groups[i][0]]['Reviews'])\n",
        "    print('\\n')\n",
        "    print(aggdfa.iloc[aggdfa.groupby(['AVG-W2V Clus Label']).groups[i][1]]['Reviews'])\n",
        "    print('\\n')\n",
        "    print(\"_\" * 70)"
      ],
      "execution_count": null,
      "outputs": []
    },
    {
      "cell_type": "markdown",
      "metadata": {
        "id": "06_f18QIQe_-"
      },
      "source": [
        "2 reviews of assigned to cluster  0\n",
        "----------------------------------------------------------------------\n",
        "Very pleased\n",
        "\n",
        "\n",
        "The charging port was loose. I got that soldered in. Then needed a new battery as well. $100 later (not including cost of purchase) I have a usable phone. The phone should not have been sold in the state it was in.\n",
        "\n",
        "\n",
        "______________________________________________________________________\n",
        "2 reviews of assigned to cluster  1\n",
        "----------------------------------------------------------------------\n",
        "It works good but it goes slow sometimes but its a very good phone I love it\n",
        "\n",
        "\n",
        "Phone good just a little slow phone old but it's a great phone temporary right now. thank you for the great deal\n",
        "\n",
        "\n",
        "______________________________________________________________________\n",
        "2 reviews of assigned to cluster  2\n",
        "----------------------------------------------------------------------\n",
        "Great phone to replace my lost phone. The only thing is the volume up button does not work, but I can still go into settings to adjust. Other than that, it does the job until I am eligible to upgrade my phone again.Thaanks!\n",
        "\n",
        "\n",
        "It's battery life is great. It's very responsive to touch. The only issue is that sometimes the screen goes black and you have to press the top button several times to get the screen to re-illuminate.\n",
        "\n",
        "\n",
        "______________________________________________________________________\n",
        "2 reviews of assigned to cluster  3\n",
        "----------------------------------------------------------------------\n",
        "excelente\n",
        "\n",
        "\n",
        "excelente\n",
        "\n",
        "\n",
        "______________________________________________________________________\n",
        "2 reviews of assigned to cluster  4\n",
        "----------------------------------------------------------------------\n",
        "I feel so LUCKY to have found this used (phone to us & not used hard at all), phone on line from someone who upgraded and sold this one. My Son liked his old one that finally fell apart after 2.5+ years and didn't want an upgrade!! Thank you Seller, we really appreciate it & your honesty re: said used phone.I recommend this seller very highly & would but from them again!!\n",
        "\n",
        "\n",
        "nice phone, nice up grade from my pantach revue. Very clean set up and easy set up. never had an android phone but they are fantastic to say the least. perfect size for surfing and social media. great phone samsung\n",
        "\n",
        "\n",
        "______________________________________________________________________\n",
        "In one paragraph, please compare K means, DBSCAN and Hierarchical clustering.\n",
        "Using K Means we can easily classify the clusters into groups and also we can find the optimum number of clusters and train the KMeans model using the optimum number of clusters which gives us best model to classify the Reviews. Second best model is Hierarchical clustering, but it will be very difficult to classify the clusters using Hierarchical clustering. DBScan classifed all the reviews into single cluster which is not best fit."
      ]
    }
  ]
}