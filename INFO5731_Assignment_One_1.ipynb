{
  "nbformat": 4,
  "nbformat_minor": 0,
  "metadata": {
    "colab": {
      "name": "INFO5731_Assignment_One-1.ipynb",
      "provenance": [],
      "collapsed_sections": [],
      "toc_visible": true,
      "include_colab_link": true
    },
    "kernelspec": {
      "display_name": "Python 3",
      "language": "python",
      "name": "python3"
    },
    "language_info": {
      "codemirror_mode": {
        "name": "ipython",
        "version": 3
      },
      "file_extension": ".py",
      "mimetype": "text/x-python",
      "name": "python",
      "nbconvert_exporter": "python",
      "pygments_lexer": "ipython3",
      "version": "3.7.4"
    }
  },
  "cells": [
    {
      "cell_type": "markdown",
      "metadata": {
        "id": "view-in-github",
        "colab_type": "text"
      },
      "source": [
        "<a href=\"https://colab.research.google.com/github/Nagmashaik123/Nagma_INFO5731_Spring2021/blob/main/INFO5731_Assignment_One_1.ipynb\" target=\"_parent\"><img src=\"https://colab.research.google.com/assets/colab-badge.svg\" alt=\"Open In Colab\"/></a>"
      ]
    },
    {
      "cell_type": "markdown",
      "metadata": {
        "id": "Ryk8D1Q4Wsrp"
      },
      "source": [
        "# **INFO5731 Assignment One**"
      ]
    },
    {
      "cell_type": "markdown",
      "metadata": {
        "id": "90_NR8c5XGWc"
      },
      "source": [
        "# Question 1\n",
        "\n",
        "(20 points). Write a Python program to generate 12 random numbers between 1 and 100. Sort the list of numbers in ascending order and print it out. Sort the list of numbers in descending order and print it out. Calculate the average for the group and print it out."
      ]
    },
    {
      "cell_type": "code",
      "metadata": {
        "id": "5QX6bJjGWXY9",
        "colab": {
          "base_uri": "https://localhost:8080/"
        },
        "outputId": "38d574ce-f738-49b4-8c09-2655e2ff2ca2"
      },
      "source": [
        "import random\n",
        "import numpy as np\n",
        "from numpy import mean\n",
        "\n",
        "# Initializes the random generator\n",
        "np.random.seed(52)\n",
        "\n",
        "#created a empty list so that i can append all generated random numbers to this list\n",
        "random_list=[]\n",
        "\n",
        "# Iterate through to generate the 12 numbers betweem 1 and 100\n",
        "for item in range(1,13):\n",
        "  x=random.randint(1,100)\n",
        "  random_list.append(x)\n",
        "\n",
        "print(\"Generating Random Numbers between 1 and 100:\\n\", random_list)\n",
        "print(\"\\n\")\n",
        "\n",
        "# Ascending order\n",
        "a=sorted(random_list)\n",
        "print(\"Ascending Order:\\n\", a)\n",
        "print(\"\\n\")\n",
        "\n",
        "#Descending order\n",
        "b=sorted(random_list, reverse=True)\n",
        "print(\"Descending Order:\\n\" , b)\n",
        "print(\"\\n\")\n",
        "\n",
        "print(\"The average of the group is:\", round(mean(random_list),2))\n"
      ],
      "execution_count": 4,
      "outputs": [
        {
          "output_type": "stream",
          "text": [
            "Generating Random Numbers between 1 and 100:\n",
            " [82, 91, 77, 70, 60, 92, 28, 90, 84, 55, 7, 26]\n",
            "\n",
            "\n",
            "Ascending Order:\n",
            " [7, 26, 28, 55, 60, 70, 77, 82, 84, 90, 91, 92]\n",
            "\n",
            "\n",
            "Descending Order:\n",
            " [92, 91, 90, 84, 82, 77, 70, 60, 55, 28, 26, 7]\n",
            "\n",
            "\n",
            "The average of the group is: 63.5\n"
          ],
          "name": "stdout"
        }
      ]
    },
    {
      "cell_type": "markdown",
      "metadata": {
        "id": "1F_PZdH9Sh49"
      },
      "source": [
        "# Question 2\n",
        "(25 points). Write a program that will do the following string formatting tasks:\n",
        "\n",
        "(1) Ask the user to enter two sentences.\n",
        "\n",
        "(2) Make each sentence into a list. Each element in the list should correspond to a word in the sentence. For example, if the sentence is \"Alas! Am I alive? This is my first python program\", the program should print out ['Alas, '!', 'Am', 'I', 'alive, '?', 'This', 'is', 'my', 'first', 'python', 'program'].\n",
        "\n",
        "(3) Compare the two sentences. Print out a list of words that occur in both sentences.\n",
        "\n",
        "(4) Remove any punctuation from the sentence and print it back out. It should remove at least the following characters, but it can remove more: period(“.”), comma (“,”), semicolon (“;”), and colon (“:”)\n",
        "\n",
        "(5) Count the number of vowels in the sentences. Print out each vowel and the number of times it appears in the sentences, such as: a:2, e:1, i:0, etc"
      ]
    },
    {
      "cell_type": "code",
      "metadata": {
        "id": "Y0oOSlsOS0cq",
        "colab": {
          "base_uri": "https://localhost:8080/"
        },
        "outputId": "b25ff000-abe5-4717-cb29-0ad6c9df38a5"
      },
      "source": [
        "# Questions 2.1 and 2.2\n",
        "import re\n",
        "\n",
        "# Letting user input their statements\n",
        "sentence1=input(\"Please enter the first sentence:\\n \")\n",
        "sentence2=input(\"Please enter the second sentence:\\n \")\n",
        "\n",
        "# Regular expression to break the user entered statements to identify each character\n",
        "reg_exp = r\"[0-9a-zA-Z_]+|\\$[\\d\\.]+|\\S+\"\n",
        "statement1= re.findall(reg_exp,sentence1)\n",
        "statement2= re.findall(reg_exp,sentence2)\n",
        "list=statement1+statement2\n",
        "print(\"The final list of elements :  \",  list)\n",
        "\n"
      ],
      "execution_count": 16,
      "outputs": [
        {
          "output_type": "stream",
          "text": [
            "Please enter the first sentence:\n",
            " Oh! I love python\n",
            "Please enter the second sentence:\n",
            " This is my first python program\n",
            "The final list of elements :   ['Oh', '!', 'I', 'love', 'python', 'This', 'is', 'my', 'first', 'python', 'program']\n"
          ],
          "name": "stdout"
        }
      ]
    },
    {
      "cell_type": "code",
      "metadata": {
        "colab": {
          "base_uri": "https://localhost:8080/"
        },
        "id": "YxztWdSs2zXT",
        "outputId": "e883eaa1-c0f7-4bf6-92da-58d0e71fcf0f"
      },
      "source": [
        "# Questions 2.3 \n",
        "# Comparing 2 sentences \n",
        "print()\n",
        "for char1 in statement1:\n",
        "  for char2 in statement2:\n",
        "    if char1==char2:\n",
        "      print(\"The list of words that occur in both sentences are : \", char1)\n",
        "\n",
        "# Question 2.4\n",
        "# working with punctuations\n",
        "punctuations=[':',';',',','.','!','$','@','#','%']\n",
        "final_statment=\"\"\n",
        "for item in list:\n",
        "  if item not in punctuations:\n",
        "    final_statment=final_statment + item\n",
        "\n",
        "print(\"Printing final statement with out punctuation : \" , final_statment)\n",
        "\n",
        "# Question 2.5\n",
        "# Counting vowels\n",
        "vowels_count = {}\n",
        "statment = sentence1.lower()+ sentence2.lower()\n",
        "\n",
        "for item in \"aeiou\":\n",
        "  vowels_count[item]=statment.count(item)\n",
        "\n",
        "print(\"The number of times vowel appears in each sentences:\")\n",
        "vowels_count"
      ],
      "execution_count": 60,
      "outputs": [
        {
          "output_type": "stream",
          "text": [
            "\n",
            "The list of words that occur in both sentences are :  python\n",
            "Printing final statement with out punctuation :  OhIlovepythonThisismyfirstpythonprogram\n",
            "The number of times vowel appears in each sentences:\n"
          ],
          "name": "stdout"
        },
        {
          "output_type": "execute_result",
          "data": {
            "text/plain": [
              "{'a': 1, 'e': 1, 'i': 4, 'o': 5, 'u': 0}"
            ]
          },
          "metadata": {
            "tags": []
          },
          "execution_count": 60
        }
      ]
    },
    {
      "cell_type": "markdown",
      "metadata": {
        "id": "CmFoI4jDS9nx"
      },
      "source": [
        "# Question 3 \n",
        "\n",
        "(15 points). The formula that describes the volume V of a sphere with radius r is the following:\n",
        "\n",
        "$ V=\\frac{4}{3}\\ast\\ \\pi\\ast\\ r^3 $\n",
        "\n",
        "Write a program to calculate the value of V when r is in the range of 1–10. Output the result in the following format:\n",
        "\n",
        "\tr\tV\n",
        "\t1\t…\n",
        "\t2\t…\n",
        "\t3\t…\n"
      ]
    },
    {
      "cell_type": "code",
      "metadata": {
        "id": "pEyqeioAT95b",
        "colab": {
          "base_uri": "https://localhost:8080/"
        },
        "outputId": "62f5979d-3734-4b66-9ed7-562ece46bb59"
      },
      "source": [
        "# Mathematical Computation\n",
        "\n",
        "from math import pi\n",
        "print(\"Printing radius and volume : \" )\n",
        "# Iterating loop through radius values range(1 - 10)\n",
        "for radius in range(1,11):\n",
        "  Volum =(4/3)* pi * radius**3\n",
        "  print(radius,\" - \",Volum)\n"
      ],
      "execution_count": 31,
      "outputs": [
        {
          "output_type": "stream",
          "text": [
            "Printing radius and volume : \n",
            "1  -  4.1887902047863905\n",
            "2  -  33.510321638291124\n",
            "3  -  113.09733552923254\n",
            "4  -  268.082573106329\n",
            "5  -  523.5987755982989\n",
            "6  -  904.7786842338603\n",
            "7  -  1436.7550402417319\n",
            "8  -  2144.660584850632\n",
            "9  -  3053.6280592892786\n",
            "10  -  4188.790204786391\n"
          ],
          "name": "stdout"
        }
      ]
    },
    {
      "cell_type": "code",
      "metadata": {
        "id": "pMCr3l8tnu0j"
      },
      "source": [
        ""
      ],
      "execution_count": null,
      "outputs": []
    },
    {
      "cell_type": "markdown",
      "metadata": {
        "id": "z3tBE7E-Xn5X"
      },
      "source": [
        "# Question 4\n",
        "\n",
        "(40 points). In the field of Data Science, data is often formatted as a comma-delimited (CSV) file, where each line in a file corresponds to a field's value. Refer to Chapter 9 (p. 106) for more information on comma-delimited files. To answer this question, you will need to download the file [Assignment1_denton_housing.csv](https://github.com/unt-iialab/info5731_spring2021/blob/main/assignment/Assignment1_denton_housing.csv) included with this assignment. The file [Assignment1_denton_housing.csv](https://github.com/unt-iialab/info5731_spring2021/blob/main/assignment/Assignment1_denton_housing.csv) contains statistics about housing in the city of Denton from 2008 to 2014. Write a program to implement the following questions.\n",
        "\n",
        "(1) (10 pts) Calculate the difference in the number of Occupied Housing Units from year to year and print it. The difference must be calculated for the consecutive years such as 2008-2009, 2009-2010 etc. Finally, print the values in the ascending order.\n",
        "\n",
        "(2) (10 pts) For all the years, calculate the percentage of housing units which are vacant an occupied. Print the results in the following format:\n",
        "\n",
        "Year Vacant Housing Units Occupied Housing Units\n",
        "\n",
        "    2008  30%   70%                          \n",
        "\t2009 ----- -----\n",
        "\t2010 ----- -----\n",
        "    2011 ----- -----\n",
        "\t2012 ----- -----\n",
        "    2013 ----- -----\n",
        "\t2014 ----- -----\n",
        "  \n",
        "  \n",
        "\n",
        "(3) (10 pts) Calculate and print the valued and years in which the highest number of housing units were vacant and occupied. Print the results in the following format:  \n",
        "\n",
        "                              Year\tValue\n",
        "\tVacant Housing Units\t  -----   -----\n",
        "\tOccupied Housing Units\t-----   -----\n",
        "\n",
        "(4) (10 pts) Calculate the harmonic mean of the total housing units and print it out. You can find the information about harmonic mean here: https://ncalculators.com/statistics/harmonic-mean-calculator.htm"
      ]
    },
    {
      "cell_type": "code",
      "metadata": {
        "id": "lqGYuHBhcsRH",
        "colab": {
          "base_uri": "https://localhost:8080/"
        },
        "outputId": "2be4ff76-8195-4d34-f5ac-85a3b14332c8"
      },
      "source": [
        "# Calculation of difference in the number of Occupied Housing Units\n",
        "import pandas as pd\n",
        "\n",
        "# reading the csv file as data frame\n",
        "dataFrame=pd.read_csv(\"/content/sample_data/denton_housing.csv\",index_col=\"year\")\n",
        "print(dataFrame)\n",
        "\n",
        "\n"
      ],
      "execution_count": 72,
      "outputs": [
        {
          "output_type": "stream",
          "text": [
            "                 title_field  value\n",
            "year                               \n",
            "2014     Total Housing Units  49109\n",
            "2014    Vacant Housing Units   2814\n",
            "2014  Occupied Housing Units  46295\n",
            "2013     Total Housing Units  47888\n",
            "2013    Vacant Housing Units   4215\n",
            "2013  Occupied Housing Units  43673\n",
            "2012     Total Housing Units  45121\n",
            "2012    Vacant Housing Units   3013\n",
            "2012  Occupied Housing Units  42108\n",
            "2011     Total Housing Units  44917\n",
            "2011    Vacant Housing Units   4213\n",
            "2011  Occupied Housing Units  40704\n",
            "2010     Total Housing Units  44642\n",
            "2010    Vacant Housing Units   3635\n",
            "2010  Occupied Housing Units  41007\n",
            "2009     Total Housing Units  39499\n",
            "2009    Vacant Housing Units   3583\n",
            "2009  Occupied Housing Units  35916\n",
            "2008     Total Housing Units  41194\n",
            "2008    Vacant Housing Units   4483\n",
            "2008  Occupied Housing Units  36711\n",
            "2014          Owner Occupied  21427\n",
            "2014         Renter Occupied  24868\n",
            "2013          Owner Occupied  20845\n",
            "2013         Renter Occupied  22828\n",
            "2012          Owner Occupied  20068\n",
            "2012         Renter Occupied  22040\n",
            "2011          Owner Occupied  18478\n",
            "2011         Renter Occupied  22226\n",
            "2010          Owner Occupied  18867\n",
            "2010         Renter Occupied  22140\n",
            "2009          Owner Occupied  18057\n",
            "2009         Renter Occupied  17859\n",
            "2008          Owner Occupied  17340\n",
            "2008         Renter Occupied  19371\n",
            "2014       Median Gross Rent    905\n",
            "2013       Median Gross Rent    887\n",
            "2012       Median Gross Rent    842\n",
            "2011       Median Gross Rent    821\n",
            "2010       Median Gross Rent    780\n",
            "2009       Median Gross Rent    769\n",
            "2008       Median Gross Rent    768\n"
          ],
          "name": "stdout"
        }
      ]
    },
    {
      "cell_type": "code",
      "metadata": {
        "colab": {
          "base_uri": "https://localhost:8080/"
        },
        "id": "ojEay7INXUN0",
        "outputId": "b00aec4a-868a-4e25-8a71-930baf490c0c"
      },
      "source": [
        "# Program to calculate the difference in the number of Occupied Housing Units from year to year and print it\n",
        "# Question 4.1\n",
        "# organising data declaring the index\n",
        "dataFrame.sort_index(axis=0,ascending=True,inplace=True)\n",
        "dataFrame_sort=dataFrame[dataFrame.title_field==\"Occupied Housing Units\"].sort_index(axis=0,ascending=True)\n",
        "dataFrame_to_sort=dataFrame_sort.reset_index()\n",
        "\n",
        "data_Frame=dataFrame_to_sort[[\"year\",\"value\"]].values\n",
        "\n",
        "list_new=[]\n",
        "# Iterating the data frame and append to new list by difference between 2 rows\n",
        "for item in range(len(data_Frame)-1):\n",
        "  list_new.append(data_Frame[item+1][1]-data_Frame[item][1])\n",
        "list_new\n",
        "\n",
        "# Printing values depicting the consecutive years\n",
        "print(\"Consecutive years \\t Difference value\")\n",
        "for item in range(2008,2014):\n",
        "  print(item,\"-\",item+1,\"           \",list_new[item-2008])\n",
        "\n",
        "print(\"\\n\")\n",
        "\n",
        "#Printing the ascending order based on the difference values\n",
        "\n",
        "data_2 = [['2008-2009', -795],['2009-2010', 5091],['2010-2011', -303],['2011-2012', 1404],['2012-2013', 1565],['2013-2014', 2622]]  \n",
        "B = pd.DataFrame(data_2, columns = ['Consecutive years',  'Difference value'])\n",
        "sorted_frame = B.sort_values('Difference value') \n",
        "\n",
        "print(\"The Ascending order of the difference value for consecutive years is:\\n\")\n",
        "\n",
        "print(sorted_frame)"
      ],
      "execution_count": 73,
      "outputs": [
        {
          "output_type": "stream",
          "text": [
            "Consecutive years \t Difference value\n",
            "2008 - 2009             -795\n",
            "2009 - 2010             5091\n",
            "2010 - 2011             -303\n",
            "2011 - 2012             1404\n",
            "2012 - 2013             1565\n",
            "2013 - 2014             2622\n",
            "\n",
            "\n",
            "The Ascending order of the difference value for consecutive years is:\n",
            "\n",
            "  Consecutive years  Difference value\n",
            "0         2008-2009              -795\n",
            "2         2010-2011              -303\n",
            "3         2011-2012              1404\n",
            "4         2012-2013              1565\n",
            "5         2013-2014              2622\n",
            "1         2009-2010              5091\n"
          ],
          "name": "stdout"
        }
      ]
    },
    {
      "cell_type": "code",
      "metadata": {
        "colab": {
          "base_uri": "https://localhost:8080/"
        },
        "id": "V8W9pYKpeoLU",
        "outputId": "0d043ed4-a426-45ad-efa5-412b33efd990"
      },
      "source": [
        "# Question 4.2\n",
        "# Calculate the percentage of housing units which are vacant and occupied. Print the results\n",
        "dataFrame.reset_index(inplace=True)\n",
        "units_occupied =[]\n",
        "units_vacant =[]\n",
        "\n",
        "#Finding the number of vacant and occupied housing units\n",
        "for i in range(2008,2015):\n",
        "  units_occupied.append((dataFrame[(dataFrame[\"year\"]==i) & (dataFrame[\"title_field\"]==\"Occupied Housing Units\")].value.values)/(dataFrame[(dataFrame[\"year\"]==i) & (dataFrame[\"title_field\"]==\"Total Housing Units\")].value.values))\n",
        "  units_vacant.append((dataFrame[(dataFrame[\"year\"]==i) & (dataFrame[\"title_field\"]==\"Vacant Housing Units\")].value.values)/(dataFrame[(dataFrame[\"year\"]==i) & (dataFrame[\"title_field\"]==\"Total Housing Units\")].value.values))\n",
        "\n",
        "#Printing the percentage of housing units which are vacant and occupied\n",
        "print(\"Year \\t Occupied Units \\t Vacant Units\")\n",
        "for i in range(2008,2015):\n",
        "  print(i,\"\\t\\t\",\"{0:.0f}%\".format(units_occupied[i-2008][0]*100) , \"\\t\\t\\t\", \"{0:.0f}%\".format(units_vacant[i-2008][0]*100))"
      ],
      "execution_count": 64,
      "outputs": [
        {
          "output_type": "stream",
          "text": [
            "Year \t Occupied Units \t Vacant Units\n",
            "2008 \t\t 89% \t\t\t 11%\n",
            "2009 \t\t 91% \t\t\t 9%\n",
            "2010 \t\t 92% \t\t\t 8%\n",
            "2011 \t\t 91% \t\t\t 9%\n",
            "2012 \t\t 93% \t\t\t 7%\n",
            "2013 \t\t 91% \t\t\t 9%\n",
            "2014 \t\t 94% \t\t\t 6%\n"
          ],
          "name": "stdout"
        }
      ]
    },
    {
      "cell_type": "code",
      "metadata": {
        "colab": {
          "base_uri": "https://localhost:8080/"
        },
        "id": "Y6TFcl_eluCl",
        "outputId": "5988bc17-8a57-43ff-c574-d904ef0a2261"
      },
      "source": [
        "# Question 4.3\n",
        "# Calculate and print the valued and years in which the highest number of housing units were vacant and occupied.\n",
        "occupied_list=[]\n",
        "vacant_list=[]\n",
        "\n",
        "for i in range(2008,2015):\n",
        "  occupied_list.append(units_occupied[i-2008][0])\n",
        "  vacant_list.append(units_vacant[i-2008][0])\n",
        "\n",
        "print(\"\\t\\t\\t Year\\t Value\")\n",
        "\n",
        "# Iterate through the data frame and calculates the max value of occupied list which gives max of occupied housing units\n",
        "for i in enumerate(units_occupied,start=2008):\n",
        "  if(i[1][0]==max(occupied_list)):\n",
        "    print(\"Occupied Housing Units \\t\",i[0],\"\\t\",(dataFrame[(dataFrame.year==i[0])&(dataFrame.title_field==\"Occupied Housing Units\")].value.values)[0])\n",
        "    break\n",
        "\n",
        "# Iterate through the data frame and calculates the max value of vacant list which gives max of vacant housing units    \n",
        "for i in enumerate(units_vacant,start=2008):\n",
        "  if(i[1][0]==max(vacant_list)):\n",
        "    print(\"Vacant Housing Units \\t\",i[0],\"\\t\",(dataFrame[(dataFrame.year==i[0])&(dataFrame.title_field==\"Vacant Housing Units\")].value.values)[0])\n",
        "    break"
      ],
      "execution_count": 71,
      "outputs": [
        {
          "output_type": "stream",
          "text": [
            "\t\t\t Year\t Value\n",
            "Occupied Housing Units \t 2014 \t 46295\n",
            "Vacant Housing Units \t 2008 \t 4483\n"
          ],
          "name": "stdout"
        }
      ]
    },
    {
      "cell_type": "code",
      "metadata": {
        "colab": {
          "base_uri": "https://localhost:8080/"
        },
        "id": "GblZlpmHmS54",
        "outputId": "689ba0ef-f9ed-4e85-ec6e-fd2e29fa549a"
      },
      "source": [
        "\n",
        "# Question 4.4\n",
        "# Calculate the harmonic mean of the total housing units and print it out.\n",
        "\n",
        "from scipy import stats\n",
        "\n",
        "dataFrame[dataFrame.title_field==\"Total Housing Units\"].value.values\n",
        "\n",
        "print(dataFrame[dataFrame.title_field==\"Total Housing Units\"].value.values)\n",
        "print(\"The harmonic mean calculated :\\n\")\n",
        "stats.hmean(dataFrame[dataFrame.title_field==\"Total Housing Units\"].value.values)"
      ],
      "execution_count": 68,
      "outputs": [
        {
          "output_type": "stream",
          "text": [
            "[41194 39499 44642 44917 45121 47888 49109]\n",
            "The harmonic mean calculated :\n",
            "\n"
          ],
          "name": "stdout"
        },
        {
          "output_type": "execute_result",
          "data": {
            "text/plain": [
              "44398.28543969185"
            ]
          },
          "metadata": {
            "tags": []
          },
          "execution_count": 68
        }
      ]
    }
  ]
}