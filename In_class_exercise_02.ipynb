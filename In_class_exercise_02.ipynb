{
  "nbformat": 4,
  "nbformat_minor": 0,
  "metadata": {
    "colab": {
      "name": "In_class_exercise_02.ipynb",
      "provenance": [],
      "collapsed_sections": [],
      "include_colab_link": true
    },
    "kernelspec": {
      "display_name": "Python 3",
      "language": "python",
      "name": "python3"
    },
    "language_info": {
      "codemirror_mode": {
        "name": "ipython",
        "version": 3
      },
      "file_extension": ".py",
      "mimetype": "text/x-python",
      "name": "python",
      "nbconvert_exporter": "python",
      "pygments_lexer": "ipython3",
      "version": "3.7.4"
    }
  },
  "cells": [
    {
      "cell_type": "markdown",
      "metadata": {
        "id": "view-in-github",
        "colab_type": "text"
      },
      "source": [
        "<a href=\"https://colab.research.google.com/github/Nagmashaik123/Nagma_INFO5731_Spring2021/blob/main/In_class_exercise_02.ipynb\" target=\"_parent\"><img src=\"https://colab.research.google.com/assets/colab-badge.svg\" alt=\"Open In Colab\"/></a>"
      ]
    },
    {
      "cell_type": "markdown",
      "metadata": {
        "id": "oo5bsEh2eeWi"
      },
      "source": [
        "# **The second In-class-exercise (1/27/2021, 20 points in total)**\n"
      ]
    },
    {
      "cell_type": "markdown",
      "metadata": {
        "id": "2sPQ58dIeqgp"
      },
      "source": [
        "(1) Write a Python program to find the duplicate elements in a given array of integers. Return -1 If there are no such elements. (4 points)"
      ]
    },
    {
      "cell_type": "code",
      "metadata": {
        "colab": {
          "base_uri": "https://localhost:8080/"
        },
        "id": "mnrvKMFTeoJR",
        "outputId": "c984402e-61f2-47ab-fc1b-951e492a1a30"
      },
      "source": [
        "# Program to find duplicate elements in a given array and returns -1 if not found\n",
        "def duplicatesCheck(arrCheck):\n",
        "  arrLength = len(arrCheck)\n",
        "  for out in range(0, arrLength):\n",
        "    for inn in range(out+1 , arrLength):\n",
        "      #Comparing outer loop element of the list with the selected inner loop if found equal returns -1\n",
        "      if arrCheck[out] == arrCheck[inn]:\n",
        "        return -1\n",
        "      \n",
        "      \n",
        "print(duplicatesCheck([1,3,2,3,2,1]))        \n",
        "\n",
        " \n",
        "\n",
        "\n"
      ],
      "execution_count": null,
      "outputs": [
        {
          "output_type": "stream",
          "text": [
            "-1\n"
          ],
          "name": "stdout"
        }
      ]
    },
    {
      "cell_type": "markdown",
      "metadata": {
        "id": "YYrH6n6IhZoQ"
      },
      "source": [
        "(2) Write a Python program to select all the Sundays of a specified year. (4 points)\n",
        "\n"
      ]
    },
    {
      "cell_type": "code",
      "metadata": {
        "colab": {
          "base_uri": "https://localhost:8080/"
        },
        "id": "OSfPLd23eLpX",
        "outputId": "78f9734f-a552-46cd-bcfc-e946a446ef4e"
      },
      "source": [
        "# Python Program to select all the sundays of a specified year\n",
        "from datetime import date, timedelta\n",
        "\n",
        "def returnSundays(yearToCheck):\n",
        "# 1st of the given year in 1st month\n",
        "       dateVal = date(yearToCheck, 1, 1)\n",
        "       noOfdays = 6 - dateVal.weekday()                    \n",
        "       dateVal = dateVal + timedelta(noOfdays)  \n",
        "       while dateVal.year == yearToCheck:\n",
        "          yield dateVal\n",
        "# after first sunday returns every day in a loop after every 7th day          \n",
        "          dateVal = dateVal + timedelta(days = 7)\n",
        "          \n",
        "# prints all the sunday for year 2020          \n",
        "for sundays in returnSundays(2020):\n",
        "   print(sundays)\n",
        "\n"
      ],
      "execution_count": null,
      "outputs": [
        {
          "output_type": "stream",
          "text": [
            "2020-01-05\n",
            "2020-01-12\n",
            "2020-01-19\n",
            "2020-01-26\n",
            "2020-02-02\n",
            "2020-02-09\n",
            "2020-02-16\n",
            "2020-02-23\n",
            "2020-03-01\n",
            "2020-03-08\n",
            "2020-03-15\n",
            "2020-03-22\n",
            "2020-03-29\n",
            "2020-04-05\n",
            "2020-04-12\n",
            "2020-04-19\n",
            "2020-04-26\n",
            "2020-05-03\n",
            "2020-05-10\n",
            "2020-05-17\n",
            "2020-05-24\n",
            "2020-05-31\n",
            "2020-06-07\n",
            "2020-06-14\n",
            "2020-06-21\n",
            "2020-06-28\n",
            "2020-07-05\n",
            "2020-07-12\n",
            "2020-07-19\n",
            "2020-07-26\n",
            "2020-08-02\n",
            "2020-08-09\n",
            "2020-08-16\n",
            "2020-08-23\n",
            "2020-08-30\n",
            "2020-09-06\n",
            "2020-09-13\n",
            "2020-09-20\n",
            "2020-09-27\n",
            "2020-10-04\n",
            "2020-10-11\n",
            "2020-10-18\n",
            "2020-10-25\n",
            "2020-11-01\n",
            "2020-11-08\n",
            "2020-11-15\n",
            "2020-11-22\n",
            "2020-11-29\n",
            "2020-12-06\n",
            "2020-12-13\n",
            "2020-12-20\n",
            "2020-12-27\n"
          ],
          "name": "stdout"
        }
      ]
    },
    {
      "cell_type": "markdown",
      "metadata": {
        "id": "Vvfo8Oozy2FT"
      },
      "source": [
        ""
      ]
    },
    {
      "cell_type": "markdown",
      "metadata": {
        "id": "UIpziZ6Sjie-"
      },
      "source": [
        "(3) Python files reading and writing. Download the “[exercise_02_data _collection.zip](https://github.com/unt-iialab/info5731_spring2021/blob/main/class_exercises/exercise_02_data_collection.zip)” to your local and un-zip it.\n",
        "\n",
        "*   Write a program to read all the txt files and save the sentences in all the files into one csv file with two columns, the first column is sentence id (txt file name+sentence line number), the second column is the sentence text content. (4 points)\n",
        "*   Remove all the punctuations from the sentences, save the processed sentences into a new column in the same csv file. (4 points)\n",
        "*   Ask the user to enter a word, return all the sentences that include this word, three kinds of information should be returned: sentence id, sentence text content, the count that user input word appear in the sentence. (4 points)\n",
        "\n"
      ]
    },
    {
      "cell_type": "code",
      "metadata": {
        "colab": {
          "base_uri": "https://localhost:8080/"
        },
        "id": "f3CUsrWOj1Xy",
        "outputId": "47cc7453-a765-4389-cf2e-065861eda323"
      },
      "source": [
        "# Program to process files\n",
        "# Returns current directory\n",
        "!pwd \n",
        "import glob \n",
        "file_path=r'/content/Collection_Excercise_02/'\n",
        "files= glob.glob(file_path + \"/*.txt\")\n",
        "print(files)"
      ],
      "execution_count": 3,
      "outputs": [
        {
          "output_type": "stream",
          "text": [
            "/content\n",
            "['/content/Collection_Excercise_02/ARTHROTEC.6.txt', '/content/Collection_Excercise_02/ARTHROTEC.83.txt', '/content/Collection_Excercise_02/ARTHROTEC.10.txt', '/content/Collection_Excercise_02/ARTHROTEC.96.txt', '/content/Collection_Excercise_02/ARTHROTEC.62.txt', '/content/Collection_Excercise_02/ARTHROTEC.52.txt', '/content/Collection_Excercise_02/ARTHROTEC.86.txt', '/content/Collection_Excercise_02/ARTHROTEC.24.txt', '/content/Collection_Excercise_02/ARTHROTEC.92.txt', '/content/Collection_Excercise_02/ARTHROTEC.2.txt', '/content/Collection_Excercise_02/ARTHROTEC.53.txt', '/content/Collection_Excercise_02/ARTHROTEC.72.txt', '/content/Collection_Excercise_02/ARTHROTEC.20.txt', '/content/Collection_Excercise_02/ARTHROTEC.9.txt', '/content/Collection_Excercise_02/ARTHROTEC.15.txt', '/content/Collection_Excercise_02/ARTHROTEC.3.txt', '/content/Collection_Excercise_02/ARTHROTEC.5.txt', '/content/Collection_Excercise_02/ARTHROTEC.19.txt', '/content/Collection_Excercise_02/ARTHROTEC.58.txt', '/content/Collection_Excercise_02/ARTHROTEC.50.txt', '/content/Collection_Excercise_02/ARTHROTEC.78.txt', '/content/Collection_Excercise_02/ARTHROTEC.33.txt', '/content/Collection_Excercise_02/ARTHROTEC.26.txt', '/content/Collection_Excercise_02/ARTHROTEC.11.txt', '/content/Collection_Excercise_02/ARTHROTEC.85.txt', '/content/Collection_Excercise_02/ARTHROTEC.76.txt', '/content/Collection_Excercise_02/ARTHROTEC.99.txt', '/content/Collection_Excercise_02/ARTHROTEC.23.txt', '/content/Collection_Excercise_02/ARTHROTEC.82.txt', '/content/Collection_Excercise_02/ARTHROTEC.73.txt', '/content/Collection_Excercise_02/ARTHROTEC.100.txt', '/content/Collection_Excercise_02/ARTHROTEC.4.txt', '/content/Collection_Excercise_02/ARTHROTEC.18.txt', '/content/Collection_Excercise_02/ARTHROTEC.22.txt', '/content/Collection_Excercise_02/ARTHROTEC.34.txt', '/content/Collection_Excercise_02/ARTHROTEC.88.txt', '/content/Collection_Excercise_02/ARTHROTEC.70.txt', '/content/Collection_Excercise_02/ARTHROTEC.65.txt', '/content/Collection_Excercise_02/ARTHROTEC.56.txt', '/content/Collection_Excercise_02/ARTHROTEC.91.txt', '/content/Collection_Excercise_02/ARTHROTEC.13.txt', '/content/Collection_Excercise_02/ARTHROTEC.1.txt', '/content/Collection_Excercise_02/ARTHROTEC.28.txt', '/content/Collection_Excercise_02/ARTHROTEC.81.txt', '/content/Collection_Excercise_02/ARTHROTEC.64.txt', '/content/Collection_Excercise_02/ARTHROTEC.77.txt', '/content/Collection_Excercise_02/ARTHROTEC.40.txt', '/content/Collection_Excercise_02/ARTHROTEC.43.txt', '/content/Collection_Excercise_02/ARTHROTEC.41.txt', '/content/Collection_Excercise_02/ARTHROTEC.39.txt', '/content/Collection_Excercise_02/ARTHROTEC.84.txt', '/content/Collection_Excercise_02/ARTHROTEC.68.txt', '/content/Collection_Excercise_02/ARTHROTEC.47.txt', '/content/Collection_Excercise_02/ARTHROTEC.38.txt', '/content/Collection_Excercise_02/ARTHROTEC.69.txt', '/content/Collection_Excercise_02/ARTHROTEC.42.txt', '/content/Collection_Excercise_02/ARTHROTEC.67.txt', '/content/Collection_Excercise_02/ARTHROTEC.89.txt', '/content/Collection_Excercise_02/ARTHROTEC.87.txt', '/content/Collection_Excercise_02/ARTHROTEC.31.txt', '/content/Collection_Excercise_02/ARTHROTEC.27.txt', '/content/Collection_Excercise_02/ARTHROTEC.71.txt', '/content/Collection_Excercise_02/ARTHROTEC.45.txt', '/content/Collection_Excercise_02/ARTHROTEC.94.txt', '/content/Collection_Excercise_02/ARTHROTEC.49.txt', '/content/Collection_Excercise_02/ARTHROTEC.32.txt', '/content/Collection_Excercise_02/ARTHROTEC.44.txt', '/content/Collection_Excercise_02/ARTHROTEC.79.txt', '/content/Collection_Excercise_02/ARTHROTEC.75.txt', '/content/Collection_Excercise_02/ARTHROTEC.57.txt', '/content/Collection_Excercise_02/ARTHROTEC.60.txt', '/content/Collection_Excercise_02/ARTHROTEC.48.txt', '/content/Collection_Excercise_02/ARTHROTEC.95.txt', '/content/Collection_Excercise_02/ARTHROTEC.97.txt', '/content/Collection_Excercise_02/ARTHROTEC.7.txt', '/content/Collection_Excercise_02/ARTHROTEC.25.txt', '/content/Collection_Excercise_02/ARTHROTEC.93.txt', '/content/Collection_Excercise_02/ARTHROTEC.46.txt', '/content/Collection_Excercise_02/ARTHROTEC.90.txt', '/content/Collection_Excercise_02/ARTHROTEC.8.txt', '/content/Collection_Excercise_02/ARTHROTEC.37.txt', '/content/Collection_Excercise_02/ARTHROTEC.17.txt', '/content/Collection_Excercise_02/ARTHROTEC.54.txt', '/content/Collection_Excercise_02/ARTHROTEC.36.txt', '/content/Collection_Excercise_02/ARTHROTEC.55.txt', '/content/Collection_Excercise_02/ARTHROTEC.80.txt', '/content/Collection_Excercise_02/ARTHROTEC.30.txt', '/content/Collection_Excercise_02/ARTHROTEC.14.txt', '/content/Collection_Excercise_02/ARTHROTEC.16.txt', '/content/Collection_Excercise_02/ARTHROTEC.35.txt', '/content/Collection_Excercise_02/ARTHROTEC.74.txt', '/content/Collection_Excercise_02/ARTHROTEC.12.txt', '/content/Collection_Excercise_02/ARTHROTEC.51.txt', '/content/Collection_Excercise_02/ARTHROTEC.29.txt', '/content/Collection_Excercise_02/ARTHROTEC.66.txt', '/content/Collection_Excercise_02/ARTHROTEC.61.txt', '/content/Collection_Excercise_02/ARTHROTEC.59.txt', '/content/Collection_Excercise_02/ARTHROTEC.21.txt', '/content/Collection_Excercise_02/ARTHROTEC.98.txt', '/content/Collection_Excercise_02/ARTHROTEC.63.txt']\n"
          ],
          "name": "stdout"
        }
      ]
    },
    {
      "cell_type": "markdown",
      "metadata": {
        "id": "tnYC_RKv6bnB"
      },
      "source": [
        "# New Section"
      ]
    },
    {
      "cell_type": "code",
      "metadata": {
        "colab": {
          "base_uri": "https://localhost:8080/",
          "height": 660
        },
        "id": "iAO4b8OtKXVw",
        "outputId": "e328f4bb-e5e1-4cf5-b4be-83d993783539"
      },
      "source": [
        "import pandas as pd\n",
        "import re\n",
        "\n",
        "# Declaring data to store and count to iterate\n",
        "data=[]\n",
        "counter=0\n",
        "\n",
        "# Reading sentence from all the text files to CSV file and resetting column index\n",
        "for fileName in files:\n",
        "  dataVal= pd.read_csv(fileName, delimiter=\"\\n\",header=None)\n",
        "  data.append(dataVal)\n",
        "  data[counter] =data[counter].reset_index()\n",
        "\n",
        "# Replacing name of first column as sentence_ID and concatinating to CSV file\n",
        "  data[counter][\"sentence_ID\"] = fileName.replace(file_path , \"\")\n",
        "  csv_file_data= pd.concat(data, ignore_index=True)\n",
        "  counter =counter+1\n",
        "\n",
        "# Framing sentence_ID column values (txt file name+sentence line number) \n",
        "for item in range(len(csv_file_data)):\n",
        "  csv_file_data[\"sentence_ID\"][item] = csv_file_data[\"sentence_ID\"][item] +str(csv_file_data[\"index\"][item])\n",
        "\n",
        "#Renaming second column with \"original_text_content\"\n",
        "csv_file_data=csv_file_data[[\"sentence_ID\" ,0 ]].rename(columns={0:\"original_text_content\"})\n",
        "csv_file_data\n",
        "csv_file_data[\"modified_text_content\"]=0\n",
        "\n",
        "for item in range(len(csv_file_data)):\n",
        "  csv_file_data[\"modified_text_content\"][item] = re.sub(r'[^\\w\\s]','', csv_file_data.original_text_content[item])\n",
        "csv_file_data\n",
        "\n"
      ],
      "execution_count": 54,
      "outputs": [
        {
          "output_type": "stream",
          "text": [
            "/usr/local/lib/python3.6/dist-packages/ipykernel_launcher.py:21: SettingWithCopyWarning: \n",
            "A value is trying to be set on a copy of a slice from a DataFrame\n",
            "\n",
            "See the caveats in the documentation: https://pandas.pydata.org/pandas-docs/stable/user_guide/indexing.html#returning-a-view-versus-a-copy\n",
            "/usr/local/lib/python3.6/dist-packages/ipykernel_launcher.py:29: SettingWithCopyWarning: \n",
            "A value is trying to be set on a copy of a slice from a DataFrame\n",
            "\n",
            "See the caveats in the documentation: https://pandas.pydata.org/pandas-docs/stable/user_guide/indexing.html#returning-a-view-versus-a-copy\n",
            "/usr/local/lib/python3.6/dist-packages/pandas/core/indexing.py:670: SettingWithCopyWarning: \n",
            "A value is trying to be set on a copy of a slice from a DataFrame\n",
            "\n",
            "See the caveats in the documentation: https://pandas.pydata.org/pandas-docs/stable/user_guide/indexing.html#returning-a-view-versus-a-copy\n",
            "  iloc._setitem_with_indexer(indexer, value)\n"
          ],
          "name": "stderr"
        },
        {
          "output_type": "execute_result",
          "data": {
            "text/html": [
              "<div>\n",
              "<style scoped>\n",
              "    .dataframe tbody tr th:only-of-type {\n",
              "        vertical-align: middle;\n",
              "    }\n",
              "\n",
              "    .dataframe tbody tr th {\n",
              "        vertical-align: top;\n",
              "    }\n",
              "\n",
              "    .dataframe thead th {\n",
              "        text-align: right;\n",
              "    }\n",
              "</style>\n",
              "<table border=\"1\" class=\"dataframe\">\n",
              "  <thead>\n",
              "    <tr style=\"text-align: right;\">\n",
              "      <th></th>\n",
              "      <th>sentence_ID</th>\n",
              "      <th>original_text_content</th>\n",
              "      <th>modified_text_content</th>\n",
              "    </tr>\n",
              "  </thead>\n",
              "  <tbody>\n",
              "    <tr>\n",
              "      <th>0</th>\n",
              "      <td>ARTHROTEC.6.txt0</td>\n",
              "      <td>It began with stomach pain,then slight nausea,...</td>\n",
              "      <td>It began with stomach painthen slight nausea t...</td>\n",
              "    </tr>\n",
              "    <tr>\n",
              "      <th>1</th>\n",
              "      <td>ARTHROTEC.6.txt1</td>\n",
              "      <td>After the second pill the same progression of ...</td>\n",
              "      <td>After the second pill the same progression of ...</td>\n",
              "    </tr>\n",
              "    <tr>\n",
              "      <th>2</th>\n",
              "      <td>ARTHROTEC.6.txt2</td>\n",
              "      <td>I stopped pills but abdominal cramps persist.</td>\n",
              "      <td>I stopped pills but abdominal cramps persist</td>\n",
              "    </tr>\n",
              "    <tr>\n",
              "      <th>3</th>\n",
              "      <td>ARTHROTEC.6.txt3</td>\n",
              "      <td>The only good thing I can say about Arthrotec ...</td>\n",
              "      <td>The only good thing I can say about Arthrotec ...</td>\n",
              "    </tr>\n",
              "    <tr>\n",
              "      <th>4</th>\n",
              "      <td>ARTHROTEC.6.txt4</td>\n",
              "      <td>The abdominal gas,cramps and discomfort are an...</td>\n",
              "      <td>The abdominal gascramps and discomfort are ano...</td>\n",
              "    </tr>\n",
              "    <tr>\n",
              "      <th>...</th>\n",
              "      <td>...</td>\n",
              "      <td>...</td>\n",
              "      <td>...</td>\n",
              "    </tr>\n",
              "    <tr>\n",
              "      <th>528</th>\n",
              "      <td>ARTHROTEC.63.txt3</td>\n",
              "      <td>little improvement with the pain.</td>\n",
              "      <td>little improvement with the pain</td>\n",
              "    </tr>\n",
              "    <tr>\n",
              "      <th>529</th>\n",
              "      <td>ARTHROTEC.63.txt4</td>\n",
              "      <td>I had the first vaginal bleeding, a lot of pru...</td>\n",
              "      <td>I had the first vaginal bleeding a lot of prur...</td>\n",
              "    </tr>\n",
              "    <tr>\n",
              "      <th>530</th>\n",
              "      <td>ARTHROTEC.63.txt5</td>\n",
              "      <td>My doctor prescribed me a topical cream , did ...</td>\n",
              "      <td>My doctor prescribed me a topical cream  did s...</td>\n",
              "    </tr>\n",
              "    <tr>\n",
              "      <th>531</th>\n",
              "      <td>ARTHROTEC.63.txt6</td>\n",
              "      <td>I had my cycle The last one for 4 days.</td>\n",
              "      <td>I had my cycle The last one for 4 days</td>\n",
              "    </tr>\n",
              "    <tr>\n",
              "      <th>532</th>\n",
              "      <td>ARTHROTEC.63.txt7</td>\n",
              "      <td>More problems and this time I had the ideo to ...</td>\n",
              "      <td>More problems and this time I had the ideo to ...</td>\n",
              "    </tr>\n",
              "  </tbody>\n",
              "</table>\n",
              "<p>533 rows × 3 columns</p>\n",
              "</div>"
            ],
            "text/plain": [
              "           sentence_ID  ...                              modified_text_content\n",
              "0     ARTHROTEC.6.txt0  ...  It began with stomach painthen slight nausea t...\n",
              "1     ARTHROTEC.6.txt1  ...  After the second pill the same progression of ...\n",
              "2     ARTHROTEC.6.txt2  ...       I stopped pills but abdominal cramps persist\n",
              "3     ARTHROTEC.6.txt3  ...  The only good thing I can say about Arthrotec ...\n",
              "4     ARTHROTEC.6.txt4  ...  The abdominal gascramps and discomfort are ano...\n",
              "..                 ...  ...                                                ...\n",
              "528  ARTHROTEC.63.txt3  ...                   little improvement with the pain\n",
              "529  ARTHROTEC.63.txt4  ...  I had the first vaginal bleeding a lot of prur...\n",
              "530  ARTHROTEC.63.txt5  ...  My doctor prescribed me a topical cream  did s...\n",
              "531  ARTHROTEC.63.txt6  ...             I had my cycle The last one for 4 days\n",
              "532  ARTHROTEC.63.txt7  ...  More problems and this time I had the ideo to ...\n",
              "\n",
              "[533 rows x 3 columns]"
            ]
          },
          "metadata": {
            "tags": []
          },
          "execution_count": 54
        }
      ]
    },
    {
      "cell_type": "code",
      "metadata": {
        "id": "OzL_kP_yfmz9",
        "colab": {
          "base_uri": "https://localhost:8080/",
          "height": 393
        },
        "outputId": "4b0c1aee-9201-40c1-f866-e4e71b6b044b"
      },
      "source": [
        "user_input = input()\n",
        "print(\" Word to be searched from the data columns \", user_input)\n",
        "\n",
        "# This will return all the sentences that contains this word\n",
        "\n",
        "csv_file_data[csv_file_data[\"modified_text_content\"].str.contains(user_input)]\n"
      ],
      "execution_count": 59,
      "outputs": [
        {
          "output_type": "stream",
          "text": [
            "cycle\n",
            " Word to be searched from the data columns  cycle\n"
          ],
          "name": "stdout"
        },
        {
          "output_type": "execute_result",
          "data": {
            "text/html": [
              "<div>\n",
              "<style scoped>\n",
              "    .dataframe tbody tr th:only-of-type {\n",
              "        vertical-align: middle;\n",
              "    }\n",
              "\n",
              "    .dataframe tbody tr th {\n",
              "        vertical-align: top;\n",
              "    }\n",
              "\n",
              "    .dataframe thead th {\n",
              "        text-align: right;\n",
              "    }\n",
              "</style>\n",
              "<table border=\"1\" class=\"dataframe\">\n",
              "  <thead>\n",
              "    <tr style=\"text-align: right;\">\n",
              "      <th></th>\n",
              "      <th>sentence_ID</th>\n",
              "      <th>original_text_content</th>\n",
              "      <th>modified_text_content</th>\n",
              "    </tr>\n",
              "  </thead>\n",
              "  <tbody>\n",
              "    <tr>\n",
              "      <th>65</th>\n",
              "      <td>ARTHROTEC.20.txt6</td>\n",
              "      <td>This drug cant be good for you if it brought m...</td>\n",
              "      <td>This drug cant be good for you if it brought m...</td>\n",
              "    </tr>\n",
              "    <tr>\n",
              "      <th>175</th>\n",
              "      <td>ARTHROTEC.100.txt1</td>\n",
              "      <td>then vaginal bleeding 2 wks after menstral cycle.</td>\n",
              "      <td>then vaginal bleeding 2 wks after menstral cycle</td>\n",
              "    </tr>\n",
              "    <tr>\n",
              "      <th>187</th>\n",
              "      <td>ARTHROTEC.18.txt0</td>\n",
              "      <td>slightly heavier menstrual cycle.</td>\n",
              "      <td>slightly heavier menstrual cycle</td>\n",
              "    </tr>\n",
              "    <tr>\n",
              "      <th>302</th>\n",
              "      <td>ARTHROTEC.42.txt7</td>\n",
              "      <td>After about two days (two doses), the cramps c...</td>\n",
              "      <td>After about two days two doses the cramps cont...</td>\n",
              "    </tr>\n",
              "    <tr>\n",
              "      <th>406</th>\n",
              "      <td>ARTHROTEC.93.txt0</td>\n",
              "      <td>Extremely heavy menstral cycles, fatigue, slow...</td>\n",
              "      <td>Extremely heavy menstral cycles fatigue slow h...</td>\n",
              "    </tr>\n",
              "    <tr>\n",
              "      <th>483</th>\n",
              "      <td>ARTHROTEC.35.txt1</td>\n",
              "      <td>My menstrual cycle is completely out of whack,...</td>\n",
              "      <td>My menstrual cycle is completely out of whack ...</td>\n",
              "    </tr>\n",
              "    <tr>\n",
              "      <th>512</th>\n",
              "      <td>ARTHROTEC.59.txt0</td>\n",
              "      <td>I have vaginal bleeding, my cycle was back (I'...</td>\n",
              "      <td>I have vaginal bleeding my cycle was back Im m...</td>\n",
              "    </tr>\n",
              "    <tr>\n",
              "      <th>519</th>\n",
              "      <td>ARTHROTEC.59.txt7</td>\n",
              "      <td>I had my cycle The last one for 4 days.</td>\n",
              "      <td>I had my cycle The last one for 4 days</td>\n",
              "    </tr>\n",
              "    <tr>\n",
              "      <th>525</th>\n",
              "      <td>ARTHROTEC.63.txt0</td>\n",
              "      <td>I have vaginal bleeding, my cycle was back (I'...</td>\n",
              "      <td>I have vaginal bleeding my cycle was back Im m...</td>\n",
              "    </tr>\n",
              "    <tr>\n",
              "      <th>531</th>\n",
              "      <td>ARTHROTEC.63.txt6</td>\n",
              "      <td>I had my cycle The last one for 4 days.</td>\n",
              "      <td>I had my cycle The last one for 4 days</td>\n",
              "    </tr>\n",
              "  </tbody>\n",
              "</table>\n",
              "</div>"
            ],
            "text/plain": [
              "            sentence_ID  ...                              modified_text_content\n",
              "65    ARTHROTEC.20.txt6  ...  This drug cant be good for you if it brought m...\n",
              "175  ARTHROTEC.100.txt1  ...   then vaginal bleeding 2 wks after menstral cycle\n",
              "187   ARTHROTEC.18.txt0  ...                   slightly heavier menstrual cycle\n",
              "302   ARTHROTEC.42.txt7  ...  After about two days two doses the cramps cont...\n",
              "406   ARTHROTEC.93.txt0  ...  Extremely heavy menstral cycles fatigue slow h...\n",
              "483   ARTHROTEC.35.txt1  ...  My menstrual cycle is completely out of whack ...\n",
              "512   ARTHROTEC.59.txt0  ...  I have vaginal bleeding my cycle was back Im m...\n",
              "519   ARTHROTEC.59.txt7  ...             I had my cycle The last one for 4 days\n",
              "525   ARTHROTEC.63.txt0  ...  I have vaginal bleeding my cycle was back Im m...\n",
              "531   ARTHROTEC.63.txt6  ...             I had my cycle The last one for 4 days\n",
              "\n",
              "[10 rows x 3 columns]"
            ]
          },
          "metadata": {
            "tags": []
          },
          "execution_count": 59
        }
      ]
    },
    {
      "cell_type": "code",
      "metadata": {
        "colab": {
          "base_uri": "https://localhost:8080/"
        },
        "id": "Kzee2ab3YXY1",
        "outputId": "421ba101-26fc-45c7-8d30-d68d2ad1c92b"
      },
      "source": [
        "# This will return the count the user input number appeared\n",
        "csv_file_data[\"modified_text_content\"].str.count(user_input).sum()"
      ],
      "execution_count": 62,
      "outputs": [
        {
          "output_type": "execute_result",
          "data": {
            "text/plain": [
              "10"
            ]
          },
          "metadata": {
            "tags": []
          },
          "execution_count": 62
        }
      ]
    },
    {
      "cell_type": "markdown",
      "metadata": {
        "id": "-12cqmJEpZOh"
      },
      "source": [
        "(4) Install packages nltk, numpy, scipy, pandas, and sklearn on Google Colab. Write a program to test whether they are installed successfully. (3 points for extra)"
      ]
    },
    {
      "cell_type": "code",
      "metadata": {
        "colab": {
          "base_uri": "https://localhost:8080/"
        },
        "id": "f1pn1Zl2qK77",
        "outputId": "4d250101-9b4b-4e92-ea3d-fcb4dd985b2e"
      },
      "source": [
        "# Installing nltk, numpy,scipy,pandas and sklearn package\n",
        "\n",
        "!pip install nltk\n",
        "!pip install numpy \n",
        "!pip install scipy\n",
        "!pip install pandas\n",
        "!pip install sklearn\n",
        "\n",
        "# Checking with try and except if they are installed successfully or not\n",
        "try:\n",
        "    import nltk\n",
        "    print(\"Package 'nltk' is installed Sucessfully\")\n",
        "except ImportError:\n",
        "    print(\"Exception installing package nltk\")\n",
        "try:\n",
        "    import numpy\n",
        "    print(\"Package 'numpy' is installed Sucessfully\")\n",
        "except ImportError:\n",
        "    print(\"Exception installing package scipy\")\n",
        "try:\n",
        "    import scipy\n",
        "    print(\"Package 'scipy' is installed Sucessfully\")\n",
        "except ImportError:\n",
        "    print(\"Exception installing package pandas\")\n",
        "try:\n",
        "    import pandas\n",
        "    print(\"Package 'pandas' is installed Sucessfully\")\n",
        "except ImportError:\n",
        "    print(\"Exception installing package sklearn\")\n",
        "try:\n",
        "    import sklearn\n",
        "    print(\"Package 'sklearn' is installed Sucessfully\")\n",
        "except ImportError:\n",
        "    print(\"Exception installing package numpy\")\n",
        "\n"
      ],
      "execution_count": 10,
      "outputs": [
        {
          "output_type": "stream",
          "text": [
            "Requirement already satisfied: nltk in /usr/local/lib/python3.6/dist-packages (3.2.5)\n",
            "Requirement already satisfied: six in /usr/local/lib/python3.6/dist-packages (from nltk) (1.15.0)\n",
            "Requirement already satisfied: numpy in /usr/local/lib/python3.6/dist-packages (1.19.5)\n",
            "Requirement already satisfied: scipy in /usr/local/lib/python3.6/dist-packages (1.4.1)\n",
            "Requirement already satisfied: numpy>=1.13.3 in /usr/local/lib/python3.6/dist-packages (from scipy) (1.19.5)\n",
            "Requirement already satisfied: pandas in /usr/local/lib/python3.6/dist-packages (1.1.5)\n",
            "Requirement already satisfied: numpy>=1.15.4 in /usr/local/lib/python3.6/dist-packages (from pandas) (1.19.5)\n",
            "Requirement already satisfied: python-dateutil>=2.7.3 in /usr/local/lib/python3.6/dist-packages (from pandas) (2.8.1)\n",
            "Requirement already satisfied: pytz>=2017.2 in /usr/local/lib/python3.6/dist-packages (from pandas) (2018.9)\n",
            "Requirement already satisfied: six>=1.5 in /usr/local/lib/python3.6/dist-packages (from python-dateutil>=2.7.3->pandas) (1.15.0)\n",
            "Requirement already satisfied: sklearn in /usr/local/lib/python3.6/dist-packages (0.0)\n",
            "Requirement already satisfied: scikit-learn in /usr/local/lib/python3.6/dist-packages (from sklearn) (0.22.2.post1)\n",
            "Requirement already satisfied: scipy>=0.17.0 in /usr/local/lib/python3.6/dist-packages (from scikit-learn->sklearn) (1.4.1)\n",
            "Requirement already satisfied: numpy>=1.11.0 in /usr/local/lib/python3.6/dist-packages (from scikit-learn->sklearn) (1.19.5)\n",
            "Requirement already satisfied: joblib>=0.11 in /usr/local/lib/python3.6/dist-packages (from scikit-learn->sklearn) (1.0.0)\n",
            "Package 'nltk' is installed Sucessfully\n",
            "Package 'numpy' is installed Sucessfully\n",
            "Package 'scipy' is installed Sucessfully\n",
            "Package 'pandas' is installed Sucessfully\n",
            "Package 'sklearn' is installed Sucessfully\n"
          ],
          "name": "stdout"
        }
      ]
    }
  ]
}