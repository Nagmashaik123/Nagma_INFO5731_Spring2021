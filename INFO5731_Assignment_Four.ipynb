{
  "nbformat": 4,
  "nbformat_minor": 0,
  "metadata": {
    "colab": {
      "name": "Copy of INFO5731_Assignment_Three.ipynb",
      "provenance": [],
      "collapsed_sections": [],
      "include_colab_link": true
    },
    "kernelspec": {
      "display_name": "Python 3",
      "language": "python",
      "name": "python3"
    },
    "language_info": {
      "codemirror_mode": {
        "name": "ipython",
        "version": 3
      },
      "file_extension": ".py",
      "mimetype": "text/x-python",
      "name": "python",
      "nbconvert_exporter": "python",
      "pygments_lexer": "ipython3",
      "version": "3.8.5"
    }
  },
  "cells": [
    {
      "cell_type": "markdown",
      "metadata": {
        "id": "view-in-github",
        "colab_type": "text"
      },
      "source": [
        "<a href=\"https://colab.research.google.com/github/Nagmashaik123/Nagma_INFO5731_Spring2021/blob/main/INFO5731_Assignment_Four.ipynb\" target=\"_parent\"><img src=\"https://colab.research.google.com/assets/colab-badge.svg\" alt=\"Open In Colab\"/></a>"
      ]
    },
    {
      "cell_type": "markdown",
      "metadata": {
        "id": "USSdXHuqnwv9"
      },
      "source": [
        "# **INFO5731 Assignment Four**\n",
        "\n",
        "In this assignment, you are required to conduct topic modeling, sentiment analysis based on **the dataset you created from assignment three**."
      ]
    },
    {
      "cell_type": "markdown",
      "metadata": {
        "id": "YWxodXh5n4xF"
      },
      "source": [
        "# **Question 1: Topic Modeling**"
      ]
    },
    {
      "cell_type": "markdown",
      "metadata": {
        "id": "TenBkDJ5n95k"
      },
      "source": [
        "(30 points). This question is designed to help you develop a feel for the way topic modeling works, the connection to the human meanings of documents. Based on the dataset from assignment three, write a python program to **identify the top 10 topics in the dataset**. Before answering this question, please review the materials in lesson 8, especially the code for LDA and LSA. The following information should be reported:\n",
        "\n",
        "(1) Features (top n-gram phrases) used for topic modeling.\n",
        "\n",
        "(2) Top 10 clusters for topic modeling.\n",
        "\n",
        "(3) Summarize and describe the topic for each cluster. \n"
      ]
    },
    {
      "cell_type": "code",
      "metadata": {
        "colab": {
          "base_uri": "https://localhost:8080/",
          "height": 419
        },
        "id": "PuFPKhC0m1fd",
        "outputId": "da57ea9f-8cb9-4f3d-cac6-c50206f88fc4"
      },
      "source": [
        "# Importing my previous excercise data set to perform tpic modelling\n",
        "import pandas as pd\n",
        "data = pd.read_csv(\"/content/review.csv\")\n",
        "data \n",
        "\n"
      ],
      "execution_count": null,
      "outputs": [
        {
          "output_type": "execute_result",
          "data": {
            "text/html": [
              "<div>\n",
              "<style scoped>\n",
              "    .dataframe tbody tr th:only-of-type {\n",
              "        vertical-align: middle;\n",
              "    }\n",
              "\n",
              "    .dataframe tbody tr th {\n",
              "        vertical-align: top;\n",
              "    }\n",
              "\n",
              "    .dataframe thead th {\n",
              "        text-align: right;\n",
              "    }\n",
              "</style>\n",
              "<table border=\"1\" class=\"dataframe\">\n",
              "  <thead>\n",
              "    <tr style=\"text-align: right;\">\n",
              "      <th></th>\n",
              "      <th>Doc_Id</th>\n",
              "      <th>Review</th>\n",
              "    </tr>\n",
              "  </thead>\n",
              "  <tbody>\n",
              "    <tr>\n",
              "      <th>0</th>\n",
              "      <td>Review 1</td>\n",
              "      <td>Every once in a while a movie comes, that trul...</td>\n",
              "    </tr>\n",
              "    <tr>\n",
              "      <th>1</th>\n",
              "      <td>Review 2</td>\n",
              "      <td>This is a movie that only those who have felt ...</td>\n",
              "    </tr>\n",
              "    <tr>\n",
              "      <th>2</th>\n",
              "      <td>Review 3</td>\n",
              "      <td>Truly a masterpiece, The Best Hollywood film o...</td>\n",
              "    </tr>\n",
              "    <tr>\n",
              "      <th>3</th>\n",
              "      <td>Review 4</td>\n",
              "      <td>Joaquin Phoenix gives a tour de force performa...</td>\n",
              "    </tr>\n",
              "    <tr>\n",
              "      <th>4</th>\n",
              "      <td>Review 5</td>\n",
              "      <td>Most of the time movies are anticipated like t...</td>\n",
              "    </tr>\n",
              "    <tr>\n",
              "      <th>...</th>\n",
              "      <td>...</td>\n",
              "      <td>...</td>\n",
              "    </tr>\n",
              "    <tr>\n",
              "      <th>103</th>\n",
              "      <td>Review 104</td>\n",
              "      <td>Truly a masterpiece, The Best Hollywood film o...</td>\n",
              "    </tr>\n",
              "    <tr>\n",
              "      <th>104</th>\n",
              "      <td>Review 105</td>\n",
              "      <td>The acting, cinematography, sound design and t...</td>\n",
              "    </tr>\n",
              "    <tr>\n",
              "      <th>105</th>\n",
              "      <td>Review 106</td>\n",
              "      <td>If you plan on watching this I would suggest s...</td>\n",
              "    </tr>\n",
              "    <tr>\n",
              "      <th>106</th>\n",
              "      <td>Review 107</td>\n",
              "      <td>If it wasn't for the title and make-up, you wo...</td>\n",
              "    </tr>\n",
              "    <tr>\n",
              "      <th>107</th>\n",
              "      <td>Review 108</td>\n",
              "      <td>Wow, what a movie! I have to admit, When I fir...</td>\n",
              "    </tr>\n",
              "  </tbody>\n",
              "</table>\n",
              "<p>108 rows × 2 columns</p>\n",
              "</div>"
            ],
            "text/plain": [
              "         Doc_Id                                             Review\n",
              "0      Review 1  Every once in a while a movie comes, that trul...\n",
              "1      Review 2  This is a movie that only those who have felt ...\n",
              "2      Review 3  Truly a masterpiece, The Best Hollywood film o...\n",
              "3      Review 4  Joaquin Phoenix gives a tour de force performa...\n",
              "4      Review 5  Most of the time movies are anticipated like t...\n",
              "..          ...                                                ...\n",
              "103  Review 104  Truly a masterpiece, The Best Hollywood film o...\n",
              "104  Review 105  The acting, cinematography, sound design and t...\n",
              "105  Review 106  If you plan on watching this I would suggest s...\n",
              "106  Review 107  If it wasn't for the title and make-up, you wo...\n",
              "107  Review 108  Wow, what a movie! I have to admit, When I fir...\n",
              "\n",
              "[108 rows x 2 columns]"
            ]
          },
          "metadata": {
            "tags": []
          },
          "execution_count": 45
        }
      ]
    },
    {
      "cell_type": "code",
      "metadata": {
        "colab": {
          "base_uri": "https://localhost:8080/"
        },
        "id": "Cyw4m3cNBPnh",
        "outputId": "cc373613-e2b5-4ae5-d3b4-3f48dfcea4df"
      },
      "source": [
        "import nltk\n",
        "\n",
        "from textblob import Word\n",
        "import nltk\n",
        "nltk.download('wordnet')"
      ],
      "execution_count": null,
      "outputs": [
        {
          "output_type": "stream",
          "text": [
            "[nltk_data] Downloading package wordnet to /root/nltk_data...\n",
            "[nltk_data]   Package wordnet is already up-to-date!\n"
          ],
          "name": "stdout"
        },
        {
          "output_type": "execute_result",
          "data": {
            "text/plain": [
              "True"
            ]
          },
          "metadata": {
            "tags": []
          },
          "execution_count": 46
        }
      ]
    },
    {
      "cell_type": "code",
      "metadata": {
        "colab": {
          "base_uri": "https://localhost:8080/"
        },
        "id": "HCxtIPC_Eh1P",
        "outputId": "f2e0ca87-d363-49fe-ed91-99075a364d1d"
      },
      "source": [
        "from nltk.tokenize import RegexpTokenizer\n",
        "nltk.download('stopwords')\n",
        "from nltk.corpus import stopwords\n",
        "stop = stopwords.words('english')\n",
        "from nltk.stem.porter import PorterStemmer\n",
        "tokenizer = RegexpTokenizer(r'\\w+')\n",
        "\n",
        "p_stemmer = PorterStemmer()"
      ],
      "execution_count": null,
      "outputs": [
        {
          "output_type": "stream",
          "text": [
            "[nltk_data] Downloading package stopwords to /root/nltk_data...\n",
            "[nltk_data]   Package stopwords is already up-to-date!\n"
          ],
          "name": "stdout"
        }
      ]
    },
    {
      "cell_type": "markdown",
      "metadata": {
        "id": "gmbltOoLHYni"
      },
      "source": [
        "**Data Cleaning**\n"
      ]
    },
    {
      "cell_type": "code",
      "metadata": {
        "colab": {
          "base_uri": "https://localhost:8080/"
        },
        "id": "D_aOOKRTDHz_",
        "outputId": "c6fd4fc6-8c59-4cd9-f03a-fbbb35299555"
      },
      "source": [
        "data['Lower Case'] = data['Review'].apply(lambda x: \" \".join(x.lower() for x in str(x).split()))\n",
        "data['Tokenization'] = data['Lower Case'].apply(lambda x: tokenizer.tokenize(x))\n",
        "data['Tokens'] = data['Tokenization'].apply(lambda x: [i for i in x if not i in stop])\n",
        "data['Stemming'] = data['Tokens'].apply(lambda x: [p_stemmer.stem(i) for i in x])\n",
        "data['Stemming']"
      ],
      "execution_count": null,
      "outputs": [
        {
          "output_type": "execute_result",
          "data": {
            "text/plain": [
              "0      [everi, movi, come, truli, make, impact, joaqu...\n",
              "1      [movi, felt, alon, isol, truli, relat, underst...\n",
              "2      [truli, masterpiec, best, hollywood, film, 201...\n",
              "3      [joaquin, phoenix, give, tour, de, forc, perfo...\n",
              "4      [time, movi, anticip, like, end, fall, short, ...\n",
              "                             ...                        \n",
              "103    [truli, masterpiec, best, hollywood, film, 201...\n",
              "104    [act, cinematographi, sound, design, script, p...\n",
              "105    [plan, watch, would, suggest, skip, last, 20, ...\n",
              "106    [titl, make, know, base, comic, book, charact,...\n",
              "107    [wow, movi, admit, first, heard, joaquin, phoe...\n",
              "Name: Stemming, Length: 108, dtype: object"
            ]
          },
          "metadata": {
            "tags": []
          },
          "execution_count": 49
        }
      ]
    },
    {
      "cell_type": "code",
      "metadata": {
        "id": "gwh7blgMG9u4"
      },
      "source": [
        "texts = []\n",
        "for line in data['Stemming']:\n",
        "  texts.append(line)"
      ],
      "execution_count": null,
      "outputs": []
    },
    {
      "cell_type": "markdown",
      "metadata": {
        "id": "FGYxMTnEHCHx"
      },
      "source": [
        "# Generation Bigrams and Trigrams"
      ]
    },
    {
      "cell_type": "code",
      "metadata": {
        "colab": {
          "base_uri": "https://localhost:8080/"
        },
        "id": "bFWo5dRtBWvy",
        "outputId": "ff329272-eb29-4b69-a8f9-fe0ccbd2e846"
      },
      "source": [
        "from gensim import corpora, models\n",
        "bigram = models.Phrases(texts, min_count=5, threshold=100)\n",
        "trigram = models.Phrases(bigram[texts], threshold=100)\n",
        "bigram_mod = models.phrases.Phraser(bigram)\n",
        "trigram_mod = models.phrases.Phraser(trigram)\n",
        "print(trigram_mod[bigram_mod[texts[0]]])"
      ],
      "execution_count": null,
      "outputs": [
        {
          "output_type": "stream",
          "text": [
            "['everi', 'movi', 'come', 'truli', 'make', 'impact', 'joaquin', 'perform', 'scenographi', 'brillianc', 'grotesqu', 'haunt', 'cringi', 'hard', 'watch', 'time', 'mesmer', 'blink', 'eye', 'watch', 'tragic', 'serious', 'funni', 'moment', 'emot', 'rollercoast', 'sometim', 'multipl', 'emot', 'pop', 'time', 'far', 'typic', 'action', 'riddl', 'predict', 'super', 'hero', 'movi', 'proper', 'psycholog', 'thriller', 'drama', 'singl', 'best', 'charact', 'develop', 'ever', 'seen']\n"
          ],
          "name": "stdout"
        },
        {
          "output_type": "stream",
          "text": [
            "/usr/local/lib/python3.7/dist-packages/gensim/models/phrases.py:598: UserWarning: For a faster implementation, use the gensim.models.phrases.Phraser class\n",
            "  warnings.warn(\"For a faster implementation, use the gensim.models.phrases.Phraser class\")\n"
          ],
          "name": "stderr"
        }
      ]
    },
    {
      "cell_type": "code",
      "metadata": {
        "id": "IqMPM5x8HgjL"
      },
      "source": [
        "def make_bigrams(texts):\n",
        "    return [bigram_mod[doc] for doc in texts]"
      ],
      "execution_count": null,
      "outputs": []
    },
    {
      "cell_type": "code",
      "metadata": {
        "id": "-FczmWwrHjrc"
      },
      "source": [
        "def make_trigrams(texts):\n",
        "    return [trigram_mod[bigram_mod[doc]] for doc in texts]"
      ],
      "execution_count": null,
      "outputs": []
    },
    {
      "cell_type": "code",
      "metadata": {
        "id": "ZjFk4MSuHmCc"
      },
      "source": [
        "def lemmatization(texts, allowed_postags=['NOUN', 'ADJ', 'VERB', 'ADV']):\n",
        "    texts_out = []\n",
        "    for sent in texts:\n",
        "        doc = nlp(\" \".join(sent)) \n",
        "        texts_out.append([token.lemma_ for token in doc if token.pos_ in allowed_postags])\n",
        "    return texts_out"
      ],
      "execution_count": null,
      "outputs": []
    },
    {
      "cell_type": "code",
      "metadata": {
        "colab": {
          "base_uri": "https://localhost:8080/"
        },
        "id": "xvsGG5pSHo2R",
        "outputId": "3e9e88de-5ad0-4cb2-f5c9-c20bfcc21d78"
      },
      "source": [
        "import spacy\n",
        "data_words_bigrams = make_bigrams(texts)\n",
        "nlp = spacy.load('en', disable=['parser', 'ner'])\n",
        "data_lemmatized = lemmatization(data_words_bigrams, allowed_postags=['NOUN', 'ADJ', 'VERB', 'ADV'])\n",
        "print(data_lemmatized[:1])"
      ],
      "execution_count": null,
      "outputs": [
        {
          "output_type": "stream",
          "text": [
            "[['come', 'truli', 'make', 'impact', 'watch', 'time', 'mesmer', 'blink', 'eye', 'watch', 'tragic', 'serious', 'moment', 'pop', 'time', 'far', 'typic', 'predict', 'super', 'hero', 'movi', 'proper', 'psycholog', 'drama', 'good', 'charact', 'develop', 'ever', 'see']]\n"
          ],
          "name": "stdout"
        }
      ]
    },
    {
      "cell_type": "code",
      "metadata": {
        "colab": {
          "base_uri": "https://localhost:8080/"
        },
        "id": "JaKtwA3OHtDF",
        "outputId": "25ee6d1d-1fec-4944-eee6-bc04811edf5b"
      },
      "source": [
        "id2word = corpora.Dictionary(data_lemmatized)\n",
        "texts = data_lemmatized\n",
        "corpus = [id2word.doc2bow(text) for text in texts]\n",
        "print(corpus[:1])"
      ],
      "execution_count": null,
      "outputs": [
        {
          "output_type": "stream",
          "text": [
            "[[(0, 1), (1, 1), (2, 1), (3, 1), (4, 1), (5, 1), (6, 1), (7, 1), (8, 1), (9, 1), (10, 1), (11, 1), (12, 1), (13, 1), (14, 1), (15, 1), (16, 1), (17, 1), (18, 1), (19, 1), (20, 1), (21, 1), (22, 2), (23, 1), (24, 1), (25, 1), (26, 2)]]\n"
          ],
          "name": "stdout"
        }
      ]
    },
    {
      "cell_type": "code",
      "metadata": {
        "colab": {
          "base_uri": "https://localhost:8080/",
          "height": 37
        },
        "id": "xBEsOcRQHvmC",
        "outputId": "783fa4f6-4ae6-45a8-a667-aa891e202fea"
      },
      "source": [
        "id2word[0]"
      ],
      "execution_count": null,
      "outputs": [
        {
          "output_type": "execute_result",
          "data": {
            "application/vnd.google.colaboratory.intrinsic+json": {
              "type": "string"
            },
            "text/plain": [
              "'blink'"
            ]
          },
          "metadata": {
            "tags": []
          },
          "execution_count": 57
        }
      ]
    },
    {
      "cell_type": "code",
      "metadata": {
        "colab": {
          "base_uri": "https://localhost:8080/"
        },
        "id": "CiDU5ADxHytm",
        "outputId": "b44627ea-df95-4b8b-9e4d-333319d2da72"
      },
      "source": [
        "[[(id2word[id], freq) for id, freq in cp] for cp in corpus[:1]]"
      ],
      "execution_count": null,
      "outputs": [
        {
          "output_type": "execute_result",
          "data": {
            "text/plain": [
              "[[('blink', 1),\n",
              "  ('charact', 1),\n",
              "  ('come', 1),\n",
              "  ('develop', 1),\n",
              "  ('drama', 1),\n",
              "  ('ever', 1),\n",
              "  ('eye', 1),\n",
              "  ('far', 1),\n",
              "  ('good', 1),\n",
              "  ('hero', 1),\n",
              "  ('impact', 1),\n",
              "  ('make', 1),\n",
              "  ('mesmer', 1),\n",
              "  ('moment', 1),\n",
              "  ('movi', 1),\n",
              "  ('pop', 1),\n",
              "  ('predict', 1),\n",
              "  ('proper', 1),\n",
              "  ('psycholog', 1),\n",
              "  ('see', 1),\n",
              "  ('serious', 1),\n",
              "  ('super', 1),\n",
              "  ('time', 2),\n",
              "  ('tragic', 1),\n",
              "  ('truli', 1),\n",
              "  ('typic', 1),\n",
              "  ('watch', 2)]]"
            ]
          },
          "metadata": {
            "tags": []
          },
          "execution_count": 58
        }
      ]
    },
    {
      "cell_type": "code",
      "metadata": {
        "colab": {
          "base_uri": "https://localhost:8080/"
        },
        "id": "QRHverqNH2Ro",
        "outputId": "9000782c-436a-4c96-8323-fe7db1a5bceb"
      },
      "source": [
        "lda_model = models.ldamodel.LdaModel(corpus=corpus,\n",
        "                                           id2word=id2word,\n",
        "                                           num_topics = 10, \n",
        "                                           random_state=100,\n",
        "                                           update_every=1,\n",
        "                                           chunksize=100,\n",
        "                                           passes=10,\n",
        "                                           alpha='auto',\n",
        "                                           per_word_topics=True)"
      ],
      "execution_count": null,
      "outputs": [
        {
          "output_type": "stream",
          "text": [
            "/usr/local/lib/python3.7/dist-packages/gensim/models/ldamodel.py:1077: DeprecationWarning: Calling np.sum(generator) is deprecated, and in the future will give a different result. Use np.sum(np.fromiter(generator)) or the python sum builtin instead.\n",
            "  score += np.sum(cnt * logsumexp(Elogthetad + Elogbeta[:, int(id)]) for id, cnt in doc)\n",
            "/usr/local/lib/python3.7/dist-packages/gensim/models/ldamodel.py:1077: DeprecationWarning: Calling np.sum(generator) is deprecated, and in the future will give a different result. Use np.sum(np.fromiter(generator)) or the python sum builtin instead.\n",
            "  score += np.sum(cnt * logsumexp(Elogthetad + Elogbeta[:, int(id)]) for id, cnt in doc)\n",
            "/usr/local/lib/python3.7/dist-packages/gensim/models/ldamodel.py:1077: DeprecationWarning: Calling np.sum(generator) is deprecated, and in the future will give a different result. Use np.sum(np.fromiter(generator)) or the python sum builtin instead.\n",
            "  score += np.sum(cnt * logsumexp(Elogthetad + Elogbeta[:, int(id)]) for id, cnt in doc)\n",
            "/usr/local/lib/python3.7/dist-packages/gensim/models/ldamodel.py:1077: DeprecationWarning: Calling np.sum(generator) is deprecated, and in the future will give a different result. Use np.sum(np.fromiter(generator)) or the python sum builtin instead.\n",
            "  score += np.sum(cnt * logsumexp(Elogthetad + Elogbeta[:, int(id)]) for id, cnt in doc)\n",
            "/usr/local/lib/python3.7/dist-packages/gensim/models/ldamodel.py:1077: DeprecationWarning: Calling np.sum(generator) is deprecated, and in the future will give a different result. Use np.sum(np.fromiter(generator)) or the python sum builtin instead.\n",
            "  score += np.sum(cnt * logsumexp(Elogthetad + Elogbeta[:, int(id)]) for id, cnt in doc)\n",
            "/usr/local/lib/python3.7/dist-packages/gensim/models/ldamodel.py:1077: DeprecationWarning: Calling np.sum(generator) is deprecated, and in the future will give a different result. Use np.sum(np.fromiter(generator)) or the python sum builtin instead.\n",
            "  score += np.sum(cnt * logsumexp(Elogthetad + Elogbeta[:, int(id)]) for id, cnt in doc)\n",
            "/usr/local/lib/python3.7/dist-packages/gensim/models/ldamodel.py:1077: DeprecationWarning: Calling np.sum(generator) is deprecated, and in the future will give a different result. Use np.sum(np.fromiter(generator)) or the python sum builtin instead.\n",
            "  score += np.sum(cnt * logsumexp(Elogthetad + Elogbeta[:, int(id)]) for id, cnt in doc)\n",
            "/usr/local/lib/python3.7/dist-packages/gensim/models/ldamodel.py:1077: DeprecationWarning: Calling np.sum(generator) is deprecated, and in the future will give a different result. Use np.sum(np.fromiter(generator)) or the python sum builtin instead.\n",
            "  score += np.sum(cnt * logsumexp(Elogthetad + Elogbeta[:, int(id)]) for id, cnt in doc)\n",
            "/usr/local/lib/python3.7/dist-packages/gensim/models/ldamodel.py:1077: DeprecationWarning: Calling np.sum(generator) is deprecated, and in the future will give a different result. Use np.sum(np.fromiter(generator)) or the python sum builtin instead.\n",
            "  score += np.sum(cnt * logsumexp(Elogthetad + Elogbeta[:, int(id)]) for id, cnt in doc)\n",
            "/usr/local/lib/python3.7/dist-packages/gensim/models/ldamodel.py:1077: DeprecationWarning: Calling np.sum(generator) is deprecated, and in the future will give a different result. Use np.sum(np.fromiter(generator)) or the python sum builtin instead.\n",
            "  score += np.sum(cnt * logsumexp(Elogthetad + Elogbeta[:, int(id)]) for id, cnt in doc)\n",
            "/usr/local/lib/python3.7/dist-packages/gensim/models/ldamodel.py:1077: DeprecationWarning: Calling np.sum(generator) is deprecated, and in the future will give a different result. Use np.sum(np.fromiter(generator)) or the python sum builtin instead.\n",
            "  score += np.sum(cnt * logsumexp(Elogthetad + Elogbeta[:, int(id)]) for id, cnt in doc)\n",
            "/usr/local/lib/python3.7/dist-packages/gensim/models/ldamodel.py:1077: DeprecationWarning: Calling np.sum(generator) is deprecated, and in the future will give a different result. Use np.sum(np.fromiter(generator)) or the python sum builtin instead.\n",
            "  score += np.sum(cnt * logsumexp(Elogthetad + Elogbeta[:, int(id)]) for id, cnt in doc)\n",
            "/usr/local/lib/python3.7/dist-packages/gensim/models/ldamodel.py:1077: DeprecationWarning: Calling np.sum(generator) is deprecated, and in the future will give a different result. Use np.sum(np.fromiter(generator)) or the python sum builtin instead.\n",
            "  score += np.sum(cnt * logsumexp(Elogthetad + Elogbeta[:, int(id)]) for id, cnt in doc)\n",
            "/usr/local/lib/python3.7/dist-packages/gensim/models/ldamodel.py:1077: DeprecationWarning: Calling np.sum(generator) is deprecated, and in the future will give a different result. Use np.sum(np.fromiter(generator)) or the python sum builtin instead.\n",
            "  score += np.sum(cnt * logsumexp(Elogthetad + Elogbeta[:, int(id)]) for id, cnt in doc)\n",
            "/usr/local/lib/python3.7/dist-packages/gensim/models/ldamodel.py:1077: DeprecationWarning: Calling np.sum(generator) is deprecated, and in the future will give a different result. Use np.sum(np.fromiter(generator)) or the python sum builtin instead.\n",
            "  score += np.sum(cnt * logsumexp(Elogthetad + Elogbeta[:, int(id)]) for id, cnt in doc)\n",
            "/usr/local/lib/python3.7/dist-packages/gensim/models/ldamodel.py:1077: DeprecationWarning: Calling np.sum(generator) is deprecated, and in the future will give a different result. Use np.sum(np.fromiter(generator)) or the python sum builtin instead.\n",
            "  score += np.sum(cnt * logsumexp(Elogthetad + Elogbeta[:, int(id)]) for id, cnt in doc)\n",
            "/usr/local/lib/python3.7/dist-packages/gensim/models/ldamodel.py:1077: DeprecationWarning: Calling np.sum(generator) is deprecated, and in the future will give a different result. Use np.sum(np.fromiter(generator)) or the python sum builtin instead.\n",
            "  score += np.sum(cnt * logsumexp(Elogthetad + Elogbeta[:, int(id)]) for id, cnt in doc)\n",
            "/usr/local/lib/python3.7/dist-packages/gensim/models/ldamodel.py:1077: DeprecationWarning: Calling np.sum(generator) is deprecated, and in the future will give a different result. Use np.sum(np.fromiter(generator)) or the python sum builtin instead.\n",
            "  score += np.sum(cnt * logsumexp(Elogthetad + Elogbeta[:, int(id)]) for id, cnt in doc)\n",
            "/usr/local/lib/python3.7/dist-packages/gensim/models/ldamodel.py:1077: DeprecationWarning: Calling np.sum(generator) is deprecated, and in the future will give a different result. Use np.sum(np.fromiter(generator)) or the python sum builtin instead.\n",
            "  score += np.sum(cnt * logsumexp(Elogthetad + Elogbeta[:, int(id)]) for id, cnt in doc)\n",
            "/usr/local/lib/python3.7/dist-packages/gensim/models/ldamodel.py:1077: DeprecationWarning: Calling np.sum(generator) is deprecated, and in the future will give a different result. Use np.sum(np.fromiter(generator)) or the python sum builtin instead.\n",
            "  score += np.sum(cnt * logsumexp(Elogthetad + Elogbeta[:, int(id)]) for id, cnt in doc)\n",
            "/usr/local/lib/python3.7/dist-packages/gensim/models/ldamodel.py:1077: DeprecationWarning: Calling np.sum(generator) is deprecated, and in the future will give a different result. Use np.sum(np.fromiter(generator)) or the python sum builtin instead.\n",
            "  score += np.sum(cnt * logsumexp(Elogthetad + Elogbeta[:, int(id)]) for id, cnt in doc)\n",
            "/usr/local/lib/python3.7/dist-packages/gensim/models/ldamodel.py:1077: DeprecationWarning: Calling np.sum(generator) is deprecated, and in the future will give a different result. Use np.sum(np.fromiter(generator)) or the python sum builtin instead.\n",
            "  score += np.sum(cnt * logsumexp(Elogthetad + Elogbeta[:, int(id)]) for id, cnt in doc)\n",
            "/usr/local/lib/python3.7/dist-packages/gensim/models/ldamodel.py:1077: DeprecationWarning: Calling np.sum(generator) is deprecated, and in the future will give a different result. Use np.sum(np.fromiter(generator)) or the python sum builtin instead.\n",
            "  score += np.sum(cnt * logsumexp(Elogthetad + Elogbeta[:, int(id)]) for id, cnt in doc)\n",
            "/usr/local/lib/python3.7/dist-packages/gensim/models/ldamodel.py:1077: DeprecationWarning: Calling np.sum(generator) is deprecated, and in the future will give a different result. Use np.sum(np.fromiter(generator)) or the python sum builtin instead.\n",
            "  score += np.sum(cnt * logsumexp(Elogthetad + Elogbeta[:, int(id)]) for id, cnt in doc)\n",
            "/usr/local/lib/python3.7/dist-packages/gensim/models/ldamodel.py:1077: DeprecationWarning: Calling np.sum(generator) is deprecated, and in the future will give a different result. Use np.sum(np.fromiter(generator)) or the python sum builtin instead.\n",
            "  score += np.sum(cnt * logsumexp(Elogthetad + Elogbeta[:, int(id)]) for id, cnt in doc)\n",
            "/usr/local/lib/python3.7/dist-packages/gensim/models/ldamodel.py:1077: DeprecationWarning: Calling np.sum(generator) is deprecated, and in the future will give a different result. Use np.sum(np.fromiter(generator)) or the python sum builtin instead.\n",
            "  score += np.sum(cnt * logsumexp(Elogthetad + Elogbeta[:, int(id)]) for id, cnt in doc)\n",
            "/usr/local/lib/python3.7/dist-packages/gensim/models/ldamodel.py:1077: DeprecationWarning: Calling np.sum(generator) is deprecated, and in the future will give a different result. Use np.sum(np.fromiter(generator)) or the python sum builtin instead.\n",
            "  score += np.sum(cnt * logsumexp(Elogthetad + Elogbeta[:, int(id)]) for id, cnt in doc)\n",
            "/usr/local/lib/python3.7/dist-packages/gensim/models/ldamodel.py:1077: DeprecationWarning: Calling np.sum(generator) is deprecated, and in the future will give a different result. Use np.sum(np.fromiter(generator)) or the python sum builtin instead.\n",
            "  score += np.sum(cnt * logsumexp(Elogthetad + Elogbeta[:, int(id)]) for id, cnt in doc)\n",
            "/usr/local/lib/python3.7/dist-packages/gensim/models/ldamodel.py:1077: DeprecationWarning: Calling np.sum(generator) is deprecated, and in the future will give a different result. Use np.sum(np.fromiter(generator)) or the python sum builtin instead.\n",
            "  score += np.sum(cnt * logsumexp(Elogthetad + Elogbeta[:, int(id)]) for id, cnt in doc)\n",
            "/usr/local/lib/python3.7/dist-packages/gensim/models/ldamodel.py:1077: DeprecationWarning: Calling np.sum(generator) is deprecated, and in the future will give a different result. Use np.sum(np.fromiter(generator)) or the python sum builtin instead.\n",
            "  score += np.sum(cnt * logsumexp(Elogthetad + Elogbeta[:, int(id)]) for id, cnt in doc)\n",
            "/usr/local/lib/python3.7/dist-packages/gensim/models/ldamodel.py:1077: DeprecationWarning: Calling np.sum(generator) is deprecated, and in the future will give a different result. Use np.sum(np.fromiter(generator)) or the python sum builtin instead.\n",
            "  score += np.sum(cnt * logsumexp(Elogthetad + Elogbeta[:, int(id)]) for id, cnt in doc)\n",
            "/usr/local/lib/python3.7/dist-packages/gensim/models/ldamodel.py:1077: DeprecationWarning: Calling np.sum(generator) is deprecated, and in the future will give a different result. Use np.sum(np.fromiter(generator)) or the python sum builtin instead.\n",
            "  score += np.sum(cnt * logsumexp(Elogthetad + Elogbeta[:, int(id)]) for id, cnt in doc)\n",
            "/usr/local/lib/python3.7/dist-packages/gensim/models/ldamodel.py:1077: DeprecationWarning: Calling np.sum(generator) is deprecated, and in the future will give a different result. Use np.sum(np.fromiter(generator)) or the python sum builtin instead.\n",
            "  score += np.sum(cnt * logsumexp(Elogthetad + Elogbeta[:, int(id)]) for id, cnt in doc)\n",
            "/usr/local/lib/python3.7/dist-packages/gensim/models/ldamodel.py:1077: DeprecationWarning: Calling np.sum(generator) is deprecated, and in the future will give a different result. Use np.sum(np.fromiter(generator)) or the python sum builtin instead.\n",
            "  score += np.sum(cnt * logsumexp(Elogthetad + Elogbeta[:, int(id)]) for id, cnt in doc)\n",
            "/usr/local/lib/python3.7/dist-packages/gensim/models/ldamodel.py:1077: DeprecationWarning: Calling np.sum(generator) is deprecated, and in the future will give a different result. Use np.sum(np.fromiter(generator)) or the python sum builtin instead.\n",
            "  score += np.sum(cnt * logsumexp(Elogthetad + Elogbeta[:, int(id)]) for id, cnt in doc)\n",
            "/usr/local/lib/python3.7/dist-packages/gensim/models/ldamodel.py:1077: DeprecationWarning: Calling np.sum(generator) is deprecated, and in the future will give a different result. Use np.sum(np.fromiter(generator)) or the python sum builtin instead.\n",
            "  score += np.sum(cnt * logsumexp(Elogthetad + Elogbeta[:, int(id)]) for id, cnt in doc)\n",
            "/usr/local/lib/python3.7/dist-packages/gensim/models/ldamodel.py:1077: DeprecationWarning: Calling np.sum(generator) is deprecated, and in the future will give a different result. Use np.sum(np.fromiter(generator)) or the python sum builtin instead.\n",
            "  score += np.sum(cnt * logsumexp(Elogthetad + Elogbeta[:, int(id)]) for id, cnt in doc)\n",
            "/usr/local/lib/python3.7/dist-packages/gensim/models/ldamodel.py:1077: DeprecationWarning: Calling np.sum(generator) is deprecated, and in the future will give a different result. Use np.sum(np.fromiter(generator)) or the python sum builtin instead.\n",
            "  score += np.sum(cnt * logsumexp(Elogthetad + Elogbeta[:, int(id)]) for id, cnt in doc)\n",
            "/usr/local/lib/python3.7/dist-packages/gensim/models/ldamodel.py:1077: DeprecationWarning: Calling np.sum(generator) is deprecated, and in the future will give a different result. Use np.sum(np.fromiter(generator)) or the python sum builtin instead.\n",
            "  score += np.sum(cnt * logsumexp(Elogthetad + Elogbeta[:, int(id)]) for id, cnt in doc)\n",
            "/usr/local/lib/python3.7/dist-packages/gensim/models/ldamodel.py:1077: DeprecationWarning: Calling np.sum(generator) is deprecated, and in the future will give a different result. Use np.sum(np.fromiter(generator)) or the python sum builtin instead.\n",
            "  score += np.sum(cnt * logsumexp(Elogthetad + Elogbeta[:, int(id)]) for id, cnt in doc)\n",
            "/usr/local/lib/python3.7/dist-packages/gensim/models/ldamodel.py:1077: DeprecationWarning: Calling np.sum(generator) is deprecated, and in the future will give a different result. Use np.sum(np.fromiter(generator)) or the python sum builtin instead.\n",
            "  score += np.sum(cnt * logsumexp(Elogthetad + Elogbeta[:, int(id)]) for id, cnt in doc)\n",
            "/usr/local/lib/python3.7/dist-packages/gensim/models/ldamodel.py:1077: DeprecationWarning: Calling np.sum(generator) is deprecated, and in the future will give a different result. Use np.sum(np.fromiter(generator)) or the python sum builtin instead.\n",
            "  score += np.sum(cnt * logsumexp(Elogthetad + Elogbeta[:, int(id)]) for id, cnt in doc)\n",
            "/usr/local/lib/python3.7/dist-packages/gensim/models/ldamodel.py:1077: DeprecationWarning: Calling np.sum(generator) is deprecated, and in the future will give a different result. Use np.sum(np.fromiter(generator)) or the python sum builtin instead.\n",
            "  score += np.sum(cnt * logsumexp(Elogthetad + Elogbeta[:, int(id)]) for id, cnt in doc)\n",
            "/usr/local/lib/python3.7/dist-packages/gensim/models/ldamodel.py:1077: DeprecationWarning: Calling np.sum(generator) is deprecated, and in the future will give a different result. Use np.sum(np.fromiter(generator)) or the python sum builtin instead.\n",
            "  score += np.sum(cnt * logsumexp(Elogthetad + Elogbeta[:, int(id)]) for id, cnt in doc)\n",
            "/usr/local/lib/python3.7/dist-packages/gensim/models/ldamodel.py:1077: DeprecationWarning: Calling np.sum(generator) is deprecated, and in the future will give a different result. Use np.sum(np.fromiter(generator)) or the python sum builtin instead.\n",
            "  score += np.sum(cnt * logsumexp(Elogthetad + Elogbeta[:, int(id)]) for id, cnt in doc)\n",
            "/usr/local/lib/python3.7/dist-packages/gensim/models/ldamodel.py:1077: DeprecationWarning: Calling np.sum(generator) is deprecated, and in the future will give a different result. Use np.sum(np.fromiter(generator)) or the python sum builtin instead.\n",
            "  score += np.sum(cnt * logsumexp(Elogthetad + Elogbeta[:, int(id)]) for id, cnt in doc)\n",
            "/usr/local/lib/python3.7/dist-packages/gensim/models/ldamodel.py:1077: DeprecationWarning: Calling np.sum(generator) is deprecated, and in the future will give a different result. Use np.sum(np.fromiter(generator)) or the python sum builtin instead.\n",
            "  score += np.sum(cnt * logsumexp(Elogthetad + Elogbeta[:, int(id)]) for id, cnt in doc)\n",
            "/usr/local/lib/python3.7/dist-packages/gensim/models/ldamodel.py:1077: DeprecationWarning: Calling np.sum(generator) is deprecated, and in the future will give a different result. Use np.sum(np.fromiter(generator)) or the python sum builtin instead.\n",
            "  score += np.sum(cnt * logsumexp(Elogthetad + Elogbeta[:, int(id)]) for id, cnt in doc)\n",
            "/usr/local/lib/python3.7/dist-packages/gensim/models/ldamodel.py:1077: DeprecationWarning: Calling np.sum(generator) is deprecated, and in the future will give a different result. Use np.sum(np.fromiter(generator)) or the python sum builtin instead.\n",
            "  score += np.sum(cnt * logsumexp(Elogthetad + Elogbeta[:, int(id)]) for id, cnt in doc)\n",
            "/usr/local/lib/python3.7/dist-packages/gensim/models/ldamodel.py:1077: DeprecationWarning: Calling np.sum(generator) is deprecated, and in the future will give a different result. Use np.sum(np.fromiter(generator)) or the python sum builtin instead.\n",
            "  score += np.sum(cnt * logsumexp(Elogthetad + Elogbeta[:, int(id)]) for id, cnt in doc)\n",
            "/usr/local/lib/python3.7/dist-packages/gensim/models/ldamodel.py:1077: DeprecationWarning: Calling np.sum(generator) is deprecated, and in the future will give a different result. Use np.sum(np.fromiter(generator)) or the python sum builtin instead.\n",
            "  score += np.sum(cnt * logsumexp(Elogthetad + Elogbeta[:, int(id)]) for id, cnt in doc)\n",
            "/usr/local/lib/python3.7/dist-packages/gensim/models/ldamodel.py:1077: DeprecationWarning: Calling np.sum(generator) is deprecated, and in the future will give a different result. Use np.sum(np.fromiter(generator)) or the python sum builtin instead.\n",
            "  score += np.sum(cnt * logsumexp(Elogthetad + Elogbeta[:, int(id)]) for id, cnt in doc)\n",
            "/usr/local/lib/python3.7/dist-packages/gensim/models/ldamodel.py:1077: DeprecationWarning: Calling np.sum(generator) is deprecated, and in the future will give a different result. Use np.sum(np.fromiter(generator)) or the python sum builtin instead.\n",
            "  score += np.sum(cnt * logsumexp(Elogthetad + Elogbeta[:, int(id)]) for id, cnt in doc)\n",
            "/usr/local/lib/python3.7/dist-packages/gensim/models/ldamodel.py:1077: DeprecationWarning: Calling np.sum(generator) is deprecated, and in the future will give a different result. Use np.sum(np.fromiter(generator)) or the python sum builtin instead.\n",
            "  score += np.sum(cnt * logsumexp(Elogthetad + Elogbeta[:, int(id)]) for id, cnt in doc)\n",
            "/usr/local/lib/python3.7/dist-packages/gensim/models/ldamodel.py:1077: DeprecationWarning: Calling np.sum(generator) is deprecated, and in the future will give a different result. Use np.sum(np.fromiter(generator)) or the python sum builtin instead.\n",
            "  score += np.sum(cnt * logsumexp(Elogthetad + Elogbeta[:, int(id)]) for id, cnt in doc)\n",
            "/usr/local/lib/python3.7/dist-packages/gensim/models/ldamodel.py:1077: DeprecationWarning: Calling np.sum(generator) is deprecated, and in the future will give a different result. Use np.sum(np.fromiter(generator)) or the python sum builtin instead.\n",
            "  score += np.sum(cnt * logsumexp(Elogthetad + Elogbeta[:, int(id)]) for id, cnt in doc)\n",
            "/usr/local/lib/python3.7/dist-packages/gensim/models/ldamodel.py:1077: DeprecationWarning: Calling np.sum(generator) is deprecated, and in the future will give a different result. Use np.sum(np.fromiter(generator)) or the python sum builtin instead.\n",
            "  score += np.sum(cnt * logsumexp(Elogthetad + Elogbeta[:, int(id)]) for id, cnt in doc)\n",
            "/usr/local/lib/python3.7/dist-packages/gensim/models/ldamodel.py:1077: DeprecationWarning: Calling np.sum(generator) is deprecated, and in the future will give a different result. Use np.sum(np.fromiter(generator)) or the python sum builtin instead.\n",
            "  score += np.sum(cnt * logsumexp(Elogthetad + Elogbeta[:, int(id)]) for id, cnt in doc)\n",
            "/usr/local/lib/python3.7/dist-packages/gensim/models/ldamodel.py:1077: DeprecationWarning: Calling np.sum(generator) is deprecated, and in the future will give a different result. Use np.sum(np.fromiter(generator)) or the python sum builtin instead.\n",
            "  score += np.sum(cnt * logsumexp(Elogthetad + Elogbeta[:, int(id)]) for id, cnt in doc)\n",
            "/usr/local/lib/python3.7/dist-packages/gensim/models/ldamodel.py:1077: DeprecationWarning: Calling np.sum(generator) is deprecated, and in the future will give a different result. Use np.sum(np.fromiter(generator)) or the python sum builtin instead.\n",
            "  score += np.sum(cnt * logsumexp(Elogthetad + Elogbeta[:, int(id)]) for id, cnt in doc)\n",
            "/usr/local/lib/python3.7/dist-packages/gensim/models/ldamodel.py:1077: DeprecationWarning: Calling np.sum(generator) is deprecated, and in the future will give a different result. Use np.sum(np.fromiter(generator)) or the python sum builtin instead.\n",
            "  score += np.sum(cnt * logsumexp(Elogthetad + Elogbeta[:, int(id)]) for id, cnt in doc)\n",
            "/usr/local/lib/python3.7/dist-packages/gensim/models/ldamodel.py:1077: DeprecationWarning: Calling np.sum(generator) is deprecated, and in the future will give a different result. Use np.sum(np.fromiter(generator)) or the python sum builtin instead.\n",
            "  score += np.sum(cnt * logsumexp(Elogthetad + Elogbeta[:, int(id)]) for id, cnt in doc)\n",
            "/usr/local/lib/python3.7/dist-packages/gensim/models/ldamodel.py:1077: DeprecationWarning: Calling np.sum(generator) is deprecated, and in the future will give a different result. Use np.sum(np.fromiter(generator)) or the python sum builtin instead.\n",
            "  score += np.sum(cnt * logsumexp(Elogthetad + Elogbeta[:, int(id)]) for id, cnt in doc)\n",
            "/usr/local/lib/python3.7/dist-packages/gensim/models/ldamodel.py:1077: DeprecationWarning: Calling np.sum(generator) is deprecated, and in the future will give a different result. Use np.sum(np.fromiter(generator)) or the python sum builtin instead.\n",
            "  score += np.sum(cnt * logsumexp(Elogthetad + Elogbeta[:, int(id)]) for id, cnt in doc)\n",
            "/usr/local/lib/python3.7/dist-packages/gensim/models/ldamodel.py:1077: DeprecationWarning: Calling np.sum(generator) is deprecated, and in the future will give a different result. Use np.sum(np.fromiter(generator)) or the python sum builtin instead.\n",
            "  score += np.sum(cnt * logsumexp(Elogthetad + Elogbeta[:, int(id)]) for id, cnt in doc)\n",
            "/usr/local/lib/python3.7/dist-packages/gensim/models/ldamodel.py:1077: DeprecationWarning: Calling np.sum(generator) is deprecated, and in the future will give a different result. Use np.sum(np.fromiter(generator)) or the python sum builtin instead.\n",
            "  score += np.sum(cnt * logsumexp(Elogthetad + Elogbeta[:, int(id)]) for id, cnt in doc)\n",
            "/usr/local/lib/python3.7/dist-packages/gensim/models/ldamodel.py:1077: DeprecationWarning: Calling np.sum(generator) is deprecated, and in the future will give a different result. Use np.sum(np.fromiter(generator)) or the python sum builtin instead.\n",
            "  score += np.sum(cnt * logsumexp(Elogthetad + Elogbeta[:, int(id)]) for id, cnt in doc)\n",
            "/usr/local/lib/python3.7/dist-packages/gensim/models/ldamodel.py:1077: DeprecationWarning: Calling np.sum(generator) is deprecated, and in the future will give a different result. Use np.sum(np.fromiter(generator)) or the python sum builtin instead.\n",
            "  score += np.sum(cnt * logsumexp(Elogthetad + Elogbeta[:, int(id)]) for id, cnt in doc)\n",
            "/usr/local/lib/python3.7/dist-packages/gensim/models/ldamodel.py:1077: DeprecationWarning: Calling np.sum(generator) is deprecated, and in the future will give a different result. Use np.sum(np.fromiter(generator)) or the python sum builtin instead.\n",
            "  score += np.sum(cnt * logsumexp(Elogthetad + Elogbeta[:, int(id)]) for id, cnt in doc)\n",
            "/usr/local/lib/python3.7/dist-packages/gensim/models/ldamodel.py:1077: DeprecationWarning: Calling np.sum(generator) is deprecated, and in the future will give a different result. Use np.sum(np.fromiter(generator)) or the python sum builtin instead.\n",
            "  score += np.sum(cnt * logsumexp(Elogthetad + Elogbeta[:, int(id)]) for id, cnt in doc)\n",
            "/usr/local/lib/python3.7/dist-packages/gensim/models/ldamodel.py:1077: DeprecationWarning: Calling np.sum(generator) is deprecated, and in the future will give a different result. Use np.sum(np.fromiter(generator)) or the python sum builtin instead.\n",
            "  score += np.sum(cnt * logsumexp(Elogthetad + Elogbeta[:, int(id)]) for id, cnt in doc)\n",
            "/usr/local/lib/python3.7/dist-packages/gensim/models/ldamodel.py:1077: DeprecationWarning: Calling np.sum(generator) is deprecated, and in the future will give a different result. Use np.sum(np.fromiter(generator)) or the python sum builtin instead.\n",
            "  score += np.sum(cnt * logsumexp(Elogthetad + Elogbeta[:, int(id)]) for id, cnt in doc)\n",
            "/usr/local/lib/python3.7/dist-packages/gensim/models/ldamodel.py:1077: DeprecationWarning: Calling np.sum(generator) is deprecated, and in the future will give a different result. Use np.sum(np.fromiter(generator)) or the python sum builtin instead.\n",
            "  score += np.sum(cnt * logsumexp(Elogthetad + Elogbeta[:, int(id)]) for id, cnt in doc)\n",
            "/usr/local/lib/python3.7/dist-packages/gensim/models/ldamodel.py:1077: DeprecationWarning: Calling np.sum(generator) is deprecated, and in the future will give a different result. Use np.sum(np.fromiter(generator)) or the python sum builtin instead.\n",
            "  score += np.sum(cnt * logsumexp(Elogthetad + Elogbeta[:, int(id)]) for id, cnt in doc)\n",
            "/usr/local/lib/python3.7/dist-packages/gensim/models/ldamodel.py:1077: DeprecationWarning: Calling np.sum(generator) is deprecated, and in the future will give a different result. Use np.sum(np.fromiter(generator)) or the python sum builtin instead.\n",
            "  score += np.sum(cnt * logsumexp(Elogthetad + Elogbeta[:, int(id)]) for id, cnt in doc)\n",
            "/usr/local/lib/python3.7/dist-packages/gensim/models/ldamodel.py:1077: DeprecationWarning: Calling np.sum(generator) is deprecated, and in the future will give a different result. Use np.sum(np.fromiter(generator)) or the python sum builtin instead.\n",
            "  score += np.sum(cnt * logsumexp(Elogthetad + Elogbeta[:, int(id)]) for id, cnt in doc)\n",
            "/usr/local/lib/python3.7/dist-packages/gensim/models/ldamodel.py:1077: DeprecationWarning: Calling np.sum(generator) is deprecated, and in the future will give a different result. Use np.sum(np.fromiter(generator)) or the python sum builtin instead.\n",
            "  score += np.sum(cnt * logsumexp(Elogthetad + Elogbeta[:, int(id)]) for id, cnt in doc)\n",
            "/usr/local/lib/python3.7/dist-packages/gensim/models/ldamodel.py:1077: DeprecationWarning: Calling np.sum(generator) is deprecated, and in the future will give a different result. Use np.sum(np.fromiter(generator)) or the python sum builtin instead.\n",
            "  score += np.sum(cnt * logsumexp(Elogthetad + Elogbeta[:, int(id)]) for id, cnt in doc)\n",
            "/usr/local/lib/python3.7/dist-packages/gensim/models/ldamodel.py:1077: DeprecationWarning: Calling np.sum(generator) is deprecated, and in the future will give a different result. Use np.sum(np.fromiter(generator)) or the python sum builtin instead.\n",
            "  score += np.sum(cnt * logsumexp(Elogthetad + Elogbeta[:, int(id)]) for id, cnt in doc)\n",
            "/usr/local/lib/python3.7/dist-packages/gensim/models/ldamodel.py:1077: DeprecationWarning: Calling np.sum(generator) is deprecated, and in the future will give a different result. Use np.sum(np.fromiter(generator)) or the python sum builtin instead.\n",
            "  score += np.sum(cnt * logsumexp(Elogthetad + Elogbeta[:, int(id)]) for id, cnt in doc)\n"
          ],
          "name": "stderr"
        }
      ]
    },
    {
      "cell_type": "code",
      "metadata": {
        "colab": {
          "base_uri": "https://localhost:8080/"
        },
        "id": "wVEvpzkdH5Aa",
        "outputId": "c9fd41e5-3908-4add-f875-b94d844309f9"
      },
      "source": [
        "from pprint import pprint\n",
        "pprint(lda_model.print_topics())\n",
        "doc_lda = lda_model[corpus]"
      ],
      "execution_count": null,
      "outputs": [
        {
          "output_type": "stream",
          "text": [
            "[(0,\n",
            "  '0.054*\"film\" + 0.029*\"movi\" + 0.025*\"watch\" + 0.024*\"say\" + 0.023*\"deserv\" '\n",
            "  '+ 0.022*\"good\" + 0.020*\"main\" + 0.020*\"differ\" + 0.020*\"perform\" + '\n",
            "  '0.018*\"would\"'),\n",
            " (1,\n",
            "  '0.068*\"screenplay\" + 0.059*\"oscar\" + 0.056*\"costum\" + 0.015*\"score\" + '\n",
            "  '0.007*\"expect\" + 0.007*\"line\" + 0.007*\"felt\" + 0.007*\"actor\" + 0.004*\"tour\" '\n",
            "  '+ 0.004*\"exceed\"'),\n",
            " (2,\n",
            "  '0.091*\"film\" + 0.039*\"way\" + 0.035*\"make\" + 0.033*\"good\" + 0.033*\"could\" + '\n",
            "  '0.033*\"peopl\" + 0.030*\"show\" + 0.030*\"differ\" + 0.020*\"much\" + '\n",
            "  '0.019*\"violent\"'),\n",
            " (3,\n",
            "  '0.010*\"less\" + 0.010*\"great\" + 0.007*\"appear\" + 0.007*\"fiction\" + '\n",
            "  '0.007*\"someth\" + 0.007*\"gun\" + 0.007*\"despit\" + 0.006*\"bad\" + 0.005*\"new\" + '\n",
            "  '0.004*\"opinion\"'),\n",
            " (4,\n",
            "  '0.057*\"make\" + 0.046*\"even\" + 0.040*\"time\" + 0.033*\"see\" + 0.028*\"differ\" + '\n",
            "  '0.025*\"charact\" + 0.025*\"know\" + 0.022*\"joker\" + 0.022*\"scene\" + '\n",
            "  '0.022*\"feel\"'),\n",
            " (5,\n",
            "  '0.058*\"movi\" + 0.028*\"peopl\" + 0.025*\"spend\" + 0.023*\"think\" + 0.018*\"need\" '\n",
            "  '+ 0.018*\"feel\" + 0.014*\"good\" + 0.014*\"make\" + 0.014*\"plot\" + '\n",
            "  '0.013*\"person\"'),\n",
            " (6,\n",
            "  '0.091*\"go\" + 0.026*\"point\" + 0.024*\"act\" + 0.023*\"charact\" + 0.023*\"right\" '\n",
            "  '+ 0.022*\"play\" + 0.021*\"version\" + 0.020*\"full\" + 0.019*\"son\" + '\n",
            "  '0.019*\"fluff\"'),\n",
            " (7,\n",
            "  '0.037*\"music\" + 0.014*\"action\" + 0.012*\"realli\" + 0.011*\"look\" + '\n",
            "  '0.011*\"theme\" + 0.010*\"actor\" + 0.010*\"go\" + 0.010*\"perfect\" + 0.010*\"tell\" '\n",
            "  '+ 0.010*\"superhero\"'),\n",
            " (8,\n",
            "  '0.044*\"forget\" + 0.026*\"fight\" + 0.025*\"lose\" + 0.025*\"weak\" + '\n",
            "  '0.024*\"script\" + 0.024*\"base\" + 0.023*\"insan\" + 0.023*\"fill\" + 0.023*\"cri\" '\n",
            "  '+ 0.023*\"phenoman\"'),\n",
            " (9,\n",
            "  '0.047*\"say\" + 0.044*\"give\" + 0.039*\"moment\" + 0.021*\"stupid\" + '\n",
            "  '0.021*\"everyth\" + 0.021*\"mess\" + 0.020*\"skip\" + 0.020*\"ago\" + 0.019*\"less\" '\n",
            "  '+ 0.019*\"elev\"')]\n"
          ],
          "name": "stdout"
        }
      ]
    },
    {
      "cell_type": "code",
      "metadata": {
        "colab": {
          "base_uri": "https://localhost:8080/"
        },
        "id": "NC0jlzZ6H8iH",
        "outputId": "35ad391c-d1d1-4ff6-d621-14040b99bee2"
      },
      "source": [
        "from gensim.models import CoherenceModel\n",
        "print('\\nPerplexity: ', lda_model.log_perplexity(corpus))\n",
        "coherence_model_lda = CoherenceModel(model=lda_model, texts=data_lemmatized, dictionary=id2word, coherence='c_v')\n",
        "coherence_lda = coherence_model_lda.get_coherence()\n",
        "print('\\nCoherence Score: ', coherence_lda)"
      ],
      "execution_count": null,
      "outputs": [
        {
          "output_type": "stream",
          "text": [
            "/usr/local/lib/python3.7/dist-packages/gensim/models/ldamodel.py:1077: DeprecationWarning: Calling np.sum(generator) is deprecated, and in the future will give a different result. Use np.sum(np.fromiter(generator)) or the python sum builtin instead.\n",
            "  score += np.sum(cnt * logsumexp(Elogthetad + Elogbeta[:, int(id)]) for id, cnt in doc)\n",
            "/usr/local/lib/python3.7/dist-packages/gensim/models/ldamodel.py:1077: DeprecationWarning: Calling np.sum(generator) is deprecated, and in the future will give a different result. Use np.sum(np.fromiter(generator)) or the python sum builtin instead.\n",
            "  score += np.sum(cnt * logsumexp(Elogthetad + Elogbeta[:, int(id)]) for id, cnt in doc)\n",
            "/usr/local/lib/python3.7/dist-packages/gensim/models/ldamodel.py:1077: DeprecationWarning: Calling np.sum(generator) is deprecated, and in the future will give a different result. Use np.sum(np.fromiter(generator)) or the python sum builtin instead.\n",
            "  score += np.sum(cnt * logsumexp(Elogthetad + Elogbeta[:, int(id)]) for id, cnt in doc)\n",
            "/usr/local/lib/python3.7/dist-packages/gensim/models/ldamodel.py:1077: DeprecationWarning: Calling np.sum(generator) is deprecated, and in the future will give a different result. Use np.sum(np.fromiter(generator)) or the python sum builtin instead.\n",
            "  score += np.sum(cnt * logsumexp(Elogthetad + Elogbeta[:, int(id)]) for id, cnt in doc)\n",
            "/usr/local/lib/python3.7/dist-packages/gensim/models/ldamodel.py:1077: DeprecationWarning: Calling np.sum(generator) is deprecated, and in the future will give a different result. Use np.sum(np.fromiter(generator)) or the python sum builtin instead.\n",
            "  score += np.sum(cnt * logsumexp(Elogthetad + Elogbeta[:, int(id)]) for id, cnt in doc)\n",
            "/usr/local/lib/python3.7/dist-packages/gensim/models/ldamodel.py:1077: DeprecationWarning: Calling np.sum(generator) is deprecated, and in the future will give a different result. Use np.sum(np.fromiter(generator)) or the python sum builtin instead.\n",
            "  score += np.sum(cnt * logsumexp(Elogthetad + Elogbeta[:, int(id)]) for id, cnt in doc)\n",
            "/usr/local/lib/python3.7/dist-packages/gensim/models/ldamodel.py:1077: DeprecationWarning: Calling np.sum(generator) is deprecated, and in the future will give a different result. Use np.sum(np.fromiter(generator)) or the python sum builtin instead.\n",
            "  score += np.sum(cnt * logsumexp(Elogthetad + Elogbeta[:, int(id)]) for id, cnt in doc)\n",
            "/usr/local/lib/python3.7/dist-packages/gensim/models/ldamodel.py:1077: DeprecationWarning: Calling np.sum(generator) is deprecated, and in the future will give a different result. Use np.sum(np.fromiter(generator)) or the python sum builtin instead.\n",
            "  score += np.sum(cnt * logsumexp(Elogthetad + Elogbeta[:, int(id)]) for id, cnt in doc)\n",
            "/usr/local/lib/python3.7/dist-packages/gensim/models/ldamodel.py:1077: DeprecationWarning: Calling np.sum(generator) is deprecated, and in the future will give a different result. Use np.sum(np.fromiter(generator)) or the python sum builtin instead.\n",
            "  score += np.sum(cnt * logsumexp(Elogthetad + Elogbeta[:, int(id)]) for id, cnt in doc)\n",
            "/usr/local/lib/python3.7/dist-packages/gensim/models/ldamodel.py:1077: DeprecationWarning: Calling np.sum(generator) is deprecated, and in the future will give a different result. Use np.sum(np.fromiter(generator)) or the python sum builtin instead.\n",
            "  score += np.sum(cnt * logsumexp(Elogthetad + Elogbeta[:, int(id)]) for id, cnt in doc)\n",
            "/usr/local/lib/python3.7/dist-packages/gensim/models/ldamodel.py:1077: DeprecationWarning: Calling np.sum(generator) is deprecated, and in the future will give a different result. Use np.sum(np.fromiter(generator)) or the python sum builtin instead.\n",
            "  score += np.sum(cnt * logsumexp(Elogthetad + Elogbeta[:, int(id)]) for id, cnt in doc)\n",
            "/usr/local/lib/python3.7/dist-packages/gensim/models/ldamodel.py:1077: DeprecationWarning: Calling np.sum(generator) is deprecated, and in the future will give a different result. Use np.sum(np.fromiter(generator)) or the python sum builtin instead.\n",
            "  score += np.sum(cnt * logsumexp(Elogthetad + Elogbeta[:, int(id)]) for id, cnt in doc)\n",
            "/usr/local/lib/python3.7/dist-packages/gensim/models/ldamodel.py:1077: DeprecationWarning: Calling np.sum(generator) is deprecated, and in the future will give a different result. Use np.sum(np.fromiter(generator)) or the python sum builtin instead.\n",
            "  score += np.sum(cnt * logsumexp(Elogthetad + Elogbeta[:, int(id)]) for id, cnt in doc)\n",
            "/usr/local/lib/python3.7/dist-packages/gensim/models/ldamodel.py:1077: DeprecationWarning: Calling np.sum(generator) is deprecated, and in the future will give a different result. Use np.sum(np.fromiter(generator)) or the python sum builtin instead.\n",
            "  score += np.sum(cnt * logsumexp(Elogthetad + Elogbeta[:, int(id)]) for id, cnt in doc)\n",
            "/usr/local/lib/python3.7/dist-packages/gensim/models/ldamodel.py:1077: DeprecationWarning: Calling np.sum(generator) is deprecated, and in the future will give a different result. Use np.sum(np.fromiter(generator)) or the python sum builtin instead.\n",
            "  score += np.sum(cnt * logsumexp(Elogthetad + Elogbeta[:, int(id)]) for id, cnt in doc)\n",
            "/usr/local/lib/python3.7/dist-packages/gensim/models/ldamodel.py:1077: DeprecationWarning: Calling np.sum(generator) is deprecated, and in the future will give a different result. Use np.sum(np.fromiter(generator)) or the python sum builtin instead.\n",
            "  score += np.sum(cnt * logsumexp(Elogthetad + Elogbeta[:, int(id)]) for id, cnt in doc)\n",
            "/usr/local/lib/python3.7/dist-packages/gensim/models/ldamodel.py:1077: DeprecationWarning: Calling np.sum(generator) is deprecated, and in the future will give a different result. Use np.sum(np.fromiter(generator)) or the python sum builtin instead.\n",
            "  score += np.sum(cnt * logsumexp(Elogthetad + Elogbeta[:, int(id)]) for id, cnt in doc)\n",
            "/usr/local/lib/python3.7/dist-packages/gensim/models/ldamodel.py:1077: DeprecationWarning: Calling np.sum(generator) is deprecated, and in the future will give a different result. Use np.sum(np.fromiter(generator)) or the python sum builtin instead.\n",
            "  score += np.sum(cnt * logsumexp(Elogthetad + Elogbeta[:, int(id)]) for id, cnt in doc)\n",
            "/usr/local/lib/python3.7/dist-packages/gensim/models/ldamodel.py:1077: DeprecationWarning: Calling np.sum(generator) is deprecated, and in the future will give a different result. Use np.sum(np.fromiter(generator)) or the python sum builtin instead.\n",
            "  score += np.sum(cnt * logsumexp(Elogthetad + Elogbeta[:, int(id)]) for id, cnt in doc)\n",
            "/usr/local/lib/python3.7/dist-packages/gensim/models/ldamodel.py:1077: DeprecationWarning: Calling np.sum(generator) is deprecated, and in the future will give a different result. Use np.sum(np.fromiter(generator)) or the python sum builtin instead.\n",
            "  score += np.sum(cnt * logsumexp(Elogthetad + Elogbeta[:, int(id)]) for id, cnt in doc)\n",
            "/usr/local/lib/python3.7/dist-packages/gensim/models/ldamodel.py:1077: DeprecationWarning: Calling np.sum(generator) is deprecated, and in the future will give a different result. Use np.sum(np.fromiter(generator)) or the python sum builtin instead.\n",
            "  score += np.sum(cnt * logsumexp(Elogthetad + Elogbeta[:, int(id)]) for id, cnt in doc)\n",
            "/usr/local/lib/python3.7/dist-packages/gensim/models/ldamodel.py:1077: DeprecationWarning: Calling np.sum(generator) is deprecated, and in the future will give a different result. Use np.sum(np.fromiter(generator)) or the python sum builtin instead.\n",
            "  score += np.sum(cnt * logsumexp(Elogthetad + Elogbeta[:, int(id)]) for id, cnt in doc)\n",
            "/usr/local/lib/python3.7/dist-packages/gensim/models/ldamodel.py:1077: DeprecationWarning: Calling np.sum(generator) is deprecated, and in the future will give a different result. Use np.sum(np.fromiter(generator)) or the python sum builtin instead.\n",
            "  score += np.sum(cnt * logsumexp(Elogthetad + Elogbeta[:, int(id)]) for id, cnt in doc)\n",
            "/usr/local/lib/python3.7/dist-packages/gensim/models/ldamodel.py:1077: DeprecationWarning: Calling np.sum(generator) is deprecated, and in the future will give a different result. Use np.sum(np.fromiter(generator)) or the python sum builtin instead.\n",
            "  score += np.sum(cnt * logsumexp(Elogthetad + Elogbeta[:, int(id)]) for id, cnt in doc)\n",
            "/usr/local/lib/python3.7/dist-packages/gensim/models/ldamodel.py:1077: DeprecationWarning: Calling np.sum(generator) is deprecated, and in the future will give a different result. Use np.sum(np.fromiter(generator)) or the python sum builtin instead.\n",
            "  score += np.sum(cnt * logsumexp(Elogthetad + Elogbeta[:, int(id)]) for id, cnt in doc)\n",
            "/usr/local/lib/python3.7/dist-packages/gensim/models/ldamodel.py:1077: DeprecationWarning: Calling np.sum(generator) is deprecated, and in the future will give a different result. Use np.sum(np.fromiter(generator)) or the python sum builtin instead.\n",
            "  score += np.sum(cnt * logsumexp(Elogthetad + Elogbeta[:, int(id)]) for id, cnt in doc)\n",
            "/usr/local/lib/python3.7/dist-packages/gensim/models/ldamodel.py:1077: DeprecationWarning: Calling np.sum(generator) is deprecated, and in the future will give a different result. Use np.sum(np.fromiter(generator)) or the python sum builtin instead.\n",
            "  score += np.sum(cnt * logsumexp(Elogthetad + Elogbeta[:, int(id)]) for id, cnt in doc)\n",
            "/usr/local/lib/python3.7/dist-packages/gensim/models/ldamodel.py:1077: DeprecationWarning: Calling np.sum(generator) is deprecated, and in the future will give a different result. Use np.sum(np.fromiter(generator)) or the python sum builtin instead.\n",
            "  score += np.sum(cnt * logsumexp(Elogthetad + Elogbeta[:, int(id)]) for id, cnt in doc)\n",
            "/usr/local/lib/python3.7/dist-packages/gensim/models/ldamodel.py:1077: DeprecationWarning: Calling np.sum(generator) is deprecated, and in the future will give a different result. Use np.sum(np.fromiter(generator)) or the python sum builtin instead.\n",
            "  score += np.sum(cnt * logsumexp(Elogthetad + Elogbeta[:, int(id)]) for id, cnt in doc)\n",
            "/usr/local/lib/python3.7/dist-packages/gensim/models/ldamodel.py:1077: DeprecationWarning: Calling np.sum(generator) is deprecated, and in the future will give a different result. Use np.sum(np.fromiter(generator)) or the python sum builtin instead.\n",
            "  score += np.sum(cnt * logsumexp(Elogthetad + Elogbeta[:, int(id)]) for id, cnt in doc)\n",
            "/usr/local/lib/python3.7/dist-packages/gensim/models/ldamodel.py:1077: DeprecationWarning: Calling np.sum(generator) is deprecated, and in the future will give a different result. Use np.sum(np.fromiter(generator)) or the python sum builtin instead.\n",
            "  score += np.sum(cnt * logsumexp(Elogthetad + Elogbeta[:, int(id)]) for id, cnt in doc)\n",
            "/usr/local/lib/python3.7/dist-packages/gensim/models/ldamodel.py:1077: DeprecationWarning: Calling np.sum(generator) is deprecated, and in the future will give a different result. Use np.sum(np.fromiter(generator)) or the python sum builtin instead.\n",
            "  score += np.sum(cnt * logsumexp(Elogthetad + Elogbeta[:, int(id)]) for id, cnt in doc)\n",
            "/usr/local/lib/python3.7/dist-packages/gensim/models/ldamodel.py:1077: DeprecationWarning: Calling np.sum(generator) is deprecated, and in the future will give a different result. Use np.sum(np.fromiter(generator)) or the python sum builtin instead.\n",
            "  score += np.sum(cnt * logsumexp(Elogthetad + Elogbeta[:, int(id)]) for id, cnt in doc)\n",
            "/usr/local/lib/python3.7/dist-packages/gensim/models/ldamodel.py:1077: DeprecationWarning: Calling np.sum(generator) is deprecated, and in the future will give a different result. Use np.sum(np.fromiter(generator)) or the python sum builtin instead.\n",
            "  score += np.sum(cnt * logsumexp(Elogthetad + Elogbeta[:, int(id)]) for id, cnt in doc)\n",
            "/usr/local/lib/python3.7/dist-packages/gensim/models/ldamodel.py:1077: DeprecationWarning: Calling np.sum(generator) is deprecated, and in the future will give a different result. Use np.sum(np.fromiter(generator)) or the python sum builtin instead.\n",
            "  score += np.sum(cnt * logsumexp(Elogthetad + Elogbeta[:, int(id)]) for id, cnt in doc)\n",
            "/usr/local/lib/python3.7/dist-packages/gensim/models/ldamodel.py:1077: DeprecationWarning: Calling np.sum(generator) is deprecated, and in the future will give a different result. Use np.sum(np.fromiter(generator)) or the python sum builtin instead.\n",
            "  score += np.sum(cnt * logsumexp(Elogthetad + Elogbeta[:, int(id)]) for id, cnt in doc)\n",
            "/usr/local/lib/python3.7/dist-packages/gensim/models/ldamodel.py:1077: DeprecationWarning: Calling np.sum(generator) is deprecated, and in the future will give a different result. Use np.sum(np.fromiter(generator)) or the python sum builtin instead.\n",
            "  score += np.sum(cnt * logsumexp(Elogthetad + Elogbeta[:, int(id)]) for id, cnt in doc)\n",
            "/usr/local/lib/python3.7/dist-packages/gensim/models/ldamodel.py:1077: DeprecationWarning: Calling np.sum(generator) is deprecated, and in the future will give a different result. Use np.sum(np.fromiter(generator)) or the python sum builtin instead.\n",
            "  score += np.sum(cnt * logsumexp(Elogthetad + Elogbeta[:, int(id)]) for id, cnt in doc)\n",
            "/usr/local/lib/python3.7/dist-packages/gensim/models/ldamodel.py:1077: DeprecationWarning: Calling np.sum(generator) is deprecated, and in the future will give a different result. Use np.sum(np.fromiter(generator)) or the python sum builtin instead.\n",
            "  score += np.sum(cnt * logsumexp(Elogthetad + Elogbeta[:, int(id)]) for id, cnt in doc)\n",
            "/usr/local/lib/python3.7/dist-packages/gensim/models/ldamodel.py:1077: DeprecationWarning: Calling np.sum(generator) is deprecated, and in the future will give a different result. Use np.sum(np.fromiter(generator)) or the python sum builtin instead.\n",
            "  score += np.sum(cnt * logsumexp(Elogthetad + Elogbeta[:, int(id)]) for id, cnt in doc)\n",
            "/usr/local/lib/python3.7/dist-packages/gensim/models/ldamodel.py:1077: DeprecationWarning: Calling np.sum(generator) is deprecated, and in the future will give a different result. Use np.sum(np.fromiter(generator)) or the python sum builtin instead.\n",
            "  score += np.sum(cnt * logsumexp(Elogthetad + Elogbeta[:, int(id)]) for id, cnt in doc)\n",
            "/usr/local/lib/python3.7/dist-packages/gensim/models/ldamodel.py:1077: DeprecationWarning: Calling np.sum(generator) is deprecated, and in the future will give a different result. Use np.sum(np.fromiter(generator)) or the python sum builtin instead.\n",
            "  score += np.sum(cnt * logsumexp(Elogthetad + Elogbeta[:, int(id)]) for id, cnt in doc)\n",
            "/usr/local/lib/python3.7/dist-packages/gensim/models/ldamodel.py:1077: DeprecationWarning: Calling np.sum(generator) is deprecated, and in the future will give a different result. Use np.sum(np.fromiter(generator)) or the python sum builtin instead.\n",
            "  score += np.sum(cnt * logsumexp(Elogthetad + Elogbeta[:, int(id)]) for id, cnt in doc)\n",
            "/usr/local/lib/python3.7/dist-packages/gensim/models/ldamodel.py:1077: DeprecationWarning: Calling np.sum(generator) is deprecated, and in the future will give a different result. Use np.sum(np.fromiter(generator)) or the python sum builtin instead.\n",
            "  score += np.sum(cnt * logsumexp(Elogthetad + Elogbeta[:, int(id)]) for id, cnt in doc)\n",
            "/usr/local/lib/python3.7/dist-packages/gensim/models/ldamodel.py:1077: DeprecationWarning: Calling np.sum(generator) is deprecated, and in the future will give a different result. Use np.sum(np.fromiter(generator)) or the python sum builtin instead.\n",
            "  score += np.sum(cnt * logsumexp(Elogthetad + Elogbeta[:, int(id)]) for id, cnt in doc)\n",
            "/usr/local/lib/python3.7/dist-packages/gensim/models/ldamodel.py:1077: DeprecationWarning: Calling np.sum(generator) is deprecated, and in the future will give a different result. Use np.sum(np.fromiter(generator)) or the python sum builtin instead.\n",
            "  score += np.sum(cnt * logsumexp(Elogthetad + Elogbeta[:, int(id)]) for id, cnt in doc)\n",
            "/usr/local/lib/python3.7/dist-packages/gensim/models/ldamodel.py:1077: DeprecationWarning: Calling np.sum(generator) is deprecated, and in the future will give a different result. Use np.sum(np.fromiter(generator)) or the python sum builtin instead.\n",
            "  score += np.sum(cnt * logsumexp(Elogthetad + Elogbeta[:, int(id)]) for id, cnt in doc)\n",
            "/usr/local/lib/python3.7/dist-packages/gensim/models/ldamodel.py:1077: DeprecationWarning: Calling np.sum(generator) is deprecated, and in the future will give a different result. Use np.sum(np.fromiter(generator)) or the python sum builtin instead.\n",
            "  score += np.sum(cnt * logsumexp(Elogthetad + Elogbeta[:, int(id)]) for id, cnt in doc)\n",
            "/usr/local/lib/python3.7/dist-packages/gensim/models/ldamodel.py:1077: DeprecationWarning: Calling np.sum(generator) is deprecated, and in the future will give a different result. Use np.sum(np.fromiter(generator)) or the python sum builtin instead.\n",
            "  score += np.sum(cnt * logsumexp(Elogthetad + Elogbeta[:, int(id)]) for id, cnt in doc)\n",
            "/usr/local/lib/python3.7/dist-packages/gensim/models/ldamodel.py:1077: DeprecationWarning: Calling np.sum(generator) is deprecated, and in the future will give a different result. Use np.sum(np.fromiter(generator)) or the python sum builtin instead.\n",
            "  score += np.sum(cnt * logsumexp(Elogthetad + Elogbeta[:, int(id)]) for id, cnt in doc)\n",
            "/usr/local/lib/python3.7/dist-packages/gensim/models/ldamodel.py:1077: DeprecationWarning: Calling np.sum(generator) is deprecated, and in the future will give a different result. Use np.sum(np.fromiter(generator)) or the python sum builtin instead.\n",
            "  score += np.sum(cnt * logsumexp(Elogthetad + Elogbeta[:, int(id)]) for id, cnt in doc)\n",
            "/usr/local/lib/python3.7/dist-packages/gensim/models/ldamodel.py:1077: DeprecationWarning: Calling np.sum(generator) is deprecated, and in the future will give a different result. Use np.sum(np.fromiter(generator)) or the python sum builtin instead.\n",
            "  score += np.sum(cnt * logsumexp(Elogthetad + Elogbeta[:, int(id)]) for id, cnt in doc)\n",
            "/usr/local/lib/python3.7/dist-packages/gensim/models/ldamodel.py:1077: DeprecationWarning: Calling np.sum(generator) is deprecated, and in the future will give a different result. Use np.sum(np.fromiter(generator)) or the python sum builtin instead.\n",
            "  score += np.sum(cnt * logsumexp(Elogthetad + Elogbeta[:, int(id)]) for id, cnt in doc)\n",
            "/usr/local/lib/python3.7/dist-packages/gensim/models/ldamodel.py:1077: DeprecationWarning: Calling np.sum(generator) is deprecated, and in the future will give a different result. Use np.sum(np.fromiter(generator)) or the python sum builtin instead.\n",
            "  score += np.sum(cnt * logsumexp(Elogthetad + Elogbeta[:, int(id)]) for id, cnt in doc)\n",
            "/usr/local/lib/python3.7/dist-packages/gensim/models/ldamodel.py:1077: DeprecationWarning: Calling np.sum(generator) is deprecated, and in the future will give a different result. Use np.sum(np.fromiter(generator)) or the python sum builtin instead.\n",
            "  score += np.sum(cnt * logsumexp(Elogthetad + Elogbeta[:, int(id)]) for id, cnt in doc)\n",
            "/usr/local/lib/python3.7/dist-packages/gensim/models/ldamodel.py:1077: DeprecationWarning: Calling np.sum(generator) is deprecated, and in the future will give a different result. Use np.sum(np.fromiter(generator)) or the python sum builtin instead.\n",
            "  score += np.sum(cnt * logsumexp(Elogthetad + Elogbeta[:, int(id)]) for id, cnt in doc)\n",
            "/usr/local/lib/python3.7/dist-packages/gensim/models/ldamodel.py:1077: DeprecationWarning: Calling np.sum(generator) is deprecated, and in the future will give a different result. Use np.sum(np.fromiter(generator)) or the python sum builtin instead.\n",
            "  score += np.sum(cnt * logsumexp(Elogthetad + Elogbeta[:, int(id)]) for id, cnt in doc)\n",
            "/usr/local/lib/python3.7/dist-packages/gensim/models/ldamodel.py:1077: DeprecationWarning: Calling np.sum(generator) is deprecated, and in the future will give a different result. Use np.sum(np.fromiter(generator)) or the python sum builtin instead.\n",
            "  score += np.sum(cnt * logsumexp(Elogthetad + Elogbeta[:, int(id)]) for id, cnt in doc)\n",
            "/usr/local/lib/python3.7/dist-packages/gensim/models/ldamodel.py:1077: DeprecationWarning: Calling np.sum(generator) is deprecated, and in the future will give a different result. Use np.sum(np.fromiter(generator)) or the python sum builtin instead.\n",
            "  score += np.sum(cnt * logsumexp(Elogthetad + Elogbeta[:, int(id)]) for id, cnt in doc)\n",
            "/usr/local/lib/python3.7/dist-packages/gensim/models/ldamodel.py:1077: DeprecationWarning: Calling np.sum(generator) is deprecated, and in the future will give a different result. Use np.sum(np.fromiter(generator)) or the python sum builtin instead.\n",
            "  score += np.sum(cnt * logsumexp(Elogthetad + Elogbeta[:, int(id)]) for id, cnt in doc)\n",
            "/usr/local/lib/python3.7/dist-packages/gensim/models/ldamodel.py:1077: DeprecationWarning: Calling np.sum(generator) is deprecated, and in the future will give a different result. Use np.sum(np.fromiter(generator)) or the python sum builtin instead.\n",
            "  score += np.sum(cnt * logsumexp(Elogthetad + Elogbeta[:, int(id)]) for id, cnt in doc)\n",
            "/usr/local/lib/python3.7/dist-packages/gensim/models/ldamodel.py:1077: DeprecationWarning: Calling np.sum(generator) is deprecated, and in the future will give a different result. Use np.sum(np.fromiter(generator)) or the python sum builtin instead.\n",
            "  score += np.sum(cnt * logsumexp(Elogthetad + Elogbeta[:, int(id)]) for id, cnt in doc)\n",
            "/usr/local/lib/python3.7/dist-packages/gensim/models/ldamodel.py:1077: DeprecationWarning: Calling np.sum(generator) is deprecated, and in the future will give a different result. Use np.sum(np.fromiter(generator)) or the python sum builtin instead.\n",
            "  score += np.sum(cnt * logsumexp(Elogthetad + Elogbeta[:, int(id)]) for id, cnt in doc)\n",
            "/usr/local/lib/python3.7/dist-packages/gensim/models/ldamodel.py:1077: DeprecationWarning: Calling np.sum(generator) is deprecated, and in the future will give a different result. Use np.sum(np.fromiter(generator)) or the python sum builtin instead.\n",
            "  score += np.sum(cnt * logsumexp(Elogthetad + Elogbeta[:, int(id)]) for id, cnt in doc)\n",
            "/usr/local/lib/python3.7/dist-packages/gensim/models/ldamodel.py:1077: DeprecationWarning: Calling np.sum(generator) is deprecated, and in the future will give a different result. Use np.sum(np.fromiter(generator)) or the python sum builtin instead.\n",
            "  score += np.sum(cnt * logsumexp(Elogthetad + Elogbeta[:, int(id)]) for id, cnt in doc)\n",
            "/usr/local/lib/python3.7/dist-packages/gensim/models/ldamodel.py:1077: DeprecationWarning: Calling np.sum(generator) is deprecated, and in the future will give a different result. Use np.sum(np.fromiter(generator)) or the python sum builtin instead.\n",
            "  score += np.sum(cnt * logsumexp(Elogthetad + Elogbeta[:, int(id)]) for id, cnt in doc)\n",
            "/usr/local/lib/python3.7/dist-packages/gensim/models/ldamodel.py:1077: DeprecationWarning: Calling np.sum(generator) is deprecated, and in the future will give a different result. Use np.sum(np.fromiter(generator)) or the python sum builtin instead.\n",
            "  score += np.sum(cnt * logsumexp(Elogthetad + Elogbeta[:, int(id)]) for id, cnt in doc)\n",
            "/usr/local/lib/python3.7/dist-packages/gensim/models/ldamodel.py:1077: DeprecationWarning: Calling np.sum(generator) is deprecated, and in the future will give a different result. Use np.sum(np.fromiter(generator)) or the python sum builtin instead.\n",
            "  score += np.sum(cnt * logsumexp(Elogthetad + Elogbeta[:, int(id)]) for id, cnt in doc)\n",
            "/usr/local/lib/python3.7/dist-packages/gensim/models/ldamodel.py:1077: DeprecationWarning: Calling np.sum(generator) is deprecated, and in the future will give a different result. Use np.sum(np.fromiter(generator)) or the python sum builtin instead.\n",
            "  score += np.sum(cnt * logsumexp(Elogthetad + Elogbeta[:, int(id)]) for id, cnt in doc)\n",
            "/usr/local/lib/python3.7/dist-packages/gensim/models/ldamodel.py:1077: DeprecationWarning: Calling np.sum(generator) is deprecated, and in the future will give a different result. Use np.sum(np.fromiter(generator)) or the python sum builtin instead.\n",
            "  score += np.sum(cnt * logsumexp(Elogthetad + Elogbeta[:, int(id)]) for id, cnt in doc)\n",
            "/usr/local/lib/python3.7/dist-packages/gensim/models/ldamodel.py:1077: DeprecationWarning: Calling np.sum(generator) is deprecated, and in the future will give a different result. Use np.sum(np.fromiter(generator)) or the python sum builtin instead.\n",
            "  score += np.sum(cnt * logsumexp(Elogthetad + Elogbeta[:, int(id)]) for id, cnt in doc)\n",
            "/usr/local/lib/python3.7/dist-packages/gensim/models/ldamodel.py:1077: DeprecationWarning: Calling np.sum(generator) is deprecated, and in the future will give a different result. Use np.sum(np.fromiter(generator)) or the python sum builtin instead.\n",
            "  score += np.sum(cnt * logsumexp(Elogthetad + Elogbeta[:, int(id)]) for id, cnt in doc)\n",
            "/usr/local/lib/python3.7/dist-packages/gensim/models/ldamodel.py:1077: DeprecationWarning: Calling np.sum(generator) is deprecated, and in the future will give a different result. Use np.sum(np.fromiter(generator)) or the python sum builtin instead.\n",
            "  score += np.sum(cnt * logsumexp(Elogthetad + Elogbeta[:, int(id)]) for id, cnt in doc)\n",
            "/usr/local/lib/python3.7/dist-packages/gensim/models/ldamodel.py:1077: DeprecationWarning: Calling np.sum(generator) is deprecated, and in the future will give a different result. Use np.sum(np.fromiter(generator)) or the python sum builtin instead.\n",
            "  score += np.sum(cnt * logsumexp(Elogthetad + Elogbeta[:, int(id)]) for id, cnt in doc)\n",
            "/usr/local/lib/python3.7/dist-packages/gensim/models/ldamodel.py:1077: DeprecationWarning: Calling np.sum(generator) is deprecated, and in the future will give a different result. Use np.sum(np.fromiter(generator)) or the python sum builtin instead.\n",
            "  score += np.sum(cnt * logsumexp(Elogthetad + Elogbeta[:, int(id)]) for id, cnt in doc)\n",
            "/usr/local/lib/python3.7/dist-packages/gensim/models/ldamodel.py:1077: DeprecationWarning: Calling np.sum(generator) is deprecated, and in the future will give a different result. Use np.sum(np.fromiter(generator)) or the python sum builtin instead.\n",
            "  score += np.sum(cnt * logsumexp(Elogthetad + Elogbeta[:, int(id)]) for id, cnt in doc)\n",
            "/usr/local/lib/python3.7/dist-packages/gensim/models/ldamodel.py:1077: DeprecationWarning: Calling np.sum(generator) is deprecated, and in the future will give a different result. Use np.sum(np.fromiter(generator)) or the python sum builtin instead.\n",
            "  score += np.sum(cnt * logsumexp(Elogthetad + Elogbeta[:, int(id)]) for id, cnt in doc)\n",
            "/usr/local/lib/python3.7/dist-packages/gensim/models/ldamodel.py:1077: DeprecationWarning: Calling np.sum(generator) is deprecated, and in the future will give a different result. Use np.sum(np.fromiter(generator)) or the python sum builtin instead.\n",
            "  score += np.sum(cnt * logsumexp(Elogthetad + Elogbeta[:, int(id)]) for id, cnt in doc)\n",
            "/usr/local/lib/python3.7/dist-packages/gensim/models/ldamodel.py:1077: DeprecationWarning: Calling np.sum(generator) is deprecated, and in the future will give a different result. Use np.sum(np.fromiter(generator)) or the python sum builtin instead.\n",
            "  score += np.sum(cnt * logsumexp(Elogthetad + Elogbeta[:, int(id)]) for id, cnt in doc)\n",
            "/usr/local/lib/python3.7/dist-packages/gensim/models/ldamodel.py:1077: DeprecationWarning: Calling np.sum(generator) is deprecated, and in the future will give a different result. Use np.sum(np.fromiter(generator)) or the python sum builtin instead.\n",
            "  score += np.sum(cnt * logsumexp(Elogthetad + Elogbeta[:, int(id)]) for id, cnt in doc)\n",
            "/usr/local/lib/python3.7/dist-packages/gensim/models/ldamodel.py:1077: DeprecationWarning: Calling np.sum(generator) is deprecated, and in the future will give a different result. Use np.sum(np.fromiter(generator)) or the python sum builtin instead.\n",
            "  score += np.sum(cnt * logsumexp(Elogthetad + Elogbeta[:, int(id)]) for id, cnt in doc)\n",
            "/usr/local/lib/python3.7/dist-packages/gensim/models/ldamodel.py:1077: DeprecationWarning: Calling np.sum(generator) is deprecated, and in the future will give a different result. Use np.sum(np.fromiter(generator)) or the python sum builtin instead.\n",
            "  score += np.sum(cnt * logsumexp(Elogthetad + Elogbeta[:, int(id)]) for id, cnt in doc)\n",
            "/usr/local/lib/python3.7/dist-packages/gensim/models/ldamodel.py:1077: DeprecationWarning: Calling np.sum(generator) is deprecated, and in the future will give a different result. Use np.sum(np.fromiter(generator)) or the python sum builtin instead.\n",
            "  score += np.sum(cnt * logsumexp(Elogthetad + Elogbeta[:, int(id)]) for id, cnt in doc)\n",
            "/usr/local/lib/python3.7/dist-packages/gensim/models/ldamodel.py:1077: DeprecationWarning: Calling np.sum(generator) is deprecated, and in the future will give a different result. Use np.sum(np.fromiter(generator)) or the python sum builtin instead.\n",
            "  score += np.sum(cnt * logsumexp(Elogthetad + Elogbeta[:, int(id)]) for id, cnt in doc)\n",
            "/usr/local/lib/python3.7/dist-packages/gensim/models/ldamodel.py:1077: DeprecationWarning: Calling np.sum(generator) is deprecated, and in the future will give a different result. Use np.sum(np.fromiter(generator)) or the python sum builtin instead.\n",
            "  score += np.sum(cnt * logsumexp(Elogthetad + Elogbeta[:, int(id)]) for id, cnt in doc)\n",
            "/usr/local/lib/python3.7/dist-packages/gensim/models/ldamodel.py:1077: DeprecationWarning: Calling np.sum(generator) is deprecated, and in the future will give a different result. Use np.sum(np.fromiter(generator)) or the python sum builtin instead.\n",
            "  score += np.sum(cnt * logsumexp(Elogthetad + Elogbeta[:, int(id)]) for id, cnt in doc)\n",
            "/usr/local/lib/python3.7/dist-packages/gensim/models/ldamodel.py:1077: DeprecationWarning: Calling np.sum(generator) is deprecated, and in the future will give a different result. Use np.sum(np.fromiter(generator)) or the python sum builtin instead.\n",
            "  score += np.sum(cnt * logsumexp(Elogthetad + Elogbeta[:, int(id)]) for id, cnt in doc)\n",
            "/usr/local/lib/python3.7/dist-packages/gensim/models/ldamodel.py:1077: DeprecationWarning: Calling np.sum(generator) is deprecated, and in the future will give a different result. Use np.sum(np.fromiter(generator)) or the python sum builtin instead.\n",
            "  score += np.sum(cnt * logsumexp(Elogthetad + Elogbeta[:, int(id)]) for id, cnt in doc)\n",
            "/usr/local/lib/python3.7/dist-packages/gensim/models/ldamodel.py:1077: DeprecationWarning: Calling np.sum(generator) is deprecated, and in the future will give a different result. Use np.sum(np.fromiter(generator)) or the python sum builtin instead.\n",
            "  score += np.sum(cnt * logsumexp(Elogthetad + Elogbeta[:, int(id)]) for id, cnt in doc)\n",
            "/usr/local/lib/python3.7/dist-packages/gensim/models/ldamodel.py:1077: DeprecationWarning: Calling np.sum(generator) is deprecated, and in the future will give a different result. Use np.sum(np.fromiter(generator)) or the python sum builtin instead.\n",
            "  score += np.sum(cnt * logsumexp(Elogthetad + Elogbeta[:, int(id)]) for id, cnt in doc)\n",
            "/usr/local/lib/python3.7/dist-packages/gensim/models/ldamodel.py:1077: DeprecationWarning: Calling np.sum(generator) is deprecated, and in the future will give a different result. Use np.sum(np.fromiter(generator)) or the python sum builtin instead.\n",
            "  score += np.sum(cnt * logsumexp(Elogthetad + Elogbeta[:, int(id)]) for id, cnt in doc)\n",
            "/usr/local/lib/python3.7/dist-packages/gensim/models/ldamodel.py:1077: DeprecationWarning: Calling np.sum(generator) is deprecated, and in the future will give a different result. Use np.sum(np.fromiter(generator)) or the python sum builtin instead.\n",
            "  score += np.sum(cnt * logsumexp(Elogthetad + Elogbeta[:, int(id)]) for id, cnt in doc)\n",
            "/usr/local/lib/python3.7/dist-packages/gensim/models/ldamodel.py:1077: DeprecationWarning: Calling np.sum(generator) is deprecated, and in the future will give a different result. Use np.sum(np.fromiter(generator)) or the python sum builtin instead.\n",
            "  score += np.sum(cnt * logsumexp(Elogthetad + Elogbeta[:, int(id)]) for id, cnt in doc)\n",
            "/usr/local/lib/python3.7/dist-packages/gensim/models/ldamodel.py:1077: DeprecationWarning: Calling np.sum(generator) is deprecated, and in the future will give a different result. Use np.sum(np.fromiter(generator)) or the python sum builtin instead.\n",
            "  score += np.sum(cnt * logsumexp(Elogthetad + Elogbeta[:, int(id)]) for id, cnt in doc)\n",
            "/usr/local/lib/python3.7/dist-packages/gensim/models/ldamodel.py:1077: DeprecationWarning: Calling np.sum(generator) is deprecated, and in the future will give a different result. Use np.sum(np.fromiter(generator)) or the python sum builtin instead.\n",
            "  score += np.sum(cnt * logsumexp(Elogthetad + Elogbeta[:, int(id)]) for id, cnt in doc)\n",
            "/usr/local/lib/python3.7/dist-packages/gensim/models/ldamodel.py:1077: DeprecationWarning: Calling np.sum(generator) is deprecated, and in the future will give a different result. Use np.sum(np.fromiter(generator)) or the python sum builtin instead.\n",
            "  score += np.sum(cnt * logsumexp(Elogthetad + Elogbeta[:, int(id)]) for id, cnt in doc)\n",
            "/usr/local/lib/python3.7/dist-packages/gensim/models/ldamodel.py:1077: DeprecationWarning: Calling np.sum(generator) is deprecated, and in the future will give a different result. Use np.sum(np.fromiter(generator)) or the python sum builtin instead.\n",
            "  score += np.sum(cnt * logsumexp(Elogthetad + Elogbeta[:, int(id)]) for id, cnt in doc)\n",
            "/usr/local/lib/python3.7/dist-packages/gensim/models/ldamodel.py:1077: DeprecationWarning: Calling np.sum(generator) is deprecated, and in the future will give a different result. Use np.sum(np.fromiter(generator)) or the python sum builtin instead.\n",
            "  score += np.sum(cnt * logsumexp(Elogthetad + Elogbeta[:, int(id)]) for id, cnt in doc)\n",
            "/usr/local/lib/python3.7/dist-packages/gensim/models/ldamodel.py:1077: DeprecationWarning: Calling np.sum(generator) is deprecated, and in the future will give a different result. Use np.sum(np.fromiter(generator)) or the python sum builtin instead.\n",
            "  score += np.sum(cnt * logsumexp(Elogthetad + Elogbeta[:, int(id)]) for id, cnt in doc)\n",
            "/usr/local/lib/python3.7/dist-packages/gensim/models/ldamodel.py:1077: DeprecationWarning: Calling np.sum(generator) is deprecated, and in the future will give a different result. Use np.sum(np.fromiter(generator)) or the python sum builtin instead.\n",
            "  score += np.sum(cnt * logsumexp(Elogthetad + Elogbeta[:, int(id)]) for id, cnt in doc)\n",
            "/usr/local/lib/python3.7/dist-packages/gensim/models/ldamodel.py:1077: DeprecationWarning: Calling np.sum(generator) is deprecated, and in the future will give a different result. Use np.sum(np.fromiter(generator)) or the python sum builtin instead.\n",
            "  score += np.sum(cnt * logsumexp(Elogthetad + Elogbeta[:, int(id)]) for id, cnt in doc)\n",
            "/usr/local/lib/python3.7/dist-packages/gensim/models/ldamodel.py:1077: DeprecationWarning: Calling np.sum(generator) is deprecated, and in the future will give a different result. Use np.sum(np.fromiter(generator)) or the python sum builtin instead.\n",
            "  score += np.sum(cnt * logsumexp(Elogthetad + Elogbeta[:, int(id)]) for id, cnt in doc)\n",
            "/usr/local/lib/python3.7/dist-packages/gensim/models/ldamodel.py:1077: DeprecationWarning: Calling np.sum(generator) is deprecated, and in the future will give a different result. Use np.sum(np.fromiter(generator)) or the python sum builtin instead.\n",
            "  score += np.sum(cnt * logsumexp(Elogthetad + Elogbeta[:, int(id)]) for id, cnt in doc)\n",
            "/usr/local/lib/python3.7/dist-packages/gensim/models/ldamodel.py:1077: DeprecationWarning: Calling np.sum(generator) is deprecated, and in the future will give a different result. Use np.sum(np.fromiter(generator)) or the python sum builtin instead.\n",
            "  score += np.sum(cnt * logsumexp(Elogthetad + Elogbeta[:, int(id)]) for id, cnt in doc)\n",
            "/usr/local/lib/python3.7/dist-packages/gensim/models/ldamodel.py:1077: DeprecationWarning: Calling np.sum(generator) is deprecated, and in the future will give a different result. Use np.sum(np.fromiter(generator)) or the python sum builtin instead.\n",
            "  score += np.sum(cnt * logsumexp(Elogthetad + Elogbeta[:, int(id)]) for id, cnt in doc)\n",
            "/usr/local/lib/python3.7/dist-packages/gensim/models/ldamodel.py:1077: DeprecationWarning: Calling np.sum(generator) is deprecated, and in the future will give a different result. Use np.sum(np.fromiter(generator)) or the python sum builtin instead.\n",
            "  score += np.sum(cnt * logsumexp(Elogthetad + Elogbeta[:, int(id)]) for id, cnt in doc)\n",
            "/usr/local/lib/python3.7/dist-packages/gensim/models/ldamodel.py:1077: DeprecationWarning: Calling np.sum(generator) is deprecated, and in the future will give a different result. Use np.sum(np.fromiter(generator)) or the python sum builtin instead.\n",
            "  score += np.sum(cnt * logsumexp(Elogthetad + Elogbeta[:, int(id)]) for id, cnt in doc)\n",
            "/usr/local/lib/python3.7/dist-packages/gensim/models/ldamodel.py:1077: DeprecationWarning: Calling np.sum(generator) is deprecated, and in the future will give a different result. Use np.sum(np.fromiter(generator)) or the python sum builtin instead.\n",
            "  score += np.sum(cnt * logsumexp(Elogthetad + Elogbeta[:, int(id)]) for id, cnt in doc)\n"
          ],
          "name": "stderr"
        },
        {
          "output_type": "stream",
          "text": [
            "\n",
            "Perplexity:  -7.17935787023887\n",
            "\n",
            "Coherence Score:  0.4247429168002247\n"
          ],
          "name": "stdout"
        }
      ]
    },
    {
      "cell_type": "code",
      "metadata": {
        "colab": {
          "base_uri": "https://localhost:8080/"
        },
        "id": "_wPDpNNRIImZ",
        "outputId": "0a98374f-23de-463b-d66f-0cb14cf9ab30"
      },
      "source": [
        "!pip install pyLDAvis==2.1.2"
      ],
      "execution_count": null,
      "outputs": [
        {
          "output_type": "stream",
          "text": [
            "Collecting pyLDAvis==2.1.2\n",
            "\u001b[?25l  Downloading https://files.pythonhosted.org/packages/a5/3a/af82e070a8a96e13217c8f362f9a73e82d61ac8fff3a2561946a97f96266/pyLDAvis-2.1.2.tar.gz (1.6MB)\n",
            "\u001b[K     |████████████████████████████████| 1.6MB 5.7MB/s \n",
            "\u001b[?25hRequirement already satisfied: wheel>=0.23.0 in /usr/local/lib/python3.7/dist-packages (from pyLDAvis==2.1.2) (0.36.2)\n",
            "Requirement already satisfied: numpy>=1.9.2 in /usr/local/lib/python3.7/dist-packages (from pyLDAvis==2.1.2) (1.19.5)\n",
            "Requirement already satisfied: scipy>=0.18.0 in /usr/local/lib/python3.7/dist-packages (from pyLDAvis==2.1.2) (1.4.1)\n",
            "Requirement already satisfied: pandas>=0.17.0 in /usr/local/lib/python3.7/dist-packages (from pyLDAvis==2.1.2) (1.1.5)\n",
            "Requirement already satisfied: joblib>=0.8.4 in /usr/local/lib/python3.7/dist-packages (from pyLDAvis==2.1.2) (1.0.1)\n",
            "Requirement already satisfied: jinja2>=2.7.2 in /usr/local/lib/python3.7/dist-packages (from pyLDAvis==2.1.2) (2.11.3)\n",
            "Requirement already satisfied: numexpr in /usr/local/lib/python3.7/dist-packages (from pyLDAvis==2.1.2) (2.7.3)\n",
            "Requirement already satisfied: pytest in /usr/local/lib/python3.7/dist-packages (from pyLDAvis==2.1.2) (3.6.4)\n",
            "Requirement already satisfied: future in /usr/local/lib/python3.7/dist-packages (from pyLDAvis==2.1.2) (0.16.0)\n",
            "Collecting funcy\n",
            "  Downloading https://files.pythonhosted.org/packages/66/89/479de0afbbfb98d1c4b887936808764627300208bb771fcd823403645a36/funcy-1.15-py2.py3-none-any.whl\n",
            "Requirement already satisfied: pytz>=2017.2 in /usr/local/lib/python3.7/dist-packages (from pandas>=0.17.0->pyLDAvis==2.1.2) (2018.9)\n",
            "Requirement already satisfied: python-dateutil>=2.7.3 in /usr/local/lib/python3.7/dist-packages (from pandas>=0.17.0->pyLDAvis==2.1.2) (2.8.1)\n",
            "Requirement already satisfied: MarkupSafe>=0.23 in /usr/local/lib/python3.7/dist-packages (from jinja2>=2.7.2->pyLDAvis==2.1.2) (1.1.1)\n",
            "Requirement already satisfied: py>=1.5.0 in /usr/local/lib/python3.7/dist-packages (from pytest->pyLDAvis==2.1.2) (1.10.0)\n",
            "Requirement already satisfied: pluggy<0.8,>=0.5 in /usr/local/lib/python3.7/dist-packages (from pytest->pyLDAvis==2.1.2) (0.7.1)\n",
            "Requirement already satisfied: more-itertools>=4.0.0 in /usr/local/lib/python3.7/dist-packages (from pytest->pyLDAvis==2.1.2) (8.7.0)\n",
            "Requirement already satisfied: attrs>=17.4.0 in /usr/local/lib/python3.7/dist-packages (from pytest->pyLDAvis==2.1.2) (20.3.0)\n",
            "Requirement already satisfied: six>=1.10.0 in /usr/local/lib/python3.7/dist-packages (from pytest->pyLDAvis==2.1.2) (1.15.0)\n",
            "Requirement already satisfied: setuptools in /usr/local/lib/python3.7/dist-packages (from pytest->pyLDAvis==2.1.2) (54.2.0)\n",
            "Requirement already satisfied: atomicwrites>=1.0 in /usr/local/lib/python3.7/dist-packages (from pytest->pyLDAvis==2.1.2) (1.4.0)\n",
            "Building wheels for collected packages: pyLDAvis\n",
            "  Building wheel for pyLDAvis (setup.py) ... \u001b[?25l\u001b[?25hdone\n",
            "  Created wheel for pyLDAvis: filename=pyLDAvis-2.1.2-py2.py3-none-any.whl size=97712 sha256=1b0c345764ca34ca7841adcb6c373a40e201accadcff8d536b8eb1441cf67f71\n",
            "  Stored in directory: /root/.cache/pip/wheels/98/71/24/513a99e58bb6b8465bae4d2d5e9dba8f0bef8179e3051ac414\n",
            "Successfully built pyLDAvis\n",
            "Installing collected packages: funcy, pyLDAvis\n",
            "Successfully installed funcy-1.15 pyLDAvis-2.1.2\n"
          ],
          "name": "stdout"
        }
      ]
    },
    {
      "cell_type": "code",
      "metadata": {
        "colab": {
          "base_uri": "https://localhost:8080/",
          "height": 881
        },
        "id": "9CQMRVBFIAeo",
        "outputId": "66615cc9-15cf-4272-ea61-83acf9f0fdd3"
      },
      "source": [
        "\n",
        "import pyLDAvis\n",
        "import gensim\n",
        "import gensim.corpora as corpora\n",
        "from gensim.utils import simple_preprocess\n",
        "from gensim.models import CoherenceModel\n",
        "import re\n",
        "import gensim\n",
        "import gensim.corpora as corpora\n",
        "from gensim.utils import simple_preprocess\n",
        "from gensim.models import CoherenceModel\n",
        "import pyLDAvis\n",
        "import pyLDAvis.gensim  \n",
        "import matplotlib.pyplot as plt\n",
        "%matplotlib inline\n",
        "pyLDAvis.enable_notebook()\n",
        "vis = pyLDAvis.gensim.prepare(lda_model, corpus, id2word)\n",
        "vis"
      ],
      "execution_count": null,
      "outputs": [
        {
          "output_type": "execute_result",
          "data": {
            "text/html": [
              "\n",
              "<link rel=\"stylesheet\" type=\"text/css\" href=\"https://cdn.rawgit.com/bmabey/pyLDAvis/files/ldavis.v1.0.0.css\">\n",
              "\n",
              "\n",
              "<div id=\"ldavis_el611405222815289124930583199\"></div>\n",
              "<script type=\"text/javascript\">\n",
              "\n",
              "var ldavis_el611405222815289124930583199_data = {\"mdsDat\": {\"x\": [0.057999593353676104, 0.2334340109785613, -0.03754564334557269, -0.035054024517937564, -0.09494640462590696, 0.20719403625179938, -0.06055968159456396, -0.11221582163218081, -0.07442913476255071, -0.08387693010532407], \"y\": [-0.16490872886662644, 0.1411412771956546, -0.017995042952345202, 0.0411756437350822, 0.0036557237145849854, -0.10563465687256132, 0.21920565055375266, -0.11118826490543943, -0.004249841668214235, -0.0012017599338881608], \"topics\": [1, 2, 3, 4, 5, 6, 7, 8, 9, 10], \"cluster\": [1, 1, 1, 1, 1, 1, 1, 1, 1, 1], \"Freq\": [31.45031197107035, 15.846330802039018, 14.031945367629348, 9.359869867859171, 8.294038719449627, 7.620016919448705, 6.818361613824167, 3.6934856666800346, 1.8153085322944573, 1.070330539705121]}, \"tinfo\": {\"Term\": [\"film\", \"go\", \"say\", \"make\", \"even\", \"differ\", \"forget\", \"time\", \"peopl\", \"movi\", \"way\", \"could\", \"charact\", \"give\", \"music\", \"see\", \"show\", \"deserv\", \"lose\", \"good\", \"spend\", \"moment\", \"know\", \"main\", \"fight\", \"feel\", \"comic\", \"point\", \"much\", \"watch\", \"deserv\", \"main\", \"may\", \"cinema\", \"last\", \"complet\", \"event\", \"present\", \"sound\", \"wonder\", \"form\", \"ledger\", \"regard\", \"art\", \"equal\", \"mental\", \"festiv\", \"venic\", \"psych\", \"earn\", \"sure\", \"far\", \"year\", \"take\", \"end\", \"watch\", \"seem\", \"cinematographi\", \"mani\", \"set\", \"perform\", \"would\", \"film\", \"say\", \"good\", \"movi\", \"differ\", \"joker\", \"almost\", \"least\", \"even\", \"comic\", \"scene\", \"hear\", \"love\", \"joke\", \"pain\", \"total\", \"second\", \"hope\", \"connect\", \"conclu\", \"joaquin\", \"badass\", \"shoe\", \"due\", \"heath_ledger\", \"stage\", \"titl\", \"toler\", \"unconfid\", \"ever\", \"trailer\", \"high\", \"impact\", \"eye\", \"plea\", \"time\", \"author\", \"portray\", \"know\", \"make\", \"see\", \"charact\", \"real\", \"first\", \"differ\", \"joker\", \"feel\", \"come\", \"could\", \"movi\", \"keep\", \"call\", \"good\", \"say\", \"least\", \"almost\", \"spend\", \"need\", \"crap\", \"incre\", \"nice\", \"human\", \"begin\", \"bore\", \"clear\", \"everyon\", \"drama\", \"person\", \"job\", \"slow\", \"victim\", \"becom\", \"trash\", \"cgi\", \"rise\", \"especi\", \"hole\", \"anyth\", \"pace\", \"psycho\", \"guy\", \"worthi\", \"help\", \"rip\", \"plot\", \"deep\", \"crime\", \"drive\", \"happen\", \"think\", \"peopl\", \"actual\", \"understand\", \"stori\", \"movi\", \"thing\", \"bad\", \"also\", \"dark\", \"feel\", \"give\", \"point\", \"get\", \"make\", \"good\", \"know\", \"great\", \"say\", \"fight\", \"weak\", \"script\", \"insan\", \"fill\", \"cri\", \"phenoman\", \"otherwis\", \"base\", \"intellig\", \"forget\", \"mayb\", \"someon\", \"still\", \"lose\", \"win\", \"sometim\", \"truli\", \"control\", \"spiral\", \"speak\", \"typic\", \"predict\", \"laugh\", \"super\", \"game\", \"doubt\", \"type\", \"clich\", \"curtain\", \"hero\", \"face\", \"confid\", \"definit\", \"moment\", \"dark\", \"superhero\", \"think\", \"good\", \"great\", \"movi\", \"never\", \"want\", \"real\", \"peopl\", \"would\", \"watch\", \"time\", \"feel\", \"joker\", \"music\", \"theme\", \"import\", \"inten\", \"storylin\", \"claim\", \"busi\", \"applaud\", \"emot\", \"justifi\", \"rememb\", \"overwhelm\", \"today\", \"move\", \"forward\", \"crappi\", \"power\", \"avoid\", \"snap\", \"away\", \"perfect\", \"heart\", \"shock\", \"superhero\", \"actor\", \"yet\", \"stun\", \"brilliant\", \"realli\", \"overal\", \"tell\", \"action\", \"univer\", \"look\", \"never\", \"better\", \"mad\", \"instead\", \"lot\", \"long\", \"twist\", \"write\", \"go\", \"perform\", \"think\", \"movi\", \"act\", \"real\", \"uncomfort\", \"other\", \"rich\", \"talent\", \"around\", \"pull\", \"bitter\", \"shake\", \"remark\", \"necess\", \"rule\", \"reflect\", \"multipl\", \"corrupt\", \"violent\", \"believ\", \"way\", \"best\", \"class\", \"find\", \"realist\", \"consid\", \"live\", \"bring\", \"disturb\", \"show\", \"read\", \"overr\", \"wake\", \"could\", \"film\", \"call\", \"much\", \"peopl\", \"make\", \"good\", \"differ\", \"real\", \"son\", \"fluff\", \"unrealist\", \"pleasantli\", \"nudg\", \"excel\", \"cheesi\", \"anguish\", \"admit\", \"rendit\", \"full\", \"adult\", \"play\", \"go\", \"act\", \"mind\", \"right\", \"version\", \"seat\", \"posit\", \"expect\", \"wake\", \"point\", \"hell\", \"viewer\", \"edg\", \"low\", \"enjoy\", \"treat\", \"lose\", \"first\", \"come\", \"charact\", \"forget\", \"could\", \"feel\", \"better\", \"stori\", \"skip\", \"ago\", \"solid\", \"elev\", \"old\", \"prequel\", \"roll\", \"train\", \"underwhelm\", \"looong\", \"magic\", \"imho\", \"massiv\", \"dy\", \"damn\", \"12i\", \"suggest\", \"plan\", \"issu\", \"30min\", \"stupid\", \"moment\", \"everyth\", \"mess\", \"less\", \"give\", \"rate\", \"cre\", \"pretenti\", \"list\", \"say\", \"show\", \"well\", \"appear\", \"fiction\", \"someth\", \"winner\", \"alreadi\", \"dark_knight\", \"minor\", \"one\", \"violenc\", \"head\", \"diss\", \"glanc\", \"wast\", \"guarante\", \"ok\", \"charismat\", \"bother\", \"poster\", \"invest\", \"pc\", \"folk\", \"redeem\", \"stylish\", \"quarter\", \"attent\", \"flick\", \"gun\", \"despit\", \"spin\", \"new\", \"less\", \"great\", \"bad\", \"opinion\", \"review\", \"wrong\", \"batman\", \"twist\", \"actor\", \"univer\", \"realli\", \"trailer\", \"expect\", \"full\", \"rip\", \"pretti\", \"screenplay\", \"oscar\", \"costum\", \"score\", \"line\", \"felt\", \"tour\", \"exceed\", \"unbeliev\", \"dare\", \"add\", \"wayyyi\", \"pictur\", \"honestli\", \"honest\", \"season\", \"omg\", \"controversi\", \"visual\", \"big\", \"breathtak\", \"overal\", \"worthi\", \"comedi\", \"expect\", \"actor\", \"todd_phillip\", \"nest\", \"cuckoo\", \"fly\", \"cruel\", \"random\", \"sadden\", \"director\", \"let\", \"great\"], \"Freq\": [91.0, 32.0, 48.0, 54.0, 28.0, 50.0, 21.0, 29.0, 32.0, 87.0, 14.0, 24.0, 23.0, 13.0, 12.0, 31.0, 15.0, 28.0, 14.0, 57.0, 14.0, 9.0, 20.0, 25.0, 10.0, 33.0, 13.0, 13.0, 16.0, 33.0, 28.31439258103611, 24.435412565478593, 19.234710066768795, 14.79288529710878, 13.677615098547058, 13.119386806855719, 13.118835704729806, 12.560674757493773, 12.555253528841721, 12.002819105121787, 12.002789922524489, 12.002777576041016, 12.002776453633428, 12.000543984940068, 11.44434276135341, 11.443639011795472, 10.886044880391587, 10.886017942609465, 10.886017942609465, 10.886016820201878, 13.876460826910918, 16.36737733639521, 6.815289181869645, 20.653062864023024, 7.914855214658037, 29.721157642347528, 5.137518247131276, 14.371967860153957, 4.033430595372948, 4.032739192298483, 23.693195854671263, 21.355155748359643, 64.89657414725849, 28.68232901259491, 26.58471534616763, 34.36856483071708, 23.847270989148367, 17.63201529200822, 12.670225105345985, 12.153049993608565, 28.11751813703962, 13.121858488277029, 13.389184853917461, 7.180651006701448, 8.253846738543276, 6.8882038733008875, 11.859010008299279, 6.591827449166483, 6.008813564013323, 5.985790340774184, 5.71574661157933, 5.422450054649374, 5.422450054649374, 5.4201653202560625, 5.4201653202560625, 5.4201653202560625, 5.4201653202560625, 5.4201653202560625, 5.4201653202560625, 5.4201653202560625, 5.4201653202560625, 9.401510107870878, 6.59480439021757, 8.269663434462124, 5.610017699887242, 5.583419206639559, 6.598969506258843, 24.553737401746638, 5.696065660682882, 5.695560078369114, 15.096522754830902, 34.882919798813255, 19.86155349495601, 15.375315772589847, 11.636855782361863, 8.707092234382838, 17.256326288037275, 13.596826492230825, 13.278956598949833, 8.595939340619896, 8.81242075202778, 12.872279532223457, 6.031767227269696, 6.468743604538268, 8.608074447206947, 7.379576722621317, 6.516111125160799, 6.528216258747146, 13.486260698440965, 9.816118340017516, 4.290498179691417, 2.924898256675021, 2.924792342547435, 2.8798351756252782, 4.878168851108734, 5.815468818163777, 2.2330040775049116, 2.231976985894136, 3.5997347527675925, 6.953538403608466, 2.1528621372434706, 3.46215305219736, 1.5413313665283004, 1.5413283618721987, 1.5411631057866033, 1.541000353581093, 1.540766616375179, 1.5358945665062216, 1.514920439394081, 1.5106533269536053, 1.4983821862401296, 1.8982662330893787, 2.6918288355797713, 1.5412974389531517, 1.8791143047089338, 1.5410138745335507, 7.591390838132833, 3.933992728564878, 2.500821094476643, 3.2698613213867587, 6.113069488743922, 12.106343338711811, 15.075215989375714, 5.800568227779274, 5.1160019040652704, 5.1225290186702646, 31.385381692436276, 5.164060376860431, 6.8357508766604225, 5.219398129838053, 3.8648252947150117, 9.813830795172064, 4.9809170727155765, 4.969813366091628, 4.9289255050832494, 7.606229833067251, 7.680931092292481, 4.605767730477794, 4.146923191750265, 4.148694186134226, 9.38514913032052, 8.962558740683596, 8.550827915734226, 8.133831320937588, 8.133815955204717, 8.133623549506163, 8.133615532602056, 8.133319575225459, 8.550652879994567, 7.708830515465985, 15.755545479855282, 1.346524391306501, 1.763354301305257, 2.1413511629064534, 8.987604885262892, 1.75763691252666, 0.9295298007358911, 0.9294957288934386, 0.9295020756091895, 0.9294771062932745, 0.9291450728481983, 0.9290722526358979, 0.9295797393677209, 2.308762826759116, 1.3260274222605386, 0.805910976621324, 0.9296098862675379, 0.5123257267907907, 0.5123257267907907, 0.5123238060741819, 1.3002532425770752, 0.9120201305826019, 0.8894738404244233, 1.6928852131528844, 2.4479915652819924, 2.0765485227878346, 1.599846535714774, 3.6328447301137334, 4.613019485335054, 2.489722557495205, 5.130705055332235, 1.7518615682121266, 2.17839159814204, 2.359702736508129, 2.655709216642943, 2.4037726604944045, 2.5497172263948045, 2.1142109361670145, 2.0081137240524787, 1.8265739369005192, 11.707746764722161, 3.3915817859056783, 1.7570178986765037, 1.7568878066813403, 1.7148679442435806, 1.2135026448836492, 1.213441816885911, 1.2133415468896387, 1.2132073848946268, 1.2132081988945964, 1.2132237388940186, 1.2131147368980713, 1.2131726048959197, 1.7490216069737947, 1.2128616569074804, 1.2121507389339112, 1.2124379329232338, 1.206299263151461, 1.1902425217484285, 2.285333035034477, 3.1480208589609364, 1.7563301427020734, 1.3841677285385574, 3.0613556141830305, 3.329655924207996, 1.213505234883553, 1.2132565948927971, 2.3010666184495245, 3.9071708467367894, 1.2133024008910942, 3.1319948275567624, 4.511460744270127, 1.756639906690557, 3.4762872147564474, 2.7923434241845317, 1.9228077885126647, 1.6314760153439773, 2.0373322562548033, 2.43666376940821, 2.055700239571907, 1.6741996177555727, 2.1413340723881595, 3.1706456181197793, 2.894438556388776, 2.241168356676459, 2.6854160921599424, 1.6756372897021221, 1.6925181690745144, 5.234344027919425, 4.59336295127513, 4.593307474432047, 4.3796753978627745, 4.379674582026847, 4.378430160291825, 4.166029724028041, 4.166028636246804, 4.166028636246804, 4.166028364301495, 4.166028364301495, 4.166027820410877, 4.166027820410877, 4.166027276520258, 5.429425083274484, 5.108746086853042, 11.441472323723819, 4.983473392376495, 4.593341739541009, 5.1982791849003895, 4.374644409642079, 4.668301832357513, 4.850446993243273, 4.958503917973911, 4.521845414128127, 8.881232332196038, 0.6897368593953443, 0.6896719324527665, 4.270092859947375, 9.693148984079768, 26.468006185671545, 4.459453545722849, 5.805734299932591, 9.666386302308144, 10.10352207017162, 9.726468811147468, 8.702347795567908, 4.542581787847287, 5.047821033198633, 5.047818599842543, 4.787951256265352, 4.787951256265352, 4.787951256265352, 4.787951256265352, 4.787951256265352, 4.787951256265352, 4.787951256265352, 4.787951256265352, 5.305856059640245, 5.01699089821276, 5.804916953456139, 23.713771474614422, 6.347621548755295, 4.707839333736275, 6.0313772379484165, 5.500118663024211, 1.094567734581095, 0.834488506522389, 2.9153513706339838, 4.921715760546036, 6.720215086532438, 0.5766926789843991, 0.5633663435249991, 0.8081789996461455, 0.8353664005656674, 1.08074834034401, 0.5546657571583052, 5.032646137951755, 4.4677211081834685, 4.747473837726069, 6.0863229051261145, 5.047518323701069, 4.581200669428806, 4.898145786789532, 1.2348418314052647, 1.251611061562145, 2.839386597553076, 2.839328072067649, 2.692856972396039, 2.692856972396039, 2.692856972396039, 2.692856972396039, 2.692856972396039, 2.692856972396039, 2.692856972396039, 2.692856972396039, 2.692856972396039, 2.692856972396039, 2.692856972396039, 2.692856972396039, 2.692856972396039, 2.692856972396039, 2.69250740125335, 2.69250740125335, 2.69250740125335, 2.69250740125335, 2.9835889119652728, 5.470482574239335, 2.9790194424206065, 2.9146717257062527, 2.7462857316534617, 6.174380714379011, 2.607504406236071, 0.47013235748170623, 0.3244807464202391, 0.32398295025871393, 6.6271908133621835, 2.637780799812325, 2.2939238008019416, 0.4937548264322037, 0.4937527533044597, 0.49239077316193175, 0.2722068879915872, 0.27220611056868327, 0.27220611056868327, 0.27220611056868327, 0.27220611056868327, 0.27220611056868327, 0.2722001179337984, 0.2721998264002094, 0.27219969682972545, 0.27219947008137846, 0.27219921094041044, 0.27219917854778947, 0.2721893311910057, 0.2721891692279007, 0.2721893959762477, 0.27218920162052174, 0.27218884530169074, 0.2721886509459647, 0.27218826223451276, 0.27218842419761774, 0.2721861567141478, 0.2721877439525768, 0.27220607817606224, 0.48036378169641925, 0.46268087664135954, 0.25462767171634565, 0.3525314209576034, 0.6705464311129257, 0.6685754696956147, 0.39024031891507144, 0.28452528347560757, 0.2746629936936017, 0.2743905393583783, 0.2737586565005489, 0.27343566967656696, 0.2727701632781405, 0.27272141238353687, 0.27250778304804785, 0.272503118510624, 0.2723799617655854, 0.272287189299044, 0.2722077625923542, 0.27220611056868327, 2.7707540119443728, 2.4012581402733035, 2.278023838197458, 0.6186804483382706, 0.27415777625696164, 0.2738241717737656, 0.15124493161837857, 0.15124493161837857, 0.1512423341368583, 0.1512423341368583, 0.15123716782251098, 0.1512370150294804, 0.15123691953383625, 0.15123659484864624, 0.15123621286606972, 0.1512360505234747, 0.14310498795813437, 0.14309265947047745, 0.13165408617164231, 0.14694843934560314, 0.12371957274104578, 0.15123497142269604, 0.15124415810366115, 0.11122264031747116, 0.2865712932353906, 0.27341724573500825, 0.10678561665479727, 0.028071839863027383, 0.028071839863027383, 0.028071839863027383, 0.028071839863027383, 0.028071839863027383, 0.028071839863027383, 0.14206917535497346, 0.0293122781450342, 0.029133199938383564], \"Total\": [91.0, 32.0, 48.0, 54.0, 28.0, 50.0, 21.0, 29.0, 32.0, 87.0, 14.0, 24.0, 23.0, 13.0, 12.0, 31.0, 15.0, 28.0, 14.0, 57.0, 14.0, 9.0, 20.0, 25.0, 10.0, 33.0, 13.0, 13.0, 16.0, 33.0, 28.993665716012035, 25.099151704030483, 19.910795223752498, 15.457313062830032, 14.341090982271336, 13.78278157980189, 13.78252308649335, 13.224477533444814, 13.222333379904274, 12.666091602041362, 12.66608563417248, 12.66608724484786, 12.666086767327819, 12.665018762331313, 12.107651134968888, 12.10712833330511, 11.549296778204289, 11.5492810300872, 11.549281980599236, 11.549282656743095, 14.836309076694604, 17.953548914765435, 7.485209551736863, 23.061621100100794, 8.86230325431558, 33.503990435564106, 5.816391406888078, 16.603169661803992, 4.697715271473038, 4.697765909199608, 28.48276181921983, 25.748731430493827, 91.99843033426504, 48.16977384809965, 57.81282144820803, 87.63996133591763, 50.46182192476559, 34.17624902468064, 19.807403948703207, 19.26592843652983, 28.93488165639896, 13.849206761918033, 14.569651991710456, 7.905181914229617, 9.120865270902806, 7.612344668381933, 13.130856091692635, 7.321899976295931, 6.732601505202067, 6.726472494111507, 6.439440091084046, 6.146284720679272, 6.146284720679272, 6.147247693410074, 6.147247693410074, 6.147247693410074, 6.147247693410074, 6.147247693410074, 6.147247693410074, 6.147247693410074, 6.147247693410074, 10.718048390280865, 7.540612239121889, 9.531215869575563, 6.484068026358751, 6.495319626105711, 7.734680001177794, 29.77583506717702, 6.955068578988317, 7.001446874140906, 20.55329835273689, 54.942470711048216, 31.449640678378806, 23.094393176133323, 20.688284212202447, 13.859907603963642, 50.46182192476559, 34.17624902468064, 33.58791097039252, 15.400127996727855, 24.053023275873443, 87.63996133591763, 8.724063754947213, 12.177308213709921, 57.81282144820803, 48.16977384809965, 19.26592843652983, 19.807403948703207, 14.119514504238191, 11.008958232707538, 4.9299561462485615, 3.5578235725399634, 3.557757270349997, 3.5318569951007714, 6.148088914472573, 7.432196580288546, 2.8659292091915587, 2.865240301789472, 4.660120906243545, 9.026336468747699, 2.8157892493965053, 4.651373884643655, 2.1741638399843133, 2.174163965714704, 2.1740825208937573, 2.1740569978531075, 2.1740037872229716, 2.171031180921899, 2.1569041113684495, 2.1564878492784803, 2.1444942316904325, 2.733153843932559, 4.006001234839428, 2.2973393475025667, 2.8429777085857832, 2.395685898572012, 11.808949006616084, 6.121876946001657, 3.9234050661963042, 5.296022117557247, 10.833633036949918, 24.62459370917049, 32.579350598069624, 10.740919622064139, 9.233902313236136, 9.273163282553112, 87.63996133591763, 9.554500551691808, 13.831246640383059, 9.99863035946729, 7.21469148864703, 33.58791097039252, 13.01354487921177, 13.483352917842376, 16.6899776383881, 54.942470711048216, 57.81282144820803, 20.55329835273689, 14.859001522294905, 48.16977384809965, 10.080941529251783, 9.660079765904804, 9.24666566531664, 8.8292934135954, 8.829285304620445, 8.82923108886809, 8.829422471444634, 8.82910738094125, 9.791318266433295, 8.95905018060919, 21.439729847085083, 2.0421947995372816, 2.681345981576552, 3.433483430598535, 14.659271934765496, 3.006088379384256, 1.6249679726074016, 1.6249310814273716, 1.62497720624364, 1.6249821107499705, 1.6250195787377357, 1.6250087946850222, 1.7706660003100738, 4.497622966840783, 2.7476274054982324, 1.8371266459123652, 2.1319899441278833, 1.207724131331948, 1.207724131331948, 1.2077234158870274, 3.0704637631869898, 2.206659394414266, 2.1968975965826987, 4.868806317086529, 9.040163203484699, 7.21469148864703, 5.233062558524276, 24.62459370917049, 57.81282144820803, 14.859001522294905, 87.63996133591763, 7.417801008009516, 12.984714380666244, 20.688284212202447, 32.579350598069624, 25.748731430493827, 33.503990435564106, 29.77583506717702, 33.58791097039252, 34.17624902468064, 12.374242936728402, 4.058358822288626, 2.4239717005468733, 2.4239480081982285, 2.6119582871997657, 1.8798767361634678, 1.8798423236840816, 1.8798084859925381, 1.879788352732464, 1.8798019884123487, 1.8798681520461809, 1.8797095238533414, 1.8798727992750095, 2.710521399506525, 1.8798778281890836, 1.8797216676239117, 1.8801795344564634, 1.8818147626875563, 1.862948736588405, 3.6019350717476044, 5.002735641878284, 2.841160231629419, 2.3370178179484555, 5.233062558524276, 5.846143079081139, 2.138824797889655, 2.1387079414854044, 4.06151384292458, 6.906049449057355, 2.148726069197157, 6.053407277883012, 9.13943530024868, 3.3217991706013783, 10.198337746886695, 7.417801008009516, 4.2483192380849815, 3.2530905913547805, 4.934025642359911, 7.11294116084939, 5.2851769495127945, 3.590857184129568, 7.458941633453444, 32.355517895680194, 28.48276181921983, 24.62459370917049, 87.63996133591763, 9.104232129082659, 20.688284212202447, 5.976427572728604, 5.3352851473647815, 5.3354433979802485, 5.121589135875591, 5.121591629584344, 5.121928457376579, 4.907818970886841, 4.907819062517362, 4.9078193871336175, 4.90781925538799, 4.907819852145738, 4.907819708301551, 4.907819816132589, 4.9078195719235085, 6.490299811404574, 6.316462249588278, 14.524373894738197, 6.381215898102785, 6.027145201547005, 6.845275348570915, 5.8247179367905035, 6.308598082638042, 6.571169732003794, 6.770077961971356, 6.237906221984707, 15.719946877314667, 1.4316780484711362, 1.4317984541984548, 9.874619522764666, 24.053023275873443, 91.99843033426504, 12.177308213709921, 16.61619848450903, 32.579350598069624, 54.942470711048216, 57.81282144820803, 50.46182192476559, 20.688284212202447, 5.77930016527726, 5.779301110085866, 5.520412706609094, 5.520412706609094, 5.520412706609094, 5.520412706609094, 5.520412706609094, 5.520412706609094, 5.520412706609094, 5.520412706609094, 6.260025804726542, 5.989937093614927, 7.398145220966206, 32.355517895680194, 9.104232129082659, 6.997149722508956, 8.972459083334194, 8.600366972139069, 1.826385623032295, 1.5688019026825004, 5.7342575722442675, 9.874619522764666, 13.483352917842376, 1.308522565527941, 1.3239512828674644, 2.157598375790375, 2.259616462627507, 2.954754213218132, 1.5185717655028803, 14.659271934765496, 13.859907603963642, 15.400127996727855, 23.094393176133323, 21.439729847085083, 24.053023275873443, 33.58791097039252, 4.2483192380849815, 9.273163282553112, 3.5967160222241863, 3.5967563465336236, 3.452052149964561, 3.452052149964561, 3.452052149964561, 3.452052149964561, 3.452052149964561, 3.452052149964561, 3.452052149964561, 3.452052149964561, 3.452052149964561, 3.452052149964561, 3.452052149964561, 3.452052149964561, 3.452052149964561, 3.452052149964561, 3.4545601302771676, 3.4545601302771676, 3.4545601302771676, 3.4545601302771676, 4.439607298300829, 9.040163203484699, 5.232348916711566, 5.389878290157999, 5.709398233291056, 13.01354487921177, 6.368394728679985, 1.227464047776616, 1.0818148797249076, 1.0829495223724055, 48.16977384809965, 15.719946877314667, 13.192520094021708, 1.23402140871519, 1.2340313017106368, 1.2359572308052884, 1.012175022495666, 1.012179024286405, 1.012179024286405, 1.012179024286405, 1.012179024286405, 1.012179024286405, 1.0121767488608564, 1.0121768368554125, 1.0121768703217657, 1.0121770202381817, 1.012177052356539, 1.0121771376527495, 1.012187167137831, 1.012187058069599, 1.0121886069676378, 1.0121879359472732, 1.0121871652878633, 1.0121880085521626, 1.0121872081349932, 1.01219086519766, 1.0121899544746247, 1.1579087439225988, 1.2711289009172217, 2.256661591214631, 2.382045547748025, 1.3112028467760588, 1.8662230793655121, 5.709398233291056, 14.859001522294905, 13.831246640383059, 2.110254423976932, 10.721329641662985, 5.250325432552101, 2.9858085895649267, 3.590857184129568, 5.846143079081139, 3.3217991706013783, 6.906049449057355, 7.540612239121889, 5.7342575722442675, 6.260025804726542, 2.395685898572012, 1.7040177781710226, 3.5332563897204246, 3.1636812491851005, 3.0406002834596637, 2.1626611183927196, 1.0376490426196747, 1.0388452940550121, 0.913666784299469, 0.913666784299469, 0.9136758342061446, 0.9136758342061446, 0.9136881392802818, 0.9136877463397043, 0.9136879179774502, 0.9136885350338707, 0.9136892870407503, 0.9136903657672759, 1.218165327095122, 1.2182668934962262, 1.540081187208636, 1.854364587921265, 1.5693241815673826, 2.148726069197157, 2.2973393475025667, 1.9678355368313263, 5.7342575722442675, 5.846143079081139, 2.336535471361214, 0.9361406440865017, 0.9361406440865017, 0.9361406440865017, 0.9361406440865017, 0.9361406440865017, 0.9361406440865017, 6.112843975527631, 3.5519437801962277, 14.859001522294905], \"Category\": [\"Default\", \"Default\", \"Default\", \"Default\", \"Default\", \"Default\", \"Default\", \"Default\", \"Default\", \"Default\", \"Default\", \"Default\", \"Default\", \"Default\", \"Default\", \"Default\", \"Default\", \"Default\", \"Default\", \"Default\", \"Default\", \"Default\", \"Default\", \"Default\", \"Default\", \"Default\", \"Default\", \"Default\", \"Default\", \"Default\", \"Topic1\", \"Topic1\", \"Topic1\", \"Topic1\", \"Topic1\", \"Topic1\", \"Topic1\", \"Topic1\", \"Topic1\", \"Topic1\", \"Topic1\", \"Topic1\", \"Topic1\", \"Topic1\", \"Topic1\", \"Topic1\", \"Topic1\", \"Topic1\", \"Topic1\", \"Topic1\", \"Topic1\", \"Topic1\", \"Topic1\", \"Topic1\", \"Topic1\", \"Topic1\", \"Topic1\", \"Topic1\", \"Topic1\", \"Topic1\", \"Topic1\", \"Topic1\", \"Topic1\", \"Topic1\", \"Topic1\", \"Topic1\", \"Topic1\", \"Topic1\", \"Topic1\", \"Topic1\", \"Topic2\", \"Topic2\", \"Topic2\", \"Topic2\", \"Topic2\", \"Topic2\", \"Topic2\", \"Topic2\", \"Topic2\", \"Topic2\", \"Topic2\", \"Topic2\", \"Topic2\", \"Topic2\", \"Topic2\", \"Topic2\", \"Topic2\", \"Topic2\", \"Topic2\", \"Topic2\", \"Topic2\", \"Topic2\", \"Topic2\", \"Topic2\", \"Topic2\", \"Topic2\", \"Topic2\", \"Topic2\", \"Topic2\", \"Topic2\", \"Topic2\", \"Topic2\", \"Topic2\", \"Topic2\", \"Topic2\", \"Topic2\", \"Topic2\", \"Topic2\", \"Topic2\", \"Topic2\", \"Topic2\", \"Topic2\", \"Topic2\", \"Topic2\", \"Topic2\", \"Topic2\", \"Topic2\", \"Topic2\", \"Topic3\", \"Topic3\", \"Topic3\", \"Topic3\", \"Topic3\", \"Topic3\", \"Topic3\", \"Topic3\", \"Topic3\", \"Topic3\", \"Topic3\", \"Topic3\", \"Topic3\", \"Topic3\", \"Topic3\", \"Topic3\", \"Topic3\", \"Topic3\", \"Topic3\", \"Topic3\", \"Topic3\", \"Topic3\", \"Topic3\", \"Topic3\", \"Topic3\", \"Topic3\", \"Topic3\", \"Topic3\", \"Topic3\", \"Topic3\", \"Topic3\", \"Topic3\", \"Topic3\", \"Topic3\", \"Topic3\", \"Topic3\", \"Topic3\", \"Topic3\", \"Topic3\", \"Topic3\", \"Topic3\", \"Topic3\", \"Topic3\", \"Topic3\", \"Topic3\", \"Topic3\", \"Topic3\", \"Topic3\", \"Topic3\", \"Topic3\", \"Topic3\", \"Topic3\", \"Topic4\", \"Topic4\", \"Topic4\", \"Topic4\", \"Topic4\", \"Topic4\", \"Topic4\", \"Topic4\", \"Topic4\", \"Topic4\", \"Topic4\", \"Topic4\", \"Topic4\", \"Topic4\", \"Topic4\", \"Topic4\", \"Topic4\", \"Topic4\", \"Topic4\", \"Topic4\", \"Topic4\", \"Topic4\", \"Topic4\", \"Topic4\", \"Topic4\", \"Topic4\", \"Topic4\", \"Topic4\", \"Topic4\", \"Topic4\", \"Topic4\", \"Topic4\", \"Topic4\", \"Topic4\", \"Topic4\", \"Topic4\", \"Topic4\", \"Topic4\", \"Topic4\", \"Topic4\", \"Topic4\", \"Topic4\", \"Topic4\", \"Topic4\", \"Topic4\", \"Topic4\", \"Topic4\", \"Topic4\", \"Topic4\", \"Topic4\", \"Topic5\", \"Topic5\", \"Topic5\", \"Topic5\", \"Topic5\", \"Topic5\", \"Topic5\", \"Topic5\", \"Topic5\", \"Topic5\", \"Topic5\", \"Topic5\", \"Topic5\", \"Topic5\", \"Topic5\", \"Topic5\", \"Topic5\", \"Topic5\", \"Topic5\", \"Topic5\", \"Topic5\", \"Topic5\", \"Topic5\", \"Topic5\", \"Topic5\", \"Topic5\", \"Topic5\", \"Topic5\", \"Topic5\", \"Topic5\", \"Topic5\", \"Topic5\", \"Topic5\", \"Topic5\", \"Topic5\", \"Topic5\", \"Topic5\", \"Topic5\", \"Topic5\", \"Topic5\", \"Topic5\", \"Topic5\", \"Topic5\", \"Topic5\", \"Topic5\", \"Topic5\", \"Topic5\", \"Topic5\", \"Topic6\", \"Topic6\", \"Topic6\", \"Topic6\", \"Topic6\", \"Topic6\", \"Topic6\", \"Topic6\", \"Topic6\", \"Topic6\", \"Topic6\", \"Topic6\", \"Topic6\", \"Topic6\", \"Topic6\", \"Topic6\", \"Topic6\", \"Topic6\", \"Topic6\", \"Topic6\", \"Topic6\", \"Topic6\", \"Topic6\", \"Topic6\", \"Topic6\", \"Topic6\", \"Topic6\", \"Topic6\", \"Topic6\", \"Topic6\", \"Topic6\", \"Topic6\", \"Topic6\", \"Topic6\", \"Topic6\", \"Topic6\", \"Topic6\", \"Topic6\", \"Topic7\", \"Topic7\", \"Topic7\", \"Topic7\", \"Topic7\", \"Topic7\", \"Topic7\", \"Topic7\", \"Topic7\", \"Topic7\", \"Topic7\", \"Topic7\", \"Topic7\", \"Topic7\", \"Topic7\", \"Topic7\", \"Topic7\", \"Topic7\", \"Topic7\", \"Topic7\", \"Topic7\", \"Topic7\", \"Topic7\", \"Topic7\", \"Topic7\", \"Topic7\", \"Topic7\", \"Topic7\", \"Topic7\", \"Topic7\", \"Topic7\", \"Topic7\", \"Topic7\", \"Topic7\", \"Topic7\", \"Topic7\", \"Topic7\", \"Topic7\", \"Topic8\", \"Topic8\", \"Topic8\", \"Topic8\", \"Topic8\", \"Topic8\", \"Topic8\", \"Topic8\", \"Topic8\", \"Topic8\", \"Topic8\", \"Topic8\", \"Topic8\", \"Topic8\", \"Topic8\", \"Topic8\", \"Topic8\", \"Topic8\", \"Topic8\", \"Topic8\", \"Topic8\", \"Topic8\", \"Topic8\", \"Topic8\", \"Topic8\", \"Topic8\", \"Topic8\", \"Topic8\", \"Topic8\", \"Topic8\", \"Topic8\", \"Topic8\", \"Topic8\", \"Topic9\", \"Topic9\", \"Topic9\", \"Topic9\", \"Topic9\", \"Topic9\", \"Topic9\", \"Topic9\", \"Topic9\", \"Topic9\", \"Topic9\", \"Topic9\", \"Topic9\", \"Topic9\", \"Topic9\", \"Topic9\", \"Topic9\", \"Topic9\", \"Topic9\", \"Topic9\", \"Topic9\", \"Topic9\", \"Topic9\", \"Topic9\", \"Topic9\", \"Topic9\", \"Topic9\", \"Topic9\", \"Topic9\", \"Topic9\", \"Topic9\", \"Topic9\", \"Topic9\", \"Topic9\", \"Topic9\", \"Topic9\", \"Topic9\", \"Topic9\", \"Topic9\", \"Topic9\", \"Topic9\", \"Topic9\", \"Topic9\", \"Topic9\", \"Topic9\", \"Topic9\", \"Topic10\", \"Topic10\", \"Topic10\", \"Topic10\", \"Topic10\", \"Topic10\", \"Topic10\", \"Topic10\", \"Topic10\", \"Topic10\", \"Topic10\", \"Topic10\", \"Topic10\", \"Topic10\", \"Topic10\", \"Topic10\", \"Topic10\", \"Topic10\", \"Topic10\", \"Topic10\", \"Topic10\", \"Topic10\", \"Topic10\", \"Topic10\", \"Topic10\", \"Topic10\", \"Topic10\", \"Topic10\", \"Topic10\", \"Topic10\", \"Topic10\", \"Topic10\", \"Topic10\", \"Topic10\", \"Topic10\", \"Topic10\"], \"logprob\": [30.0, 29.0, 28.0, 27.0, 26.0, 25.0, 24.0, 23.0, 22.0, 21.0, 20.0, 19.0, 18.0, 17.0, 16.0, 15.0, 14.0, 13.0, 12.0, 11.0, 10.0, 9.0, 8.0, 7.0, 6.0, 5.0, 4.0, 3.0, 2.0, 1.0, -3.750999927520752, -3.8982999324798584, -4.137700080871582, -4.400199890136719, -4.478600025177002, -4.520299911499023, -4.520299911499023, -4.563799858093262, -4.564199924468994, -4.6092000007629395, -4.6092000007629395, -4.6092000007629395, -4.6092000007629395, -4.609399795532227, -4.656899929046631, -4.656899929046631, -4.706900119781494, -4.706900119781494, -4.706900119781494, -4.706900119781494, -4.464200019836426, -4.299099922180176, -5.17519998550415, -4.066500186920166, -5.025599956512451, -3.702500104904175, -5.457799911499023, -4.429100036621094, -5.69980001449585, -5.699900150299072, -3.9291999340057373, -4.033100128173828, -2.921600103378296, -3.738100051879883, -3.813999891281128, -3.5571999549865723, -3.9226999282836914, -4.224699974060059, -4.555099964141846, -4.596799850463867, -3.072499990463257, -3.8345999717712402, -3.814500093460083, -4.4375, -4.2982001304626465, -4.479100227355957, -3.935800075531006, -4.523099899291992, -4.615699768066406, -4.619500160217285, -4.6656999588012695, -4.718400001525879, -4.718400001525879, -4.718800067901611, -4.718800067901611, -4.718800067901611, -4.718800067901611, -4.718800067901611, -4.718800067901611, -4.718800067901611, -4.718800067901611, -4.168000221252441, -4.522600173950195, -4.296299934387207, -4.6844000816345215, -4.6890997886657715, -4.521999835968018, -3.2079999446868896, -4.669099807739258, -4.6691999435424805, -3.6944000720977783, -2.8568999767303467, -3.420099973678589, -3.676100015640259, -3.954699993133545, -4.244800090789795, -3.560699939727783, -3.799099922180176, -3.822700023651123, -4.257599830627441, -4.232699871063232, -3.853800058364868, -4.6118998527526855, -4.541900157928467, -4.256199836730957, -4.410200119018555, -4.534599781036377, -4.532800197601318, -3.6856000423431396, -4.003300189971924, -4.830900192260742, -5.214000225067139, -5.214099884033203, -5.229599952697754, -4.702499866485596, -4.526800155639648, -5.484000205993652, -5.484399795532227, -5.006400108337402, -4.348100185394287, -5.520500183105469, -5.045400142669678, -5.854700088500977, -5.854700088500977, -5.854800224304199, -5.854899883270264, -5.855000019073486, -5.8582000732421875, -5.8719000816345215, -5.874800205230713, -5.882900238037109, -5.646399974822998, -5.297100067138672, -5.854700088500977, -5.656499862670898, -5.854899883270264, -4.260300159454346, -4.917699813842773, -5.370699882507324, -5.10260009765625, -4.476900100708008, -3.793600082397461, -3.5743000507354736, -4.529399871826172, -4.654900074005127, -4.65369987487793, -2.8410000801086426, -4.645599842071533, -4.365099906921387, -4.634900093078613, -4.935400009155273, -4.003499984741211, -4.681700229644775, -4.683899879455566, -4.692200183868408, -4.258299827575684, -4.248600006103516, -4.760000228881836, -4.8649001121521, -4.864500045776367, -3.6433000564575195, -3.689300060272217, -3.7363998889923096, -3.786400079727173, -3.786400079727173, -3.786400079727173, -3.786400079727173, -3.786400079727173, -3.7363998889923096, -3.8399999141693115, -3.125200033187866, -5.58489990234375, -5.315199851989746, -5.120999813079834, -3.6865999698638916, -5.318399906158447, -5.95550012588501, -5.95550012588501, -5.95550012588501, -5.95550012588501, -5.955900192260742, -5.955999851226807, -5.955399990081787, -5.0457000732421875, -5.600200176239014, -6.098199844360352, -5.955399990081787, -6.551199913024902, -6.551199913024902, -6.551199913024902, -5.619800090789795, -5.9745001792907715, -5.999499797821045, -5.355999946594238, -4.987100124359131, -5.151700019836426, -5.412499904632568, -4.592400074005127, -4.353499889373779, -4.970200061798096, -4.247200012207031, -5.321700096130371, -5.103799819946289, -5.023900032043457, -4.905700206756592, -5.00540018081665, -4.946400165557861, -5.133699893951416, -5.185200214385986, -5.28000020980835, -3.301300048828125, -4.540200233459473, -5.19789981842041, -5.197999954223633, -5.2221999168396, -5.567999839782715, -5.567999839782715, -5.5680999755859375, -5.56820011138916, -5.56820011138916, -5.56820011138916, -5.568299770355225, -5.568299770355225, -5.202499866485596, -5.56850004196167, -5.5690999031066895, -5.568900108337402, -5.573999881744385, -5.587399959564209, -4.934999942779541, -4.614699840545654, -5.198299884796143, -5.436399936676025, -4.6427001953125, -4.558599948883057, -5.567999839782715, -5.56820011138916, -4.928100109100342, -4.39870023727417, -5.56820011138916, -4.619800090789795, -4.254899978637695, -5.1981000900268555, -4.515500068664551, -4.734600067138672, -5.107699871063232, -5.271999835968018, -5.049900054931641, -4.8709001541137695, -5.040900230407715, -5.246200084686279, -5.000100135803223, -4.607600212097168, -4.698699951171875, -4.954500198364258, -4.77370023727417, -5.245299816131592, -5.235300064086914, -4.021500110626221, -4.152100086212158, -4.152200222015381, -4.19980001449585, -4.19980001449585, -4.200099945068359, -4.249800205230713, -4.249800205230713, -4.249800205230713, -4.249800205230713, -4.249800205230713, -4.249800205230713, -4.249800205230713, -4.249800205230713, -3.9848999977111816, -4.04580020904541, -3.239500045776367, -4.0706000328063965, -4.152100086212158, -4.02839994430542, -4.200900077819824, -4.136000156402588, -4.097700119018555, -4.0756001472473145, -4.167799949645996, -3.492799997329712, -6.0482001304626465, -6.048299789428711, -4.225100040435791, -3.4052999019622803, -2.4007999897003174, -4.181700229644775, -3.9179000854492188, -3.408099889755249, -3.3638999462127686, -3.401900053024292, -3.513200044631958, -4.163300037384033, -3.9465999603271484, -3.9465999603271484, -3.999500036239624, -3.999500036239624, -3.999500036239624, -3.999500036239624, -3.999500036239624, -3.999500036239624, -3.999500036239624, -3.999500036239624, -3.8968000411987305, -3.9528000354766846, -3.8069000244140625, -2.3994998931884766, -3.7174999713897705, -4.01639986038208, -3.7685999870300293, -3.86080002784729, -5.475200176239014, -5.746500015258789, -4.49560022354126, -3.97189998626709, -3.6605000495910645, -6.116000175476074, -6.139400005340576, -5.778600215911865, -5.745500087738037, -5.4878997802734375, -6.15500020980835, -3.9495999813079834, -4.068699836730957, -4.007999897003174, -3.759500026702881, -3.946700096130371, -4.043600082397461, -3.9767000675201416, -5.354599952697754, -5.34119987487793, -3.9089999198913574, -3.9089999198913574, -3.961899995803833, -3.961899995803833, -3.961899995803833, -3.961899995803833, -3.961899995803833, -3.961899995803833, -3.961899995803833, -3.961899995803833, -3.961899995803833, -3.961899995803833, -3.961899995803833, -3.961899995803833, -3.961899995803833, -3.961899995803833, -3.962100028991699, -3.962100028991699, -3.962100028991699, -3.962100028991699, -3.8594000339508057, -3.253200054168701, -3.8608999252319336, -3.8828001022338867, -3.9423000812530518, -3.1321001052856445, -3.9941000938415527, -5.707300186157227, -6.078100204467773, -6.079599857330322, -3.0613999366760254, -3.982599973678589, -4.122300148010254, -4.94789981842041, -4.94789981842041, -4.950699806213379, -5.543399810791016, -5.543399810791016, -5.543399810791016, -5.543399810791016, -5.543399810791016, -5.543399810791016, -5.543399810791016, -5.543399810791016, -5.543399810791016, -5.543399810791016, -5.543399810791016, -5.543399810791016, -5.543499946594238, -5.543499946594238, -5.543499946594238, -5.543499946594238, -5.543499946594238, -5.543499946594238, -5.543499946594238, -5.543499946594238, -5.543499946594238, -5.543499946594238, -5.543399810791016, -4.975399971008301, -5.012899875640869, -5.610199928283691, -5.284800052642822, -4.641900062561035, -4.644800186157227, -5.183199882507324, -5.499199867248535, -5.53439998626709, -5.535399913787842, -5.537700176239014, -5.538899898529053, -5.541399955749512, -5.541500091552734, -5.542300224304199, -5.542300224304199, -5.542799949645996, -5.543099880218506, -5.543399810791016, -5.543399810791016, -2.6947999000549316, -2.837899923324585, -2.8905999660491943, -4.1940999031066895, -5.007999897003174, -5.009200096130371, -5.602799892425537, -5.602799892425537, -5.602799892425537, -5.602799892425537, -5.602799892425537, -5.602799892425537, -5.602799892425537, -5.602799892425537, -5.60290002822876, -5.60290002822876, -5.658100128173828, -5.658199787139893, -5.741499900817871, -5.6315999031066895, -5.803699970245361, -5.60290002822876, -5.602799892425537, -5.910200119018555, -4.963699817657471, -5.010700225830078, -5.950900077819824, -7.286900043487549, -7.286900043487549, -7.286900043487549, -7.286900043487549, -7.286900043487549, -7.286900043487549, -5.66540002822876, -7.24370002746582, -7.249800205230713], \"loglift\": [30.0, 29.0, 28.0, 27.0, 26.0, 25.0, 24.0, 23.0, 22.0, 21.0, 20.0, 19.0, 18.0, 17.0, 16.0, 15.0, 14.0, 13.0, 12.0, 11.0, 10.0, 9.0, 8.0, 7.0, 6.0, 5.0, 4.0, 3.0, 2.0, 1.0, 1.1331, 1.13, 1.1222, 1.1128, 1.1094, 1.1074, 1.1074, 1.1053, 1.105, 1.103, 1.103, 1.103, 1.103, 1.1029, 1.1004, 1.1004, 1.0976, 1.0976, 1.0976, 1.0976, 1.0899, 1.0643, 1.063, 1.0465, 1.0437, 1.037, 1.0327, 1.0124, 1.0043, 1.0041, 0.9727, 0.9697, 0.8078, 0.6383, 0.3799, 0.2207, 0.4072, 0.4949, 0.71, 0.696, 1.8136, 1.7883, 1.7577, 1.7461, 1.7423, 1.7423, 1.7404, 1.7372, 1.7285, 1.7256, 1.723, 1.7169, 1.7169, 1.7164, 1.7164, 1.7164, 1.7164, 1.7164, 1.7164, 1.7164, 1.7164, 1.7112, 1.7082, 1.7003, 1.6974, 1.691, 1.6834, 1.6494, 1.6425, 1.6358, 1.5337, 1.3879, 1.3826, 1.4354, 1.2668, 1.3774, 0.7692, 0.9205, 0.9142, 1.2591, 0.8381, -0.0759, 1.4732, 1.2096, -0.0623, -0.0338, 0.7582, 0.7323, 1.9179, 1.8492, 1.8249, 1.7679, 1.7679, 1.7597, 1.7325, 1.7185, 1.7143, 1.7141, 1.7057, 1.7029, 1.6954, 1.6686, 1.6198, 1.6198, 1.6198, 1.6197, 1.6195, 1.6177, 1.6105, 1.6079, 1.6053, 1.5993, 1.5663, 1.5647, 1.5498, 1.5226, 1.522, 1.5216, 1.5135, 1.4816, 1.3916, 1.2538, 1.1932, 1.3477, 1.3733, 1.3704, 0.9369, 1.3485, 1.2591, 1.3138, 1.3396, 0.7335, 1.0035, 0.9658, 0.7441, -0.0135, -0.0546, 0.4681, 0.6876, -0.4881, 2.2972, 2.2938, 2.2905, 2.2867, 2.2867, 2.2867, 2.2867, 2.2867, 2.2333, 2.2184, 2.0607, 1.9522, 1.9496, 1.8966, 1.8795, 1.8321, 1.8102, 1.8102, 1.8101, 1.8101, 1.8097, 1.8097, 1.7244, 1.7019, 1.6402, 1.5448, 1.5387, 1.5112, 1.5112, 1.5112, 1.5095, 1.4852, 1.4646, 1.3123, 1.0623, 1.1233, 1.1836, 0.455, -0.1596, 0.5823, -0.4693, 0.9255, 0.5836, 0.1977, -0.1382, -0.0026, -0.2069, -0.2763, -0.4482, -0.5604, 2.4343, 2.3102, 2.1678, 2.1678, 2.0689, 2.0519, 2.0519, 2.0518, 2.0517, 2.0517, 2.0517, 2.0517, 2.0517, 2.0515, 2.0514, 2.0509, 2.0509, 2.045, 2.0416, 2.0347, 2.0264, 2.0086, 1.9659, 1.9535, 1.9267, 1.9229, 1.9227, 1.9215, 1.92, 1.9181, 1.8307, 1.7837, 1.8525, 1.4134, 1.5126, 1.6969, 1.7995, 1.6051, 1.4183, 1.5453, 1.7266, 1.2416, 0.1668, 0.2031, 0.0929, -0.9958, 0.7971, -0.0137, 2.4418, 2.4247, 2.4246, 2.4179, 2.4179, 2.4176, 2.4105, 2.4105, 2.4105, 2.4105, 2.4105, 2.4105, 2.4105, 2.4105, 2.3959, 2.3622, 2.3358, 2.3272, 2.3027, 2.2992, 2.2881, 2.2733, 2.2708, 2.263, 2.2527, 2.0034, 1.8441, 1.8439, 1.7361, 1.6656, 1.3286, 1.5698, 1.5229, 1.3594, 0.881, 0.792, 0.8168, 1.0583, 2.5502, 2.5502, 2.5432, 2.5432, 2.5432, 2.5432, 2.5432, 2.5432, 2.5432, 2.5432, 2.5202, 2.5083, 2.443, 2.3748, 2.3249, 2.2893, 2.2884, 2.2385, 2.1736, 2.0543, 2.0091, 1.9892, 1.9892, 1.8662, 1.8311, 1.7036, 1.6905, 1.6798, 1.6784, 1.6164, 1.5534, 1.5088, 1.352, 1.2392, 1.0273, 0.7602, 1.45, 0.6829, 3.0622, 3.0621, 3.0502, 3.0502, 3.0502, 3.0502, 3.0502, 3.0502, 3.0502, 3.0502, 3.0502, 3.0502, 3.0502, 3.0502, 3.0502, 3.0502, 3.0494, 3.0494, 3.0494, 3.0494, 2.9012, 2.7963, 2.7353, 2.6838, 2.5667, 2.553, 2.4056, 2.3389, 2.0944, 2.0918, 1.315, 1.5136, 1.5492, 3.0929, 3.0929, 3.0886, 2.6956, 2.6956, 2.6956, 2.6956, 2.6956, 2.6956, 2.6956, 2.6956, 2.6956, 2.6956, 2.6956, 2.6956, 2.6955, 2.6955, 2.6955, 2.6955, 2.6955, 2.6955, 2.6955, 2.6955, 2.6955, 2.561, 2.4678, 2.4618, 2.3702, 2.37, 2.3424, 1.8671, 0.9077, 0.441, 2.0052, 0.3445, 1.0574, 1.6195, 1.4338, 0.944, 1.5091, 0.7764, 0.6885, 0.9619, 0.8738, 1.8341, 2.1747, 4.2941, 4.2615, 4.2485, 3.2857, 3.2062, 3.2038, 2.7386, 2.7386, 2.7386, 2.7386, 2.7386, 2.7386, 2.7386, 2.7386, 2.7386, 2.7386, 2.3957, 2.3955, 2.0778, 2.002, 1.9968, 1.8834, 1.8166, 1.664, 1.541, 1.4747, 1.4516, 1.0302, 1.0302, 1.0302, 1.0302, 1.0302, 1.0302, 0.7754, -0.26, -1.6973]}, \"token.table\": {\"Topic\": [8, 8, 4, 5, 7, 1, 5, 7, 4, 5, 7, 1, 3, 7, 7, 8, 1, 2, 1, 3, 4, 7, 3, 5, 6, 1, 2, 7, 5, 4, 5, 1, 3, 2, 4, 5, 3, 5, 3, 2, 3, 2, 6, 1, 6, 4, 5, 7, 6, 1, 3, 1, 4, 5, 3, 6, 5, 2, 5, 6, 3, 2, 4, 7, 7, 1, 1, 4, 5, 3, 6, 3, 4, 2, 4, 7, 1, 2, 1, 2, 1, 4, 2, 5, 6, 4, 6, 10, 2, 6, 7, 3, 5, 4, 3, 5, 4, 8, 2, 3, 4, 2, 3, 4, 1, 4, 5, 1, 1, 1, 2, 6, 1, 3, 4, 6, 4, 3, 4, 1, 3, 2, 8, 1, 1, 7, 8, 5, 1, 4, 7, 1, 3, 2, 1, 2, 4, 3, 2, 3, 8, 7, 2, 5, 7, 2, 2, 4, 1, 4, 1, 2, 3, 4, 7, 1, 4, 4, 1, 6, 4, 6, 2, 7, 7, 4, 7, 1, 5, 7, 4, 1, 3, 3, 5, 8, 2, 3, 4, 5, 7, 1, 2, 3, 4, 6, 1, 3, 4, 5, 9, 1, 3, 1, 3, 5, 2, 4, 5, 2, 7, 3, 2, 4, 2, 4, 3, 2, 3, 8, 2, 5, 3, 4, 3, 5, 7, 4, 5, 5, 8, 2, 3, 2, 1, 2, 4, 5, 5, 2, 3, 4, 2, 3, 1, 1, 4, 1, 2, 1, 1, 8, 9, 1, 5, 5, 6, 1, 3, 5, 1, 5, 8, 4, 7, 1, 4, 5, 2, 3, 7, 1, 5, 8, 1, 2, 3, 4, 6, 1, 8, 1, 4, 1, 3, 8, 2, 7, 2, 4, 8, 5, 1, 2, 3, 4, 5, 8, 1, 6, 6, 5, 6, 3, 5, 1, 4, 5, 2, 3, 7, 8, 1, 10, 6, 4, 5, 6, 5, 3, 2, 4, 1, 3, 4, 6, 8, 1, 5, 1, 3, 5, 1, 3, 4, 4, 8, 4, 7, 2, 4, 7, 1, 3, 4, 5, 2, 3, 4, 7, 2, 5, 7, 5, 4, 8, 1, 3, 1, 3, 6, 2, 7, 8, 6, 2, 4, 5, 6, 3, 6, 3, 5, 6, 1, 6, 5, 7, 1, 4, 6, 3, 7, 3, 3, 8, 6, 1, 2, 3, 4, 8, 2, 4, 4, 10, 10, 4, 7, 2, 1, 2, 3, 5, 1, 1, 6, 5, 2, 1, 4, 5, 6, 8, 8, 3, 5, 8, 4, 4, 7, 1, 4, 3, 4, 2, 4, 5, 1, 3, 5, 7, 5, 5, 3, 8, 8, 3, 4, 4, 5, 1, 1, 3, 4, 6, 3, 5, 5, 1, 3, 1, 3, 4, 5, 1, 2, 4, 2, 5, 1, 3, 2, 2, 2, 8, 3, 7, 4, 2, 5, 4, 4, 6, 2, 1, 3, 4, 5, 8, 4, 5, 7, 1, 1, 7, 3, 7, 6, 1, 6, 7, 1, 2, 3, 4, 1, 2, 4, 1, 6, 4, 1, 4, 8, 4, 5, 1, 3, 1, 4, 5, 1, 3, 4, 5, 1, 1, 5], \"Freq\": [0.8690482848096018, 0.8684173633878253, 0.10983902714931763, 0.21967805429863527, 0.6590341628959058, 0.3282478513654308, 0.547079752275718, 0.1094159504551436, 0.17105294661333775, 0.5131588398400133, 0.17105294661333775, 0.37240759085312836, 0.5586113862796925, 0.9057293839668815, 0.8347333071877889, 0.8340848561763857, 0.6563202342753812, 0.35340320307135914, 0.400054793125997, 0.5000684914074963, 0.10001369828149925, 0.9057293839668815, 0.9274339295114331, 0.5319690848570674, 0.7810072120733745, 0.947491687552076, 0.862680206795712, 0.143780034465952, 0.5314019317033242, 0.2776285469007122, 0.5552570938014244, 0.433800376495479, 0.5061004392447255, 0.8133721381294041, 0.9191816418483606, 0.10213129353870673, 0.33491765128377293, 0.33491765128377293, 0.9198938219650551, 0.16265216946456396, 0.8132608473228198, 0.1583164690116184, 0.791582345058092, 0.15670994618710712, 0.7835497309355357, 0.23538720702419974, 0.4707744140483995, 0.23538720702419974, 0.8150259868442543, 0.13454972418950417, 0.807298345137025, 0.637216970047092, 0.2462136136116007, 0.4924272272232014, 0.1477087864596486, 0.738543932298243, 0.5319595092636374, 0.49271972875293174, 0.0821199547921553, 0.3284798191686212, 0.9199390825424588, 0.6495082977759989, 0.04330055318506659, 0.25980331911039956, 0.9057293839668815, 0.9704144529536815, 0.8432124880472281, 0.12045892686388973, 0.531949771366841, 0.1659160293240201, 0.8295801466201006, 0.6978539433512994, 0.8280036591610885, 0.5844107270999486, 0.06493452523332761, 0.32467262616663806, 0.508172548611574, 0.938681920450986, 0.9432058343760577, 0.8134995736818733, 0.4551873521804168, 0.4551873521804168, 0.9317580278924423, 0.15851382302386807, 0.7925691151193404, 0.6153932474607681, 0.8150258870320065, 0.6577648534993737, 0.3741733376621938, 0.4157481529579931, 0.20787407647899656, 0.8113662437025511, 0.5319936548180901, 0.9060811660130195, 0.7646419243956539, 0.254880641465218, 0.8280041496633048, 0.8690482848096018, 0.13860606535616812, 0.5544242614246725, 0.27721213071233625, 0.16334859534429613, 0.6533943813771845, 0.16334859534429613, 0.20538915185239806, 0.4107783037047961, 0.20538915185239806, 0.9657281791911095, 0.4198072538727882, 0.47560708441684924, 0.33688835146193485, 0.17835265665631847, 0.817949880614845, 0.163589976122969, 0.1603102009574346, 0.801551004787173, 0.4690453642871483, 0.8583468284354753, 0.21458670710886882, 0.3776419273948361, 0.5664628910922541, 0.8133721381294041, 0.8690482848096018, 0.9524401061894182, 0.46347828734978463, 0.46347828734978463, 0.8690482848096018, 0.5319747824516511, 0.9026998704997288, 0.3384376255481714, 0.3384376255481714, 0.908516431253143, 0.9212212231566048, 0.9676901510259949, 0.9432235243443771, 0.8397051097624458, 0.09330056775138287, 0.6980217326801209, 0.1911187529574158, 0.1911187529574158, 0.5733562588722474, 0.9057293839668815, 0.1743904921258396, 0.1743904921258396, 0.5231714763775188, 0.9237420705033601, 0.4531736989094501, 0.4531736989094501, 0.8911887045820346, 0.05569929403637716, 0.08931785018259922, 0.38704401745792993, 0.29772616727533074, 0.05954523345506615, 0.14886308363766537, 0.952438941629683, 0.8927737527179159, 0.9060756022702684, 0.7065337937161585, 0.2826135174864634, 0.1460861614878311, 0.7304308074391554, 0.6493549781981367, 0.28860221253250523, 0.8651565136957733, 0.7462780601302837, 0.23321189379071366, 0.9474118797700677, 0.5319494623559213, 0.7987187522813121, 0.5443282869066296, 0.6590781748382479, 0.29958098856283993, 0.38421506564188757, 0.07684301312837752, 0.4610580787702651, 0.06181325876001575, 0.09271988814002362, 0.030906629380007874, 0.09271988814002362, 0.7417591051201889, 0.4670244302846924, 0.15567481009489748, 0.1383776089732422, 0.08648600560827638, 0.17297201121655276, 0.4037956380176296, 0.269197092011753, 0.1345985460058765, 0.06729927300293825, 0.06729927300293825, 0.443132458979708, 0.748876454133257, 0.3692205547628696, 0.5538308321443044, 0.0923051386907174, 0.8854951190180385, 0.3519688854107659, 0.7039377708215317, 0.8133721381294041, 0.7642206763140814, 0.7034877529851911, 0.32568370028964266, 0.32568370028964266, 0.8393472679111873, 0.10491840848889841, 0.9272549435362235, 0.8919979982453692, 0.8494115147248207, 0.8690482848096018, 0.925345011127129, 0.8250921409473465, 0.843212132033369, 0.9060747701148487, 0.40534852166747426, 0.40534852166747426, 0.20267426083373713, 0.8929518016669958, 0.11161897520837448, 0.8251002056296752, 0.8684173633878253, 0.8134995736818733, 0.710280430408153, 0.9195589933118343, 0.5266815555739064, 0.4096412098908161, 0.058520172841545155, 0.029260086420772578, 0.5319709236208354, 0.6877528831214169, 0.11462548052023615, 0.11462548052023615, 0.7298098700543892, 0.2432699566847964, 0.9762158274643821, 0.444679337228847, 0.444679337228847, 0.6228612360693183, 0.3633357210404357, 0.9474117592930048, 0.35029961447393104, 0.5254494217108966, 0.17514980723696552, 0.5630719751677797, 0.28153598758388987, 0.15217990719820637, 0.7608995359910319, 0.37841684755405713, 0.18920842377702857, 0.37841684755405713, 0.5883311720904374, 0.2941655860452187, 0.8690482848096018, 0.6139459067305973, 0.3410810592947763, 0.42176645808802893, 0.1405888193626763, 0.2811776387253526, 0.8771097656185574, 0.4425529803572014, 0.4425529803572014, 0.3073999853116726, 0.6147999706233452, 0.8690482848096018, 0.9562076154209634, 0.6370299614677131, 0.14560684833547727, 0.03640171208386932, 0.1820085604193466, 0.8514777437215221, 0.8690482848096018, 0.954256210587412, 0.4896692520353979, 0.9085556621829517, 0.37106589283324465, 0.556598839249867, 0.28583067096109865, 0.7145766774027466, 0.11061747199591833, 0.22123494399183666, 0.5530873599795916, 0.7378654159912251, 0.38795087859156463, 0.1483341594614806, 0.35371991871583836, 0.057051599792877154, 0.03423095987572629, 0.01141031995857543, 0.6018223728684279, 0.36109342372105674, 0.8150258464769882, 0.9697562963130779, 0.8150259395980503, 0.9083511617193777, 0.09083511617193778, 0.2696216840867611, 0.2696216840867611, 0.40443252613014175, 0.5358416210027716, 0.8432278460932982, 0.9057293839668815, 0.8690482848096018, 0.47387650921988134, 0.6321749387727221, 0.937157033203673, 0.906093861455238, 0.46539203593021833, 0.6984223212894982, 0.5319970917368305, 0.46631041726409017, 0.9138779616655701, 0.07615649680546417, 0.09208286675234571, 0.4604143337617286, 0.09208286675234571, 0.30694288917448576, 0.061388577834897144, 0.1998906341620219, 0.5996719024860657, 0.8426149174833559, 0.07021790979027967, 0.10532686468541949, 0.11078691819902195, 0.7755084273931536, 0.11078691819902195, 0.9060615262066029, 0.8684173633878253, 0.13516901468303416, 0.8110140880982049, 0.9050148162476119, 0.129287830892516, 0.9057293839668815, 0.1693630820896491, 0.6774523283585964, 0.08468154104482455, 0.08468154104482455, 0.07416552886312949, 0.37082764431564746, 0.07416552886312949, 0.5191587020419064, 0.8569657254931631, 0.14282762091552717, 0.6374291096218688, 0.5318641021635668, 0.5647592486809386, 0.8690482848096018, 0.9830256028733757, 0.5868483373884352, 0.952440161949294, 0.7317553691461176, 0.7809558515483006, 0.31405088491029387, 0.15702544245514694, 0.47107632736544075, 0.6984810593889335, 0.5800384351314215, 0.09667307252190357, 0.09667307252190357, 0.24168268130475895, 0.17168213308385766, 0.6867285323354306, 0.2896011699239992, 0.5792023398479984, 0.8150258643841422, 0.9474117950110692, 0.8150259177194734, 0.5319522004304023, 0.9057293839668815, 0.8394481189185794, 0.09327201321317549, 0.9371292368864353, 0.22290433218189654, 0.6687129965456896, 0.8348339826987056, 0.9199615988501839, 0.8690482848096018, 0.8150258404964005, 0.602037287769913, 0.1453193453237721, 0.08303962589929835, 0.020759906474824587, 0.1453193453237721, 0.8922656496803407, 0.06863581920618006, 0.462393294767881, 0.462393294767881, 0.8490750936524537, 0.9733238256637894, 0.5475294961749255, 0.8911859695489167, 0.28617179102422546, 0.6359373133871677, 0.03179686566935838, 0.03179686566935838, 0.8596395342443316, 0.8514685655508767, 0.8150259716274635, 0.4278957534341125, 0.8133721381294041, 0.12722689304288837, 0.06361344652144418, 0.06361344652144418, 0.5725210186929977, 0.19084033956433252, 0.8340942074556165, 0.6449707278755623, 0.5367834231613305, 0.8690482848096018, 0.7458940449095119, 0.6153967443403906, 0.8651566551328497, 0.983185011789055, 0.6153772010407214, 0.9207115440192967, 0.6153913900864266, 0.8133721381294041, 0.5824988063656839, 0.2912494031828419, 0.1078380666370276, 0.539190333185138, 0.1078380666370276, 0.1078380666370276, 0.765709012200254, 0.467572023558049, 0.22524514733155115, 0.6757354419946534, 0.8684173633878253, 0.363950366049966, 0.363950366049966, 0.3821853795235347, 0.5732780692853021, 0.9436309211157977, 0.910603808329338, 0.04336208611092086, 0.04336208611092086, 0.781007592346854, 0.3303924398590007, 0.49558865978850103, 0.739215069777446, 0.4186508733093038, 0.5233135916366297, 0.24365884249150185, 0.4873176849830037, 0.1624392283276679, 0.08121961416383396, 0.10075284180046418, 0.8396070150038681, 0.06716856120030945, 0.8133721381294041, 0.5319508853927029, 0.42798408680584765, 0.42798408680584765, 0.8133721381294041, 0.9560360046793788, 0.9283065854630335, 0.8690482848096018, 0.9199282827488109, 0.6585134945327042, 0.6154107158326864, 0.2784850381740822, 0.5569700763481644, 0.8280036591610885, 0.6153812848710345, 0.8366201947825488, 0.8133721381294041, 0.10829657560558896, 0.5414828780279448, 0.10829657560558896, 0.10829657560558896, 0.8690482848096018, 0.30104167911480334, 0.6020833582296067, 0.9057293839668815, 0.9524402403356312, 0.23254821642832332, 0.6976446492849699, 0.9198938751618784, 0.755314801186764, 0.7703804362341072, 0.6493164180600625, 0.40507889856196627, 0.5063486232024579, 0.23104089254877166, 0.46208178509754333, 0.15402726169918113, 0.15402726169918113, 0.8954157283950076, 0.029847190946500252, 0.08954157283950076, 0.13769956725807975, 0.7573476199194386, 0.931669325523113, 0.6822047596560735, 0.07580052885067484, 0.15160105770134968, 0.665316433713657, 0.3326582168568285, 0.947411433379022, 0.8705723001585274, 0.8155741597090885, 0.07767372949610367, 0.038836864748051834, 0.40220183337337884, 0.13406727779112626, 0.13406727779112626, 0.2681345555822525, 0.7618575365252479, 0.9351775593745034, 0.46754647738640603], \"Term\": [\"12i\", \"30min\", \"act\", \"act\", \"act\", \"action\", \"action\", \"action\", \"actor\", \"actor\", \"actor\", \"actual\", \"actual\", \"admit\", \"adult\", \"ago\", \"almost\", \"almost\", \"also\", \"also\", \"also\", \"anguish\", \"anyth\", \"applaud\", \"around\", \"art\", \"author\", \"author\", \"avoid\", \"away\", \"away\", \"bad\", \"bad\", \"badass\", \"base\", \"base\", \"batman\", \"batman\", \"becom\", \"begin\", \"begin\", \"believ\", \"believ\", \"best\", \"best\", \"better\", \"better\", \"better\", \"bitter\", \"bore\", \"bore\", \"breathtak\", \"brilliant\", \"brilliant\", \"bring\", \"bring\", \"busi\", \"call\", \"call\", \"call\", \"cgi\", \"charact\", \"charact\", \"charact\", \"cheesi\", \"cinema\", \"cinematographi\", \"cinematographi\", \"claim\", \"class\", \"class\", \"clear\", \"clich\", \"come\", \"come\", \"come\", \"comedi\", \"comic\", \"complet\", \"conclu\", \"confid\", \"confid\", \"connect\", \"consid\", \"consid\", \"control\", \"corrupt\", \"costum\", \"could\", \"could\", \"could\", \"crap\", \"crappi\", \"cri\", \"crime\", \"crime\", \"curtain\", \"damn\", \"dark\", \"dark\", \"dark\", \"deep\", \"deep\", \"deep\", \"definit\", \"definit\", \"definit\", \"deserv\", \"despit\", \"differ\", \"differ\", \"differ\", \"director\", \"director\", \"disturb\", \"disturb\", \"doubt\", \"drama\", \"drama\", \"drive\", \"drive\", \"due\", \"dy\", \"earn\", \"edg\", \"edg\", \"elev\", \"emot\", \"end\", \"enjoy\", \"enjoy\", \"equal\", \"especi\", \"even\", \"event\", \"ever\", \"ever\", \"everyon\", \"everyth\", \"everyth\", \"everyth\", \"excel\", \"expect\", \"expect\", \"expect\", \"eye\", \"face\", \"face\", \"far\", \"far\", \"feel\", \"feel\", \"feel\", \"feel\", \"feel\", \"festiv\", \"fight\", \"fill\", \"film\", \"film\", \"find\", \"find\", \"first\", \"first\", \"fluff\", \"forget\", \"forget\", \"form\", \"forward\", \"full\", \"game\", \"get\", \"get\", \"give\", \"give\", \"give\", \"go\", \"go\", \"go\", \"go\", \"go\", \"good\", \"good\", \"good\", \"good\", \"good\", \"great\", \"great\", \"great\", \"great\", \"great\", \"gun\", \"guy\", \"happen\", \"happen\", \"happen\", \"hear\", \"heart\", \"heart\", \"heath_ledger\", \"hell\", \"help\", \"hero\", \"hero\", \"high\", \"high\", \"hole\", \"hope\", \"human\", \"imho\", \"impact\", \"import\", \"incre\", \"insan\", \"instead\", \"instead\", \"instead\", \"intellig\", \"intellig\", \"inten\", \"issu\", \"joaquin\", \"job\", \"joke\", \"joker\", \"joker\", \"joker\", \"joker\", \"justifi\", \"keep\", \"keep\", \"keep\", \"know\", \"know\", \"last\", \"laugh\", \"laugh\", \"least\", \"least\", \"ledger\", \"less\", \"less\", \"less\", \"let\", \"let\", \"live\", \"live\", \"long\", \"long\", \"long\", \"look\", \"look\", \"looong\", \"lose\", \"lose\", \"lot\", \"lot\", \"lot\", \"love\", \"low\", \"low\", \"mad\", \"mad\", \"magic\", \"main\", \"make\", \"make\", \"make\", \"make\", \"mani\", \"massiv\", \"may\", \"mayb\", \"mental\", \"mess\", \"mess\", \"mind\", \"mind\", \"moment\", \"moment\", \"moment\", \"move\", \"movi\", \"movi\", \"movi\", \"movi\", \"movi\", \"movi\", \"much\", \"much\", \"multipl\", \"music\", \"necess\", \"need\", \"need\", \"never\", \"never\", \"never\", \"new\", \"nice\", \"nudg\", \"old\", \"opinion\", \"oscar\", \"other\", \"otherwis\", \"overal\", \"overr\", \"overwhelm\", \"pace\", \"pain\", \"pain\", \"peopl\", \"peopl\", \"peopl\", \"peopl\", \"peopl\", \"perfect\", \"perfect\", \"perform\", \"perform\", \"perform\", \"person\", \"person\", \"person\", \"phenoman\", \"plan\", \"play\", \"play\", \"plea\", \"plea\", \"pleasantli\", \"plot\", \"plot\", \"plot\", \"plot\", \"point\", \"point\", \"point\", \"point\", \"portray\", \"portray\", \"posit\", \"power\", \"predict\", \"prequel\", \"present\", \"pretti\", \"psych\", \"psycho\", \"pull\", \"rate\", \"rate\", \"rate\", \"read\", \"real\", \"real\", \"real\", \"real\", \"realist\", \"realist\", \"realli\", \"realli\", \"reflect\", \"regard\", \"remark\", \"rememb\", \"rendit\", \"review\", \"review\", \"rich\", \"right\", \"right\", \"rip\", \"rise\", \"roll\", \"rule\", \"say\", \"say\", \"say\", \"say\", \"say\", \"scene\", \"scene\", \"score\", \"score\", \"screenplay\", \"script\", \"seat\", \"second\", \"see\", \"see\", \"see\", \"see\", \"seem\", \"set\", \"shake\", \"shock\", \"shoe\", \"show\", \"show\", \"show\", \"show\", \"show\", \"skip\", \"slow\", \"snap\", \"solid\", \"someon\", \"sometim\", \"son\", \"sound\", \"speak\", \"spend\", \"spiral\", \"stage\", \"still\", \"still\", \"stori\", \"stori\", \"stori\", \"stori\", \"storylin\", \"stun\", \"stupid\", \"stupid\", \"suggest\", \"super\", \"super\", \"superhero\", \"superhero\", \"sure\", \"take\", \"take\", \"take\", \"talent\", \"tell\", \"tell\", \"theme\", \"thing\", \"thing\", \"think\", \"think\", \"think\", \"think\", \"time\", \"time\", \"time\", \"titl\", \"today\", \"todd_phillip\", \"todd_phillip\", \"toler\", \"total\", \"trailer\", \"train\", \"trash\", \"treat\", \"truli\", \"twist\", \"twist\", \"type\", \"typic\", \"uncomfort\", \"unconfid\", \"understand\", \"understand\", \"understand\", \"understand\", \"underwhelm\", \"univer\", \"univer\", \"unrealist\", \"venic\", \"version\", \"version\", \"victim\", \"viewer\", \"violent\", \"visual\", \"wake\", \"wake\", \"want\", \"want\", \"want\", \"want\", \"watch\", \"watch\", \"watch\", \"way\", \"way\", \"weak\", \"well\", \"well\", \"well\", \"win\", \"win\", \"wonder\", \"worthi\", \"would\", \"would\", \"would\", \"write\", \"write\", \"write\", \"write\", \"wrong\", \"year\", \"yet\"]}, \"R\": 30, \"lambda.step\": 0.01, \"plot.opts\": {\"xlab\": \"PC1\", \"ylab\": \"PC2\"}, \"topic.order\": [1, 5, 6, 9, 8, 3, 7, 10, 4, 2]};\n",
              "\n",
              "function LDAvis_load_lib(url, callback){\n",
              "  var s = document.createElement('script');\n",
              "  s.src = url;\n",
              "  s.async = true;\n",
              "  s.onreadystatechange = s.onload = callback;\n",
              "  s.onerror = function(){console.warn(\"failed to load library \" + url);};\n",
              "  document.getElementsByTagName(\"head\")[0].appendChild(s);\n",
              "}\n",
              "\n",
              "if(typeof(LDAvis) !== \"undefined\"){\n",
              "   // already loaded: just create the visualization\n",
              "   !function(LDAvis){\n",
              "       new LDAvis(\"#\" + \"ldavis_el611405222815289124930583199\", ldavis_el611405222815289124930583199_data);\n",
              "   }(LDAvis);\n",
              "}else if(typeof define === \"function\" && define.amd){\n",
              "   // require.js is available: use it to load d3/LDAvis\n",
              "   require.config({paths: {d3: \"https://cdnjs.cloudflare.com/ajax/libs/d3/3.5.5/d3.min\"}});\n",
              "   require([\"d3\"], function(d3){\n",
              "      window.d3 = d3;\n",
              "      LDAvis_load_lib(\"https://cdn.rawgit.com/bmabey/pyLDAvis/files/ldavis.v1.0.0.js\", function(){\n",
              "        new LDAvis(\"#\" + \"ldavis_el611405222815289124930583199\", ldavis_el611405222815289124930583199_data);\n",
              "      });\n",
              "    });\n",
              "}else{\n",
              "    // require.js not available: dynamically load d3 & LDAvis\n",
              "    LDAvis_load_lib(\"https://cdnjs.cloudflare.com/ajax/libs/d3/3.5.5/d3.min.js\", function(){\n",
              "         LDAvis_load_lib(\"https://cdn.rawgit.com/bmabey/pyLDAvis/files/ldavis.v1.0.0.js\", function(){\n",
              "                 new LDAvis(\"#\" + \"ldavis_el611405222815289124930583199\", ldavis_el611405222815289124930583199_data);\n",
              "            })\n",
              "         });\n",
              "}\n",
              "</script>"
            ],
            "text/plain": [
              "PreparedData(topic_coordinates=              x         y  topics  cluster       Freq\n",
              "topic                                                \n",
              "0      0.058000 -0.164909       1        1  31.450312\n",
              "4      0.233434  0.141141       2        1  15.846331\n",
              "5     -0.037546 -0.017995       3        1  14.031945\n",
              "8     -0.035054  0.041176       4        1   9.359870\n",
              "7     -0.094946  0.003656       5        1   8.294039\n",
              "2      0.207194 -0.105635       6        1   7.620017\n",
              "6     -0.060560  0.219206       7        1   6.818362\n",
              "9     -0.112216 -0.111188       8        1   3.693486\n",
              "3     -0.074429 -0.004250       9        1   1.815309\n",
              "1     -0.083877 -0.001202      10        1   1.070331, topic_info=         Term       Freq      Total Category  logprob  loglift\n",
              "53       film  91.000000  91.000000  Default  30.0000  30.0000\n",
              "81         go  32.000000  32.000000  Default  29.0000  29.0000\n",
              "107       say  48.000000  48.000000  Default  28.0000  28.0000\n",
              "11       make  54.000000  54.000000  Default  27.0000  27.0000\n",
              "343      even  28.000000  28.000000  Default  26.0000  26.0000\n",
              "..        ...        ...        ...      ...      ...      ...\n",
              "929    random   0.028072   0.936141  Topic10  -7.2869   1.0302\n",
              "930    sadden   0.028072   0.936141  Topic10  -7.2869   1.0302\n",
              "116  director   0.142069   6.112844  Topic10  -5.6654   0.7754\n",
              "83        let   0.029312   3.551944  Topic10  -7.2437  -0.2600\n",
              "120     great   0.029133  14.859002  Topic10  -7.2498  -1.6973\n",
              "\n",
              "[459 rows x 6 columns], token_table=      Topic      Freq   Term\n",
              "term                        \n",
              "1023      8  0.869048    12i\n",
              "1040      8  0.868417  30min\n",
              "262       4  0.109839    act\n",
              "262       5  0.219678    act\n",
              "262       7  0.659034    act\n",
              "...     ...       ...    ...\n",
              "446       4  0.134067  write\n",
              "446       5  0.268135  write\n",
              "297       1  0.761858  wrong\n",
              "298       1  0.935178   year\n",
              "369       5  0.467546    yet\n",
              "\n",
              "[509 rows x 3 columns], R=30, lambda_step=0.01, plot_opts={'xlab': 'PC1', 'ylab': 'PC2'}, topic_order=[1, 5, 6, 9, 8, 3, 7, 10, 4, 2])"
            ]
          },
          "metadata": {
            "tags": []
          },
          "execution_count": 77
        }
      ]
    },
    {
      "cell_type": "markdown",
      "metadata": {
        "id": "SjOAI0DiKq5E"
      },
      "source": [
        "**Latent Semantic Analysis**\n"
      ]
    },
    {
      "cell_type": "code",
      "metadata": {
        "id": "Z9esfyAjKpXt"
      },
      "source": [
        "lsamodel = models.LsiModel(corpus, num_topics = 10, id2word = id2word)"
      ],
      "execution_count": null,
      "outputs": []
    },
    {
      "cell_type": "code",
      "metadata": {
        "colab": {
          "base_uri": "https://localhost:8080/"
        },
        "id": "HoED3i5uKpko",
        "outputId": "667e4a41-dd10-4b22-b829-9008d2956ecd"
      },
      "source": [
        "pprint(lsamodel.print_topics(num_topics = 10))"
      ],
      "execution_count": null,
      "outputs": [
        {
          "output_type": "stream",
          "text": [
            "[(0,\n",
            "  '0.607*\"movi\" + 0.219*\"good\" + 0.203*\"make\" + 0.192*\"see\" + 0.178*\"film\" + '\n",
            "  '0.176*\"feel\" + 0.135*\"say\" + 0.133*\"watch\" + 0.128*\"peopl\" + 0.126*\"time\"'),\n",
            " (1,\n",
            "  '0.554*\"film\" + -0.485*\"movi\" + 0.160*\"could\" + 0.137*\"feel\" + 0.134*\"would\" '\n",
            "  '+ 0.127*\"good\" + 0.116*\"way\" + 0.113*\"show\" + 0.107*\"violent\" + '\n",
            "  '0.103*\"origin\"'),\n",
            " (2,\n",
            "  '-0.264*\"even\" + -0.260*\"charact\" + -0.254*\"go\" + 0.207*\"peopl\" + '\n",
            "  '0.192*\"movi\" + -0.176*\"differ\" + -0.165*\"joker\" + -0.141*\"know\" + '\n",
            "  '0.127*\"thing\" + -0.123*\"see\"'),\n",
            " (3,\n",
            "  '0.220*\"watch\" + 0.214*\"film\" + 0.205*\"think\" + -0.189*\"may\" + 0.172*\"tell\" '\n",
            "  '+ -0.158*\"charact\" + -0.156*\"happen\" + 0.127*\"look\" + -0.123*\"direct\" + '\n",
            "  '-0.122*\"expect\"'),\n",
            " (4,\n",
            "  '0.362*\"peopl\" + 0.329*\"also\" + 0.304*\"film\" + -0.197*\"feel\" + -0.141*\"may\" '\n",
            "  '+ 0.139*\"actual\" + -0.135*\"would\" + 0.132*\"good\" + -0.124*\"expect\" + '\n",
            "  '-0.121*\"get\"'),\n",
            " (5,\n",
            "  '0.221*\"go\" + -0.204*\"theme\" + -0.204*\"make\" + 0.197*\"film\" + '\n",
            "  '-0.196*\"superhero\" + -0.178*\"even\" + -0.173*\"feel\" + -0.164*\"also\" + '\n",
            "  '0.158*\"perform\" + -0.155*\"lot\"'),\n",
            " (6,\n",
            "  '-0.373*\"go\" + 0.192*\"perform\" + 0.162*\"put\" + 0.158*\"good\" + 0.151*\"far\" + '\n",
            "  '0.136*\"feel\" + -0.135*\"high\" + 0.129*\"film\" + -0.128*\"say\" + '\n",
            "  '-0.126*\"director\"'),\n",
            " (7,\n",
            "  '0.318*\"watch\" + -0.310*\"film\" + 0.245*\"think\" + 0.242*\"peopl\" + '\n",
            "  '-0.190*\"movi\" + 0.187*\"good\" + -0.159*\"far\" + 0.158*\"feel\" + -0.126*\"may\" + '\n",
            "  '0.112*\"charact\"'),\n",
            " (8,\n",
            "  '0.238*\"end\" + -0.188*\"great\" + 0.172*\"overr\" + -0.171*\"peopl\" + '\n",
            "  '0.170*\"watch\" + 0.168*\"think\" + -0.161*\"feel\" + 0.155*\"even\" + '\n",
            "  '0.138*\"would\" + 0.124*\"hype\"'),\n",
            " (9,\n",
            "  '-0.383*\"think\" + 0.250*\"watch\" + 0.201*\"time\" + 0.172*\"cinema\" + '\n",
            "  '0.157*\"could\" + -0.138*\"take\" + -0.136*\"action\" + -0.136*\"posit\" + '\n",
            "  '-0.134*\"real\" + 0.125*\"hear\"')]\n"
          ],
          "name": "stdout"
        }
      ]
    },
    {
      "cell_type": "code",
      "metadata": {
        "colab": {
          "base_uri": "https://localhost:8080/"
        },
        "id": "ZeFdixXMK4m7",
        "outputId": "1f767d01-77b0-4d0f-f57b-d685d1d64202"
      },
      "source": [
        "coherence_values = []\n",
        "model_list = []\n",
        "for num_topics in range(2, 12, 1):\n",
        "  model = models.LsiModel(corpus, num_topics = 10, id2word = id2word)\n",
        "  model_list.append(model)\n",
        "  coherencemodel = CoherenceModel(model= model, texts = data['Stemming'], dictionary = id2word, coherence='c_v')\n",
        "  coherence_values.append(coherencemodel.get_coherence())"
      ],
      "execution_count": null,
      "outputs": [
        {
          "output_type": "stream",
          "text": [
            "/usr/local/lib/python3.7/dist-packages/gensim/topic_coherence/direct_confirmation_measure.py:195: RuntimeWarning: divide by zero encountered in double_scalars\n",
            "  m_lr_i = np.log(numerator / denominator)\n",
            "/usr/local/lib/python3.7/dist-packages/gensim/topic_coherence/indirect_confirmation_measure.py:317: RuntimeWarning: invalid value encountered in double_scalars\n",
            "  return cv1.T.dot(cv2)[0, 0] / (_magnitude(cv1) * _magnitude(cv2))\n"
          ],
          "name": "stderr"
        }
      ]
    },
    {
      "cell_type": "code",
      "metadata": {
        "colab": {
          "base_uri": "https://localhost:8080/"
        },
        "id": "GRlFleh7K_wi",
        "outputId": "2b0348c4-c10c-4450-c8c8-07a01f3c2e59"
      },
      "source": [
        "print(lda_model.print_topics())\n",
        "doc_lda = lda_model[corpus]"
      ],
      "execution_count": null,
      "outputs": [
        {
          "output_type": "stream",
          "text": [
            "[(0, '0.054*\"film\" + 0.029*\"movi\" + 0.025*\"watch\" + 0.024*\"say\" + 0.023*\"deserv\" + 0.022*\"good\" + 0.020*\"main\" + 0.020*\"differ\" + 0.020*\"perform\" + 0.018*\"would\"'), (1, '0.068*\"screenplay\" + 0.059*\"oscar\" + 0.056*\"costum\" + 0.015*\"score\" + 0.007*\"expect\" + 0.007*\"line\" + 0.007*\"felt\" + 0.007*\"actor\" + 0.004*\"tour\" + 0.004*\"exceed\"'), (2, '0.091*\"film\" + 0.039*\"way\" + 0.035*\"make\" + 0.033*\"good\" + 0.033*\"could\" + 0.033*\"peopl\" + 0.030*\"show\" + 0.030*\"differ\" + 0.020*\"much\" + 0.019*\"violent\"'), (3, '0.010*\"less\" + 0.010*\"great\" + 0.007*\"appear\" + 0.007*\"fiction\" + 0.007*\"someth\" + 0.007*\"gun\" + 0.007*\"despit\" + 0.006*\"bad\" + 0.005*\"new\" + 0.004*\"opinion\"'), (4, '0.057*\"make\" + 0.046*\"even\" + 0.040*\"time\" + 0.033*\"see\" + 0.028*\"differ\" + 0.025*\"charact\" + 0.025*\"know\" + 0.022*\"joker\" + 0.022*\"scene\" + 0.022*\"feel\"'), (5, '0.058*\"movi\" + 0.028*\"peopl\" + 0.025*\"spend\" + 0.023*\"think\" + 0.018*\"need\" + 0.018*\"feel\" + 0.014*\"good\" + 0.014*\"make\" + 0.014*\"plot\" + 0.013*\"person\"'), (6, '0.091*\"go\" + 0.026*\"point\" + 0.024*\"act\" + 0.023*\"charact\" + 0.023*\"right\" + 0.022*\"play\" + 0.021*\"version\" + 0.020*\"full\" + 0.019*\"son\" + 0.019*\"fluff\"'), (7, '0.037*\"music\" + 0.014*\"action\" + 0.012*\"realli\" + 0.011*\"look\" + 0.011*\"theme\" + 0.010*\"actor\" + 0.010*\"go\" + 0.010*\"perfect\" + 0.010*\"tell\" + 0.010*\"superhero\"'), (8, '0.044*\"forget\" + 0.026*\"fight\" + 0.025*\"lose\" + 0.025*\"weak\" + 0.024*\"script\" + 0.024*\"base\" + 0.023*\"insan\" + 0.023*\"fill\" + 0.023*\"cri\" + 0.023*\"phenoman\"'), (9, '0.047*\"say\" + 0.044*\"give\" + 0.039*\"moment\" + 0.021*\"stupid\" + 0.021*\"everyth\" + 0.021*\"mess\" + 0.020*\"skip\" + 0.020*\"ago\" + 0.019*\"less\" + 0.019*\"elev\"')]\n"
          ],
          "name": "stdout"
        }
      ]
    },
    {
      "cell_type": "markdown",
      "metadata": {
        "id": "AfpMRCrRwN6Z"
      },
      "source": [
        "# **Question 2: Sentiment Analysis**"
      ]
    },
    {
      "cell_type": "markdown",
      "metadata": {
        "id": "1dCQEbDawWCw"
      },
      "source": [
        "(30 points). Sentiment analysis also known as opinion mining is a sub field within Natural Language Processing (NLP) that builds machine learning algorithms to classify a text according to the sentimental polarities of opinions it contains, e.g., positive, negative, neutral. The purpose of this question is to develop a machine learning classifier for sentiment analysis. Based on the dataset from assignment three, write a python program to implement a sentiment classifier and evaluate its performance. Notice: **80% data for training and 20% data for testing**.  \n",
        "\n",
        "(1) Features used for sentiment classification and explain why you select these features.\n",
        "\n",
        "(2) Select two of the supervised learning algorithm from scikit-learn library: https://scikit-learn.org/stable/supervised_learning.html#supervised-learning, to build a sentiment classifier respectively. \n",
        "\n",
        "(3) Compare the performance over accuracy, precision, recall, and F1 score for the two algorithms you selected. Here is the reference of how to calculate these metrics: https://towardsdatascience.com/accuracy-precision-recall-or-f1-331fb37c5cb9. "
      ]
    },
    {
      "cell_type": "code",
      "metadata": {
        "colab": {
          "base_uri": "https://localhost:8080/"
        },
        "id": "vATjQNTY8buA",
        "outputId": "19de62ac-2fd0-4cf7-b9a7-685e458a1e2c"
      },
      "source": [
        "#Importing necessary libraries\n",
        "\n",
        "import json\n",
        "import zipfile\n",
        "import glob\n",
        "import pandas as pd\n",
        "\n",
        "nltk.download('stopwords')\n",
        "stop = stopwords.words('english')\n",
        "from textblob import TextBlob\n",
        "import sklearn\n",
        "\n",
        "import json\n",
        "import zipfile\n",
        "import glob\n",
        "import pandas as pd\n",
        "from nltk.corpus import stopwords\n",
        "import nltk\n",
        "\n",
        "from sklearn.naive_bayes import MultinomialNB\n",
        "from sklearn.svm import LinearSVC\n",
        "from sklearn.metrics import f1_score, accuracy_score, precision_score, recall_score\n",
        "\n",
        "from sklearn.model_selection import train_test_split\n",
        "from sklearn.feature_extraction.text import CountVectorizer, TfidfTransformer\n",
        "from sklearn.linear_model import SGDClassifier\n",
        "from sklearn.pipeline import Pipeline\n",
        "\n"
      ],
      "execution_count": null,
      "outputs": [
        {
          "output_type": "stream",
          "text": [
            "[nltk_data] Downloading package stopwords to /root/nltk_data...\n",
            "[nltk_data]   Package stopwords is already up-to-date!\n"
          ],
          "name": "stdout"
        }
      ]
    },
    {
      "cell_type": "markdown",
      "metadata": {
        "id": "E5mmYIfN8eYV"
      },
      "source": [
        "# **Question 3: House price prediction**"
      ]
    },
    {
      "cell_type": "markdown",
      "metadata": {
        "id": "hsi2y4z88ngX"
      },
      "source": [
        "(40 points). You are required to build a **regression** model to predict the house price with 79 explanatory variables describing (almost) every aspect of residential homes. The purpose of this question is to practice regression analysis, an supervised learning model. The training data, testing data, and data description files can be download here: https://github.com/unt-iialab/info5731_spring2021/blob/main/assignment/assignment4-question3-data.zip. Here is an axample for implementation: https://towardsdatascience.com/linear-regression-in-python-predict-the-bay-areas-home-price-5c91c8378878. \n"
      ]
    },
    {
      "cell_type": "code",
      "metadata": {
        "id": "XfvMKJjIXS5G"
      },
      "source": [
        "import pandas as pd\n",
        "# Reading the data files \n",
        "train_data = pd.read_csv(\"train.csv\")\n",
        "test_data = pd.read_csv(\"test.csv\")"
      ],
      "execution_count": null,
      "outputs": []
    },
    {
      "cell_type": "code",
      "metadata": {
        "colab": {
          "base_uri": "https://localhost:8080/",
          "height": 317
        },
        "id": "ggsynqGm4fKM",
        "outputId": "5113ca45-2921-4927-a81e-b1a9faed6386"
      },
      "source": [
        "train_data.describe()"
      ],
      "execution_count": null,
      "outputs": [
        {
          "output_type": "execute_result",
          "data": {
            "text/html": [
              "<div>\n",
              "<style scoped>\n",
              "    .dataframe tbody tr th:only-of-type {\n",
              "        vertical-align: middle;\n",
              "    }\n",
              "\n",
              "    .dataframe tbody tr th {\n",
              "        vertical-align: top;\n",
              "    }\n",
              "\n",
              "    .dataframe thead th {\n",
              "        text-align: right;\n",
              "    }\n",
              "</style>\n",
              "<table border=\"1\" class=\"dataframe\">\n",
              "  <thead>\n",
              "    <tr style=\"text-align: right;\">\n",
              "      <th></th>\n",
              "      <th>Id</th>\n",
              "      <th>MSSubClass</th>\n",
              "      <th>LotFrontage</th>\n",
              "      <th>LotArea</th>\n",
              "      <th>OverallQual</th>\n",
              "      <th>OverallCond</th>\n",
              "      <th>YearBuilt</th>\n",
              "      <th>YearRemodAdd</th>\n",
              "      <th>MasVnrArea</th>\n",
              "      <th>BsmtFinSF1</th>\n",
              "      <th>BsmtFinSF2</th>\n",
              "      <th>BsmtUnfSF</th>\n",
              "      <th>TotalBsmtSF</th>\n",
              "      <th>1stFlrSF</th>\n",
              "      <th>2ndFlrSF</th>\n",
              "      <th>LowQualFinSF</th>\n",
              "      <th>GrLivArea</th>\n",
              "      <th>BsmtFullBath</th>\n",
              "      <th>BsmtHalfBath</th>\n",
              "      <th>FullBath</th>\n",
              "      <th>HalfBath</th>\n",
              "      <th>BedroomAbvGr</th>\n",
              "      <th>KitchenAbvGr</th>\n",
              "      <th>TotRmsAbvGrd</th>\n",
              "      <th>Fireplaces</th>\n",
              "      <th>GarageYrBlt</th>\n",
              "      <th>GarageCars</th>\n",
              "      <th>GarageArea</th>\n",
              "      <th>WoodDeckSF</th>\n",
              "      <th>OpenPorchSF</th>\n",
              "      <th>EnclosedPorch</th>\n",
              "      <th>3SsnPorch</th>\n",
              "      <th>ScreenPorch</th>\n",
              "      <th>PoolArea</th>\n",
              "      <th>MiscVal</th>\n",
              "      <th>MoSold</th>\n",
              "      <th>YrSold</th>\n",
              "      <th>SalePrice</th>\n",
              "    </tr>\n",
              "  </thead>\n",
              "  <tbody>\n",
              "    <tr>\n",
              "      <th>count</th>\n",
              "      <td>1460.000000</td>\n",
              "      <td>1460.000000</td>\n",
              "      <td>1201.000000</td>\n",
              "      <td>1460.000000</td>\n",
              "      <td>1460.000000</td>\n",
              "      <td>1460.000000</td>\n",
              "      <td>1460.000000</td>\n",
              "      <td>1460.000000</td>\n",
              "      <td>1452.000000</td>\n",
              "      <td>1460.000000</td>\n",
              "      <td>1460.000000</td>\n",
              "      <td>1460.000000</td>\n",
              "      <td>1460.000000</td>\n",
              "      <td>1460.000000</td>\n",
              "      <td>1460.000000</td>\n",
              "      <td>1460.000000</td>\n",
              "      <td>1460.000000</td>\n",
              "      <td>1460.000000</td>\n",
              "      <td>1460.000000</td>\n",
              "      <td>1460.000000</td>\n",
              "      <td>1460.000000</td>\n",
              "      <td>1460.000000</td>\n",
              "      <td>1460.000000</td>\n",
              "      <td>1460.000000</td>\n",
              "      <td>1460.000000</td>\n",
              "      <td>1379.000000</td>\n",
              "      <td>1460.000000</td>\n",
              "      <td>1460.000000</td>\n",
              "      <td>1460.000000</td>\n",
              "      <td>1460.000000</td>\n",
              "      <td>1460.000000</td>\n",
              "      <td>1460.000000</td>\n",
              "      <td>1460.000000</td>\n",
              "      <td>1460.000000</td>\n",
              "      <td>1460.000000</td>\n",
              "      <td>1460.000000</td>\n",
              "      <td>1460.000000</td>\n",
              "      <td>1460.000000</td>\n",
              "    </tr>\n",
              "    <tr>\n",
              "      <th>mean</th>\n",
              "      <td>730.500000</td>\n",
              "      <td>56.897260</td>\n",
              "      <td>70.049958</td>\n",
              "      <td>10516.828082</td>\n",
              "      <td>6.099315</td>\n",
              "      <td>5.575342</td>\n",
              "      <td>1971.267808</td>\n",
              "      <td>1984.865753</td>\n",
              "      <td>103.685262</td>\n",
              "      <td>443.639726</td>\n",
              "      <td>46.549315</td>\n",
              "      <td>567.240411</td>\n",
              "      <td>1057.429452</td>\n",
              "      <td>1162.626712</td>\n",
              "      <td>346.992466</td>\n",
              "      <td>5.844521</td>\n",
              "      <td>1515.463699</td>\n",
              "      <td>0.425342</td>\n",
              "      <td>0.057534</td>\n",
              "      <td>1.565068</td>\n",
              "      <td>0.382877</td>\n",
              "      <td>2.866438</td>\n",
              "      <td>1.046575</td>\n",
              "      <td>6.517808</td>\n",
              "      <td>0.613014</td>\n",
              "      <td>1978.506164</td>\n",
              "      <td>1.767123</td>\n",
              "      <td>472.980137</td>\n",
              "      <td>94.244521</td>\n",
              "      <td>46.660274</td>\n",
              "      <td>21.954110</td>\n",
              "      <td>3.409589</td>\n",
              "      <td>15.060959</td>\n",
              "      <td>2.758904</td>\n",
              "      <td>43.489041</td>\n",
              "      <td>6.321918</td>\n",
              "      <td>2007.815753</td>\n",
              "      <td>180921.195890</td>\n",
              "    </tr>\n",
              "    <tr>\n",
              "      <th>std</th>\n",
              "      <td>421.610009</td>\n",
              "      <td>42.300571</td>\n",
              "      <td>24.284752</td>\n",
              "      <td>9981.264932</td>\n",
              "      <td>1.382997</td>\n",
              "      <td>1.112799</td>\n",
              "      <td>30.202904</td>\n",
              "      <td>20.645407</td>\n",
              "      <td>181.066207</td>\n",
              "      <td>456.098091</td>\n",
              "      <td>161.319273</td>\n",
              "      <td>441.866955</td>\n",
              "      <td>438.705324</td>\n",
              "      <td>386.587738</td>\n",
              "      <td>436.528436</td>\n",
              "      <td>48.623081</td>\n",
              "      <td>525.480383</td>\n",
              "      <td>0.518911</td>\n",
              "      <td>0.238753</td>\n",
              "      <td>0.550916</td>\n",
              "      <td>0.502885</td>\n",
              "      <td>0.815778</td>\n",
              "      <td>0.220338</td>\n",
              "      <td>1.625393</td>\n",
              "      <td>0.644666</td>\n",
              "      <td>24.689725</td>\n",
              "      <td>0.747315</td>\n",
              "      <td>213.804841</td>\n",
              "      <td>125.338794</td>\n",
              "      <td>66.256028</td>\n",
              "      <td>61.119149</td>\n",
              "      <td>29.317331</td>\n",
              "      <td>55.757415</td>\n",
              "      <td>40.177307</td>\n",
              "      <td>496.123024</td>\n",
              "      <td>2.703626</td>\n",
              "      <td>1.328095</td>\n",
              "      <td>79442.502883</td>\n",
              "    </tr>\n",
              "    <tr>\n",
              "      <th>min</th>\n",
              "      <td>1.000000</td>\n",
              "      <td>20.000000</td>\n",
              "      <td>21.000000</td>\n",
              "      <td>1300.000000</td>\n",
              "      <td>1.000000</td>\n",
              "      <td>1.000000</td>\n",
              "      <td>1872.000000</td>\n",
              "      <td>1950.000000</td>\n",
              "      <td>0.000000</td>\n",
              "      <td>0.000000</td>\n",
              "      <td>0.000000</td>\n",
              "      <td>0.000000</td>\n",
              "      <td>0.000000</td>\n",
              "      <td>334.000000</td>\n",
              "      <td>0.000000</td>\n",
              "      <td>0.000000</td>\n",
              "      <td>334.000000</td>\n",
              "      <td>0.000000</td>\n",
              "      <td>0.000000</td>\n",
              "      <td>0.000000</td>\n",
              "      <td>0.000000</td>\n",
              "      <td>0.000000</td>\n",
              "      <td>0.000000</td>\n",
              "      <td>2.000000</td>\n",
              "      <td>0.000000</td>\n",
              "      <td>1900.000000</td>\n",
              "      <td>0.000000</td>\n",
              "      <td>0.000000</td>\n",
              "      <td>0.000000</td>\n",
              "      <td>0.000000</td>\n",
              "      <td>0.000000</td>\n",
              "      <td>0.000000</td>\n",
              "      <td>0.000000</td>\n",
              "      <td>0.000000</td>\n",
              "      <td>0.000000</td>\n",
              "      <td>1.000000</td>\n",
              "      <td>2006.000000</td>\n",
              "      <td>34900.000000</td>\n",
              "    </tr>\n",
              "    <tr>\n",
              "      <th>25%</th>\n",
              "      <td>365.750000</td>\n",
              "      <td>20.000000</td>\n",
              "      <td>59.000000</td>\n",
              "      <td>7553.500000</td>\n",
              "      <td>5.000000</td>\n",
              "      <td>5.000000</td>\n",
              "      <td>1954.000000</td>\n",
              "      <td>1967.000000</td>\n",
              "      <td>0.000000</td>\n",
              "      <td>0.000000</td>\n",
              "      <td>0.000000</td>\n",
              "      <td>223.000000</td>\n",
              "      <td>795.750000</td>\n",
              "      <td>882.000000</td>\n",
              "      <td>0.000000</td>\n",
              "      <td>0.000000</td>\n",
              "      <td>1129.500000</td>\n",
              "      <td>0.000000</td>\n",
              "      <td>0.000000</td>\n",
              "      <td>1.000000</td>\n",
              "      <td>0.000000</td>\n",
              "      <td>2.000000</td>\n",
              "      <td>1.000000</td>\n",
              "      <td>5.000000</td>\n",
              "      <td>0.000000</td>\n",
              "      <td>1961.000000</td>\n",
              "      <td>1.000000</td>\n",
              "      <td>334.500000</td>\n",
              "      <td>0.000000</td>\n",
              "      <td>0.000000</td>\n",
              "      <td>0.000000</td>\n",
              "      <td>0.000000</td>\n",
              "      <td>0.000000</td>\n",
              "      <td>0.000000</td>\n",
              "      <td>0.000000</td>\n",
              "      <td>5.000000</td>\n",
              "      <td>2007.000000</td>\n",
              "      <td>129975.000000</td>\n",
              "    </tr>\n",
              "    <tr>\n",
              "      <th>50%</th>\n",
              "      <td>730.500000</td>\n",
              "      <td>50.000000</td>\n",
              "      <td>69.000000</td>\n",
              "      <td>9478.500000</td>\n",
              "      <td>6.000000</td>\n",
              "      <td>5.000000</td>\n",
              "      <td>1973.000000</td>\n",
              "      <td>1994.000000</td>\n",
              "      <td>0.000000</td>\n",
              "      <td>383.500000</td>\n",
              "      <td>0.000000</td>\n",
              "      <td>477.500000</td>\n",
              "      <td>991.500000</td>\n",
              "      <td>1087.000000</td>\n",
              "      <td>0.000000</td>\n",
              "      <td>0.000000</td>\n",
              "      <td>1464.000000</td>\n",
              "      <td>0.000000</td>\n",
              "      <td>0.000000</td>\n",
              "      <td>2.000000</td>\n",
              "      <td>0.000000</td>\n",
              "      <td>3.000000</td>\n",
              "      <td>1.000000</td>\n",
              "      <td>6.000000</td>\n",
              "      <td>1.000000</td>\n",
              "      <td>1980.000000</td>\n",
              "      <td>2.000000</td>\n",
              "      <td>480.000000</td>\n",
              "      <td>0.000000</td>\n",
              "      <td>25.000000</td>\n",
              "      <td>0.000000</td>\n",
              "      <td>0.000000</td>\n",
              "      <td>0.000000</td>\n",
              "      <td>0.000000</td>\n",
              "      <td>0.000000</td>\n",
              "      <td>6.000000</td>\n",
              "      <td>2008.000000</td>\n",
              "      <td>163000.000000</td>\n",
              "    </tr>\n",
              "    <tr>\n",
              "      <th>75%</th>\n",
              "      <td>1095.250000</td>\n",
              "      <td>70.000000</td>\n",
              "      <td>80.000000</td>\n",
              "      <td>11601.500000</td>\n",
              "      <td>7.000000</td>\n",
              "      <td>6.000000</td>\n",
              "      <td>2000.000000</td>\n",
              "      <td>2004.000000</td>\n",
              "      <td>166.000000</td>\n",
              "      <td>712.250000</td>\n",
              "      <td>0.000000</td>\n",
              "      <td>808.000000</td>\n",
              "      <td>1298.250000</td>\n",
              "      <td>1391.250000</td>\n",
              "      <td>728.000000</td>\n",
              "      <td>0.000000</td>\n",
              "      <td>1776.750000</td>\n",
              "      <td>1.000000</td>\n",
              "      <td>0.000000</td>\n",
              "      <td>2.000000</td>\n",
              "      <td>1.000000</td>\n",
              "      <td>3.000000</td>\n",
              "      <td>1.000000</td>\n",
              "      <td>7.000000</td>\n",
              "      <td>1.000000</td>\n",
              "      <td>2002.000000</td>\n",
              "      <td>2.000000</td>\n",
              "      <td>576.000000</td>\n",
              "      <td>168.000000</td>\n",
              "      <td>68.000000</td>\n",
              "      <td>0.000000</td>\n",
              "      <td>0.000000</td>\n",
              "      <td>0.000000</td>\n",
              "      <td>0.000000</td>\n",
              "      <td>0.000000</td>\n",
              "      <td>8.000000</td>\n",
              "      <td>2009.000000</td>\n",
              "      <td>214000.000000</td>\n",
              "    </tr>\n",
              "    <tr>\n",
              "      <th>max</th>\n",
              "      <td>1460.000000</td>\n",
              "      <td>190.000000</td>\n",
              "      <td>313.000000</td>\n",
              "      <td>215245.000000</td>\n",
              "      <td>10.000000</td>\n",
              "      <td>9.000000</td>\n",
              "      <td>2010.000000</td>\n",
              "      <td>2010.000000</td>\n",
              "      <td>1600.000000</td>\n",
              "      <td>5644.000000</td>\n",
              "      <td>1474.000000</td>\n",
              "      <td>2336.000000</td>\n",
              "      <td>6110.000000</td>\n",
              "      <td>4692.000000</td>\n",
              "      <td>2065.000000</td>\n",
              "      <td>572.000000</td>\n",
              "      <td>5642.000000</td>\n",
              "      <td>3.000000</td>\n",
              "      <td>2.000000</td>\n",
              "      <td>3.000000</td>\n",
              "      <td>2.000000</td>\n",
              "      <td>8.000000</td>\n",
              "      <td>3.000000</td>\n",
              "      <td>14.000000</td>\n",
              "      <td>3.000000</td>\n",
              "      <td>2010.000000</td>\n",
              "      <td>4.000000</td>\n",
              "      <td>1418.000000</td>\n",
              "      <td>857.000000</td>\n",
              "      <td>547.000000</td>\n",
              "      <td>552.000000</td>\n",
              "      <td>508.000000</td>\n",
              "      <td>480.000000</td>\n",
              "      <td>738.000000</td>\n",
              "      <td>15500.000000</td>\n",
              "      <td>12.000000</td>\n",
              "      <td>2010.000000</td>\n",
              "      <td>755000.000000</td>\n",
              "    </tr>\n",
              "  </tbody>\n",
              "</table>\n",
              "</div>"
            ],
            "text/plain": [
              "                Id   MSSubClass  ...       YrSold      SalePrice\n",
              "count  1460.000000  1460.000000  ...  1460.000000    1460.000000\n",
              "mean    730.500000    56.897260  ...  2007.815753  180921.195890\n",
              "std     421.610009    42.300571  ...     1.328095   79442.502883\n",
              "min       1.000000    20.000000  ...  2006.000000   34900.000000\n",
              "25%     365.750000    20.000000  ...  2007.000000  129975.000000\n",
              "50%     730.500000    50.000000  ...  2008.000000  163000.000000\n",
              "75%    1095.250000    70.000000  ...  2009.000000  214000.000000\n",
              "max    1460.000000   190.000000  ...  2010.000000  755000.000000\n",
              "\n",
              "[8 rows x 38 columns]"
            ]
          },
          "metadata": {
            "tags": []
          },
          "execution_count": 62
        }
      ]
    },
    {
      "cell_type": "code",
      "metadata": {
        "colab": {
          "base_uri": "https://localhost:8080/"
        },
        "id": "8ZZ-g_NT4vYg",
        "outputId": "10c19b71-ae2a-460b-88ab-8e2a3d0df547"
      },
      "source": [
        "# checking if any null values exist summing them\n",
        "train_data.isnull().sum()\n"
      ],
      "execution_count": null,
      "outputs": [
        {
          "output_type": "execute_result",
          "data": {
            "text/plain": [
              "Id                 0\n",
              "MSSubClass         0\n",
              "MSZoning           0\n",
              "LotFrontage      259\n",
              "LotArea            0\n",
              "                ... \n",
              "MoSold             0\n",
              "YrSold             0\n",
              "SaleType           0\n",
              "SaleCondition      0\n",
              "SalePrice          0\n",
              "Length: 81, dtype: int64"
            ]
          },
          "metadata": {
            "tags": []
          },
          "execution_count": 63
        }
      ]
    },
    {
      "cell_type": "code",
      "metadata": {
        "colab": {
          "base_uri": "https://localhost:8080/"
        },
        "id": "_2bjPKsQ-CzN",
        "outputId": "cf673504-58c9-4e2d-b86e-1da430578fd8"
      },
      "source": [
        "test_data.isnull().sum()"
      ],
      "execution_count": null,
      "outputs": [
        {
          "output_type": "execute_result",
          "data": {
            "text/plain": [
              "Id                 0\n",
              "MSSubClass         0\n",
              "MSZoning           4\n",
              "LotFrontage      227\n",
              "LotArea            0\n",
              "                ... \n",
              "MiscVal            0\n",
              "MoSold             0\n",
              "YrSold             0\n",
              "SaleType           1\n",
              "SaleCondition      0\n",
              "Length: 80, dtype: int64"
            ]
          },
          "metadata": {
            "tags": []
          },
          "execution_count": 64
        }
      ]
    },
    {
      "cell_type": "code",
      "metadata": {
        "colab": {
          "base_uri": "https://localhost:8080/",
          "height": 818
        },
        "id": "MKuUV2KD49OF",
        "outputId": "4b3782b9-1ac1-4df7-f5d6-21e8956d7955"
      },
      "source": [
        "%matplotlib inline\n",
        "import matplotlib.pyplot as plt\n",
        "train_data.hist(bins=50, figsize=(25,20))\n",
        "plt.savefig(\"attribute_histogram_plots\")\n",
        "plt.show()"
      ],
      "execution_count": null,
      "outputs": [
        {
          "output_type": "display_data",
          "data": {
            "image/png": "[encoded data removed]",
            "text/plain": [
              "<Figure size 1800x1440 with 42 Axes>"
            ]
          },
          "metadata": {
            "tags": [],
            "needs_background": "light"
          }
        }
      ]
    },
    {
      "cell_type": "code",
      "metadata": {
        "colab": {
          "base_uri": "https://localhost:8080/"
        },
        "id": "_YEEXLH95Kwe",
        "outputId": "58c9b4a2-9de4-4e9c-98f6-83b8774ae4a1"
      },
      "source": [
        "cormatrix = train_data.corr()\n",
        "cormatrix[\"SalePrice\"].sort_values(ascending=False)"
      ],
      "execution_count": null,
      "outputs": [
        {
          "output_type": "execute_result",
          "data": {
            "text/plain": [
              "SalePrice        1.000000\n",
              "OverallQual      0.790982\n",
              "GrLivArea        0.708624\n",
              "GarageCars       0.640409\n",
              "GarageArea       0.623431\n",
              "TotalBsmtSF      0.613581\n",
              "1stFlrSF         0.605852\n",
              "FullBath         0.560664\n",
              "TotRmsAbvGrd     0.533723\n",
              "YearBuilt        0.522897\n",
              "YearRemodAdd     0.507101\n",
              "GarageYrBlt      0.486362\n",
              "MasVnrArea       0.477493\n",
              "Fireplaces       0.466929\n",
              "BsmtFinSF1       0.386420\n",
              "LotFrontage      0.351799\n",
              "WoodDeckSF       0.324413\n",
              "2ndFlrSF         0.319334\n",
              "OpenPorchSF      0.315856\n",
              "HalfBath         0.284108\n",
              "LotArea          0.263843\n",
              "BsmtFullBath     0.227122\n",
              "BsmtUnfSF        0.214479\n",
              "BedroomAbvGr     0.168213\n",
              "ScreenPorch      0.111447\n",
              "PoolArea         0.092404\n",
              "MoSold           0.046432\n",
              "3SsnPorch        0.044584\n",
              "BsmtFinSF2      -0.011378\n",
              "BsmtHalfBath    -0.016844\n",
              "MiscVal         -0.021190\n",
              "Id              -0.021917\n",
              "LowQualFinSF    -0.025606\n",
              "YrSold          -0.028923\n",
              "OverallCond     -0.077856\n",
              "MSSubClass      -0.084284\n",
              "EnclosedPorch   -0.128578\n",
              "KitchenAbvGr    -0.135907\n",
              "Name: SalePrice, dtype: float64"
            ]
          },
          "metadata": {
            "tags": []
          },
          "execution_count": 66
        }
      ]
    },
    {
      "cell_type": "code",
      "metadata": {
        "colab": {
          "base_uri": "https://localhost:8080/",
          "height": 296
        },
        "id": "NKqG2vRw51K_",
        "outputId": "2816fde3-5305-43a1-9930-2251010b4999"
      },
      "source": [
        "train_data.plot(kind=\"scatter\",  y=\"SalePrice\", x=\"GrLivArea\", alpha=0.5)"
      ],
      "execution_count": null,
      "outputs": [
        {
          "output_type": "execute_result",
          "data": {
            "text/plain": [
              "<matplotlib.axes._subplots.AxesSubplot at 0x7f9f0a6ec4d0>"
            ]
          },
          "metadata": {
            "tags": []
          },
          "execution_count": 67
        },
        {
          "output_type": "display_data",
          "data": {
            "image/png": "[encoded data removed]",
            "text/plain": [
              "<Figure size 432x288 with 1 Axes>"
            ]
          },
          "metadata": {
            "tags": [],
            "needs_background": "light"
          }
        }
      ]
    },
    {
      "cell_type": "code",
      "metadata": {
        "colab": {
          "base_uri": "https://localhost:8080/",
          "height": 296
        },
        "id": "e2hct0hk5WBO",
        "outputId": "fe8cf1a5-484f-4013-8416-bc6d39213efe"
      },
      "source": [
        "train_data.plot(kind=\"scatter\", y=\"SalePrice\", x=\"OverallQual\", alpha=0.5)"
      ],
      "execution_count": null,
      "outputs": [
        {
          "output_type": "execute_result",
          "data": {
            "text/plain": [
              "<matplotlib.axes._subplots.AxesSubplot at 0x7f9f27366110>"
            ]
          },
          "metadata": {
            "tags": []
          },
          "execution_count": 68
        },
        {
          "output_type": "display_data",
          "data": {
            "image/png": "[encoded data removed]",
            "text/plain": [
              "<Figure size 432x288 with 1 Axes>"
            ]
          },
          "metadata": {
            "tags": [],
            "needs_background": "light"
          }
        }
      ]
    },
    {
      "cell_type": "code",
      "metadata": {
        "colab": {
          "base_uri": "https://localhost:8080/",
          "height": 296
        },
        "id": "AIl9yhgu5gOd",
        "outputId": "45b46b8b-e27f-41f2-c21f-ac007da7ef00"
      },
      "source": [
        "train_data.plot(kind=\"scatter\", y=\"SalePrice\",  x=\"GarageCars\",alpha=0.5)"
      ],
      "execution_count": null,
      "outputs": [
        {
          "output_type": "execute_result",
          "data": {
            "text/plain": [
              "<matplotlib.axes._subplots.AxesSubplot at 0x7f9f2892b990>"
            ]
          },
          "metadata": {
            "tags": []
          },
          "execution_count": 69
        },
        {
          "output_type": "display_data",
          "data": {
            "image/png": "[encoded data removed]",
            "text/plain": [
              "<Figure size 432x288 with 1 Axes>"
            ]
          },
          "metadata": {
            "tags": [],
            "needs_background": "light"
          }
        }
      ]
    },
    {
      "cell_type": "code",
      "metadata": {
        "colab": {
          "base_uri": "https://localhost:8080/",
          "height": 282
        },
        "id": "P4-cci8W5lzW",
        "outputId": "b53b1884-2db0-4920-b4dd-131b0f2fec28"
      },
      "source": [
        "train_data.boxplot(column=['TotalBsmtSF', '1stFlrSF', 'FullBath', 'SalePrice'])"
      ],
      "execution_count": null,
      "outputs": [
        {
          "output_type": "execute_result",
          "data": {
            "text/plain": [
              "<matplotlib.axes._subplots.AxesSubplot at 0x7f9f0a3c1150>"
            ]
          },
          "metadata": {
            "tags": []
          },
          "execution_count": 70
        },
        {
          "output_type": "display_data",
          "data": {
            "image/png": "[encoded data removed]",
            "text/plain": [
              "<Figure size 432x288 with 1 Axes>"
            ]
          },
          "metadata": {
            "tags": [],
            "needs_background": "light"
          }
        }
      ]
    },
    {
      "cell_type": "code",
      "metadata": {
        "colab": {
          "base_uri": "https://localhost:8080/",
          "height": 282
        },
        "id": "n3kRHNAt57vE",
        "outputId": "740d2c92-ceed-498e-bc09-31b8f28c9079"
      },
      "source": [
        "train_data.boxplot(column=['OverallQual', 'GrLivArea', 'GarageCars', 'GarageArea'])"
      ],
      "execution_count": null,
      "outputs": [
        {
          "output_type": "execute_result",
          "data": {
            "text/plain": [
              "<matplotlib.axes._subplots.AxesSubplot at 0x7f9f28cba550>"
            ]
          },
          "metadata": {
            "tags": []
          },
          "execution_count": 71
        },
        {
          "output_type": "display_data",
          "data": {
            "image/png": "[encoded data removed]",
            "text/plain": [
              "<Figure size 432x288 with 1 Axes>"
            ]
          },
          "metadata": {
            "tags": [],
            "needs_background": "light"
          }
        }
      ]
    },
    {
      "cell_type": "code",
      "metadata": {
        "id": "TXWBrumi6DIk"
      },
      "source": [
        "train_data.fillna(train_data.mean(), inplace = True)\n",
        "test_data.fillna(test_data.mean(), inplace = True)"
      ],
      "execution_count": null,
      "outputs": []
    },
    {
      "cell_type": "code",
      "metadata": {
        "colab": {
          "base_uri": "https://localhost:8080/"
        },
        "id": "zpqwmT9M6Izh",
        "outputId": "541e4987-1953-4752-a45c-dfea52606abe"
      },
      "source": [
        "train_data.isnull().sum()\n"
      ],
      "execution_count": null,
      "outputs": [
        {
          "output_type": "execute_result",
          "data": {
            "text/plain": [
              "Id               0\n",
              "MSSubClass       0\n",
              "MSZoning         0\n",
              "LotFrontage      0\n",
              "LotArea          0\n",
              "                ..\n",
              "MoSold           0\n",
              "YrSold           0\n",
              "SaleType         0\n",
              "SaleCondition    0\n",
              "SalePrice        0\n",
              "Length: 81, dtype: int64"
            ]
          },
          "metadata": {
            "tags": []
          },
          "execution_count": 73
        }
      ]
    },
    {
      "cell_type": "code",
      "metadata": {
        "colab": {
          "base_uri": "https://localhost:8080/"
        },
        "id": "tHzwAI0P-aSp",
        "outputId": "d80dfc52-7029-4ce8-c62d-19780d27e3d4"
      },
      "source": [
        "test_data.isnull().sum()"
      ],
      "execution_count": null,
      "outputs": [
        {
          "output_type": "execute_result",
          "data": {
            "text/plain": [
              "Id               0\n",
              "MSSubClass       0\n",
              "MSZoning         4\n",
              "LotFrontage      0\n",
              "LotArea          0\n",
              "                ..\n",
              "MiscVal          0\n",
              "MoSold           0\n",
              "YrSold           0\n",
              "SaleType         1\n",
              "SaleCondition    0\n",
              "Length: 80, dtype: int64"
            ]
          },
          "metadata": {
            "tags": []
          },
          "execution_count": 74
        }
      ]
    },
    {
      "cell_type": "code",
      "metadata": {
        "id": "7-N6ZkoV6QE2"
      },
      "source": [
        "# Encoding the data\n",
        "from sklearn.preprocessing import LabelEncoder\n",
        "columns = ('GarageCond', 'LandContour', 'RoofStyle', 'RoofMatl', 'Heating', 'MiscFeature', 'SaleType', 'GarageType', 'Electrical', 'SaleCondition', 'Foundation', 'Exterior1st', 'Exterior2nd', 'MasVnrType', 'FireplaceQu', 'LotConfig', 'Neighborhood', 'Condition1', 'Condition2', 'Utilities', 'BldgType', 'HouseStyle','PoolQC', 'BsmtQual', 'BsmtCond', 'GarageQual','BsmtExposure', 'ExterQual', 'ExterCond','HeatingQC', 'KitchenQual', 'BsmtFinType1','BsmtFinType2', 'Functional', 'Fence', 'GarageFinish', 'LandSlope','LotShape', 'PavedDrive', 'Street', 'Alley', 'CentralAir', 'MSSubClass', 'OverallCond', 'YrSold', 'MoSold', 'MSZoning')\n",
        "for column in columns:\n",
        "    encoder = LabelEncoder()\n",
        "    encoder.fit(list(train_data[column].values))\n",
        "    train_data[column] = encoder.transform(list(train_data[column].values))\n",
        "\n",
        "\n"
      ],
      "execution_count": null,
      "outputs": []
    },
    {
      "cell_type": "code",
      "metadata": {
        "id": "dAcDkI24-cyQ"
      },
      "source": [
        "for column in columns:\n",
        "    encoder_test = LabelEncoder()\n",
        "    encoder_test.fit(list(test_data[column].values))\n",
        "    test_data[column] = encoder_test.transform(list(test_data[column].values))"
      ],
      "execution_count": null,
      "outputs": []
    },
    {
      "cell_type": "code",
      "metadata": {
        "id": "Q32BMjne6ivO"
      },
      "source": [
        "x_values = train_data[train_data.columns[:80]]\n",
        "x_test_values = test_data[test_data.columns[:80]]\n",
        "y_values = train_data['SalePrice']"
      ],
      "execution_count": null,
      "outputs": []
    },
    {
      "cell_type": "code",
      "metadata": {
        "colab": {
          "base_uri": "https://localhost:8080/"
        },
        "id": "aUg971Xc6rnt",
        "outputId": "a4f2d717-0ad0-453f-8383-d5b6c4f4d3d7"
      },
      "source": [
        "# Training regression model\n",
        "\n",
        "from sklearn.linear_model import LinearRegression\n",
        "reg_model = LinearRegression()\n",
        "reg_model.fit(x_values, y_values)\n",
        "reg_model.score(x_values, y_values)"
      ],
      "execution_count": null,
      "outputs": [
        {
          "output_type": "execute_result",
          "data": {
            "text/plain": [
              "0.8548395143943592"
            ]
          },
          "metadata": {
            "tags": []
          },
          "execution_count": 88
        }
      ]
    },
    {
      "cell_type": "code",
      "metadata": {
        "id": "o_JNq2-N7Anb"
      },
      "source": [
        "predicted = reg_model.predict(x_test_values)"
      ],
      "execution_count": null,
      "outputs": []
    },
    {
      "cell_type": "code",
      "metadata": {
        "colab": {
          "base_uri": "https://localhost:8080/",
          "height": 419
        },
        "id": "WudnRT5Z7IC3",
        "outputId": "7c8f7f04-ec9b-46b5-d519-32a58197d1d3"
      },
      "source": [
        "pd.DataFrame({'Predicted House Price Values': predicted})"
      ],
      "execution_count": null,
      "outputs": [
        {
          "output_type": "execute_result",
          "data": {
            "text/html": [
              "<div>\n",
              "<style scoped>\n",
              "    .dataframe tbody tr th:only-of-type {\n",
              "        vertical-align: middle;\n",
              "    }\n",
              "\n",
              "    .dataframe tbody tr th {\n",
              "        vertical-align: top;\n",
              "    }\n",
              "\n",
              "    .dataframe thead th {\n",
              "        text-align: right;\n",
              "    }\n",
              "</style>\n",
              "<table border=\"1\" class=\"dataframe\">\n",
              "  <thead>\n",
              "    <tr style=\"text-align: right;\">\n",
              "      <th></th>\n",
              "      <th>Predicted House Price Values</th>\n",
              "    </tr>\n",
              "  </thead>\n",
              "  <tbody>\n",
              "    <tr>\n",
              "      <th>0</th>\n",
              "      <td>184936.609022</td>\n",
              "    </tr>\n",
              "    <tr>\n",
              "      <th>1</th>\n",
              "      <td>239791.092108</td>\n",
              "    </tr>\n",
              "    <tr>\n",
              "      <th>2</th>\n",
              "      <td>245071.890618</td>\n",
              "    </tr>\n",
              "    <tr>\n",
              "      <th>3</th>\n",
              "      <td>263617.412688</td>\n",
              "    </tr>\n",
              "    <tr>\n",
              "      <th>4</th>\n",
              "      <td>263185.252850</td>\n",
              "    </tr>\n",
              "    <tr>\n",
              "      <th>...</th>\n",
              "      <td>...</td>\n",
              "    </tr>\n",
              "    <tr>\n",
              "      <th>1454</th>\n",
              "      <td>152148.218848</td>\n",
              "    </tr>\n",
              "    <tr>\n",
              "      <th>1455</th>\n",
              "      <td>138020.527442</td>\n",
              "    </tr>\n",
              "    <tr>\n",
              "      <th>1456</th>\n",
              "      <td>225624.228917</td>\n",
              "    </tr>\n",
              "    <tr>\n",
              "      <th>1457</th>\n",
              "      <td>196336.422912</td>\n",
              "    </tr>\n",
              "    <tr>\n",
              "      <th>1458</th>\n",
              "      <td>318680.747439</td>\n",
              "    </tr>\n",
              "  </tbody>\n",
              "</table>\n",
              "<p>1459 rows × 1 columns</p>\n",
              "</div>"
            ],
            "text/plain": [
              "      Predicted House Price Values\n",
              "0                    184936.609022\n",
              "1                    239791.092108\n",
              "2                    245071.890618\n",
              "3                    263617.412688\n",
              "4                    263185.252850\n",
              "...                            ...\n",
              "1454                 152148.218848\n",
              "1455                 138020.527442\n",
              "1456                 225624.228917\n",
              "1457                 196336.422912\n",
              "1458                 318680.747439\n",
              "\n",
              "[1459 rows x 1 columns]"
            ]
          },
          "metadata": {
            "tags": []
          },
          "execution_count": 90
        }
      ]
    }
  ]
}